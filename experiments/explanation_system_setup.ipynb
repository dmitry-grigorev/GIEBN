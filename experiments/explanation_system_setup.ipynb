{
 "cells": [
  {
   "cell_type": "markdown",
   "id": "fe0076a3e482bdd4",
   "metadata": {
    "collapsed": false
   },
   "source": [
    "на вход подаётся обученная модель и данные (необязательно тренировочные)\n",
    "\n",
    "получаем БС/марковское окружение\n",
    "\n",
    "предлагаем удалять такие-то наблюдения, хорошо бы ещё выводить, сколько таких наблюдений мы предлагаем удалить\n",
    "    - например, хотим сохранять обобщ способность (проблема: чем измерять, учитывая, что мы хотим улучшать ту же предиктивную способность хотя бы в среднем + боротья с оверфитом)\n",
    "\n",
    "    обобщ способность -- можем измерить на отложенной выборке или кросс-валидации\n",
    "\n",
    "    -- в каком-то смысле нас интересует только обработка обучающей выборки"
   ]
  },
  {
   "cell_type": "code",
   "execution_count": 1,
   "id": "8624a698",
   "metadata": {},
   "outputs": [
    {
     "name": "stdout",
     "output_type": "stream",
     "text": [
      "executable\n"
     ]
    }
   ],
   "source": [
    "print(\"executable\")"
   ]
  },
  {
   "cell_type": "code",
   "execution_count": null,
   "id": "38308d87",
   "metadata": {},
   "outputs": [],
   "source": []
  }
 ],
 "metadata": {
  "kernelspec": {
   "display_name": "venv",
   "language": "python",
   "name": "python3"
  },
  "language_info": {
   "codemirror_mode": {
    "name": "ipython",
    "version": 3
   },
   "file_extension": ".py",
   "mimetype": "text/x-python",
   "name": "python",
   "nbconvert_exporter": "python",
   "pygments_lexer": "ipython3",
   "version": "3.10.11"
  }
 },
 "nbformat": 4,
 "nbformat_minor": 5
}
