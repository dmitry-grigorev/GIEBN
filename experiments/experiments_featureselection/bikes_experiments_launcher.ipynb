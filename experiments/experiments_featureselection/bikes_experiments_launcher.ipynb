{
 "cells": [
  {
   "cell_type": "code",
   "execution_count": 1,
   "id": "de643df9",
   "metadata": {},
   "outputs": [
    {
     "data": {
      "text/plain": [
       "'c:/Users/User/PycharmProjects/GIEBN'"
      ]
     },
     "execution_count": 1,
     "metadata": {},
     "output_type": "execute_result"
    }
   ],
   "source": [
    "import os\n",
    "\n",
    "import sys\n",
    "sys.path.append(\"C:\\\\Users\\\\User\\\\PycharmProjects\\\\GIEBN\\\\src\")\n",
    "sys.path.append(\"C:\\\\Users\\\\User\\\\PycharmProjects\\\\GIEBN\")\n",
    "sys.path.append(\"C:\\\\Users\\\\User\\\\PycharmProjects\\\\GIEBN\\\\venv\")\n",
    "\n",
    "path = os.getcwd()\n",
    "\n",
    "curr_path = path.replace('\\\\', '/')\n",
    "head_place = curr_path.find('GIEBN')\n",
    "main_path = curr_path[:head_place]+'GIEBN'\n",
    "main_path"
   ]
  },
  {
   "cell_type": "code",
   "execution_count": 2,
   "id": "d5c23947",
   "metadata": {},
   "outputs": [],
   "source": [
    "from sklearn.linear_model import LogisticRegression, LinearRegression, Lasso\n",
    "from sklearn.ensemble import GradientBoostingClassifier, RandomForestClassifier, GradientBoostingRegressor\n",
    "import pandas as pd\n",
    "import numpy as np\n",
    "import matplotlib.pyplot as plt\n",
    "import seaborn as sns\n",
    "from sklearn.preprocessing import KBinsDiscretizer, FunctionTransformer, OrdinalEncoder, OneHotEncoder\n",
    "from sklearn.pipeline import make_pipeline, make_union\n",
    "from sklearn.datasets import make_regression\n",
    "from sklearn.tree import DecisionTreeClassifier, DecisionTreeRegressor\n",
    "\n",
    "\n",
    "from sklearn.svm import LinearSVC\n",
    "from sklearn.feature_selection import SelectFromModel, f_regression\n",
    "\n",
    "from sklearn.model_selection import train_test_split\n",
    "from sklearn.feature_selection import SelectKBest, RFE\n",
    "\n",
    "from auxiliary.auxiliary import construct_by_kmeans\n",
    "\n",
    "from pgmpy.factors.discrete.CPD import TabularCPD\n",
    "from pgmpy.models import BayesianNetwork\n",
    "import yodo.yodo\n",
    "import matplotlib.pyplot as plt\n",
    "from pgmpy.estimators import PC, BicScore, K2Score\n",
    "from pgmpy.inference import VariableElimination\n",
    "from bamt.networks.discrete_bn import DiscreteBN\n",
    "from bamt_inherited.networks.discrete import DiscreteBNGI\n",
    "import shap\n",
    "from sklearn import metrics as m\n",
    "from tqdm import tqdm\n",
    "from itertools import product\n",
    "import optuna\n",
    "from copy import copy"
   ]
  },
  {
   "cell_type": "code",
   "execution_count": 3,
   "id": "3b842b01",
   "metadata": {},
   "outputs": [],
   "source": [
    "optuna.logging.set_verbosity(optuna.logging.WARNING)"
   ]
  },
  {
   "cell_type": "code",
   "execution_count": 4,
   "id": "6c4a99c7",
   "metadata": {},
   "outputs": [],
   "source": [
    "%run ../common_code.ipynb"
   ]
  },
  {
   "cell_type": "code",
   "execution_count": 9,
   "id": "29c48917",
   "metadata": {},
   "outputs": [
    {
     "data": {
      "text/html": [
       "<div>\n",
       "<style scoped>\n",
       "    .dataframe tbody tr th:only-of-type {\n",
       "        vertical-align: middle;\n",
       "    }\n",
       "\n",
       "    .dataframe tbody tr th {\n",
       "        vertical-align: top;\n",
       "    }\n",
       "\n",
       "    .dataframe thead th {\n",
       "        text-align: right;\n",
       "    }\n",
       "</style>\n",
       "<table border=\"1\" class=\"dataframe\">\n",
       "  <thead>\n",
       "    <tr style=\"text-align: right;\">\n",
       "      <th></th>\n",
       "      <th>month</th>\n",
       "      <th>hour</th>\n",
       "      <th>temp</th>\n",
       "      <th>feel_temp</th>\n",
       "      <th>humidity</th>\n",
       "      <th>windspeed</th>\n",
       "      <th>count</th>\n",
       "    </tr>\n",
       "  </thead>\n",
       "  <tbody>\n",
       "    <tr>\n",
       "      <th>0</th>\n",
       "      <td>1</td>\n",
       "      <td>0</td>\n",
       "      <td>9.84</td>\n",
       "      <td>14.395</td>\n",
       "      <td>0.81</td>\n",
       "      <td>0.0000</td>\n",
       "      <td>16.0</td>\n",
       "    </tr>\n",
       "    <tr>\n",
       "      <th>1</th>\n",
       "      <td>1</td>\n",
       "      <td>1</td>\n",
       "      <td>9.02</td>\n",
       "      <td>13.635</td>\n",
       "      <td>0.80</td>\n",
       "      <td>0.0000</td>\n",
       "      <td>40.0</td>\n",
       "    </tr>\n",
       "    <tr>\n",
       "      <th>2</th>\n",
       "      <td>1</td>\n",
       "      <td>2</td>\n",
       "      <td>9.02</td>\n",
       "      <td>13.635</td>\n",
       "      <td>0.80</td>\n",
       "      <td>0.0000</td>\n",
       "      <td>32.0</td>\n",
       "    </tr>\n",
       "    <tr>\n",
       "      <th>3</th>\n",
       "      <td>1</td>\n",
       "      <td>3</td>\n",
       "      <td>9.84</td>\n",
       "      <td>14.395</td>\n",
       "      <td>0.75</td>\n",
       "      <td>0.0000</td>\n",
       "      <td>13.0</td>\n",
       "    </tr>\n",
       "    <tr>\n",
       "      <th>4</th>\n",
       "      <td>1</td>\n",
       "      <td>4</td>\n",
       "      <td>9.84</td>\n",
       "      <td>14.395</td>\n",
       "      <td>0.75</td>\n",
       "      <td>0.0000</td>\n",
       "      <td>1.0</td>\n",
       "    </tr>\n",
       "    <tr>\n",
       "      <th>5</th>\n",
       "      <td>1</td>\n",
       "      <td>5</td>\n",
       "      <td>9.84</td>\n",
       "      <td>12.880</td>\n",
       "      <td>0.75</td>\n",
       "      <td>6.0032</td>\n",
       "      <td>1.0</td>\n",
       "    </tr>\n",
       "    <tr>\n",
       "      <th>6</th>\n",
       "      <td>1</td>\n",
       "      <td>6</td>\n",
       "      <td>9.02</td>\n",
       "      <td>13.635</td>\n",
       "      <td>0.80</td>\n",
       "      <td>0.0000</td>\n",
       "      <td>2.0</td>\n",
       "    </tr>\n",
       "    <tr>\n",
       "      <th>7</th>\n",
       "      <td>1</td>\n",
       "      <td>7</td>\n",
       "      <td>8.20</td>\n",
       "      <td>12.880</td>\n",
       "      <td>0.86</td>\n",
       "      <td>0.0000</td>\n",
       "      <td>3.0</td>\n",
       "    </tr>\n",
       "    <tr>\n",
       "      <th>8</th>\n",
       "      <td>1</td>\n",
       "      <td>8</td>\n",
       "      <td>9.84</td>\n",
       "      <td>14.395</td>\n",
       "      <td>0.75</td>\n",
       "      <td>0.0000</td>\n",
       "      <td>8.0</td>\n",
       "    </tr>\n",
       "    <tr>\n",
       "      <th>9</th>\n",
       "      <td>1</td>\n",
       "      <td>9</td>\n",
       "      <td>13.12</td>\n",
       "      <td>17.425</td>\n",
       "      <td>0.76</td>\n",
       "      <td>0.0000</td>\n",
       "      <td>14.0</td>\n",
       "    </tr>\n",
       "  </tbody>\n",
       "</table>\n",
       "</div>"
      ],
      "text/plain": [
       "   month  hour   temp  feel_temp  humidity  windspeed  count\n",
       "0      1     0   9.84     14.395      0.81     0.0000   16.0\n",
       "1      1     1   9.02     13.635      0.80     0.0000   40.0\n",
       "2      1     2   9.02     13.635      0.80     0.0000   32.0\n",
       "3      1     3   9.84     14.395      0.75     0.0000   13.0\n",
       "4      1     4   9.84     14.395      0.75     0.0000    1.0\n",
       "5      1     5   9.84     12.880      0.75     6.0032    1.0\n",
       "6      1     6   9.02     13.635      0.80     0.0000    2.0\n",
       "7      1     7   8.20     12.880      0.86     0.0000    3.0\n",
       "8      1     8   9.84     14.395      0.75     0.0000    8.0\n",
       "9      1     9  13.12     17.425      0.76     0.0000   14.0"
      ]
     },
     "execution_count": 9,
     "metadata": {},
     "output_type": "execute_result"
    }
   ],
   "source": [
    "#https://www.kaggle.com/datasets/camnugent/california-housing-prices\n",
    "data = pd.read_csv(\"../../datasets/Bike_Sharing_Demand.csv\")\n",
    "\n",
    "n = data.shape[0]\n",
    "target = \"count\"\n",
    "features = ['month', 'hour', 'temp', 'feel_temp', 'humidity', 'windspeed']\n",
    "data = data[features+[target]]\n",
    "n_features = len(features)\n",
    "data.head(10)"
   ]
  },
  {
   "cell_type": "code",
   "execution_count": 10,
   "id": "ed1a39de",
   "metadata": {},
   "outputs": [
    {
     "data": {
      "text/html": [
       "<div>\n",
       "<style scoped>\n",
       "    .dataframe tbody tr th:only-of-type {\n",
       "        vertical-align: middle;\n",
       "    }\n",
       "\n",
       "    .dataframe tbody tr th {\n",
       "        vertical-align: top;\n",
       "    }\n",
       "\n",
       "    .dataframe thead th {\n",
       "        text-align: right;\n",
       "    }\n",
       "</style>\n",
       "<table border=\"1\" class=\"dataframe\">\n",
       "  <thead>\n",
       "    <tr style=\"text-align: right;\">\n",
       "      <th></th>\n",
       "      <th>month</th>\n",
       "      <th>hour</th>\n",
       "      <th>temp</th>\n",
       "      <th>feel_temp</th>\n",
       "      <th>humidity</th>\n",
       "      <th>windspeed</th>\n",
       "      <th>count</th>\n",
       "    </tr>\n",
       "  </thead>\n",
       "  <tbody>\n",
       "    <tr>\n",
       "      <th>count</th>\n",
       "      <td>17379.000000</td>\n",
       "      <td>17379.000000</td>\n",
       "      <td>17379.000000</td>\n",
       "      <td>17379.000000</td>\n",
       "      <td>17379.000000</td>\n",
       "      <td>17379.000000</td>\n",
       "      <td>17379.000000</td>\n",
       "    </tr>\n",
       "    <tr>\n",
       "      <th>mean</th>\n",
       "      <td>6.537775</td>\n",
       "      <td>11.546752</td>\n",
       "      <td>20.376474</td>\n",
       "      <td>23.788755</td>\n",
       "      <td>0.627229</td>\n",
       "      <td>12.736540</td>\n",
       "      <td>189.463088</td>\n",
       "    </tr>\n",
       "    <tr>\n",
       "      <th>std</th>\n",
       "      <td>3.438776</td>\n",
       "      <td>6.914405</td>\n",
       "      <td>7.894801</td>\n",
       "      <td>8.592511</td>\n",
       "      <td>0.192930</td>\n",
       "      <td>8.196795</td>\n",
       "      <td>181.387599</td>\n",
       "    </tr>\n",
       "    <tr>\n",
       "      <th>min</th>\n",
       "      <td>1.000000</td>\n",
       "      <td>0.000000</td>\n",
       "      <td>0.820000</td>\n",
       "      <td>0.000000</td>\n",
       "      <td>0.000000</td>\n",
       "      <td>0.000000</td>\n",
       "      <td>1.000000</td>\n",
       "    </tr>\n",
       "    <tr>\n",
       "      <th>25%</th>\n",
       "      <td>4.000000</td>\n",
       "      <td>6.000000</td>\n",
       "      <td>13.940000</td>\n",
       "      <td>16.665000</td>\n",
       "      <td>0.480000</td>\n",
       "      <td>7.001500</td>\n",
       "      <td>40.000000</td>\n",
       "    </tr>\n",
       "    <tr>\n",
       "      <th>50%</th>\n",
       "      <td>7.000000</td>\n",
       "      <td>12.000000</td>\n",
       "      <td>20.500000</td>\n",
       "      <td>24.240000</td>\n",
       "      <td>0.630000</td>\n",
       "      <td>12.998000</td>\n",
       "      <td>142.000000</td>\n",
       "    </tr>\n",
       "    <tr>\n",
       "      <th>75%</th>\n",
       "      <td>10.000000</td>\n",
       "      <td>18.000000</td>\n",
       "      <td>27.060000</td>\n",
       "      <td>31.060000</td>\n",
       "      <td>0.780000</td>\n",
       "      <td>16.997900</td>\n",
       "      <td>281.000000</td>\n",
       "    </tr>\n",
       "    <tr>\n",
       "      <th>max</th>\n",
       "      <td>12.000000</td>\n",
       "      <td>23.000000</td>\n",
       "      <td>41.000000</td>\n",
       "      <td>50.000000</td>\n",
       "      <td>1.000000</td>\n",
       "      <td>56.996900</td>\n",
       "      <td>977.000000</td>\n",
       "    </tr>\n",
       "  </tbody>\n",
       "</table>\n",
       "</div>"
      ],
      "text/plain": [
       "              month          hour          temp     feel_temp      humidity  \\\n",
       "count  17379.000000  17379.000000  17379.000000  17379.000000  17379.000000   \n",
       "mean       6.537775     11.546752     20.376474     23.788755      0.627229   \n",
       "std        3.438776      6.914405      7.894801      8.592511      0.192930   \n",
       "min        1.000000      0.000000      0.820000      0.000000      0.000000   \n",
       "25%        4.000000      6.000000     13.940000     16.665000      0.480000   \n",
       "50%        7.000000     12.000000     20.500000     24.240000      0.630000   \n",
       "75%       10.000000     18.000000     27.060000     31.060000      0.780000   \n",
       "max       12.000000     23.000000     41.000000     50.000000      1.000000   \n",
       "\n",
       "          windspeed         count  \n",
       "count  17379.000000  17379.000000  \n",
       "mean      12.736540    189.463088  \n",
       "std        8.196795    181.387599  \n",
       "min        0.000000      1.000000  \n",
       "25%        7.001500     40.000000  \n",
       "50%       12.998000    142.000000  \n",
       "75%       16.997900    281.000000  \n",
       "max       56.996900    977.000000  "
      ]
     },
     "execution_count": 10,
     "metadata": {},
     "output_type": "execute_result"
    }
   ],
   "source": [
    "data.describe()"
   ]
  },
  {
   "cell_type": "code",
   "execution_count": 168,
   "id": "9b791857",
   "metadata": {},
   "outputs": [],
   "source": [
    "data_corr = add_extra_features(data, features, extra_size=0.75, mode='prod')"
   ]
  },
  {
   "cell_type": "code",
   "execution_count": 169,
   "id": "a03769a9",
   "metadata": {},
   "outputs": [],
   "source": [
    "data_dict_corr = {}\n",
    "\n",
    "data_tv, data_dict_corr['test'] = train_test_split(data_corr, test_size=0.15, random_state=42)\n",
    "\n",
    "data_dict_corr['train'], data_dict_corr['val'] = train_test_split(data_tv, test_size=0.15, random_state=42)\n",
    "\n",
    "features_corr = list(data_corr.columns.difference([target]))"
   ]
  },
  {
   "cell_type": "code",
   "execution_count": 170,
   "id": "7cd8854b",
   "metadata": {},
   "outputs": [
    {
     "data": {
      "text/plain": [
       "['extra_1',\n",
       " 'extra_10',\n",
       " 'extra_11',\n",
       " 'extra_12',\n",
       " 'extra_13',\n",
       " 'extra_14',\n",
       " 'extra_15',\n",
       " 'extra_16',\n",
       " 'extra_17',\n",
       " 'extra_18',\n",
       " 'extra_2',\n",
       " 'extra_3',\n",
       " 'extra_4',\n",
       " 'extra_5',\n",
       " 'extra_6',\n",
       " 'extra_7',\n",
       " 'extra_8',\n",
       " 'extra_9',\n",
       " 'feel_temp',\n",
       " 'hour',\n",
       " 'humidity',\n",
       " 'month',\n",
       " 'temp',\n",
       " 'windspeed']"
      ]
     },
     "execution_count": 170,
     "metadata": {},
     "output_type": "execute_result"
    }
   ],
   "source": [
    "features_corr"
   ]
  },
  {
   "cell_type": "code",
   "execution_count": 171,
   "id": "0ada96fb",
   "metadata": {},
   "outputs": [],
   "source": [
    "def objective(trial, features, target, data_dict):\n",
    "    n_estimators= trial.suggest_int(\"n_estimators\", low=params_net['n_estimators'][0], high=params_net['n_estimators'][1], step=1)\n",
    "    max_depth= trial.suggest_int(\"max_depth\", low=params_net['max_depth'][0], high=params_net['max_depth'][1], step=1)\n",
    "    learning_rate=trial.suggest_float(\"learning_rate\", low=params_net['learning_rate'][0], high=params_net['learning_rate'][1],log=True)\n",
    "    \n",
    "    regr = GradientBoostingRegressor(random_state=42, n_estimators=n_estimators,\n",
    "                                     max_depth=max_depth, learning_rate=learning_rate)\n",
    "    regr.fit(data_dict['train'][features], data_dict['train'][target])\n",
    "    return score_regr(regr, data_dict['val'][features], data_dict['val'][target])\n",
    "\n",
    "params_net = {\n",
    "    'n_estimators': [10, 100],\n",
    "    'max_depth': [3, 10],\n",
    "    'learning_rate':[1e-5, 1]\n",
    "}\n"
   ]
  },
  {
   "cell_type": "markdown",
   "id": "0dde69b4",
   "metadata": {},
   "source": [
    "# Initial model for error calculation"
   ]
  },
  {
   "cell_type": "code",
   "execution_count": 172,
   "id": "c0ef96d8",
   "metadata": {},
   "outputs": [
    {
     "data": {
      "application/vnd.jupyter.widget-view+json": {
       "model_id": "e6a85c6e6cf046f89a4d8f40cc5f5a27",
       "version_major": 2,
       "version_minor": 0
      },
      "text/plain": [
       "  0%|          | 0/30 [00:00<?, ?it/s]"
      ]
     },
     "metadata": {},
     "output_type": "display_data"
    }
   ],
   "source": [
    "best_base_params = optunize_model(objective, features_corr, target, data_dict_corr)"
   ]
  },
  {
   "cell_type": "code",
   "execution_count": 173,
   "id": "78372590",
   "metadata": {},
   "outputs": [
    {
     "data": {
      "text/plain": [
       "{'n_estimators': 100, 'max_depth': 7, 'learning_rate': 0.13399296762318771}"
      ]
     },
     "execution_count": 173,
     "metadata": {},
     "output_type": "execute_result"
    }
   ],
   "source": [
    "best_base_params"
   ]
  },
  {
   "cell_type": "code",
   "execution_count": 174,
   "id": "3464be47",
   "metadata": {},
   "outputs": [],
   "source": [
    "model_corr = GradientBoostingRegressor(random_state=42, **best_base_params)\n",
    "#model = LogisticRegression()\n",
    "model_corr.fit(data_dict_corr['train'][features_corr], data_dict_corr['train'][target])\n",
    "\n",
    "data_errors_corr = measure_error(data_dict_corr['val'], model_corr, features_corr, target, error_col_name='ape_error', task='regr')"
   ]
  },
  {
   "cell_type": "code",
   "execution_count": 175,
   "id": "0fb38b3a",
   "metadata": {},
   "outputs": [
    {
     "name": "stdout",
     "output_type": "stream",
     "text": [
      "Warning: feature extra_17 has practically degenerate states and low entropy\n",
      "Warning: feature extra_18 has practically degenerate states and low entropy\n",
      "Warning: feature ape_error has practically degenerate states and low entropy\n"
     ]
    },
    {
     "data": {
      "text/html": [
       "<div>\n",
       "<style scoped>\n",
       "    .dataframe tbody tr th:only-of-type {\n",
       "        vertical-align: middle;\n",
       "    }\n",
       "\n",
       "    .dataframe tbody tr th {\n",
       "        vertical-align: top;\n",
       "    }\n",
       "\n",
       "    .dataframe thead th {\n",
       "        text-align: right;\n",
       "    }\n",
       "</style>\n",
       "<table border=\"1\" class=\"dataframe\">\n",
       "  <thead>\n",
       "    <tr style=\"text-align: right;\">\n",
       "      <th></th>\n",
       "      <th>month_0</th>\n",
       "      <th>month_1</th>\n",
       "      <th>month_2</th>\n",
       "      <th>hour_0</th>\n",
       "      <th>hour_1</th>\n",
       "      <th>hour_2</th>\n",
       "      <th>temp_0</th>\n",
       "      <th>temp_1</th>\n",
       "      <th>temp_2</th>\n",
       "      <th>feel_temp_0</th>\n",
       "      <th>...</th>\n",
       "      <th>extra_16_2</th>\n",
       "      <th>extra_17_0</th>\n",
       "      <th>extra_17_1</th>\n",
       "      <th>extra_17_2</th>\n",
       "      <th>extra_18_0</th>\n",
       "      <th>extra_18_1</th>\n",
       "      <th>extra_18_2</th>\n",
       "      <th>ape_error_0</th>\n",
       "      <th>ape_error_1</th>\n",
       "      <th>ape_error_2</th>\n",
       "    </tr>\n",
       "  </thead>\n",
       "  <tbody>\n",
       "    <tr>\n",
       "      <th>0</th>\n",
       "      <td>0</td>\n",
       "      <td>0</td>\n",
       "      <td>1</td>\n",
       "      <td>1</td>\n",
       "      <td>0</td>\n",
       "      <td>0</td>\n",
       "      <td>0</td>\n",
       "      <td>1</td>\n",
       "      <td>0</td>\n",
       "      <td>0</td>\n",
       "      <td>...</td>\n",
       "      <td>0</td>\n",
       "      <td>1</td>\n",
       "      <td>0</td>\n",
       "      <td>0</td>\n",
       "      <td>1</td>\n",
       "      <td>0</td>\n",
       "      <td>0</td>\n",
       "      <td>0</td>\n",
       "      <td>0</td>\n",
       "      <td>1</td>\n",
       "    </tr>\n",
       "  </tbody>\n",
       "</table>\n",
       "<p>1 rows × 75 columns</p>\n",
       "</div>"
      ],
      "text/plain": [
       "   month_0  month_1  month_2  hour_0  hour_1  hour_2  temp_0  temp_1  temp_2  \\\n",
       "0        0        0        1       1       0       0       0       1       0   \n",
       "\n",
       "   feel_temp_0  ...  extra_16_2  extra_17_0  extra_17_1  extra_17_2  \\\n",
       "0            0  ...           0           1           0           0   \n",
       "\n",
       "   extra_18_0  extra_18_1  extra_18_2  ape_error_0  ape_error_1  ape_error_2  \n",
       "0           1           0           0            0            0            1  \n",
       "\n",
       "[1 rows x 75 columns]"
      ]
     },
     "execution_count": 175,
     "metadata": {},
     "output_type": "execute_result"
    }
   ],
   "source": [
    "n_features_corr = len(features_corr)\n",
    "disc_data_corr, pipeline_data_corr = discretize(data_errors_corr, \n",
    "                                      features_corr+[\"ape_error\"], icat=None, icont=list(range(n_features_corr+1)))\n",
    "\n",
    "categories_corr = extract_categories(disc_data_corr)\n",
    "encoder = OneHotEncoder(sparse=False)\n",
    "disc_data_encoded_corr = pd.DataFrame(encoder.fit_transform(X=disc_data_corr), columns=categories_corr, dtype='uint8')\n",
    "disc_data_encoded_corr.head(1)"
   ]
  },
  {
   "cell_type": "code",
   "execution_count": 176,
   "id": "7a2ef371",
   "metadata": {},
   "outputs": [
    {
     "data": {
      "text/plain": [
       "ape_error\n",
       "1    886\n",
       "2    665\n",
       "0    665\n",
       "Name: count, dtype: int64"
      ]
     },
     "execution_count": 176,
     "metadata": {},
     "output_type": "execute_result"
    }
   ],
   "source": [
    "disc_data_corr['ape_error'].value_counts()"
   ]
  },
  {
   "cell_type": "code",
   "execution_count": 179,
   "id": "138a5f61",
   "metadata": {},
   "outputs": [
    {
     "name": "stdout",
     "output_type": "stream",
     "text": [
      "2025-05-04 18:14:01,824 | ERROR    | GraphUtils.py-nodes_types-0034 | Unsupported data type. Dtype: uint8\n",
      "2025-05-04 18:14:01,824 | ERROR    | GraphUtils.py-nodes_types-0034 | Unsupported data type. Dtype: uint8\n",
      "2025-05-04 18:14:01,825 | ERROR    | GraphUtils.py-nodes_types-0034 | Unsupported data type. Dtype: uint8\n",
      "2025-05-04 18:14:01,826 | ERROR    | GraphUtils.py-nodes_types-0034 | Unsupported data type. Dtype: uint8\n",
      "2025-05-04 18:14:01,827 | ERROR    | GraphUtils.py-nodes_types-0034 | Unsupported data type. Dtype: uint8\n",
      "2025-05-04 18:14:01,828 | ERROR    | GraphUtils.py-nodes_types-0034 | Unsupported data type. Dtype: uint8\n",
      "2025-05-04 18:14:01,828 | ERROR    | GraphUtils.py-nodes_types-0034 | Unsupported data type. Dtype: uint8\n",
      "2025-05-04 18:14:01,830 | ERROR    | GraphUtils.py-nodes_types-0034 | Unsupported data type. Dtype: uint8\n",
      "2025-05-04 18:14:01,831 | ERROR    | GraphUtils.py-nodes_types-0034 | Unsupported data type. Dtype: uint8\n",
      "2025-05-04 18:14:01,832 | ERROR    | GraphUtils.py-nodes_types-0034 | Unsupported data type. Dtype: uint8\n",
      "2025-05-04 18:14:01,832 | ERROR    | GraphUtils.py-nodes_types-0034 | Unsupported data type. Dtype: uint8\n",
      "2025-05-04 18:14:01,834 | ERROR    | GraphUtils.py-nodes_types-0034 | Unsupported data type. Dtype: uint8\n",
      "2025-05-04 18:14:01,835 | ERROR    | GraphUtils.py-nodes_types-0034 | Unsupported data type. Dtype: uint8\n",
      "2025-05-04 18:14:01,836 | ERROR    | GraphUtils.py-nodes_types-0034 | Unsupported data type. Dtype: uint8\n",
      "2025-05-04 18:14:01,837 | ERROR    | GraphUtils.py-nodes_types-0034 | Unsupported data type. Dtype: uint8\n",
      "2025-05-04 18:14:01,838 | ERROR    | GraphUtils.py-nodes_types-0034 | Unsupported data type. Dtype: uint8\n",
      "2025-05-04 18:14:01,839 | ERROR    | GraphUtils.py-nodes_types-0034 | Unsupported data type. Dtype: uint8\n",
      "2025-05-04 18:14:01,840 | ERROR    | GraphUtils.py-nodes_types-0034 | Unsupported data type. Dtype: uint8\n",
      "2025-05-04 18:14:01,842 | ERROR    | GraphUtils.py-nodes_types-0034 | Unsupported data type. Dtype: uint8\n",
      "2025-05-04 18:14:01,842 | ERROR    | GraphUtils.py-nodes_types-0034 | Unsupported data type. Dtype: uint8\n",
      "2025-05-04 18:14:01,842 | ERROR    | GraphUtils.py-nodes_types-0034 | Unsupported data type. Dtype: uint8\n",
      "2025-05-04 18:14:01,843 | ERROR    | GraphUtils.py-nodes_types-0034 | Unsupported data type. Dtype: uint8\n",
      "2025-05-04 18:14:01,844 | ERROR    | GraphUtils.py-nodes_types-0034 | Unsupported data type. Dtype: uint8\n",
      "2025-05-04 18:14:01,845 | ERROR    | GraphUtils.py-nodes_types-0034 | Unsupported data type. Dtype: uint8\n",
      "2025-05-04 18:14:01,846 | ERROR    | GraphUtils.py-nodes_types-0034 | Unsupported data type. Dtype: uint8\n",
      "2025-05-04 18:14:01,847 | ERROR    | GraphUtils.py-nodes_types-0034 | Unsupported data type. Dtype: uint8\n",
      "2025-05-04 18:14:01,847 | ERROR    | GraphUtils.py-nodes_types-0034 | Unsupported data type. Dtype: uint8\n",
      "2025-05-04 18:14:01,848 | ERROR    | GraphUtils.py-nodes_types-0034 | Unsupported data type. Dtype: uint8\n",
      "2025-05-04 18:14:01,849 | ERROR    | GraphUtils.py-nodes_types-0034 | Unsupported data type. Dtype: uint8\n",
      "2025-05-04 18:14:01,850 | ERROR    | GraphUtils.py-nodes_types-0034 | Unsupported data type. Dtype: uint8\n",
      "2025-05-04 18:14:01,851 | ERROR    | GraphUtils.py-nodes_types-0034 | Unsupported data type. Dtype: uint8\n",
      "2025-05-04 18:14:01,852 | ERROR    | GraphUtils.py-nodes_types-0034 | Unsupported data type. Dtype: uint8\n",
      "2025-05-04 18:14:01,854 | ERROR    | GraphUtils.py-nodes_types-0034 | Unsupported data type. Dtype: uint8\n",
      "2025-05-04 18:14:01,855 | ERROR    | GraphUtils.py-nodes_types-0034 | Unsupported data type. Dtype: uint8\n",
      "2025-05-04 18:14:01,855 | ERROR    | GraphUtils.py-nodes_types-0034 | Unsupported data type. Dtype: uint8\n",
      "2025-05-04 18:14:01,857 | ERROR    | GraphUtils.py-nodes_types-0034 | Unsupported data type. Dtype: uint8\n",
      "2025-05-04 18:14:01,858 | ERROR    | GraphUtils.py-nodes_types-0034 | Unsupported data type. Dtype: uint8\n",
      "2025-05-04 18:14:01,858 | ERROR    | GraphUtils.py-nodes_types-0034 | Unsupported data type. Dtype: uint8\n",
      "2025-05-04 18:14:01,859 | ERROR    | GraphUtils.py-nodes_types-0034 | Unsupported data type. Dtype: uint8\n",
      "2025-05-04 18:14:01,860 | ERROR    | GraphUtils.py-nodes_types-0034 | Unsupported data type. Dtype: uint8\n",
      "2025-05-04 18:14:01,862 | ERROR    | GraphUtils.py-nodes_types-0034 | Unsupported data type. Dtype: uint8\n",
      "2025-05-04 18:14:01,863 | ERROR    | GraphUtils.py-nodes_types-0034 | Unsupported data type. Dtype: uint8\n",
      "2025-05-04 18:14:01,864 | ERROR    | GraphUtils.py-nodes_types-0034 | Unsupported data type. Dtype: uint8\n",
      "2025-05-04 18:14:01,865 | ERROR    | GraphUtils.py-nodes_types-0034 | Unsupported data type. Dtype: uint8\n",
      "2025-05-04 18:14:01,865 | ERROR    | GraphUtils.py-nodes_types-0034 | Unsupported data type. Dtype: uint8\n",
      "2025-05-04 18:14:01,866 | ERROR    | GraphUtils.py-nodes_types-0034 | Unsupported data type. Dtype: uint8\n",
      "2025-05-04 18:14:01,867 | ERROR    | GraphUtils.py-nodes_types-0034 | Unsupported data type. Dtype: uint8\n",
      "2025-05-04 18:14:01,868 | ERROR    | GraphUtils.py-nodes_types-0034 | Unsupported data type. Dtype: uint8\n",
      "2025-05-04 18:14:01,871 | ERROR    | GraphUtils.py-nodes_types-0034 | Unsupported data type. Dtype: uint8\n",
      "2025-05-04 18:14:01,874 | ERROR    | GraphUtils.py-nodes_types-0034 | Unsupported data type. Dtype: uint8\n",
      "2025-05-04 18:14:01,875 | ERROR    | GraphUtils.py-nodes_types-0034 | Unsupported data type. Dtype: uint8\n",
      "2025-05-04 18:14:01,876 | ERROR    | GraphUtils.py-nodes_types-0034 | Unsupported data type. Dtype: uint8\n",
      "2025-05-04 18:14:01,877 | ERROR    | GraphUtils.py-nodes_types-0034 | Unsupported data type. Dtype: uint8\n",
      "2025-05-04 18:14:01,878 | ERROR    | GraphUtils.py-nodes_types-0034 | Unsupported data type. Dtype: uint8\n",
      "2025-05-04 18:14:01,880 | ERROR    | GraphUtils.py-nodes_types-0034 | Unsupported data type. Dtype: uint8\n",
      "2025-05-04 18:14:01,882 | ERROR    | GraphUtils.py-nodes_types-0034 | Unsupported data type. Dtype: uint8\n",
      "2025-05-04 18:14:01,884 | ERROR    | GraphUtils.py-nodes_types-0034 | Unsupported data type. Dtype: uint8\n",
      "2025-05-04 18:14:01,884 | ERROR    | GraphUtils.py-nodes_types-0034 | Unsupported data type. Dtype: uint8\n",
      "2025-05-04 18:14:01,887 | ERROR    | GraphUtils.py-nodes_types-0034 | Unsupported data type. Dtype: uint8\n",
      "2025-05-04 18:14:01,888 | ERROR    | GraphUtils.py-nodes_types-0034 | Unsupported data type. Dtype: uint8\n",
      "2025-05-04 18:14:01,889 | ERROR    | GraphUtils.py-nodes_types-0034 | Unsupported data type. Dtype: uint8\n",
      "2025-05-04 18:14:01,891 | ERROR    | GraphUtils.py-nodes_types-0034 | Unsupported data type. Dtype: uint8\n",
      "2025-05-04 18:14:01,892 | ERROR    | GraphUtils.py-nodes_types-0034 | Unsupported data type. Dtype: uint8\n",
      "2025-05-04 18:14:01,893 | ERROR    | GraphUtils.py-nodes_types-0034 | Unsupported data type. Dtype: uint8\n",
      "2025-05-04 18:14:01,894 | ERROR    | GraphUtils.py-nodes_types-0034 | Unsupported data type. Dtype: uint8\n",
      "2025-05-04 18:14:01,896 | ERROR    | GraphUtils.py-nodes_types-0034 | Unsupported data type. Dtype: uint8\n",
      "2025-05-04 18:14:01,897 | ERROR    | GraphUtils.py-nodes_types-0034 | Unsupported data type. Dtype: uint8\n",
      "2025-05-04 18:14:01,898 | ERROR    | GraphUtils.py-nodes_types-0034 | Unsupported data type. Dtype: uint8\n",
      "2025-05-04 18:14:01,899 | ERROR    | GraphUtils.py-nodes_types-0034 | Unsupported data type. Dtype: uint8\n",
      "2025-05-04 18:14:01,901 | ERROR    | GraphUtils.py-nodes_types-0034 | Unsupported data type. Dtype: uint8\n",
      "2025-05-04 18:14:01,902 | ERROR    | GraphUtils.py-nodes_types-0034 | Unsupported data type. Dtype: uint8\n",
      "2025-05-04 18:14:01,904 | ERROR    | GraphUtils.py-nodes_types-0034 | Unsupported data type. Dtype: uint8\n",
      "2025-05-04 18:14:01,905 | ERROR    | GraphUtils.py-nodes_types-0034 | Unsupported data type. Dtype: uint8\n",
      "2025-05-04 18:14:01,908 | ERROR    | GraphUtils.py-nodes_types-0034 | Unsupported data type. Dtype: uint8\n",
      "2025-05-04 18:14:01,910 | ERROR    | GraphUtils.py-nodes_types-0034 | Unsupported data type. Dtype: uint8\n"
     ]
    },
    {
     "data": {
      "application/vnd.jupyter.widget-view+json": {
       "model_id": "685763b800b640c5a8253145c79d1c1b",
       "version_major": 2,
       "version_minor": 0
      },
      "text/plain": [
       "  0%|          | 0/1000000 [00:00<?, ?it/s]"
      ]
     },
     "metadata": {},
     "output_type": "display_data"
    }
   ],
   "source": [
    "feat_to_grad_corr = {}\n",
    "for feat in features_corr+['ape_error']:\n",
    "    feat_to_grad_corr[feat]=[grad for grad in disc_data_encoded_corr.columns if feat in grad]\n",
    "\n",
    "\n",
    "metric_dict = {\n",
    "    'mape': lambda x, y: m.mean_absolute_percentage_error(x,y)*100,\n",
    "    'r2_score': lambda x, y: m.r2_score(x, y)*100\n",
    "}\n",
    "\n",
    "gbn_fs = DiscreteBNGI('')\n",
    "\n",
    "gbn_training_pipeline(gbn_fs, disc_data_encoded_corr, 'ape_error', categories_corr, score=BicScore)"
   ]
  },
  {
   "cell_type": "code",
   "execution_count": 180,
   "id": "1b20242c",
   "metadata": {},
   "outputs": [
    {
     "data": {
      "text/html": [
       "<div>\n",
       "<style scoped>\n",
       "    .dataframe tbody tr th:only-of-type {\n",
       "        vertical-align: middle;\n",
       "    }\n",
       "\n",
       "    .dataframe tbody tr th {\n",
       "        vertical-align: top;\n",
       "    }\n",
       "\n",
       "    .dataframe thead th {\n",
       "        text-align: right;\n",
       "    }\n",
       "</style>\n",
       "<table border=\"1\" class=\"dataframe\">\n",
       "  <thead>\n",
       "    <tr style=\"text-align: right;\">\n",
       "      <th></th>\n",
       "      <th>name</th>\n",
       "      <th>node_type</th>\n",
       "      <th>data_type</th>\n",
       "      <th>parents</th>\n",
       "      <th>parents_types</th>\n",
       "    </tr>\n",
       "  </thead>\n",
       "  <tbody>\n",
       "    <tr>\n",
       "      <th>0</th>\n",
       "      <td>extra_12_1</td>\n",
       "      <td>Discrete</td>\n",
       "      <td>disc</td>\n",
       "      <td>[]</td>\n",
       "      <td>[]</td>\n",
       "    </tr>\n",
       "    <tr>\n",
       "      <th>1</th>\n",
       "      <td>extra_9_1</td>\n",
       "      <td>Discrete</td>\n",
       "      <td>disc</td>\n",
       "      <td>[extra_12_1]</td>\n",
       "      <td>[disc]</td>\n",
       "    </tr>\n",
       "    <tr>\n",
       "      <th>2</th>\n",
       "      <td>extra_12_2</td>\n",
       "      <td>Discrete</td>\n",
       "      <td>disc</td>\n",
       "      <td>[extra_9_1]</td>\n",
       "      <td>[disc]</td>\n",
       "    </tr>\n",
       "    <tr>\n",
       "      <th>3</th>\n",
       "      <td>extra_9_2</td>\n",
       "      <td>Discrete</td>\n",
       "      <td>disc</td>\n",
       "      <td>[extra_12_2]</td>\n",
       "      <td>[disc]</td>\n",
       "    </tr>\n",
       "    <tr>\n",
       "      <th>4</th>\n",
       "      <td>extra_16_2</td>\n",
       "      <td>Discrete</td>\n",
       "      <td>disc</td>\n",
       "      <td>[extra_12_2]</td>\n",
       "      <td>[disc]</td>\n",
       "    </tr>\n",
       "    <tr>\n",
       "      <th>...</th>\n",
       "      <td>...</td>\n",
       "      <td>...</td>\n",
       "      <td>...</td>\n",
       "      <td>...</td>\n",
       "      <td>...</td>\n",
       "    </tr>\n",
       "    <tr>\n",
       "      <th>70</th>\n",
       "      <td>extra_4_1</td>\n",
       "      <td>Discrete</td>\n",
       "      <td>disc</td>\n",
       "      <td>[extra_10_1]</td>\n",
       "      <td>[disc]</td>\n",
       "    </tr>\n",
       "    <tr>\n",
       "      <th>71</th>\n",
       "      <td>extra_6_2</td>\n",
       "      <td>Discrete</td>\n",
       "      <td>disc</td>\n",
       "      <td>[hour_2, humidity_1, extra_14_2]</td>\n",
       "      <td>[disc, disc, disc]</td>\n",
       "    </tr>\n",
       "    <tr>\n",
       "      <th>72</th>\n",
       "      <td>extra_11_0</td>\n",
       "      <td>Discrete</td>\n",
       "      <td>disc</td>\n",
       "      <td>[month_0, extra_9_0, extra_12_0]</td>\n",
       "      <td>[disc, disc, disc]</td>\n",
       "    </tr>\n",
       "    <tr>\n",
       "      <th>73</th>\n",
       "      <td>extra_11_2</td>\n",
       "      <td>Discrete</td>\n",
       "      <td>disc</td>\n",
       "      <td>[month_0, month_1, temp_2, feel_temp_0]</td>\n",
       "      <td>[disc, disc, disc, disc]</td>\n",
       "    </tr>\n",
       "    <tr>\n",
       "      <th>74</th>\n",
       "      <td>extra_11_1</td>\n",
       "      <td>Discrete</td>\n",
       "      <td>disc</td>\n",
       "      <td>[month_0, month_1, feel_temp_0, feel_temp_1, e...</td>\n",
       "      <td>[disc, disc, disc, disc, disc]</td>\n",
       "    </tr>\n",
       "  </tbody>\n",
       "</table>\n",
       "<p>75 rows × 5 columns</p>\n",
       "</div>"
      ],
      "text/plain": [
       "          name node_type data_type  \\\n",
       "0   extra_12_1  Discrete      disc   \n",
       "1    extra_9_1  Discrete      disc   \n",
       "2   extra_12_2  Discrete      disc   \n",
       "3    extra_9_2  Discrete      disc   \n",
       "4   extra_16_2  Discrete      disc   \n",
       "..         ...       ...       ...   \n",
       "70   extra_4_1  Discrete      disc   \n",
       "71   extra_6_2  Discrete      disc   \n",
       "72  extra_11_0  Discrete      disc   \n",
       "73  extra_11_2  Discrete      disc   \n",
       "74  extra_11_1  Discrete      disc   \n",
       "\n",
       "                                              parents  \\\n",
       "0                                                  []   \n",
       "1                                        [extra_12_1]   \n",
       "2                                         [extra_9_1]   \n",
       "3                                        [extra_12_2]   \n",
       "4                                        [extra_12_2]   \n",
       "..                                                ...   \n",
       "70                                       [extra_10_1]   \n",
       "71                   [hour_2, humidity_1, extra_14_2]   \n",
       "72                   [month_0, extra_9_0, extra_12_0]   \n",
       "73            [month_0, month_1, temp_2, feel_temp_0]   \n",
       "74  [month_0, month_1, feel_temp_0, feel_temp_1, e...   \n",
       "\n",
       "                     parents_types  \n",
       "0                               []  \n",
       "1                           [disc]  \n",
       "2                           [disc]  \n",
       "3                           [disc]  \n",
       "4                           [disc]  \n",
       "..                             ...  \n",
       "70                          [disc]  \n",
       "71              [disc, disc, disc]  \n",
       "72              [disc, disc, disc]  \n",
       "73        [disc, disc, disc, disc]  \n",
       "74  [disc, disc, disc, disc, disc]  \n",
       "\n",
       "[75 rows x 5 columns]"
      ]
     },
     "execution_count": 180,
     "metadata": {},
     "output_type": "execute_result"
    }
   ],
   "source": [
    "gbn_fs.get_info()"
   ]
  },
  {
   "cell_type": "code",
   "execution_count": 181,
   "id": "19af9b11",
   "metadata": {},
   "outputs": [
    {
     "data": {
      "text/html": [
       "<div>\n",
       "<style scoped>\n",
       "    .dataframe tbody tr th:only-of-type {\n",
       "        vertical-align: middle;\n",
       "    }\n",
       "\n",
       "    .dataframe tbody tr th {\n",
       "        vertical-align: top;\n",
       "    }\n",
       "\n",
       "    .dataframe thead th {\n",
       "        text-align: right;\n",
       "    }\n",
       "</style>\n",
       "<table border=\"1\" class=\"dataframe\">\n",
       "  <thead>\n",
       "    <tr style=\"text-align: right;\">\n",
       "      <th></th>\n",
       "      <th>name</th>\n",
       "      <th>node_type</th>\n",
       "      <th>data_type</th>\n",
       "      <th>parents</th>\n",
       "      <th>parents_types</th>\n",
       "    </tr>\n",
       "  </thead>\n",
       "  <tbody>\n",
       "    <tr>\n",
       "      <th>39</th>\n",
       "      <td>ape_error_0</td>\n",
       "      <td>Discrete</td>\n",
       "      <td>disc</td>\n",
       "      <td>[hour_0, extra_15_2]</td>\n",
       "      <td>[disc, disc]</td>\n",
       "    </tr>\n",
       "    <tr>\n",
       "      <th>40</th>\n",
       "      <td>ape_error_1</td>\n",
       "      <td>Discrete</td>\n",
       "      <td>disc</td>\n",
       "      <td>[hour_0]</td>\n",
       "      <td>[disc]</td>\n",
       "    </tr>\n",
       "    <tr>\n",
       "      <th>58</th>\n",
       "      <td>ape_error_2</td>\n",
       "      <td>Discrete</td>\n",
       "      <td>disc</td>\n",
       "      <td>[hour_0, humidity_2]</td>\n",
       "      <td>[disc, disc]</td>\n",
       "    </tr>\n",
       "  </tbody>\n",
       "</table>\n",
       "</div>"
      ],
      "text/plain": [
       "           name node_type data_type               parents parents_types\n",
       "39  ape_error_0  Discrete      disc  [hour_0, extra_15_2]  [disc, disc]\n",
       "40  ape_error_1  Discrete      disc              [hour_0]        [disc]\n",
       "58  ape_error_2  Discrete      disc  [hour_0, humidity_2]  [disc, disc]"
      ]
     },
     "execution_count": 181,
     "metadata": {},
     "output_type": "execute_result"
    }
   ],
   "source": [
    "_df=gbn_fs.get_info()\n",
    "_df[_df['name'].apply(lambda x: 'ape_error' in x.name)]"
   ]
  },
  {
   "cell_type": "markdown",
   "id": "963afd81",
   "metadata": {},
   "source": [
    "# Univariate Feature selector"
   ]
  },
  {
   "cell_type": "code",
   "execution_count": 182,
   "id": "ec73fb1a",
   "metadata": {},
   "outputs": [],
   "source": [
    "univ_sel = SelectKBest(f_regression, k=len(features_corr))\n",
    "univ_sel.fit(data_dict_corr['val'][features_corr], data_dict_corr['val'][target])\n",
    "df_val_corr_univ = pd.DataFrame({'Feature': univ_sel.feature_names_in_, 'Metric value': univ_sel.pvalues_})"
   ]
  },
  {
   "cell_type": "markdown",
   "id": "8e94ddf8",
   "metadata": {},
   "source": [
    "# RFE on decision tree"
   ]
  },
  {
   "cell_type": "code",
   "execution_count": 183,
   "id": "66559772",
   "metadata": {},
   "outputs": [],
   "source": [
    "rfe_sel = RFE(estimator=DecisionTreeRegressor(random_state=42, max_depth=10,), n_features_to_select=1)\n",
    "#rfe_sel = RFE(estimator=RandomForestClassifier(random_state=42, max_depth=10, n_estimators=50), n_features_to_select=1, )\n",
    "rfe_sel.fit(data_dict_corr['val'][features_corr], data_dict_corr['val'][target])\n",
    "df_val_corr_rfe = pd.DataFrame({'Feature': rfe_sel.feature_names_in_, 'Metric value': rfe_sel.ranking_})"
   ]
  },
  {
   "cell_type": "markdown",
   "id": "006721af",
   "metadata": {},
   "source": [
    "# Lasso from Logistic Regression with L1 penalty"
   ]
  },
  {
   "cell_type": "code",
   "execution_count": 184,
   "id": "979e1c2c",
   "metadata": {},
   "outputs": [],
   "source": [
    "lsvc = Lasso(alpha=1e1, random_state=42)\n",
    "lsvc.fit(data_dict_corr['val'][features_corr], data_dict_corr['val'][target])\n",
    "lasso_selector = SelectFromModel(lsvc, prefit=True)"
   ]
  },
  {
   "cell_type": "code",
   "execution_count": 185,
   "id": "eb5d5703",
   "metadata": {},
   "outputs": [
    {
     "data": {
      "text/plain": [
       "['extra_1',\n",
       " 'extra_10',\n",
       " 'extra_11',\n",
       " 'extra_12',\n",
       " 'extra_13',\n",
       " 'extra_14',\n",
       " 'extra_16',\n",
       " 'extra_17',\n",
       " 'extra_2',\n",
       " 'extra_4',\n",
       " 'extra_6',\n",
       " 'extra_7',\n",
       " 'extra_9',\n",
       " 'feel_temp',\n",
       " 'hour',\n",
       " 'temp']"
      ]
     },
     "execution_count": 185,
     "metadata": {},
     "output_type": "execute_result"
    }
   ],
   "source": [
    "lasso_support = [x for i, x in enumerate(features_corr) if lasso_selector.get_support()[i]]\n",
    "lasso_support"
   ]
  },
  {
   "cell_type": "markdown",
   "id": "a7f0e86d",
   "metadata": {},
   "source": [
    "## GBN selector"
   ]
  },
  {
   "cell_type": "code",
   "execution_count": 186,
   "id": "af59082c",
   "metadata": {},
   "outputs": [
    {
     "name": "stderr",
     "output_type": "stream",
     "text": [
      "100%|██████████| 24/24 [00:06<00:00,  3.82it/s]\n"
     ]
    }
   ],
   "source": [
    "df_val_corr_bn=error_based_importance_features_bn(gbn_fs, 'ape_error', features_corr, feat_to_grad_corr).fillna(0)"
   ]
  },
  {
   "cell_type": "markdown",
   "id": "cbf8225e",
   "metadata": {},
   "source": [
    "## GBN selector run"
   ]
  },
  {
   "cell_type": "code",
   "execution_count": 187,
   "id": "e79283c2",
   "metadata": {},
   "outputs": [
    {
     "name": "stderr",
     "output_type": "stream",
     "text": [
      "100%|██████████| 24/24 [03:21<00:00,  8.40s/it]\n"
     ]
    }
   ],
   "source": [
    "gbn_res = elimination_experiment(model_corr, data_dict_corr, metric_dict, df_val_corr_bn, direction='asc', task='regr')"
   ]
  },
  {
   "cell_type": "code",
   "execution_count": 188,
   "id": "8c8efaf9",
   "metadata": {},
   "outputs": [
    {
     "data": {
      "text/html": [
       "<div>\n",
       "<style scoped>\n",
       "    .dataframe tbody tr th:only-of-type {\n",
       "        vertical-align: middle;\n",
       "    }\n",
       "\n",
       "    .dataframe tbody tr th {\n",
       "        vertical-align: top;\n",
       "    }\n",
       "\n",
       "    .dataframe thead th {\n",
       "        text-align: right;\n",
       "    }\n",
       "</style>\n",
       "<table border=\"1\" class=\"dataframe\">\n",
       "  <thead>\n",
       "    <tr style=\"text-align: right;\">\n",
       "      <th></th>\n",
       "      <th>n_features</th>\n",
       "      <th>last_excluded</th>\n",
       "      <th>mape</th>\n",
       "      <th>r2_score</th>\n",
       "      <th>mape_change, %</th>\n",
       "      <th>r2_score_change, %</th>\n",
       "    </tr>\n",
       "  </thead>\n",
       "  <tbody>\n",
       "    <tr>\n",
       "      <th>0</th>\n",
       "      <td>24</td>\n",
       "      <td>-</td>\n",
       "      <td>101.4</td>\n",
       "      <td>68.005</td>\n",
       "      <td>0</td>\n",
       "      <td>0</td>\n",
       "    </tr>\n",
       "    <tr>\n",
       "      <th>1</th>\n",
       "      <td>23</td>\n",
       "      <td>extra_18</td>\n",
       "      <td>103.005</td>\n",
       "      <td>67.905</td>\n",
       "      <td>1.583</td>\n",
       "      <td>-0.148</td>\n",
       "    </tr>\n",
       "    <tr>\n",
       "      <th>2</th>\n",
       "      <td>22</td>\n",
       "      <td>extra_12</td>\n",
       "      <td>103.23</td>\n",
       "      <td>67.768</td>\n",
       "      <td>1.804</td>\n",
       "      <td>-0.349</td>\n",
       "    </tr>\n",
       "    <tr>\n",
       "      <th>3</th>\n",
       "      <td>21</td>\n",
       "      <td>windspeed</td>\n",
       "      <td>102.131</td>\n",
       "      <td>68.048</td>\n",
       "      <td>0.721</td>\n",
       "      <td>0.064</td>\n",
       "    </tr>\n",
       "    <tr>\n",
       "      <th>4</th>\n",
       "      <td>20</td>\n",
       "      <td>extra_3</td>\n",
       "      <td>102.037</td>\n",
       "      <td>67.939</td>\n",
       "      <td>0.628</td>\n",
       "      <td>-0.097</td>\n",
       "    </tr>\n",
       "  </tbody>\n",
       "</table>\n",
       "</div>"
      ],
      "text/plain": [
       "  n_features last_excluded     mape r2_score mape_change, % r2_score_change, %\n",
       "0         24             -    101.4   68.005              0                  0\n",
       "1         23      extra_18  103.005   67.905          1.583             -0.148\n",
       "2         22      extra_12   103.23   67.768          1.804             -0.349\n",
       "3         21     windspeed  102.131   68.048          0.721              0.064\n",
       "4         20       extra_3  102.037   67.939          0.628             -0.097"
      ]
     },
     "execution_count": 188,
     "metadata": {},
     "output_type": "execute_result"
    }
   ],
   "source": [
    "gbn_res.head()"
   ]
  },
  {
   "cell_type": "code",
   "execution_count": 189,
   "id": "b6d446a1",
   "metadata": {},
   "outputs": [
    {
     "data": {
      "text/html": [
       "<div>\n",
       "<style scoped>\n",
       "    .dataframe tbody tr th:only-of-type {\n",
       "        vertical-align: middle;\n",
       "    }\n",
       "\n",
       "    .dataframe tbody tr th {\n",
       "        vertical-align: top;\n",
       "    }\n",
       "\n",
       "    .dataframe thead th {\n",
       "        text-align: right;\n",
       "    }\n",
       "</style>\n",
       "<table border=\"1\" class=\"dataframe\">\n",
       "  <thead>\n",
       "    <tr style=\"text-align: right;\">\n",
       "      <th></th>\n",
       "      <th>n_features</th>\n",
       "      <th>last_excluded</th>\n",
       "      <th>mape</th>\n",
       "      <th>r2_score</th>\n",
       "      <th>mape_change, %</th>\n",
       "      <th>r2_score_change, %</th>\n",
       "    </tr>\n",
       "  </thead>\n",
       "  <tbody>\n",
       "    <tr>\n",
       "      <th>5</th>\n",
       "      <td>19</td>\n",
       "      <td>extra_17</td>\n",
       "      <td>96.446</td>\n",
       "      <td>69.081</td>\n",
       "      <td>-4.886</td>\n",
       "      <td>1.582</td>\n",
       "    </tr>\n",
       "  </tbody>\n",
       "</table>\n",
       "</div>"
      ],
      "text/plain": [
       "  n_features last_excluded    mape r2_score mape_change, % r2_score_change, %\n",
       "5         19      extra_17  96.446   69.081         -4.886              1.582"
      ]
     },
     "execution_count": 189,
     "metadata": {},
     "output_type": "execute_result"
    }
   ],
   "source": [
    "get_best_record(gbn_res, 'mape', mode='min')"
   ]
  },
  {
   "cell_type": "code",
   "execution_count": 190,
   "id": "1c1adf80",
   "metadata": {},
   "outputs": [
    {
     "data": {
      "text/html": [
       "<div>\n",
       "<style scoped>\n",
       "    .dataframe tbody tr th:only-of-type {\n",
       "        vertical-align: middle;\n",
       "    }\n",
       "\n",
       "    .dataframe tbody tr th {\n",
       "        vertical-align: top;\n",
       "    }\n",
       "\n",
       "    .dataframe thead th {\n",
       "        text-align: right;\n",
       "    }\n",
       "</style>\n",
       "<table border=\"1\" class=\"dataframe\">\n",
       "  <thead>\n",
       "    <tr style=\"text-align: right;\">\n",
       "      <th></th>\n",
       "      <th>n_features</th>\n",
       "      <th>last_excluded</th>\n",
       "      <th>mape</th>\n",
       "      <th>r2_score</th>\n",
       "      <th>mape_change, %</th>\n",
       "      <th>r2_score_change, %</th>\n",
       "    </tr>\n",
       "  </thead>\n",
       "  <tbody>\n",
       "    <tr>\n",
       "      <th>7</th>\n",
       "      <td>17</td>\n",
       "      <td>extra_5</td>\n",
       "      <td>97.016</td>\n",
       "      <td>69.192</td>\n",
       "      <td>-4.324</td>\n",
       "      <td>1.745</td>\n",
       "    </tr>\n",
       "  </tbody>\n",
       "</table>\n",
       "</div>"
      ],
      "text/plain": [
       "  n_features last_excluded    mape r2_score mape_change, % r2_score_change, %\n",
       "7         17       extra_5  97.016   69.192         -4.324              1.745"
      ]
     },
     "execution_count": 190,
     "metadata": {},
     "output_type": "execute_result"
    }
   ],
   "source": [
    "get_best_record(gbn_res, 'r2_score')"
   ]
  },
  {
   "cell_type": "code",
   "execution_count": 191,
   "id": "c1e5ed05",
   "metadata": {},
   "outputs": [
    {
     "name": "stderr",
     "output_type": "stream",
     "text": [
      "100%|██████████| 24/24 [04:32<00:00, 11.36s/it]\n"
     ]
    },
    {
     "data": {
      "text/html": [
       "<div>\n",
       "<style scoped>\n",
       "    .dataframe tbody tr th:only-of-type {\n",
       "        vertical-align: middle;\n",
       "    }\n",
       "\n",
       "    .dataframe tbody tr th {\n",
       "        vertical-align: top;\n",
       "    }\n",
       "\n",
       "    .dataframe thead th {\n",
       "        text-align: right;\n",
       "    }\n",
       "</style>\n",
       "<table border=\"1\" class=\"dataframe\">\n",
       "  <thead>\n",
       "    <tr style=\"text-align: right;\">\n",
       "      <th></th>\n",
       "      <th>n_features</th>\n",
       "      <th>last_excluded</th>\n",
       "      <th>mape</th>\n",
       "      <th>r2_score</th>\n",
       "      <th>mape_change, %</th>\n",
       "      <th>r2_score_change, %</th>\n",
       "    </tr>\n",
       "  </thead>\n",
       "  <tbody>\n",
       "    <tr>\n",
       "      <th>0</th>\n",
       "      <td>24</td>\n",
       "      <td>-</td>\n",
       "      <td>101.884</td>\n",
       "      <td>67.969</td>\n",
       "      <td>0</td>\n",
       "      <td>0</td>\n",
       "    </tr>\n",
       "    <tr>\n",
       "      <th>1</th>\n",
       "      <td>23</td>\n",
       "      <td>extra_1</td>\n",
       "      <td>102.344</td>\n",
       "      <td>67.963</td>\n",
       "      <td>0.451</td>\n",
       "      <td>-0.009</td>\n",
       "    </tr>\n",
       "    <tr>\n",
       "      <th>2</th>\n",
       "      <td>22</td>\n",
       "      <td>extra_15</td>\n",
       "      <td>105.49</td>\n",
       "      <td>68.421</td>\n",
       "      <td>3.539</td>\n",
       "      <td>0.664</td>\n",
       "    </tr>\n",
       "    <tr>\n",
       "      <th>3</th>\n",
       "      <td>21</td>\n",
       "      <td>temp</td>\n",
       "      <td>104.794</td>\n",
       "      <td>68.543</td>\n",
       "      <td>2.857</td>\n",
       "      <td>0.845</td>\n",
       "    </tr>\n",
       "    <tr>\n",
       "      <th>4</th>\n",
       "      <td>20</td>\n",
       "      <td>extra_9</td>\n",
       "      <td>103.984</td>\n",
       "      <td>68.291</td>\n",
       "      <td>2.061</td>\n",
       "      <td>0.474</td>\n",
       "    </tr>\n",
       "  </tbody>\n",
       "</table>\n",
       "</div>"
      ],
      "text/plain": [
       "  n_features last_excluded     mape r2_score mape_change, % r2_score_change, %\n",
       "0         24             -  101.884   67.969              0                  0\n",
       "1         23       extra_1  102.344   67.963          0.451             -0.009\n",
       "2         22      extra_15   105.49   68.421          3.539              0.664\n",
       "3         21          temp  104.794   68.543          2.857              0.845\n",
       "4         20       extra_9  103.984   68.291          2.061              0.474"
      ]
     },
     "execution_count": 191,
     "metadata": {},
     "output_type": "execute_result"
    }
   ],
   "source": [
    "df_corr_excluded_asc_univ=elimination_experiment(model_corr, data_dict_corr, metric_dict,\n",
    "                       df_val_corr_univ, 'asc', task='regr')\n",
    "df_corr_excluded_asc_univ.head()"
   ]
  },
  {
   "cell_type": "code",
   "execution_count": 192,
   "id": "eab67dc9",
   "metadata": {},
   "outputs": [
    {
     "data": {
      "text/html": [
       "<div>\n",
       "<style scoped>\n",
       "    .dataframe tbody tr th:only-of-type {\n",
       "        vertical-align: middle;\n",
       "    }\n",
       "\n",
       "    .dataframe tbody tr th {\n",
       "        vertical-align: top;\n",
       "    }\n",
       "\n",
       "    .dataframe thead th {\n",
       "        text-align: right;\n",
       "    }\n",
       "</style>\n",
       "<table border=\"1\" class=\"dataframe\">\n",
       "  <thead>\n",
       "    <tr style=\"text-align: right;\">\n",
       "      <th></th>\n",
       "      <th>n_features</th>\n",
       "      <th>last_excluded</th>\n",
       "      <th>mape</th>\n",
       "      <th>r2_score</th>\n",
       "      <th>mape_change, %</th>\n",
       "      <th>r2_score_change, %</th>\n",
       "    </tr>\n",
       "  </thead>\n",
       "  <tbody>\n",
       "    <tr>\n",
       "      <th>8</th>\n",
       "      <td>16</td>\n",
       "      <td>hour</td>\n",
       "      <td>101.418</td>\n",
       "      <td>68.109</td>\n",
       "      <td>-0.457</td>\n",
       "      <td>0.206</td>\n",
       "    </tr>\n",
       "  </tbody>\n",
       "</table>\n",
       "</div>"
      ],
      "text/plain": [
       "  n_features last_excluded     mape r2_score mape_change, % r2_score_change, %\n",
       "8         16          hour  101.418   68.109         -0.457              0.206"
      ]
     },
     "execution_count": 192,
     "metadata": {},
     "output_type": "execute_result"
    }
   ],
   "source": [
    "get_best_record(df_corr_excluded_asc_univ, 'mape', mode='min')"
   ]
  },
  {
   "cell_type": "code",
   "execution_count": 193,
   "id": "71c56ca0",
   "metadata": {},
   "outputs": [
    {
     "data": {
      "text/html": [
       "<div>\n",
       "<style scoped>\n",
       "    .dataframe tbody tr th:only-of-type {\n",
       "        vertical-align: middle;\n",
       "    }\n",
       "\n",
       "    .dataframe tbody tr th {\n",
       "        vertical-align: top;\n",
       "    }\n",
       "\n",
       "    .dataframe thead th {\n",
       "        text-align: right;\n",
       "    }\n",
       "</style>\n",
       "<table border=\"1\" class=\"dataframe\">\n",
       "  <thead>\n",
       "    <tr style=\"text-align: right;\">\n",
       "      <th></th>\n",
       "      <th>n_features</th>\n",
       "      <th>last_excluded</th>\n",
       "      <th>mape</th>\n",
       "      <th>r2_score</th>\n",
       "      <th>mape_change, %</th>\n",
       "      <th>r2_score_change, %</th>\n",
       "    </tr>\n",
       "  </thead>\n",
       "  <tbody>\n",
       "    <tr>\n",
       "      <th>3</th>\n",
       "      <td>21</td>\n",
       "      <td>temp</td>\n",
       "      <td>104.794</td>\n",
       "      <td>68.543</td>\n",
       "      <td>2.857</td>\n",
       "      <td>0.845</td>\n",
       "    </tr>\n",
       "  </tbody>\n",
       "</table>\n",
       "</div>"
      ],
      "text/plain": [
       "  n_features last_excluded     mape r2_score mape_change, % r2_score_change, %\n",
       "3         21          temp  104.794   68.543          2.857              0.845"
      ]
     },
     "execution_count": 193,
     "metadata": {},
     "output_type": "execute_result"
    }
   ],
   "source": [
    "get_best_record(df_corr_excluded_asc_univ, 'r2_score')"
   ]
  },
  {
   "cell_type": "code",
   "execution_count": 194,
   "id": "56c0f60c",
   "metadata": {},
   "outputs": [
    {
     "name": "stderr",
     "output_type": "stream",
     "text": [
      "100%|██████████| 24/24 [03:40<00:00,  9.17s/it]\n"
     ]
    },
    {
     "data": {
      "text/html": [
       "<div>\n",
       "<style scoped>\n",
       "    .dataframe tbody tr th:only-of-type {\n",
       "        vertical-align: middle;\n",
       "    }\n",
       "\n",
       "    .dataframe tbody tr th {\n",
       "        vertical-align: top;\n",
       "    }\n",
       "\n",
       "    .dataframe thead th {\n",
       "        text-align: right;\n",
       "    }\n",
       "</style>\n",
       "<table border=\"1\" class=\"dataframe\">\n",
       "  <thead>\n",
       "    <tr style=\"text-align: right;\">\n",
       "      <th></th>\n",
       "      <th>n_features</th>\n",
       "      <th>last_excluded</th>\n",
       "      <th>mape</th>\n",
       "      <th>r2_score</th>\n",
       "      <th>mape_change, %</th>\n",
       "      <th>r2_score_change, %</th>\n",
       "    </tr>\n",
       "  </thead>\n",
       "  <tbody>\n",
       "    <tr>\n",
       "      <th>0</th>\n",
       "      <td>24</td>\n",
       "      <td>-</td>\n",
       "      <td>102.905</td>\n",
       "      <td>67.891</td>\n",
       "      <td>0</td>\n",
       "      <td>0</td>\n",
       "    </tr>\n",
       "    <tr>\n",
       "      <th>1</th>\n",
       "      <td>23</td>\n",
       "      <td>feel_temp</td>\n",
       "      <td>102.323</td>\n",
       "      <td>67.864</td>\n",
       "      <td>-0.566</td>\n",
       "      <td>-0.04</td>\n",
       "    </tr>\n",
       "    <tr>\n",
       "      <th>2</th>\n",
       "      <td>22</td>\n",
       "      <td>windspeed</td>\n",
       "      <td>102.264</td>\n",
       "      <td>68.009</td>\n",
       "      <td>-0.623</td>\n",
       "      <td>0.174</td>\n",
       "    </tr>\n",
       "    <tr>\n",
       "      <th>3</th>\n",
       "      <td>21</td>\n",
       "      <td>extra_16</td>\n",
       "      <td>101.085</td>\n",
       "      <td>68.22</td>\n",
       "      <td>-1.768</td>\n",
       "      <td>0.484</td>\n",
       "    </tr>\n",
       "    <tr>\n",
       "      <th>4</th>\n",
       "      <td>20</td>\n",
       "      <td>temp</td>\n",
       "      <td>100.616</td>\n",
       "      <td>68.19</td>\n",
       "      <td>-2.224</td>\n",
       "      <td>0.44</td>\n",
       "    </tr>\n",
       "  </tbody>\n",
       "</table>\n",
       "</div>"
      ],
      "text/plain": [
       "  n_features last_excluded     mape r2_score mape_change, % r2_score_change, %\n",
       "0         24             -  102.905   67.891              0                  0\n",
       "1         23     feel_temp  102.323   67.864         -0.566              -0.04\n",
       "2         22     windspeed  102.264   68.009         -0.623              0.174\n",
       "3         21      extra_16  101.085    68.22         -1.768              0.484\n",
       "4         20          temp  100.616    68.19         -2.224               0.44"
      ]
     },
     "execution_count": 194,
     "metadata": {},
     "output_type": "execute_result"
    }
   ],
   "source": [
    "df_corr_excluded_rfe=elimination_experiment(model_corr, data_dict_corr, metric_dict,\n",
    "                       df_val_corr_rfe, 'desc', task='regr')\n",
    "df_corr_excluded_rfe.head()"
   ]
  },
  {
   "cell_type": "code",
   "execution_count": 195,
   "id": "7979f672",
   "metadata": {},
   "outputs": [
    {
     "data": {
      "text/html": [
       "<div>\n",
       "<style scoped>\n",
       "    .dataframe tbody tr th:only-of-type {\n",
       "        vertical-align: middle;\n",
       "    }\n",
       "\n",
       "    .dataframe tbody tr th {\n",
       "        vertical-align: top;\n",
       "    }\n",
       "\n",
       "    .dataframe thead th {\n",
       "        text-align: right;\n",
       "    }\n",
       "</style>\n",
       "<table border=\"1\" class=\"dataframe\">\n",
       "  <thead>\n",
       "    <tr style=\"text-align: right;\">\n",
       "      <th></th>\n",
       "      <th>n_features</th>\n",
       "      <th>last_excluded</th>\n",
       "      <th>mape</th>\n",
       "      <th>r2_score</th>\n",
       "      <th>mape_change, %</th>\n",
       "      <th>r2_score_change, %</th>\n",
       "    </tr>\n",
       "  </thead>\n",
       "  <tbody>\n",
       "    <tr>\n",
       "      <th>9</th>\n",
       "      <td>15</td>\n",
       "      <td>extra_3</td>\n",
       "      <td>99.769</td>\n",
       "      <td>68.327</td>\n",
       "      <td>-3.048</td>\n",
       "      <td>0.642</td>\n",
       "    </tr>\n",
       "  </tbody>\n",
       "</table>\n",
       "</div>"
      ],
      "text/plain": [
       "  n_features last_excluded    mape r2_score mape_change, % r2_score_change, %\n",
       "9         15       extra_3  99.769   68.327         -3.048              0.642"
      ]
     },
     "execution_count": 195,
     "metadata": {},
     "output_type": "execute_result"
    }
   ],
   "source": [
    "get_best_record(df_corr_excluded_rfe, 'mape', mode='min')"
   ]
  },
  {
   "cell_type": "code",
   "execution_count": 196,
   "id": "8d6a0be3",
   "metadata": {},
   "outputs": [
    {
     "data": {
      "text/html": [
       "<div>\n",
       "<style scoped>\n",
       "    .dataframe tbody tr th:only-of-type {\n",
       "        vertical-align: middle;\n",
       "    }\n",
       "\n",
       "    .dataframe tbody tr th {\n",
       "        vertical-align: top;\n",
       "    }\n",
       "\n",
       "    .dataframe thead th {\n",
       "        text-align: right;\n",
       "    }\n",
       "</style>\n",
       "<table border=\"1\" class=\"dataframe\">\n",
       "  <thead>\n",
       "    <tr style=\"text-align: right;\">\n",
       "      <th></th>\n",
       "      <th>n_features</th>\n",
       "      <th>last_excluded</th>\n",
       "      <th>mape</th>\n",
       "      <th>r2_score</th>\n",
       "      <th>mape_change, %</th>\n",
       "      <th>r2_score_change, %</th>\n",
       "    </tr>\n",
       "  </thead>\n",
       "  <tbody>\n",
       "    <tr>\n",
       "      <th>10</th>\n",
       "      <td>14</td>\n",
       "      <td>month</td>\n",
       "      <td>100.718</td>\n",
       "      <td>68.536</td>\n",
       "      <td>-2.126</td>\n",
       "      <td>0.95</td>\n",
       "    </tr>\n",
       "  </tbody>\n",
       "</table>\n",
       "</div>"
      ],
      "text/plain": [
       "   n_features last_excluded     mape r2_score mape_change, %  \\\n",
       "10         14         month  100.718   68.536         -2.126   \n",
       "\n",
       "   r2_score_change, %  \n",
       "10               0.95  "
      ]
     },
     "execution_count": 196,
     "metadata": {},
     "output_type": "execute_result"
    }
   ],
   "source": [
    "get_best_record(df_corr_excluded_rfe, 'r2_score')"
   ]
  },
  {
   "cell_type": "code",
   "execution_count": 197,
   "id": "dcc253b7",
   "metadata": {},
   "outputs": [
    {
     "data": {
      "text/plain": [
       "['extra_1',\n",
       " 'extra_10',\n",
       " 'extra_11',\n",
       " 'extra_12',\n",
       " 'extra_13',\n",
       " 'extra_14',\n",
       " 'extra_16',\n",
       " 'extra_17',\n",
       " 'extra_2',\n",
       " 'extra_4',\n",
       " 'extra_6',\n",
       " 'extra_7',\n",
       " 'extra_9',\n",
       " 'feel_temp',\n",
       " 'hour',\n",
       " 'temp']"
      ]
     },
     "execution_count": 197,
     "metadata": {},
     "output_type": "execute_result"
    }
   ],
   "source": [
    "lasso_support"
   ]
  },
  {
   "cell_type": "code",
   "execution_count": 198,
   "id": "8cc01c98",
   "metadata": {},
   "outputs": [
    {
     "data": {
      "text/plain": [
       "[101.332, 68.662]"
      ]
     },
     "execution_count": 198,
     "metadata": {},
     "output_type": "execute_result"
    }
   ],
   "source": [
    "single_run(model_corr, data_dict_corr, lasso_support, target, metric_dict, task='regr')"
   ]
  },
  {
   "cell_type": "code",
   "execution_count": null,
   "id": "d6799715",
   "metadata": {},
   "outputs": [],
   "source": [
    "#logging mape (probably woth to be negative mape)\n",
    "0.5 random, base 18.467, gbn 17.877, univ 18.467, rfe 18.103 , lasso: 17.89\n",
    "0.75 random, base 19.137, gbn 18.346, univ 19.137, rfe 18.239 , lasso: 18.338\n",
    "0.5 noisy, base 18.337, gbn 17.927, univ 18.337, rfe  18.109, lasso: 18.221\n",
    "0.75 noisy, base 18.442, gbn 17.960, univ 18.442, rfe  18.185, lasso: 18.586\n",
    "0.5 prod, base 17.865, gbn 17.865, univ 17.865, rfe 17.802, lasso: 17.762\n",
    "0.75 prod, base 18.442, gbn 18.417, univ 18.382, rfe 18.029, lasso: 18.585\n"
   ]
  },
  {
   "cell_type": "code",
   "execution_count": null,
   "id": "b7996a30",
   "metadata": {},
   "outputs": [],
   "source": [
    "# logging r2_score\n",
    "0.5 random, base 81.675, gbn 82.667, univ 81.675, rfe  82.27, lasso: 82.616 \n",
    "0.75 random, base 80.482, gbn 81.832, univ 80.619, rfe  82.188, lasso: 81.806\n",
    "0.5 noisy, base 81.813, gbn 82.479, univ 81.863, rfe  82.047, lasso: 81.88\n",
    "0.75 noisy, base 81.637, gbn 82.039, univ 81.596, rfe  81.97, lasso: 81.392\n",
    "0.5 prod, base 81.97, gbn 81.97, univ 82.176, rfe 82.438, lasso: 82.363\n",
    "0.75 prod, base 81.637, gbn 81.637, univ 81.704, rfe 82.364, lasso: 80.941\n"
   ]
  },
  {
   "cell_type": "code",
   "execution_count": null,
   "id": "ff9f0696",
   "metadata": {},
   "outputs": [],
   "source": [
    "# #logging mape\n",
    "# 0.5 random, base 17.877, gbn 80.075, univ 79.953, rfe 79.953, lasso: 79.944\n",
    "# 0.75 random, base 80.119, gbn 80.55\t, univ 80.119, rfe 80.119, lasso: 80.242\n",
    "\n",
    "# 0.5 noisy base 80.42, gbn 80.58\t, univ 80.42, rfe 80.578, lasso: 80.515\n",
    "# 0.75 noisy base 80.264, gbn 80.311, univ 80.264, rfe 80.264, lasso: 80.633\n",
    "\n",
    "# 0.5 prod base 80.007, gbn 80.203\t, univ 80.022, rfe 80.448, lasso: 80.422\n",
    "# 0.75 prod base 80.36, gbn 80.422\t, univ 80.549, rfe 80.542, lasso: 80.316\n"
   ]
  }
 ],
 "metadata": {
  "kernelspec": {
   "display_name": "venv",
   "language": "python",
   "name": "python3"
  },
  "language_info": {
   "codemirror_mode": {
    "name": "ipython",
    "version": 3
   },
   "file_extension": ".py",
   "mimetype": "text/x-python",
   "name": "python",
   "nbconvert_exporter": "python",
   "pygments_lexer": "ipython3",
   "version": "3.10.11"
  }
 },
 "nbformat": 4,
 "nbformat_minor": 5
}
