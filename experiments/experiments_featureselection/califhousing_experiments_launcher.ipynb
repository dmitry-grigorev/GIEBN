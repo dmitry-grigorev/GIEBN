{
 "cells": [
  {
   "cell_type": "code",
   "execution_count": 1,
   "id": "de643df9",
   "metadata": {},
   "outputs": [
    {
     "data": {
      "text/plain": [
       "'c:/Users/User/PycharmProjects/GIEBN'"
      ]
     },
     "execution_count": 1,
     "metadata": {},
     "output_type": "execute_result"
    }
   ],
   "source": [
    "import os\n",
    "\n",
    "import sys\n",
    "sys.path.append(\"C:\\\\Users\\\\User\\\\PycharmProjects\\\\GIEBN\\\\src\")\n",
    "sys.path.append(\"C:\\\\Users\\\\User\\\\PycharmProjects\\\\GIEBN\")\n",
    "sys.path.append(\"C:\\\\Users\\\\User\\\\PycharmProjects\\\\GIEBN\\\\venv\")\n",
    "\n",
    "path = os.getcwd()\n",
    "\n",
    "curr_path = path.replace('\\\\', '/')\n",
    "head_place = curr_path.find('GIEBN')\n",
    "main_path = curr_path[:head_place]+'GIEBN'\n",
    "main_path"
   ]
  },
  {
   "cell_type": "code",
   "execution_count": 2,
   "id": "d5c23947",
   "metadata": {},
   "outputs": [],
   "source": [
    "from sklearn.linear_model import LogisticRegression, LinearRegression, Lasso\n",
    "from sklearn.ensemble import GradientBoostingClassifier, RandomForestClassifier, GradientBoostingRegressor\n",
    "import pandas as pd\n",
    "import numpy as np\n",
    "import matplotlib.pyplot as plt\n",
    "import seaborn as sns\n",
    "from sklearn.preprocessing import KBinsDiscretizer, FunctionTransformer, OrdinalEncoder, OneHotEncoder\n",
    "from sklearn.pipeline import make_pipeline, make_union\n",
    "from sklearn.datasets import make_regression\n",
    "from sklearn.tree import DecisionTreeClassifier, DecisionTreeRegressor\n",
    "\n",
    "\n",
    "from sklearn.svm import LinearSVC\n",
    "from sklearn.feature_selection import SelectFromModel, f_regression\n",
    "\n",
    "from sklearn.model_selection import train_test_split\n",
    "from sklearn.feature_selection import SelectKBest, RFE\n",
    "\n",
    "from auxiliary.auxiliary import construct_by_kmeans\n",
    "\n",
    "from pgmpy.factors.discrete.CPD import TabularCPD\n",
    "from pgmpy.models import BayesianNetwork\n",
    "import yodo.yodo\n",
    "import matplotlib.pyplot as plt\n",
    "from pgmpy.estimators import PC, BicScore, K2Score\n",
    "from pgmpy.inference import VariableElimination\n",
    "from bamt.networks.discrete_bn import DiscreteBN\n",
    "from bamt_inherited.networks.discrete import DiscreteBNGI\n",
    "import shap\n",
    "from sklearn import metrics as m\n",
    "from tqdm import tqdm\n",
    "from itertools import product\n",
    "import optuna\n",
    "from copy import copy"
   ]
  },
  {
   "cell_type": "code",
   "execution_count": 3,
   "id": "3b842b01",
   "metadata": {},
   "outputs": [],
   "source": [
    "optuna.logging.set_verbosity(optuna.logging.WARNING)"
   ]
  },
  {
   "cell_type": "code",
   "execution_count": 46,
   "id": "6c4a99c7",
   "metadata": {},
   "outputs": [],
   "source": [
    "%run ../common_code.ipynb"
   ]
  },
  {
   "cell_type": "code",
   "execution_count": 5,
   "id": "29c48917",
   "metadata": {},
   "outputs": [
    {
     "data": {
      "text/html": [
       "<div>\n",
       "<style scoped>\n",
       "    .dataframe tbody tr th:only-of-type {\n",
       "        vertical-align: middle;\n",
       "    }\n",
       "\n",
       "    .dataframe tbody tr th {\n",
       "        vertical-align: top;\n",
       "    }\n",
       "\n",
       "    .dataframe thead th {\n",
       "        text-align: right;\n",
       "    }\n",
       "</style>\n",
       "<table border=\"1\" class=\"dataframe\">\n",
       "  <thead>\n",
       "    <tr style=\"text-align: right;\">\n",
       "      <th></th>\n",
       "      <th>longitude</th>\n",
       "      <th>latitude</th>\n",
       "      <th>housing_median_age</th>\n",
       "      <th>total_rooms</th>\n",
       "      <th>total_bedrooms</th>\n",
       "      <th>population</th>\n",
       "      <th>households</th>\n",
       "      <th>median_income</th>\n",
       "      <th>median_house_value</th>\n",
       "    </tr>\n",
       "  </thead>\n",
       "  <tbody>\n",
       "    <tr>\n",
       "      <th>0</th>\n",
       "      <td>-122.23</td>\n",
       "      <td>37.88</td>\n",
       "      <td>41.0</td>\n",
       "      <td>880.0</td>\n",
       "      <td>129.0</td>\n",
       "      <td>322.0</td>\n",
       "      <td>126.0</td>\n",
       "      <td>8.3252</td>\n",
       "      <td>452600.0</td>\n",
       "    </tr>\n",
       "    <tr>\n",
       "      <th>1</th>\n",
       "      <td>-122.22</td>\n",
       "      <td>37.86</td>\n",
       "      <td>21.0</td>\n",
       "      <td>7099.0</td>\n",
       "      <td>1106.0</td>\n",
       "      <td>2401.0</td>\n",
       "      <td>1138.0</td>\n",
       "      <td>8.3014</td>\n",
       "      <td>358500.0</td>\n",
       "    </tr>\n",
       "    <tr>\n",
       "      <th>2</th>\n",
       "      <td>-122.24</td>\n",
       "      <td>37.85</td>\n",
       "      <td>52.0</td>\n",
       "      <td>1467.0</td>\n",
       "      <td>190.0</td>\n",
       "      <td>496.0</td>\n",
       "      <td>177.0</td>\n",
       "      <td>7.2574</td>\n",
       "      <td>352100.0</td>\n",
       "    </tr>\n",
       "    <tr>\n",
       "      <th>3</th>\n",
       "      <td>-122.25</td>\n",
       "      <td>37.85</td>\n",
       "      <td>52.0</td>\n",
       "      <td>1274.0</td>\n",
       "      <td>235.0</td>\n",
       "      <td>558.0</td>\n",
       "      <td>219.0</td>\n",
       "      <td>5.6431</td>\n",
       "      <td>341300.0</td>\n",
       "    </tr>\n",
       "    <tr>\n",
       "      <th>4</th>\n",
       "      <td>-122.25</td>\n",
       "      <td>37.85</td>\n",
       "      <td>52.0</td>\n",
       "      <td>1627.0</td>\n",
       "      <td>280.0</td>\n",
       "      <td>565.0</td>\n",
       "      <td>259.0</td>\n",
       "      <td>3.8462</td>\n",
       "      <td>342200.0</td>\n",
       "    </tr>\n",
       "    <tr>\n",
       "      <th>5</th>\n",
       "      <td>-122.25</td>\n",
       "      <td>37.85</td>\n",
       "      <td>52.0</td>\n",
       "      <td>919.0</td>\n",
       "      <td>213.0</td>\n",
       "      <td>413.0</td>\n",
       "      <td>193.0</td>\n",
       "      <td>4.0368</td>\n",
       "      <td>269700.0</td>\n",
       "    </tr>\n",
       "    <tr>\n",
       "      <th>6</th>\n",
       "      <td>-122.25</td>\n",
       "      <td>37.84</td>\n",
       "      <td>52.0</td>\n",
       "      <td>2535.0</td>\n",
       "      <td>489.0</td>\n",
       "      <td>1094.0</td>\n",
       "      <td>514.0</td>\n",
       "      <td>3.6591</td>\n",
       "      <td>299200.0</td>\n",
       "    </tr>\n",
       "    <tr>\n",
       "      <th>7</th>\n",
       "      <td>-122.25</td>\n",
       "      <td>37.84</td>\n",
       "      <td>52.0</td>\n",
       "      <td>3104.0</td>\n",
       "      <td>687.0</td>\n",
       "      <td>1157.0</td>\n",
       "      <td>647.0</td>\n",
       "      <td>3.1200</td>\n",
       "      <td>241400.0</td>\n",
       "    </tr>\n",
       "    <tr>\n",
       "      <th>8</th>\n",
       "      <td>-122.26</td>\n",
       "      <td>37.84</td>\n",
       "      <td>42.0</td>\n",
       "      <td>2555.0</td>\n",
       "      <td>665.0</td>\n",
       "      <td>1206.0</td>\n",
       "      <td>595.0</td>\n",
       "      <td>2.0804</td>\n",
       "      <td>226700.0</td>\n",
       "    </tr>\n",
       "    <tr>\n",
       "      <th>9</th>\n",
       "      <td>-122.25</td>\n",
       "      <td>37.84</td>\n",
       "      <td>52.0</td>\n",
       "      <td>3549.0</td>\n",
       "      <td>707.0</td>\n",
       "      <td>1551.0</td>\n",
       "      <td>714.0</td>\n",
       "      <td>3.6912</td>\n",
       "      <td>261100.0</td>\n",
       "    </tr>\n",
       "  </tbody>\n",
       "</table>\n",
       "</div>"
      ],
      "text/plain": [
       "   longitude  latitude  housing_median_age  total_rooms  total_bedrooms  \\\n",
       "0    -122.23     37.88                41.0        880.0           129.0   \n",
       "1    -122.22     37.86                21.0       7099.0          1106.0   \n",
       "2    -122.24     37.85                52.0       1467.0           190.0   \n",
       "3    -122.25     37.85                52.0       1274.0           235.0   \n",
       "4    -122.25     37.85                52.0       1627.0           280.0   \n",
       "5    -122.25     37.85                52.0        919.0           213.0   \n",
       "6    -122.25     37.84                52.0       2535.0           489.0   \n",
       "7    -122.25     37.84                52.0       3104.0           687.0   \n",
       "8    -122.26     37.84                42.0       2555.0           665.0   \n",
       "9    -122.25     37.84                52.0       3549.0           707.0   \n",
       "\n",
       "   population  households  median_income  median_house_value  \n",
       "0       322.0       126.0         8.3252            452600.0  \n",
       "1      2401.0      1138.0         8.3014            358500.0  \n",
       "2       496.0       177.0         7.2574            352100.0  \n",
       "3       558.0       219.0         5.6431            341300.0  \n",
       "4       565.0       259.0         3.8462            342200.0  \n",
       "5       413.0       193.0         4.0368            269700.0  \n",
       "6      1094.0       514.0         3.6591            299200.0  \n",
       "7      1157.0       647.0         3.1200            241400.0  \n",
       "8      1206.0       595.0         2.0804            226700.0  \n",
       "9      1551.0       714.0         3.6912            261100.0  "
      ]
     },
     "execution_count": 5,
     "metadata": {},
     "output_type": "execute_result"
    }
   ],
   "source": [
    "#https://www.kaggle.com/datasets/camnugent/california-housing-prices\n",
    "data = pd.read_csv(\"../../datasets/housing.csv\")\n",
    "\n",
    "n = data.shape[0]\n",
    "target = \"median_house_value\"\n",
    "features = ['longitude', 'latitude', 'housing_median_age', 'total_rooms',\n",
    "       'total_bedrooms', 'population', 'households', 'median_income']\n",
    "data = data[features+[target]]\n",
    "data.dropna(subset=['total_bedrooms'], inplace=True)\n",
    "n_features = len(features)\n",
    "data.head(10)"
   ]
  },
  {
   "cell_type": "code",
   "execution_count": 6,
   "id": "ed1a39de",
   "metadata": {},
   "outputs": [
    {
     "data": {
      "text/html": [
       "<div>\n",
       "<style scoped>\n",
       "    .dataframe tbody tr th:only-of-type {\n",
       "        vertical-align: middle;\n",
       "    }\n",
       "\n",
       "    .dataframe tbody tr th {\n",
       "        vertical-align: top;\n",
       "    }\n",
       "\n",
       "    .dataframe thead th {\n",
       "        text-align: right;\n",
       "    }\n",
       "</style>\n",
       "<table border=\"1\" class=\"dataframe\">\n",
       "  <thead>\n",
       "    <tr style=\"text-align: right;\">\n",
       "      <th></th>\n",
       "      <th>longitude</th>\n",
       "      <th>latitude</th>\n",
       "      <th>housing_median_age</th>\n",
       "      <th>total_rooms</th>\n",
       "      <th>total_bedrooms</th>\n",
       "      <th>population</th>\n",
       "      <th>households</th>\n",
       "      <th>median_income</th>\n",
       "      <th>median_house_value</th>\n",
       "    </tr>\n",
       "  </thead>\n",
       "  <tbody>\n",
       "    <tr>\n",
       "      <th>count</th>\n",
       "      <td>20433.000000</td>\n",
       "      <td>20433.000000</td>\n",
       "      <td>20433.000000</td>\n",
       "      <td>20433.000000</td>\n",
       "      <td>20433.000000</td>\n",
       "      <td>20433.000000</td>\n",
       "      <td>20433.000000</td>\n",
       "      <td>20433.000000</td>\n",
       "      <td>20433.000000</td>\n",
       "    </tr>\n",
       "    <tr>\n",
       "      <th>mean</th>\n",
       "      <td>-119.570689</td>\n",
       "      <td>35.633221</td>\n",
       "      <td>28.633094</td>\n",
       "      <td>2636.504233</td>\n",
       "      <td>537.870553</td>\n",
       "      <td>1424.946949</td>\n",
       "      <td>499.433465</td>\n",
       "      <td>3.871162</td>\n",
       "      <td>206864.413155</td>\n",
       "    </tr>\n",
       "    <tr>\n",
       "      <th>std</th>\n",
       "      <td>2.003578</td>\n",
       "      <td>2.136348</td>\n",
       "      <td>12.591805</td>\n",
       "      <td>2185.269567</td>\n",
       "      <td>421.385070</td>\n",
       "      <td>1133.208490</td>\n",
       "      <td>382.299226</td>\n",
       "      <td>1.899291</td>\n",
       "      <td>115435.667099</td>\n",
       "    </tr>\n",
       "    <tr>\n",
       "      <th>min</th>\n",
       "      <td>-124.350000</td>\n",
       "      <td>32.540000</td>\n",
       "      <td>1.000000</td>\n",
       "      <td>2.000000</td>\n",
       "      <td>1.000000</td>\n",
       "      <td>3.000000</td>\n",
       "      <td>1.000000</td>\n",
       "      <td>0.499900</td>\n",
       "      <td>14999.000000</td>\n",
       "    </tr>\n",
       "    <tr>\n",
       "      <th>25%</th>\n",
       "      <td>-121.800000</td>\n",
       "      <td>33.930000</td>\n",
       "      <td>18.000000</td>\n",
       "      <td>1450.000000</td>\n",
       "      <td>296.000000</td>\n",
       "      <td>787.000000</td>\n",
       "      <td>280.000000</td>\n",
       "      <td>2.563700</td>\n",
       "      <td>119500.000000</td>\n",
       "    </tr>\n",
       "    <tr>\n",
       "      <th>50%</th>\n",
       "      <td>-118.490000</td>\n",
       "      <td>34.260000</td>\n",
       "      <td>29.000000</td>\n",
       "      <td>2127.000000</td>\n",
       "      <td>435.000000</td>\n",
       "      <td>1166.000000</td>\n",
       "      <td>409.000000</td>\n",
       "      <td>3.536500</td>\n",
       "      <td>179700.000000</td>\n",
       "    </tr>\n",
       "    <tr>\n",
       "      <th>75%</th>\n",
       "      <td>-118.010000</td>\n",
       "      <td>37.720000</td>\n",
       "      <td>37.000000</td>\n",
       "      <td>3143.000000</td>\n",
       "      <td>647.000000</td>\n",
       "      <td>1722.000000</td>\n",
       "      <td>604.000000</td>\n",
       "      <td>4.744000</td>\n",
       "      <td>264700.000000</td>\n",
       "    </tr>\n",
       "    <tr>\n",
       "      <th>max</th>\n",
       "      <td>-114.310000</td>\n",
       "      <td>41.950000</td>\n",
       "      <td>52.000000</td>\n",
       "      <td>39320.000000</td>\n",
       "      <td>6445.000000</td>\n",
       "      <td>35682.000000</td>\n",
       "      <td>6082.000000</td>\n",
       "      <td>15.000100</td>\n",
       "      <td>500001.000000</td>\n",
       "    </tr>\n",
       "  </tbody>\n",
       "</table>\n",
       "</div>"
      ],
      "text/plain": [
       "          longitude      latitude  housing_median_age   total_rooms  \\\n",
       "count  20433.000000  20433.000000        20433.000000  20433.000000   \n",
       "mean    -119.570689     35.633221           28.633094   2636.504233   \n",
       "std        2.003578      2.136348           12.591805   2185.269567   \n",
       "min     -124.350000     32.540000            1.000000      2.000000   \n",
       "25%     -121.800000     33.930000           18.000000   1450.000000   \n",
       "50%     -118.490000     34.260000           29.000000   2127.000000   \n",
       "75%     -118.010000     37.720000           37.000000   3143.000000   \n",
       "max     -114.310000     41.950000           52.000000  39320.000000   \n",
       "\n",
       "       total_bedrooms    population    households  median_income  \\\n",
       "count    20433.000000  20433.000000  20433.000000   20433.000000   \n",
       "mean       537.870553   1424.946949    499.433465       3.871162   \n",
       "std        421.385070   1133.208490    382.299226       1.899291   \n",
       "min          1.000000      3.000000      1.000000       0.499900   \n",
       "25%        296.000000    787.000000    280.000000       2.563700   \n",
       "50%        435.000000   1166.000000    409.000000       3.536500   \n",
       "75%        647.000000   1722.000000    604.000000       4.744000   \n",
       "max       6445.000000  35682.000000   6082.000000      15.000100   \n",
       "\n",
       "       median_house_value  \n",
       "count        20433.000000  \n",
       "mean        206864.413155  \n",
       "std         115435.667099  \n",
       "min          14999.000000  \n",
       "25%         119500.000000  \n",
       "50%         179700.000000  \n",
       "75%         264700.000000  \n",
       "max         500001.000000  "
      ]
     },
     "execution_count": 6,
     "metadata": {},
     "output_type": "execute_result"
    }
   ],
   "source": [
    "data.describe()"
   ]
  },
  {
   "cell_type": "code",
   "execution_count": 35,
   "id": "9b791857",
   "metadata": {},
   "outputs": [],
   "source": [
    "data_corr = add_extra_features(data, features, extra_size=0.75, mode='noisy')"
   ]
  },
  {
   "cell_type": "code",
   "execution_count": 36,
   "id": "a03769a9",
   "metadata": {},
   "outputs": [],
   "source": [
    "data_dict_corr = {}\n",
    "\n",
    "data_tv, data_dict_corr['test'] = train_test_split(data_corr, test_size=0.15, random_state=42)\n",
    "\n",
    "data_dict_corr['train'], data_dict_corr['val'] = train_test_split(data_tv, test_size=0.15, random_state=42)\n",
    "\n",
    "features_corr = list(data_corr.columns.difference([target]))"
   ]
  },
  {
   "cell_type": "code",
   "execution_count": 37,
   "id": "7cd8854b",
   "metadata": {},
   "outputs": [
    {
     "data": {
      "text/plain": [
       "['extra_1',\n",
       " 'extra_10',\n",
       " 'extra_11',\n",
       " 'extra_12',\n",
       " 'extra_13',\n",
       " 'extra_14',\n",
       " 'extra_15',\n",
       " 'extra_16',\n",
       " 'extra_17',\n",
       " 'extra_18',\n",
       " 'extra_19',\n",
       " 'extra_2',\n",
       " 'extra_20',\n",
       " 'extra_21',\n",
       " 'extra_22',\n",
       " 'extra_23',\n",
       " 'extra_24',\n",
       " 'extra_3',\n",
       " 'extra_4',\n",
       " 'extra_5',\n",
       " 'extra_6',\n",
       " 'extra_7',\n",
       " 'extra_8',\n",
       " 'extra_9',\n",
       " 'households',\n",
       " 'housing_median_age',\n",
       " 'latitude',\n",
       " 'longitude',\n",
       " 'median_income',\n",
       " 'population',\n",
       " 'total_bedrooms',\n",
       " 'total_rooms']"
      ]
     },
     "execution_count": 37,
     "metadata": {},
     "output_type": "execute_result"
    }
   ],
   "source": [
    "features_corr"
   ]
  },
  {
   "cell_type": "code",
   "execution_count": 38,
   "id": "0ada96fb",
   "metadata": {},
   "outputs": [],
   "source": [
    "def objective(trial, features, target, data_dict):\n",
    "    n_estimators= trial.suggest_int(\"n_estimators\", low=params_net['n_estimators'][0], high=params_net['n_estimators'][1], step=1)\n",
    "    max_depth= trial.suggest_int(\"max_depth\", low=params_net['max_depth'][0], high=params_net['max_depth'][1], step=1)\n",
    "    learning_rate=trial.suggest_float(\"learning_rate\", low=params_net['learning_rate'][0], high=params_net['learning_rate'][1],log=True)\n",
    "    \n",
    "    regr = GradientBoostingRegressor(random_state=42, n_estimators=n_estimators,\n",
    "                                     max_depth=max_depth, learning_rate=learning_rate)\n",
    "    regr.fit(data_dict['train'][features], data_dict['train'][target])\n",
    "    return score_regr(regr, data_dict['val'][features], data_dict['val'][target])\n",
    "\n",
    "params_net = {\n",
    "    'n_estimators': [10, 100],\n",
    "    'max_depth': [3, 10],\n",
    "    'learning_rate':[1e-5, 1]\n",
    "}\n"
   ]
  },
  {
   "cell_type": "markdown",
   "id": "0dde69b4",
   "metadata": {},
   "source": [
    "# Initial model for error calculation"
   ]
  },
  {
   "cell_type": "code",
   "execution_count": 39,
   "id": "c0ef96d8",
   "metadata": {},
   "outputs": [
    {
     "data": {
      "application/vnd.jupyter.widget-view+json": {
       "model_id": "4b82742ea2174977b39aa6361e034634",
       "version_major": 2,
       "version_minor": 0
      },
      "text/plain": [
       "  0%|          | 0/30 [00:00<?, ?it/s]"
      ]
     },
     "metadata": {},
     "output_type": "display_data"
    }
   ],
   "source": [
    "best_base_params = optunize_model(objective, features_corr, target, data_dict_corr)"
   ]
  },
  {
   "cell_type": "code",
   "execution_count": 40,
   "id": "78372590",
   "metadata": {},
   "outputs": [
    {
     "data": {
      "text/plain": [
       "{'n_estimators': 84, 'max_depth': 8, 'learning_rate': 0.09064558607020029}"
      ]
     },
     "execution_count": 40,
     "metadata": {},
     "output_type": "execute_result"
    }
   ],
   "source": [
    "best_base_params"
   ]
  },
  {
   "cell_type": "code",
   "execution_count": 41,
   "id": "3464be47",
   "metadata": {},
   "outputs": [],
   "source": [
    "model_corr = GradientBoostingRegressor(random_state=42, **best_base_params)\n",
    "#model = LogisticRegression()\n",
    "model_corr.fit(data_dict_corr['train'][features_corr], data_dict_corr['train'][target])\n",
    "\n",
    "data_errors_corr = measure_error(data_dict_corr['val'], model_corr, features_corr, target, error_col_name='ape_error', task='regr')"
   ]
  },
  {
   "cell_type": "code",
   "execution_count": 42,
   "id": "0fb38b3a",
   "metadata": {},
   "outputs": [
    {
     "name": "stdout",
     "output_type": "stream",
     "text": [
      "Warning: feature households has practically degenerate states and low entropy\n",
      "Warning: feature median_income has practically degenerate states and low entropy\n",
      "Warning: feature population has practically degenerate states and low entropy\n",
      "Warning: feature total_bedrooms has practically degenerate states and low entropy\n",
      "Warning: feature total_rooms has practically degenerate states and low entropy\n",
      "Warning: feature ape_error has practically degenerate states and low entropy\n"
     ]
    },
    {
     "data": {
      "text/html": [
       "<div>\n",
       "<style scoped>\n",
       "    .dataframe tbody tr th:only-of-type {\n",
       "        vertical-align: middle;\n",
       "    }\n",
       "\n",
       "    .dataframe tbody tr th {\n",
       "        vertical-align: top;\n",
       "    }\n",
       "\n",
       "    .dataframe thead th {\n",
       "        text-align: right;\n",
       "    }\n",
       "</style>\n",
       "<table border=\"1\" class=\"dataframe\">\n",
       "  <thead>\n",
       "    <tr style=\"text-align: right;\">\n",
       "      <th></th>\n",
       "      <th>longitude_0</th>\n",
       "      <th>longitude_1</th>\n",
       "      <th>longitude_2</th>\n",
       "      <th>latitude_0</th>\n",
       "      <th>latitude_1</th>\n",
       "      <th>latitude_2</th>\n",
       "      <th>housing_median_age_0</th>\n",
       "      <th>housing_median_age_1</th>\n",
       "      <th>housing_median_age_2</th>\n",
       "      <th>total_rooms_0</th>\n",
       "      <th>...</th>\n",
       "      <th>extra_22_2</th>\n",
       "      <th>extra_23_0</th>\n",
       "      <th>extra_23_1</th>\n",
       "      <th>extra_23_2</th>\n",
       "      <th>extra_24_0</th>\n",
       "      <th>extra_24_1</th>\n",
       "      <th>extra_24_2</th>\n",
       "      <th>ape_error_0</th>\n",
       "      <th>ape_error_1</th>\n",
       "      <th>ape_error_2</th>\n",
       "    </tr>\n",
       "  </thead>\n",
       "  <tbody>\n",
       "    <tr>\n",
       "      <th>0</th>\n",
       "      <td>0</td>\n",
       "      <td>1</td>\n",
       "      <td>0</td>\n",
       "      <td>1</td>\n",
       "      <td>0</td>\n",
       "      <td>0</td>\n",
       "      <td>0</td>\n",
       "      <td>1</td>\n",
       "      <td>0</td>\n",
       "      <td>0</td>\n",
       "      <td>...</td>\n",
       "      <td>0</td>\n",
       "      <td>0</td>\n",
       "      <td>1</td>\n",
       "      <td>0</td>\n",
       "      <td>1</td>\n",
       "      <td>0</td>\n",
       "      <td>0</td>\n",
       "      <td>0</td>\n",
       "      <td>0</td>\n",
       "      <td>1</td>\n",
       "    </tr>\n",
       "  </tbody>\n",
       "</table>\n",
       "<p>1 rows × 99 columns</p>\n",
       "</div>"
      ],
      "text/plain": [
       "   longitude_0  longitude_1  longitude_2  latitude_0  latitude_1  latitude_2  \\\n",
       "0            0            1            0           1           0           0   \n",
       "\n",
       "   housing_median_age_0  housing_median_age_1  housing_median_age_2  \\\n",
       "0                     0                     1                     0   \n",
       "\n",
       "   total_rooms_0  ...  extra_22_2  extra_23_0  extra_23_1  extra_23_2  \\\n",
       "0              0  ...           0           0           1           0   \n",
       "\n",
       "   extra_24_0  extra_24_1  extra_24_2  ape_error_0  ape_error_1  ape_error_2  \n",
       "0           1           0           0            0            0            1  \n",
       "\n",
       "[1 rows x 99 columns]"
      ]
     },
     "execution_count": 42,
     "metadata": {},
     "output_type": "execute_result"
    }
   ],
   "source": [
    "n_features_corr = len(features_corr)\n",
    "disc_data_corr, pipeline_data_corr = discretize(data_errors_corr, \n",
    "                                      features_corr+[\"ape_error\"], icat=None, icont=list(range(n_features_corr+1)))\n",
    "\n",
    "categories_corr = extract_categories(disc_data_corr)\n",
    "encoder = OneHotEncoder(sparse=False)\n",
    "disc_data_encoded_corr = pd.DataFrame(encoder.fit_transform(X=disc_data_corr), columns=categories_corr, dtype='uint8')\n",
    "disc_data_encoded_corr.head(1)"
   ]
  },
  {
   "cell_type": "code",
   "execution_count": 43,
   "id": "7a2ef371",
   "metadata": {},
   "outputs": [
    {
     "data": {
      "text/plain": [
       "ape_error\n",
       "1    1042\n",
       "2     782\n",
       "0     782\n",
       "Name: count, dtype: int64"
      ]
     },
     "execution_count": 43,
     "metadata": {},
     "output_type": "execute_result"
    }
   ],
   "source": [
    "disc_data_corr['ape_error'].value_counts()"
   ]
  },
  {
   "cell_type": "code",
   "execution_count": null,
   "id": "138a5f61",
   "metadata": {},
   "outputs": [],
   "source": [
    "feat_to_grad_corr = {}\n",
    "for feat in features_corr+['ape_error']:\n",
    "    feat_to_grad_corr[feat]=[grad for grad in disc_data_encoded_corr.columns if feat in grad]\n",
    "\n",
    "\n",
    "metric_dict = {\n",
    "    'mape': lambda x, y: m.mean_absolute_percentage_error(x,y)*100,\n",
    "    'r2_score': lambda x, y: m.r2_score(x, y)*100\n",
    "}\n",
    "\n",
    "gbn_fs = DiscreteBNGI('')\n",
    "\n",
    "gbn_training_pipeline(gbn_fs, disc_data_encoded_corr, 'ape_error', categories_corr, score=K2Score)"
   ]
  },
  {
   "cell_type": "code",
   "execution_count": 55,
   "id": "1b20242c",
   "metadata": {},
   "outputs": [
    {
     "data": {
      "text/html": [
       "<div>\n",
       "<style scoped>\n",
       "    .dataframe tbody tr th:only-of-type {\n",
       "        vertical-align: middle;\n",
       "    }\n",
       "\n",
       "    .dataframe tbody tr th {\n",
       "        vertical-align: top;\n",
       "    }\n",
       "\n",
       "    .dataframe thead th {\n",
       "        text-align: right;\n",
       "    }\n",
       "</style>\n",
       "<table border=\"1\" class=\"dataframe\">\n",
       "  <thead>\n",
       "    <tr style=\"text-align: right;\">\n",
       "      <th></th>\n",
       "      <th>name</th>\n",
       "      <th>node_type</th>\n",
       "      <th>data_type</th>\n",
       "      <th>parents</th>\n",
       "      <th>parents_types</th>\n",
       "    </tr>\n",
       "  </thead>\n",
       "  <tbody>\n",
       "    <tr>\n",
       "      <th>0</th>\n",
       "      <td>longitude_0</td>\n",
       "      <td>Discrete</td>\n",
       "      <td>disc</td>\n",
       "      <td>[]</td>\n",
       "      <td>[]</td>\n",
       "    </tr>\n",
       "    <tr>\n",
       "      <th>1</th>\n",
       "      <td>longitude_1</td>\n",
       "      <td>Discrete</td>\n",
       "      <td>disc</td>\n",
       "      <td>[]</td>\n",
       "      <td>[]</td>\n",
       "    </tr>\n",
       "    <tr>\n",
       "      <th>2</th>\n",
       "      <td>longitude_2</td>\n",
       "      <td>Discrete</td>\n",
       "      <td>disc</td>\n",
       "      <td>[]</td>\n",
       "      <td>[]</td>\n",
       "    </tr>\n",
       "    <tr>\n",
       "      <th>3</th>\n",
       "      <td>latitude_0</td>\n",
       "      <td>Discrete</td>\n",
       "      <td>disc</td>\n",
       "      <td>[]</td>\n",
       "      <td>[]</td>\n",
       "    </tr>\n",
       "    <tr>\n",
       "      <th>4</th>\n",
       "      <td>latitude_1</td>\n",
       "      <td>Discrete</td>\n",
       "      <td>disc</td>\n",
       "      <td>[]</td>\n",
       "      <td>[]</td>\n",
       "    </tr>\n",
       "    <tr>\n",
       "      <th>...</th>\n",
       "      <td>...</td>\n",
       "      <td>...</td>\n",
       "      <td>...</td>\n",
       "      <td>...</td>\n",
       "      <td>...</td>\n",
       "    </tr>\n",
       "    <tr>\n",
       "      <th>94</th>\n",
       "      <td>extra_24_1</td>\n",
       "      <td>Discrete</td>\n",
       "      <td>disc</td>\n",
       "      <td>[]</td>\n",
       "      <td>[]</td>\n",
       "    </tr>\n",
       "    <tr>\n",
       "      <th>95</th>\n",
       "      <td>extra_24_2</td>\n",
       "      <td>Discrete</td>\n",
       "      <td>disc</td>\n",
       "      <td>[]</td>\n",
       "      <td>[]</td>\n",
       "    </tr>\n",
       "    <tr>\n",
       "      <th>96</th>\n",
       "      <td>ape_error_0</td>\n",
       "      <td>Discrete</td>\n",
       "      <td>disc</td>\n",
       "      <td>[]</td>\n",
       "      <td>[]</td>\n",
       "    </tr>\n",
       "    <tr>\n",
       "      <th>97</th>\n",
       "      <td>ape_error_1</td>\n",
       "      <td>Discrete</td>\n",
       "      <td>disc</td>\n",
       "      <td>[]</td>\n",
       "      <td>[]</td>\n",
       "    </tr>\n",
       "    <tr>\n",
       "      <th>98</th>\n",
       "      <td>ape_error_2</td>\n",
       "      <td>Discrete</td>\n",
       "      <td>disc</td>\n",
       "      <td>[]</td>\n",
       "      <td>[]</td>\n",
       "    </tr>\n",
       "  </tbody>\n",
       "</table>\n",
       "<p>99 rows × 5 columns</p>\n",
       "</div>"
      ],
      "text/plain": [
       "           name node_type data_type parents parents_types\n",
       "0   longitude_0  Discrete      disc      []            []\n",
       "1   longitude_1  Discrete      disc      []            []\n",
       "2   longitude_2  Discrete      disc      []            []\n",
       "3    latitude_0  Discrete      disc      []            []\n",
       "4    latitude_1  Discrete      disc      []            []\n",
       "..          ...       ...       ...     ...           ...\n",
       "94   extra_24_1  Discrete      disc      []            []\n",
       "95   extra_24_2  Discrete      disc      []            []\n",
       "96  ape_error_0  Discrete      disc      []            []\n",
       "97  ape_error_1  Discrete      disc      []            []\n",
       "98  ape_error_2  Discrete      disc      []            []\n",
       "\n",
       "[99 rows x 5 columns]"
      ]
     },
     "execution_count": 55,
     "metadata": {},
     "output_type": "execute_result"
    }
   ],
   "source": [
    "gbn_fs.get_info()"
   ]
  },
  {
   "cell_type": "code",
   "execution_count": 54,
   "id": "19af9b11",
   "metadata": {},
   "outputs": [
    {
     "data": {
      "text/html": [
       "<div>\n",
       "<style scoped>\n",
       "    .dataframe tbody tr th:only-of-type {\n",
       "        vertical-align: middle;\n",
       "    }\n",
       "\n",
       "    .dataframe tbody tr th {\n",
       "        vertical-align: top;\n",
       "    }\n",
       "\n",
       "    .dataframe thead th {\n",
       "        text-align: right;\n",
       "    }\n",
       "</style>\n",
       "<table border=\"1\" class=\"dataframe\">\n",
       "  <thead>\n",
       "    <tr style=\"text-align: right;\">\n",
       "      <th></th>\n",
       "      <th>name</th>\n",
       "      <th>node_type</th>\n",
       "      <th>data_type</th>\n",
       "      <th>parents</th>\n",
       "      <th>parents_types</th>\n",
       "    </tr>\n",
       "  </thead>\n",
       "  <tbody>\n",
       "    <tr>\n",
       "      <th>96</th>\n",
       "      <td>ape_error_0</td>\n",
       "      <td>Discrete</td>\n",
       "      <td>disc</td>\n",
       "      <td>[]</td>\n",
       "      <td>[]</td>\n",
       "    </tr>\n",
       "    <tr>\n",
       "      <th>97</th>\n",
       "      <td>ape_error_1</td>\n",
       "      <td>Discrete</td>\n",
       "      <td>disc</td>\n",
       "      <td>[]</td>\n",
       "      <td>[]</td>\n",
       "    </tr>\n",
       "    <tr>\n",
       "      <th>98</th>\n",
       "      <td>ape_error_2</td>\n",
       "      <td>Discrete</td>\n",
       "      <td>disc</td>\n",
       "      <td>[]</td>\n",
       "      <td>[]</td>\n",
       "    </tr>\n",
       "  </tbody>\n",
       "</table>\n",
       "</div>"
      ],
      "text/plain": [
       "           name node_type data_type parents parents_types\n",
       "96  ape_error_0  Discrete      disc      []            []\n",
       "97  ape_error_1  Discrete      disc      []            []\n",
       "98  ape_error_2  Discrete      disc      []            []"
      ]
     },
     "execution_count": 54,
     "metadata": {},
     "output_type": "execute_result"
    }
   ],
   "source": [
    "_df=gbn_fs.get_info()\n",
    "_df[_df['name'].apply(lambda x: 'ape_error' in x.name)]"
   ]
  },
  {
   "cell_type": "markdown",
   "id": "963afd81",
   "metadata": {},
   "source": [
    "# Univariate Feature selector"
   ]
  },
  {
   "cell_type": "code",
   "execution_count": 57,
   "id": "ec73fb1a",
   "metadata": {},
   "outputs": [],
   "source": [
    "univ_sel = SelectKBest(f_regression, k=len(features_corr))\n",
    "univ_sel.fit(data_dict_corr['val'][features_corr], data_dict_corr['val'][target])\n",
    "df_val_corr_univ = pd.DataFrame({'Feature': univ_sel.feature_names_in_, 'Metric value': univ_sel.pvalues_})"
   ]
  },
  {
   "cell_type": "markdown",
   "id": "8e94ddf8",
   "metadata": {},
   "source": [
    "# RFE on decision tree"
   ]
  },
  {
   "cell_type": "code",
   "execution_count": 58,
   "id": "66559772",
   "metadata": {},
   "outputs": [],
   "source": [
    "rfe_sel = RFE(estimator=DecisionTreeRegressor(random_state=42, max_depth=10,), n_features_to_select=1)\n",
    "#rfe_sel = RFE(estimator=RandomForestClassifier(random_state=42, max_depth=10, n_estimators=50), n_features_to_select=1, )\n",
    "rfe_sel.fit(data_dict_corr['val'][features_corr], data_dict_corr['val'][target])\n",
    "df_val_corr_rfe = pd.DataFrame({'Feature': rfe_sel.feature_names_in_, 'Metric value': rfe_sel.ranking_})"
   ]
  },
  {
   "cell_type": "markdown",
   "id": "006721af",
   "metadata": {},
   "source": [
    "# Lasso from Logistic Regression with L1 penalty"
   ]
  },
  {
   "cell_type": "code",
   "execution_count": 59,
   "id": "979e1c2c",
   "metadata": {},
   "outputs": [],
   "source": [
    "lsvc = Lasso(alpha=5e3, random_state=42)\n",
    "lsvc.fit(data_dict_corr['val'][features_corr], data_dict_corr['val'][target])\n",
    "lasso_selector = SelectFromModel(lsvc, prefit=True)"
   ]
  },
  {
   "cell_type": "code",
   "execution_count": 60,
   "id": "eb5d5703",
   "metadata": {},
   "outputs": [
    {
     "data": {
      "text/plain": [
       "['extra_1',\n",
       " 'extra_10',\n",
       " 'extra_17',\n",
       " 'extra_19',\n",
       " 'extra_20',\n",
       " 'extra_21',\n",
       " 'extra_22',\n",
       " 'extra_3',\n",
       " 'extra_5',\n",
       " 'extra_8',\n",
       " 'extra_9',\n",
       " 'households',\n",
       " 'housing_median_age',\n",
       " 'latitude',\n",
       " 'longitude',\n",
       " 'median_income',\n",
       " 'population',\n",
       " 'total_bedrooms',\n",
       " 'total_rooms']"
      ]
     },
     "execution_count": 60,
     "metadata": {},
     "output_type": "execute_result"
    }
   ],
   "source": [
    "lasso_support = [x for i, x in enumerate(features_corr) if lasso_selector.get_support()[i]]\n",
    "lasso_support"
   ]
  },
  {
   "cell_type": "markdown",
   "id": "a7f0e86d",
   "metadata": {},
   "source": [
    "## GBN selector"
   ]
  },
  {
   "cell_type": "code",
   "execution_count": 51,
   "id": "af59082c",
   "metadata": {},
   "outputs": [
    {
     "name": "stderr",
     "output_type": "stream",
     "text": [
      "  0%|          | 0/32 [00:00<?, ?it/s]"
     ]
    },
    {
     "name": "stderr",
     "output_type": "stream",
     "text": [
      "100%|██████████| 32/32 [00:06<00:00,  5.13it/s]\n"
     ]
    }
   ],
   "source": [
    "df_val_corr_bn=error_based_importance_features_bn(gbn_fs, 'ape_error', features_corr, feat_to_grad_corr).fillna(0)"
   ]
  },
  {
   "cell_type": "markdown",
   "id": "cbf8225e",
   "metadata": {},
   "source": [
    "## GBN selector run"
   ]
  },
  {
   "cell_type": "code",
   "execution_count": 24,
   "id": "e79283c2",
   "metadata": {},
   "outputs": [
    {
     "name": "stderr",
     "output_type": "stream",
     "text": [
      "100%|██████████| 32/32 [25:23<00:00, 47.61s/it]\n"
     ]
    }
   ],
   "source": [
    "gbn_res = elimination_experiment(model_corr, data_dict_corr, metric_dict, df_val_corr_bn, direction='asc', task='regr')"
   ]
  },
  {
   "cell_type": "code",
   "execution_count": 25,
   "id": "8c8efaf9",
   "metadata": {},
   "outputs": [
    {
     "data": {
      "text/html": [
       "<div>\n",
       "<style scoped>\n",
       "    .dataframe tbody tr th:only-of-type {\n",
       "        vertical-align: middle;\n",
       "    }\n",
       "\n",
       "    .dataframe tbody tr th {\n",
       "        vertical-align: top;\n",
       "    }\n",
       "\n",
       "    .dataframe thead th {\n",
       "        text-align: right;\n",
       "    }\n",
       "</style>\n",
       "<table border=\"1\" class=\"dataframe\">\n",
       "  <thead>\n",
       "    <tr style=\"text-align: right;\">\n",
       "      <th></th>\n",
       "      <th>n_features</th>\n",
       "      <th>last_excluded</th>\n",
       "      <th>mape</th>\n",
       "      <th>r2_score</th>\n",
       "      <th>mape_change, %</th>\n",
       "      <th>r2_score_change, %</th>\n",
       "    </tr>\n",
       "  </thead>\n",
       "  <tbody>\n",
       "    <tr>\n",
       "      <th>0</th>\n",
       "      <td>32</td>\n",
       "      <td>-</td>\n",
       "      <td>18.442</td>\n",
       "      <td>81.637</td>\n",
       "      <td>0</td>\n",
       "      <td>0</td>\n",
       "    </tr>\n",
       "    <tr>\n",
       "      <th>1</th>\n",
       "      <td>31</td>\n",
       "      <td>extra_9</td>\n",
       "      <td>18.454</td>\n",
       "      <td>81.52</td>\n",
       "      <td>0.064</td>\n",
       "      <td>-0.143</td>\n",
       "    </tr>\n",
       "    <tr>\n",
       "      <th>2</th>\n",
       "      <td>30</td>\n",
       "      <td>extra_7</td>\n",
       "      <td>18.469</td>\n",
       "      <td>81.447</td>\n",
       "      <td>0.144</td>\n",
       "      <td>-0.233</td>\n",
       "    </tr>\n",
       "    <tr>\n",
       "      <th>3</th>\n",
       "      <td>29</td>\n",
       "      <td>extra_24</td>\n",
       "      <td>18.533</td>\n",
       "      <td>81.509</td>\n",
       "      <td>0.496</td>\n",
       "      <td>-0.157</td>\n",
       "    </tr>\n",
       "    <tr>\n",
       "      <th>4</th>\n",
       "      <td>28</td>\n",
       "      <td>total_bedrooms</td>\n",
       "      <td>18.417</td>\n",
       "      <td>81.068</td>\n",
       "      <td>-0.135</td>\n",
       "      <td>-0.697</td>\n",
       "    </tr>\n",
       "  </tbody>\n",
       "</table>\n",
       "</div>"
      ],
      "text/plain": [
       "  n_features   last_excluded    mape r2_score mape_change, %  \\\n",
       "0         32               -  18.442   81.637              0   \n",
       "1         31         extra_9  18.454    81.52          0.064   \n",
       "2         30         extra_7  18.469   81.447          0.144   \n",
       "3         29        extra_24  18.533   81.509          0.496   \n",
       "4         28  total_bedrooms  18.417   81.068         -0.135   \n",
       "\n",
       "  r2_score_change, %  \n",
       "0                  0  \n",
       "1             -0.143  \n",
       "2             -0.233  \n",
       "3             -0.157  \n",
       "4             -0.697  "
      ]
     },
     "execution_count": 25,
     "metadata": {},
     "output_type": "execute_result"
    }
   ],
   "source": [
    "gbn_res.head()"
   ]
  },
  {
   "cell_type": "code",
   "execution_count": 26,
   "id": "b6d446a1",
   "metadata": {},
   "outputs": [
    {
     "data": {
      "text/html": [
       "<div>\n",
       "<style scoped>\n",
       "    .dataframe tbody tr th:only-of-type {\n",
       "        vertical-align: middle;\n",
       "    }\n",
       "\n",
       "    .dataframe tbody tr th {\n",
       "        vertical-align: top;\n",
       "    }\n",
       "\n",
       "    .dataframe thead th {\n",
       "        text-align: right;\n",
       "    }\n",
       "</style>\n",
       "<table border=\"1\" class=\"dataframe\">\n",
       "  <thead>\n",
       "    <tr style=\"text-align: right;\">\n",
       "      <th></th>\n",
       "      <th>n_features</th>\n",
       "      <th>last_excluded</th>\n",
       "      <th>mape</th>\n",
       "      <th>r2_score</th>\n",
       "      <th>mape_change, %</th>\n",
       "      <th>r2_score_change, %</th>\n",
       "    </tr>\n",
       "  </thead>\n",
       "  <tbody>\n",
       "    <tr>\n",
       "      <th>4</th>\n",
       "      <td>28</td>\n",
       "      <td>total_bedrooms</td>\n",
       "      <td>18.417</td>\n",
       "      <td>81.068</td>\n",
       "      <td>-0.135</td>\n",
       "      <td>-0.697</td>\n",
       "    </tr>\n",
       "  </tbody>\n",
       "</table>\n",
       "</div>"
      ],
      "text/plain": [
       "  n_features   last_excluded    mape r2_score mape_change, %  \\\n",
       "4         28  total_bedrooms  18.417   81.068         -0.135   \n",
       "\n",
       "  r2_score_change, %  \n",
       "4             -0.697  "
      ]
     },
     "execution_count": 26,
     "metadata": {},
     "output_type": "execute_result"
    }
   ],
   "source": [
    "get_best_record(gbn_res, 'mape', mode='min')"
   ]
  },
  {
   "cell_type": "code",
   "execution_count": 27,
   "id": "1c1adf80",
   "metadata": {},
   "outputs": [
    {
     "data": {
      "text/html": [
       "<div>\n",
       "<style scoped>\n",
       "    .dataframe tbody tr th:only-of-type {\n",
       "        vertical-align: middle;\n",
       "    }\n",
       "\n",
       "    .dataframe tbody tr th {\n",
       "        vertical-align: top;\n",
       "    }\n",
       "\n",
       "    .dataframe thead th {\n",
       "        text-align: right;\n",
       "    }\n",
       "</style>\n",
       "<table border=\"1\" class=\"dataframe\">\n",
       "  <thead>\n",
       "    <tr style=\"text-align: right;\">\n",
       "      <th></th>\n",
       "      <th>n_features</th>\n",
       "      <th>last_excluded</th>\n",
       "      <th>mape</th>\n",
       "      <th>r2_score</th>\n",
       "      <th>mape_change, %</th>\n",
       "      <th>r2_score_change, %</th>\n",
       "    </tr>\n",
       "  </thead>\n",
       "  <tbody>\n",
       "    <tr>\n",
       "      <th>0</th>\n",
       "      <td>32</td>\n",
       "      <td>-</td>\n",
       "      <td>18.442</td>\n",
       "      <td>81.637</td>\n",
       "      <td>0</td>\n",
       "      <td>0</td>\n",
       "    </tr>\n",
       "  </tbody>\n",
       "</table>\n",
       "</div>"
      ],
      "text/plain": [
       "  n_features last_excluded    mape r2_score mape_change, % r2_score_change, %\n",
       "0         32             -  18.442   81.637              0                  0"
      ]
     },
     "execution_count": 27,
     "metadata": {},
     "output_type": "execute_result"
    }
   ],
   "source": [
    "get_best_record(gbn_res, 'r2_score')"
   ]
  },
  {
   "cell_type": "code",
   "execution_count": 61,
   "id": "c1e5ed05",
   "metadata": {},
   "outputs": [
    {
     "name": "stderr",
     "output_type": "stream",
     "text": [
      "100%|██████████| 32/32 [43:30<00:00, 81.59s/it]  \n"
     ]
    },
    {
     "data": {
      "text/html": [
       "<div>\n",
       "<style scoped>\n",
       "    .dataframe tbody tr th:only-of-type {\n",
       "        vertical-align: middle;\n",
       "    }\n",
       "\n",
       "    .dataframe tbody tr th {\n",
       "        vertical-align: top;\n",
       "    }\n",
       "\n",
       "    .dataframe thead th {\n",
       "        text-align: right;\n",
       "    }\n",
       "</style>\n",
       "<table border=\"1\" class=\"dataframe\">\n",
       "  <thead>\n",
       "    <tr style=\"text-align: right;\">\n",
       "      <th></th>\n",
       "      <th>n_features</th>\n",
       "      <th>last_excluded</th>\n",
       "      <th>mape</th>\n",
       "      <th>r2_score</th>\n",
       "      <th>mape_change, %</th>\n",
       "      <th>r2_score_change, %</th>\n",
       "    </tr>\n",
       "  </thead>\n",
       "  <tbody>\n",
       "    <tr>\n",
       "      <th>0</th>\n",
       "      <td>32</td>\n",
       "      <td>-</td>\n",
       "      <td>19.022</td>\n",
       "      <td>80.722</td>\n",
       "      <td>0</td>\n",
       "      <td>0</td>\n",
       "    </tr>\n",
       "    <tr>\n",
       "      <th>1</th>\n",
       "      <td>31</td>\n",
       "      <td>median_income</td>\n",
       "      <td>20.868</td>\n",
       "      <td>78.367</td>\n",
       "      <td>9.706</td>\n",
       "      <td>-2.917</td>\n",
       "    </tr>\n",
       "    <tr>\n",
       "      <th>2</th>\n",
       "      <td>30</td>\n",
       "      <td>extra_23</td>\n",
       "      <td>20.928</td>\n",
       "      <td>78.758</td>\n",
       "      <td>10.02</td>\n",
       "      <td>-2.433</td>\n",
       "    </tr>\n",
       "    <tr>\n",
       "      <th>3</th>\n",
       "      <td>29</td>\n",
       "      <td>extra_18</td>\n",
       "      <td>21.316</td>\n",
       "      <td>78.221</td>\n",
       "      <td>12.059</td>\n",
       "      <td>-3.098</td>\n",
       "    </tr>\n",
       "    <tr>\n",
       "      <th>4</th>\n",
       "      <td>28</td>\n",
       "      <td>extra_6</td>\n",
       "      <td>21.099</td>\n",
       "      <td>78.092</td>\n",
       "      <td>10.921</td>\n",
       "      <td>-3.259</td>\n",
       "    </tr>\n",
       "  </tbody>\n",
       "</table>\n",
       "</div>"
      ],
      "text/plain": [
       "  n_features  last_excluded    mape r2_score mape_change, % r2_score_change, %\n",
       "0         32              -  19.022   80.722              0                  0\n",
       "1         31  median_income  20.868   78.367          9.706             -2.917\n",
       "2         30       extra_23  20.928   78.758          10.02             -2.433\n",
       "3         29       extra_18  21.316   78.221         12.059             -3.098\n",
       "4         28        extra_6  21.099   78.092         10.921             -3.259"
      ]
     },
     "execution_count": 61,
     "metadata": {},
     "output_type": "execute_result"
    }
   ],
   "source": [
    "df_corr_excluded_asc_univ=elimination_experiment(model_corr, data_dict_corr, metric_dict,\n",
    "                       df_val_corr_univ, 'asc', task='regr')\n",
    "df_corr_excluded_asc_univ.head()"
   ]
  },
  {
   "cell_type": "code",
   "execution_count": 62,
   "id": "eab67dc9",
   "metadata": {},
   "outputs": [
    {
     "data": {
      "text/html": [
       "<div>\n",
       "<style scoped>\n",
       "    .dataframe tbody tr th:only-of-type {\n",
       "        vertical-align: middle;\n",
       "    }\n",
       "\n",
       "    .dataframe tbody tr th {\n",
       "        vertical-align: top;\n",
       "    }\n",
       "\n",
       "    .dataframe thead th {\n",
       "        text-align: right;\n",
       "    }\n",
       "</style>\n",
       "<table border=\"1\" class=\"dataframe\">\n",
       "  <thead>\n",
       "    <tr style=\"text-align: right;\">\n",
       "      <th></th>\n",
       "      <th>n_features</th>\n",
       "      <th>last_excluded</th>\n",
       "      <th>mape</th>\n",
       "      <th>r2_score</th>\n",
       "      <th>mape_change, %</th>\n",
       "      <th>r2_score_change, %</th>\n",
       "    </tr>\n",
       "  </thead>\n",
       "  <tbody>\n",
       "    <tr>\n",
       "      <th>0</th>\n",
       "      <td>32</td>\n",
       "      <td>-</td>\n",
       "      <td>19.022</td>\n",
       "      <td>80.722</td>\n",
       "      <td>0</td>\n",
       "      <td>0</td>\n",
       "    </tr>\n",
       "  </tbody>\n",
       "</table>\n",
       "</div>"
      ],
      "text/plain": [
       "  n_features last_excluded    mape r2_score mape_change, % r2_score_change, %\n",
       "0         32             -  19.022   80.722              0                  0"
      ]
     },
     "execution_count": 62,
     "metadata": {},
     "output_type": "execute_result"
    }
   ],
   "source": [
    "get_best_record(df_corr_excluded_asc_univ, 'mape', mode='min')"
   ]
  },
  {
   "cell_type": "code",
   "execution_count": 63,
   "id": "71c56ca0",
   "metadata": {},
   "outputs": [
    {
     "data": {
      "text/html": [
       "<div>\n",
       "<style scoped>\n",
       "    .dataframe tbody tr th:only-of-type {\n",
       "        vertical-align: middle;\n",
       "    }\n",
       "\n",
       "    .dataframe tbody tr th {\n",
       "        vertical-align: top;\n",
       "    }\n",
       "\n",
       "    .dataframe thead th {\n",
       "        text-align: right;\n",
       "    }\n",
       "</style>\n",
       "<table border=\"1\" class=\"dataframe\">\n",
       "  <thead>\n",
       "    <tr style=\"text-align: right;\">\n",
       "      <th></th>\n",
       "      <th>n_features</th>\n",
       "      <th>last_excluded</th>\n",
       "      <th>mape</th>\n",
       "      <th>r2_score</th>\n",
       "      <th>mape_change, %</th>\n",
       "      <th>r2_score_change, %</th>\n",
       "    </tr>\n",
       "  </thead>\n",
       "  <tbody>\n",
       "    <tr>\n",
       "      <th>6</th>\n",
       "      <td>26</td>\n",
       "      <td>extra_14</td>\n",
       "      <td>19.241</td>\n",
       "      <td>81.596</td>\n",
       "      <td>1.153</td>\n",
       "      <td>1.082</td>\n",
       "    </tr>\n",
       "  </tbody>\n",
       "</table>\n",
       "</div>"
      ],
      "text/plain": [
       "  n_features last_excluded    mape r2_score mape_change, % r2_score_change, %\n",
       "6         26      extra_14  19.241   81.596          1.153              1.082"
      ]
     },
     "execution_count": 63,
     "metadata": {},
     "output_type": "execute_result"
    }
   ],
   "source": [
    "get_best_record(df_corr_excluded_asc_univ, 'r2_score')"
   ]
  },
  {
   "cell_type": "code",
   "execution_count": 64,
   "id": "56c0f60c",
   "metadata": {},
   "outputs": [
    {
     "name": "stderr",
     "output_type": "stream",
     "text": [
      "100%|██████████| 32/32 [27:44<00:00, 52.02s/it]  \n"
     ]
    },
    {
     "data": {
      "text/html": [
       "<div>\n",
       "<style scoped>\n",
       "    .dataframe tbody tr th:only-of-type {\n",
       "        vertical-align: middle;\n",
       "    }\n",
       "\n",
       "    .dataframe tbody tr th {\n",
       "        vertical-align: top;\n",
       "    }\n",
       "\n",
       "    .dataframe thead th {\n",
       "        text-align: right;\n",
       "    }\n",
       "</style>\n",
       "<table border=\"1\" class=\"dataframe\">\n",
       "  <thead>\n",
       "    <tr style=\"text-align: right;\">\n",
       "      <th></th>\n",
       "      <th>n_features</th>\n",
       "      <th>last_excluded</th>\n",
       "      <th>mape</th>\n",
       "      <th>r2_score</th>\n",
       "      <th>mape_change, %</th>\n",
       "      <th>r2_score_change, %</th>\n",
       "    </tr>\n",
       "  </thead>\n",
       "  <tbody>\n",
       "    <tr>\n",
       "      <th>0</th>\n",
       "      <td>32</td>\n",
       "      <td>-</td>\n",
       "      <td>18.999</td>\n",
       "      <td>80.767</td>\n",
       "      <td>0</td>\n",
       "      <td>0</td>\n",
       "    </tr>\n",
       "    <tr>\n",
       "      <th>1</th>\n",
       "      <td>31</td>\n",
       "      <td>extra_19</td>\n",
       "      <td>18.875</td>\n",
       "      <td>80.938</td>\n",
       "      <td>-0.654</td>\n",
       "      <td>0.212</td>\n",
       "    </tr>\n",
       "    <tr>\n",
       "      <th>2</th>\n",
       "      <td>30</td>\n",
       "      <td>extra_7</td>\n",
       "      <td>18.893</td>\n",
       "      <td>81.275</td>\n",
       "      <td>-0.556</td>\n",
       "      <td>0.629</td>\n",
       "    </tr>\n",
       "    <tr>\n",
       "      <th>3</th>\n",
       "      <td>29</td>\n",
       "      <td>extra_17</td>\n",
       "      <td>18.815</td>\n",
       "      <td>80.995</td>\n",
       "      <td>-0.967</td>\n",
       "      <td>0.283</td>\n",
       "    </tr>\n",
       "    <tr>\n",
       "      <th>4</th>\n",
       "      <td>28</td>\n",
       "      <td>extra_8</td>\n",
       "      <td>18.934</td>\n",
       "      <td>80.781</td>\n",
       "      <td>-0.342</td>\n",
       "      <td>0.017</td>\n",
       "    </tr>\n",
       "  </tbody>\n",
       "</table>\n",
       "</div>"
      ],
      "text/plain": [
       "  n_features last_excluded    mape r2_score mape_change, % r2_score_change, %\n",
       "0         32             -  18.999   80.767              0                  0\n",
       "1         31      extra_19  18.875   80.938         -0.654              0.212\n",
       "2         30       extra_7  18.893   81.275         -0.556              0.629\n",
       "3         29      extra_17  18.815   80.995         -0.967              0.283\n",
       "4         28       extra_8  18.934   80.781         -0.342              0.017"
      ]
     },
     "execution_count": 64,
     "metadata": {},
     "output_type": "execute_result"
    }
   ],
   "source": [
    "df_corr_excluded_rfe=elimination_experiment(model_corr, data_dict_corr, metric_dict,\n",
    "                       df_val_corr_rfe, 'desc', task='regr')\n",
    "df_corr_excluded_rfe.head()"
   ]
  },
  {
   "cell_type": "code",
   "execution_count": 65,
   "id": "7979f672",
   "metadata": {},
   "outputs": [
    {
     "data": {
      "text/html": [
       "<div>\n",
       "<style scoped>\n",
       "    .dataframe tbody tr th:only-of-type {\n",
       "        vertical-align: middle;\n",
       "    }\n",
       "\n",
       "    .dataframe tbody tr th {\n",
       "        vertical-align: top;\n",
       "    }\n",
       "\n",
       "    .dataframe thead th {\n",
       "        text-align: right;\n",
       "    }\n",
       "</style>\n",
       "<table border=\"1\" class=\"dataframe\">\n",
       "  <thead>\n",
       "    <tr style=\"text-align: right;\">\n",
       "      <th></th>\n",
       "      <th>n_features</th>\n",
       "      <th>last_excluded</th>\n",
       "      <th>mape</th>\n",
       "      <th>r2_score</th>\n",
       "      <th>mape_change, %</th>\n",
       "      <th>r2_score_change, %</th>\n",
       "    </tr>\n",
       "  </thead>\n",
       "  <tbody>\n",
       "    <tr>\n",
       "      <th>29</th>\n",
       "      <td>3</td>\n",
       "      <td>housing_median_age</td>\n",
       "      <td>18.185</td>\n",
       "      <td>81.97</td>\n",
       "      <td>-4.286</td>\n",
       "      <td>1.49</td>\n",
       "    </tr>\n",
       "  </tbody>\n",
       "</table>\n",
       "</div>"
      ],
      "text/plain": [
       "   n_features       last_excluded    mape r2_score mape_change, %  \\\n",
       "29          3  housing_median_age  18.185    81.97         -4.286   \n",
       "\n",
       "   r2_score_change, %  \n",
       "29               1.49  "
      ]
     },
     "execution_count": 65,
     "metadata": {},
     "output_type": "execute_result"
    }
   ],
   "source": [
    "get_best_record(df_corr_excluded_rfe, 'mape', mode='min')"
   ]
  },
  {
   "cell_type": "code",
   "execution_count": 66,
   "id": "8d6a0be3",
   "metadata": {},
   "outputs": [
    {
     "data": {
      "text/html": [
       "<div>\n",
       "<style scoped>\n",
       "    .dataframe tbody tr th:only-of-type {\n",
       "        vertical-align: middle;\n",
       "    }\n",
       "\n",
       "    .dataframe tbody tr th {\n",
       "        vertical-align: top;\n",
       "    }\n",
       "\n",
       "    .dataframe thead th {\n",
       "        text-align: right;\n",
       "    }\n",
       "</style>\n",
       "<table border=\"1\" class=\"dataframe\">\n",
       "  <thead>\n",
       "    <tr style=\"text-align: right;\">\n",
       "      <th></th>\n",
       "      <th>n_features</th>\n",
       "      <th>last_excluded</th>\n",
       "      <th>mape</th>\n",
       "      <th>r2_score</th>\n",
       "      <th>mape_change, %</th>\n",
       "      <th>r2_score_change, %</th>\n",
       "    </tr>\n",
       "  </thead>\n",
       "  <tbody>\n",
       "    <tr>\n",
       "      <th>29</th>\n",
       "      <td>3</td>\n",
       "      <td>housing_median_age</td>\n",
       "      <td>18.185</td>\n",
       "      <td>81.97</td>\n",
       "      <td>-4.286</td>\n",
       "      <td>1.49</td>\n",
       "    </tr>\n",
       "  </tbody>\n",
       "</table>\n",
       "</div>"
      ],
      "text/plain": [
       "   n_features       last_excluded    mape r2_score mape_change, %  \\\n",
       "29          3  housing_median_age  18.185    81.97         -4.286   \n",
       "\n",
       "   r2_score_change, %  \n",
       "29               1.49  "
      ]
     },
     "execution_count": 66,
     "metadata": {},
     "output_type": "execute_result"
    }
   ],
   "source": [
    "get_best_record(df_corr_excluded_rfe, 'r2_score')"
   ]
  },
  {
   "cell_type": "code",
   "execution_count": 67,
   "id": "8cc01c98",
   "metadata": {},
   "outputs": [
    {
     "data": {
      "text/plain": [
       "[18.586, 81.392]"
      ]
     },
     "execution_count": 67,
     "metadata": {},
     "output_type": "execute_result"
    }
   ],
   "source": [
    "single_run(model_corr, data_dict_corr, lasso_support, target, metric_dict, task='regr')"
   ]
  },
  {
   "cell_type": "code",
   "execution_count": null,
   "id": "d6799715",
   "metadata": {},
   "outputs": [],
   "source": [
    "#logging mape (probably woth to be negative mape)\n",
    "0.5 random, base 18.467, gbn 17.877, univ 18.467, rfe 18.103 , lasso: 17.89\n",
    "0.75 random, base 19.137, gbn 18.346, univ 19.137, rfe 18.239 , lasso: 18.338\n",
    "0.5 noisy, base 18.337, gbn 17.927, univ 18.337, rfe  18.109, lasso: 18.221\n",
    "0.75 noisy, base 18.442, gbn 17.960, univ 18.442, rfe  18.185, lasso: 18.586\n",
    "0.5 prod, base 17.865, gbn 17.865, univ 17.865, rfe 17.802, lasso: 17.762\n",
    "0.75 prod, base 18.442, gbn 18.417, univ 18.382, rfe 18.029, lasso: 18.585\n"
   ]
  },
  {
   "cell_type": "code",
   "execution_count": null,
   "id": "b7996a30",
   "metadata": {},
   "outputs": [],
   "source": [
    "# logging r2_score\n",
    "0.5 random, base 81.675, gbn 82.667, univ 81.675, rfe  82.27, lasso: 82.616 \n",
    "0.75 random, base 80.482, gbn 81.832, univ 80.619, rfe  82.188, lasso: 81.806\n",
    "0.5 noisy, base 81.813, gbn 82.479, univ 81.863, rfe  82.047, lasso: 81.88\n",
    "0.75 noisy, base 81.637, gbn 82.039, univ 81.596, rfe  81.97, lasso: 81.392\n",
    "0.5 prod, base 81.97, gbn 81.97, univ 82.176, rfe 82.438, lasso: 82.363\n",
    "0.75 prod, base 81.637, gbn 81.637, univ 81.704, rfe 82.364, lasso: 80.941\n"
   ]
  },
  {
   "cell_type": "code",
   "execution_count": null,
   "id": "ff9f0696",
   "metadata": {},
   "outputs": [],
   "source": [
    "# #logging mape\n",
    "# 0.5 random, base 17.877, gbn 80.075, univ 79.953, rfe 79.953, lasso: 79.944\n",
    "# 0.75 random, base 80.119, gbn 80.55\t, univ 80.119, rfe 80.119, lasso: 80.242\n",
    "\n",
    "# 0.5 noisy base 80.42, gbn 80.58\t, univ 80.42, rfe 80.578, lasso: 80.515\n",
    "# 0.75 noisy base 80.264, gbn 80.311, univ 80.264, rfe 80.264, lasso: 80.633\n",
    "\n",
    "# 0.5 prod base 80.007, gbn 80.203\t, univ 80.022, rfe 80.448, lasso: 80.422\n",
    "# 0.75 prod base 80.36, gbn 80.422\t, univ 80.549, rfe 80.542, lasso: 80.316\n"
   ]
  }
 ],
 "metadata": {
  "kernelspec": {
   "display_name": "venv",
   "language": "python",
   "name": "python3"
  },
  "language_info": {
   "codemirror_mode": {
    "name": "ipython",
    "version": 3
   },
   "file_extension": ".py",
   "mimetype": "text/x-python",
   "name": "python",
   "nbconvert_exporter": "python",
   "pygments_lexer": "ipython3",
   "version": "3.10.11"
  }
 },
 "nbformat": 4,
 "nbformat_minor": 5
}
