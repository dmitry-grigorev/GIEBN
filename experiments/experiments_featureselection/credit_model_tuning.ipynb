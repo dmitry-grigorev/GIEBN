{
 "cells": [
  {
   "cell_type": "code",
   "execution_count": 1,
   "id": "8882312b",
   "metadata": {},
   "outputs": [
    {
     "name": "stdout",
     "output_type": "stream",
     "text": [
      "Requirement already satisfied: optuna in c:\\users\\user\\pycharmprojects\\giebn\\venv\\lib\\site-packages (3.3.0)\n",
      "Requirement already satisfied: alembic>=1.5.0 in c:\\users\\user\\pycharmprojects\\giebn\\venv\\lib\\site-packages (from optuna) (1.12.0)\n",
      "Requirement already satisfied: cmaes>=0.10.0 in c:\\users\\user\\pycharmprojects\\giebn\\venv\\lib\\site-packages (from optuna) (0.10.0)\n",
      "Requirement already satisfied: colorlog in c:\\users\\user\\pycharmprojects\\giebn\\venv\\lib\\site-packages (from optuna) (6.7.0)\n",
      "Requirement already satisfied: numpy in c:\\users\\user\\pycharmprojects\\giebn\\venv\\lib\\site-packages (from optuna) (1.25.2)\n",
      "Requirement already satisfied: packaging>=20.0 in c:\\users\\user\\pycharmprojects\\giebn\\venv\\lib\\site-packages (from optuna) (23.1)\n",
      "Requirement already satisfied: sqlalchemy>=1.3.0 in c:\\users\\user\\pycharmprojects\\giebn\\venv\\lib\\site-packages (from optuna) (2.0.20)\n",
      "Requirement already satisfied: tqdm in c:\\users\\user\\pycharmprojects\\giebn\\venv\\lib\\site-packages (from optuna) (4.65.2)\n",
      "Requirement already satisfied: PyYAML in c:\\users\\user\\pycharmprojects\\giebn\\venv\\lib\\site-packages (from optuna) (6.0.1)\n",
      "Requirement already satisfied: Mako in c:\\users\\user\\pycharmprojects\\giebn\\venv\\lib\\site-packages (from alembic>=1.5.0->optuna) (1.2.4)\n",
      "Requirement already satisfied: typing-extensions>=4 in c:\\users\\user\\pycharmprojects\\giebn\\venv\\lib\\site-packages (from alembic>=1.5.0->optuna) (4.7.1)\n",
      "Requirement already satisfied: greenlet!=0.4.17 in c:\\users\\user\\pycharmprojects\\giebn\\venv\\lib\\site-packages (from sqlalchemy>=1.3.0->optuna) (2.0.2)\n",
      "Requirement already satisfied: colorama in c:\\users\\user\\pycharmprojects\\giebn\\venv\\lib\\site-packages (from colorlog->optuna) (0.4.6)\n",
      "Requirement already satisfied: MarkupSafe>=0.9.2 in c:\\users\\user\\pycharmprojects\\giebn\\venv\\lib\\site-packages (from Mako->alembic>=1.5.0->optuna) (2.1.3)\n"
     ]
    },
    {
     "name": "stderr",
     "output_type": "stream",
     "text": [
      "\n",
      "[notice] A new release of pip is available: 25.0 -> 25.0.1\n",
      "[notice] To update, run: python.exe -m pip install --upgrade pip\n"
     ]
    }
   ],
   "source": [
    "! pip install optuna"
   ]
  },
  {
   "cell_type": "code",
   "execution_count": 5,
   "id": "902eedd4",
   "metadata": {},
   "outputs": [],
   "source": [
    "from sklearn.linear_model import LogisticRegression\n",
    "from sklearn.ensemble import GradientBoostingClassifier\n",
    "import pandas as pd\n",
    "import numpy as np\n",
    "import matplotlib.pyplot as plt\n",
    "import seaborn as sns\n",
    "from sklearn.preprocessing import KBinsDiscretizer, FunctionTransformer, OrdinalEncoder, OneHotEncoder\n",
    "from sklearn.pipeline import make_pipeline, make_union\n",
    "from sklearn.datasets import make_regression\n",
    "from sklearn import metrics as m\n",
    "from sklearn.model_selection import train_test_split\n",
    "\n",
    "from pgmpy.factors.discrete.CPD import TabularCPD\n",
    "from pgmpy.models import BayesianNetwork\n",
    "import yodo.yodo\n",
    "import matplotlib.pyplot as plt\n",
    "from pgmpy.estimators import PC, BicScore, K2Score\n",
    "from pgmpy.inference import VariableElimination\n",
    "\n",
    "import shap\n",
    "import optuna"
   ]
  },
  {
   "cell_type": "code",
   "execution_count": 3,
   "id": "45b4d2e4",
   "metadata": {},
   "outputs": [
    {
     "name": "stdout",
     "output_type": "stream",
     "text": [
      "Index(['RevolvingUtilizationOfUnsecuredLines', 'age',\n",
      "       'NumberOfTime30-59DaysPastDueNotWorse', 'DebtRatio', 'MonthlyIncome',\n",
      "       'NumberOfOpenCreditLinesAndLoans', 'NumberOfTimes90DaysLate',\n",
      "       'NumberRealEstateLoansOrLines', 'NumberOfTime60-89DaysPastDueNotWorse',\n",
      "       'NumberOfDependents', 'SeriousDlqin2yrs'],\n",
      "      dtype='object')\n"
     ]
    },
    {
     "data": {
      "text/html": [
       "<div>\n",
       "<style scoped>\n",
       "    .dataframe tbody tr th:only-of-type {\n",
       "        vertical-align: middle;\n",
       "    }\n",
       "\n",
       "    .dataframe tbody tr th {\n",
       "        vertical-align: top;\n",
       "    }\n",
       "\n",
       "    .dataframe thead th {\n",
       "        text-align: right;\n",
       "    }\n",
       "</style>\n",
       "<table border=\"1\" class=\"dataframe\">\n",
       "  <thead>\n",
       "    <tr style=\"text-align: right;\">\n",
       "      <th></th>\n",
       "      <th>RevolvingUtilizationOfUnsecuredLines</th>\n",
       "      <th>age</th>\n",
       "      <th>DebtRatio</th>\n",
       "      <th>MonthlyIncome</th>\n",
       "      <th>NumberOfOpenCreditLinesAndLoans</th>\n",
       "      <th>NumberRealEstateLoansOrLines</th>\n",
       "      <th>NumberOfDependents</th>\n",
       "      <th>default</th>\n",
       "    </tr>\n",
       "  </thead>\n",
       "  <tbody>\n",
       "    <tr>\n",
       "      <th>0</th>\n",
       "      <td>0.006999</td>\n",
       "      <td>38</td>\n",
       "      <td>0.302150</td>\n",
       "      <td>5440.0</td>\n",
       "      <td>4</td>\n",
       "      <td>1</td>\n",
       "      <td>3</td>\n",
       "      <td>0</td>\n",
       "    </tr>\n",
       "    <tr>\n",
       "      <th>1</th>\n",
       "      <td>0.704592</td>\n",
       "      <td>63</td>\n",
       "      <td>0.471441</td>\n",
       "      <td>8000.0</td>\n",
       "      <td>9</td>\n",
       "      <td>1</td>\n",
       "      <td>0</td>\n",
       "      <td>0</td>\n",
       "    </tr>\n",
       "    <tr>\n",
       "      <th>2</th>\n",
       "      <td>0.063113</td>\n",
       "      <td>57</td>\n",
       "      <td>0.068586</td>\n",
       "      <td>5000.0</td>\n",
       "      <td>17</td>\n",
       "      <td>0</td>\n",
       "      <td>0</td>\n",
       "      <td>0</td>\n",
       "    </tr>\n",
       "    <tr>\n",
       "      <th>3</th>\n",
       "      <td>0.368397</td>\n",
       "      <td>68</td>\n",
       "      <td>0.296273</td>\n",
       "      <td>6250.0</td>\n",
       "      <td>16</td>\n",
       "      <td>2</td>\n",
       "      <td>0</td>\n",
       "      <td>0</td>\n",
       "    </tr>\n",
       "    <tr>\n",
       "      <th>4</th>\n",
       "      <td>1.000000</td>\n",
       "      <td>34</td>\n",
       "      <td>0.000000</td>\n",
       "      <td>3500.0</td>\n",
       "      <td>0</td>\n",
       "      <td>0</td>\n",
       "      <td>1</td>\n",
       "      <td>0</td>\n",
       "    </tr>\n",
       "    <tr>\n",
       "      <th>5</th>\n",
       "      <td>0.051799</td>\n",
       "      <td>63</td>\n",
       "      <td>0.770687</td>\n",
       "      <td>4700.0</td>\n",
       "      <td>16</td>\n",
       "      <td>1</td>\n",
       "      <td>1</td>\n",
       "      <td>0</td>\n",
       "    </tr>\n",
       "    <tr>\n",
       "      <th>6</th>\n",
       "      <td>0.648733</td>\n",
       "      <td>40</td>\n",
       "      <td>0.402060</td>\n",
       "      <td>6600.0</td>\n",
       "      <td>10</td>\n",
       "      <td>2</td>\n",
       "      <td>3</td>\n",
       "      <td>0</td>\n",
       "    </tr>\n",
       "    <tr>\n",
       "      <th>7</th>\n",
       "      <td>0.767270</td>\n",
       "      <td>33</td>\n",
       "      <td>0.338390</td>\n",
       "      <td>5800.0</td>\n",
       "      <td>10</td>\n",
       "      <td>0</td>\n",
       "      <td>3</td>\n",
       "      <td>0</td>\n",
       "    </tr>\n",
       "    <tr>\n",
       "      <th>8</th>\n",
       "      <td>0.190111</td>\n",
       "      <td>27</td>\n",
       "      <td>0.164605</td>\n",
       "      <td>3960.0</td>\n",
       "      <td>6</td>\n",
       "      <td>0</td>\n",
       "      <td>1</td>\n",
       "      <td>0</td>\n",
       "    </tr>\n",
       "    <tr>\n",
       "      <th>9</th>\n",
       "      <td>0.139989</td>\n",
       "      <td>65</td>\n",
       "      <td>0.258397</td>\n",
       "      <td>6400.0</td>\n",
       "      <td>6</td>\n",
       "      <td>1</td>\n",
       "      <td>0</td>\n",
       "      <td>0</td>\n",
       "    </tr>\n",
       "  </tbody>\n",
       "</table>\n",
       "</div>"
      ],
      "text/plain": [
       "   RevolvingUtilizationOfUnsecuredLines  age  DebtRatio  MonthlyIncome  \\\n",
       "0                              0.006999   38   0.302150         5440.0   \n",
       "1                              0.704592   63   0.471441         8000.0   \n",
       "2                              0.063113   57   0.068586         5000.0   \n",
       "3                              0.368397   68   0.296273         6250.0   \n",
       "4                              1.000000   34   0.000000         3500.0   \n",
       "5                              0.051799   63   0.770687         4700.0   \n",
       "6                              0.648733   40   0.402060         6600.0   \n",
       "7                              0.767270   33   0.338390         5800.0   \n",
       "8                              0.190111   27   0.164605         3960.0   \n",
       "9                              0.139989   65   0.258397         6400.0   \n",
       "\n",
       "   NumberOfOpenCreditLinesAndLoans  NumberRealEstateLoansOrLines  \\\n",
       "0                                4                             1   \n",
       "1                                9                             1   \n",
       "2                               17                             0   \n",
       "3                               16                             2   \n",
       "4                                0                             0   \n",
       "5                               16                             1   \n",
       "6                               10                             2   \n",
       "7                               10                             0   \n",
       "8                                6                             0   \n",
       "9                                6                             1   \n",
       "\n",
       "   NumberOfDependents  default  \n",
       "0                   3        0  \n",
       "1                   0        0  \n",
       "2                   0        0  \n",
       "3                   0        0  \n",
       "4                   1        0  \n",
       "5                   1        0  \n",
       "6                   3        0  \n",
       "7                   3        0  \n",
       "8                   1        0  \n",
       "9                   0        0  "
      ]
     },
     "execution_count": 3,
     "metadata": {},
     "output_type": "execute_result"
    }
   ],
   "source": [
    "data = pd.read_csv(\"../../datasets/credit.csv\")\n",
    "print(data.columns)\n",
    "#data = data.reset_index().drop(columns=[\"index\"])\n",
    "n_features = data.shape[1]-1\n",
    "n = data.shape[0]\n",
    "data[\"default\"] = (data[\"NumberOfTimes90DaysLate\"] > 0).astype(int)\n",
    "data.drop(columns=[\"NumberOfTimes90DaysLate\", 'NumberOfTime60-89DaysPastDueNotWorse', 'SeriousDlqin2yrs',\n",
    "                   'NumberOfTime30-59DaysPastDueNotWorse'], inplace=True)\n",
    "n_features = data.shape[1]-1\n",
    "n = data.shape[0]\n",
    "data.rename(columns={feat: \"\".join(feat.split(\"-\")) for feat in data.columns}, inplace=True)\n",
    "target = \"default\"\n",
    "features = data.columns.difference([target]).tolist()\n",
    "\n",
    "data.head(10)"
   ]
  },
  {
   "cell_type": "code",
   "execution_count": 4,
   "id": "90ec17f3",
   "metadata": {},
   "outputs": [
    {
     "data": {
      "text/plain": [
       "(0.18476190476190477, 0.18488972313467855, 0.18460925039872408)"
      ]
     },
     "execution_count": 4,
     "metadata": {},
     "output_type": "execute_result"
    }
   ],
   "source": [
    "data_tv, data_test = train_test_split(data, test_size=0.15, random_state=42,\n",
    "                                      stratify=data[target])\n",
    "\n",
    "data_train, data_val = train_test_split(data_tv, test_size=0.15, random_state=42,\n",
    "                                      stratify=data_tv[target])\n",
    "\n",
    "data_train[target].mean(), data_val[target].mean() , data_test[target].mean()"
   ]
  },
  {
   "cell_type": "code",
   "execution_count": null,
   "id": "24c86b7e",
   "metadata": {},
   "outputs": [],
   "source": [
    "# подберём параметры n_estimators, learning rate, max_depth\n",
    "GradientBoostingClassifier()"
   ]
  },
  {
   "cell_type": "code",
   "execution_count": 6,
   "id": "2e09db0b",
   "metadata": {},
   "outputs": [
    {
     "data": {
      "text/plain": [
       "['DebtRatio',\n",
       " 'MonthlyIncome',\n",
       " 'NumberOfDependents',\n",
       " 'NumberOfOpenCreditLinesAndLoans',\n",
       " 'NumberRealEstateLoansOrLines',\n",
       " 'RevolvingUtilizationOfUnsecuredLines',\n",
       " 'age']"
      ]
     },
     "execution_count": 6,
     "metadata": {},
     "output_type": "execute_result"
    }
   ],
   "source": [
    "features"
   ]
  },
  {
   "cell_type": "code",
   "execution_count": 17,
   "id": "8bba9ea4",
   "metadata": {},
   "outputs": [],
   "source": [
    "params_net = {\n",
    "    'n_estimators': [10, 100],\n",
    "    'max_depth': [3, 10],\n",
    "    'learning_rate':[1e-5, 1]\n",
    "}\n",
    "\n",
    "def score(model, X, y):\n",
    "    y_pred = model.predict_proba(X)[:, 1]\n",
    "    return m.roc_auc_score(y, y_pred)\n",
    "\n",
    "def objective(trial, features, target):\n",
    "    n_estimators= trial.suggest_int(\"n_estimators\", low=params_net['n_estimators'][0], high=params_net['n_estimators'][1], step=1)\n",
    "    max_depth= trial.suggest_int(\"max_depth\", low=params_net['max_depth'][0], high=params_net['max_depth'][1], step=1)\n",
    "    learning_rate=trial.suggest_float(\"learning_rate\", low=params_net['learning_rate'][0], high=params_net['learning_rate'][1],log=True)\n",
    "    \n",
    "    clf = GradientBoostingClassifier(random_state=42, n_estimators=n_estimators,\n",
    "                                     max_depth=max_depth, learning_rate=learning_rate)\n",
    "    clf.fit(data_train[features], data_train[target])\n",
    "    return score(clf, data_val[features], data_val[target])"
   ]
  },
  {
   "cell_type": "code",
   "execution_count": 18,
   "id": "3f105b26",
   "metadata": {},
   "outputs": [
    {
     "name": "stderr",
     "output_type": "stream",
     "text": [
      "[I 2025-04-15 23:11:42,591] A new study created in memory with name: no-name-881f4f3f-baed-4725-982a-763194f3feb6\n",
      "[I 2025-04-15 23:11:53,121] Trial 0 finished with value: 0.7226642294170765 and parameters: {'n_estimators': 64, 'max_depth': 9, 'learning_rate': 0.0014889385648724077}. Best is trial 0 with value: 0.7226642294170765.\n",
      "[I 2025-04-15 23:12:07,054] Trial 1 finished with value: 0.7439251407847711 and parameters: {'n_estimators': 96, 'max_depth': 9, 'learning_rate': 0.4106997985910941}. Best is trial 1 with value: 0.7439251407847711.\n",
      "[I 2025-04-15 23:12:10,476] Trial 2 finished with value: 0.7063099632074672 and parameters: {'n_estimators': 21, 'max_depth': 9, 'learning_rate': 1.3930156276278107e-05}. Best is trial 1 with value: 0.7439251407847711.\n",
      "[I 2025-04-15 23:12:19,910] Trial 3 finished with value: 0.7654424893845214 and parameters: {'n_estimators': 65, 'max_depth': 9, 'learning_rate': 0.10362913159912819}. Best is trial 3 with value: 0.7654424893845214.\n",
      "[I 2025-04-15 23:12:21,551] Trial 4 finished with value: 0.7665990139951899 and parameters: {'n_estimators': 22, 'max_depth': 5, 'learning_rate': 0.0003709811390223118}. Best is trial 4 with value: 0.7665990139951899.\n",
      "[I 2025-04-15 23:12:32,823] Trial 5 finished with value: 0.750851868411901 and parameters: {'n_estimators': 75, 'max_depth': 9, 'learning_rate': 0.0066270035320457705}. Best is trial 4 with value: 0.7665990139951899.\n",
      "[I 2025-04-15 23:12:37,019] Trial 6 finished with value: 0.7665858633679049 and parameters: {'n_estimators': 54, 'max_depth': 5, 'learning_rate': 0.0003373605295854541}. Best is trial 4 with value: 0.7665990139951899.\n",
      "[I 2025-04-15 23:12:42,271] Trial 7 finished with value: 0.7468029363889548 and parameters: {'n_estimators': 43, 'max_depth': 7, 'learning_rate': 0.00023432579132792568}. Best is trial 4 with value: 0.7665990139951899.\n",
      "[I 2025-04-15 23:12:52,905] Trial 8 finished with value: 0.7035483314776337 and parameters: {'n_estimators': 56, 'max_depth': 10, 'learning_rate': 0.0006068973850605786}. Best is trial 4 with value: 0.7665990139951899.\n",
      "[I 2025-04-15 23:13:00,314] Trial 9 finished with value: 0.7064750766389335 and parameters: {'n_estimators': 42, 'max_depth': 9, 'learning_rate': 1.9043156259606888e-05}. Best is trial 4 with value: 0.7665990139951899.\n",
      "[I 2025-04-15 23:13:00,908] Trial 10 finished with value: 0.7701401856868573 and parameters: {'n_estimators': 11, 'max_depth': 3, 'learning_rate': 0.01190888895236748}. Best is trial 10 with value: 0.7701401856868573.\n",
      "[I 2025-04-15 23:13:01,632] Trial 11 finished with value: 0.7698881319972296 and parameters: {'n_estimators': 13, 'max_depth': 3, 'learning_rate': 0.007540109609320903}. Best is trial 10 with value: 0.7701401856868573.\n",
      "[I 2025-04-15 23:13:02,164] Trial 12 finished with value: 0.7717292198171186 and parameters: {'n_estimators': 10, 'max_depth': 3, 'learning_rate': 0.016097073935939305}. Best is trial 12 with value: 0.7717292198171186.\n",
      "[I 2025-04-15 23:13:03,870] Trial 13 finished with value: 0.7814862546721257 and parameters: {'n_estimators': 32, 'max_depth': 3, 'learning_rate': 0.03154370790367034}. Best is trial 13 with value: 0.7814862546721257.\n",
      "[I 2025-04-15 23:13:06,068] Trial 14 finished with value: 0.7814497251518898 and parameters: {'n_estimators': 30, 'max_depth': 4, 'learning_rate': 0.03452799239629701}. Best is trial 13 with value: 0.7814862546721257.\n",
      "[I 2025-04-15 23:13:08,935] Trial 15 finished with value: 0.7835041453699564 and parameters: {'n_estimators': 34, 'max_depth': 5, 'learning_rate': 0.04500759591543532}. Best is trial 15 with value: 0.7835041453699564.\n",
      "[I 2025-04-15 23:13:12,820] Trial 16 finished with value: 0.7791125664471973 and parameters: {'n_estimators': 38, 'max_depth': 6, 'learning_rate': 0.10337392750316474}. Best is trial 15 with value: 0.7835041453699564.\n",
      "[I 2025-04-15 23:13:15,278] Trial 17 finished with value: 0.754044548480518 and parameters: {'n_estimators': 30, 'max_depth': 5, 'learning_rate': 0.6773656267128447}. Best is trial 15 with value: 0.7835041453699564.\n",
      "[I 2025-04-15 23:13:19,227] Trial 18 finished with value: 0.777531568811388 and parameters: {'n_estimators': 33, 'max_depth': 7, 'learning_rate': 0.10615898783106265}. Best is trial 15 with value: 0.7835041453699564.\n",
      "[I 2025-04-15 23:13:22,612] Trial 19 finished with value: 0.7726256542437074 and parameters: {'n_estimators': 48, 'max_depth': 4, 'learning_rate': 0.0027231609019267005}. Best is trial 15 with value: 0.7835041453699564.\n",
      "[I 2025-04-15 23:13:28,274] Trial 20 finished with value: 0.7865353649591307 and parameters: {'n_estimators': 83, 'max_depth': 4, 'learning_rate': 0.04088054136383381}. Best is trial 20 with value: 0.7865353649591307.\n",
      "[I 2025-04-15 23:13:34,793] Trial 21 finished with value: 0.7864140869519476 and parameters: {'n_estimators': 93, 'max_depth': 4, 'learning_rate': 0.04824124583621131}. Best is trial 20 with value: 0.7865353649591307.\n",
      "[I 2025-04-15 23:13:41,384] Trial 22 finished with value: 0.7738428178579675 and parameters: {'n_estimators': 99, 'max_depth': 4, 'learning_rate': 0.25556953593227605}. Best is trial 20 with value: 0.7865353649591307.\n",
      "[I 2025-04-15 23:13:50,647] Trial 23 finished with value: 0.7835092595027895 and parameters: {'n_estimators': 87, 'max_depth': 6, 'learning_rate': 0.04372379858382287}. Best is trial 20 with value: 0.7865353649591307.\n",
      "[I 2025-04-15 23:13:59,394] Trial 24 finished with value: 0.760793012048897 and parameters: {'n_estimators': 87, 'max_depth': 6, 'learning_rate': 0.2312098385752991}. Best is trial 20 with value: 0.7865353649591307.\n",
      "[I 2025-04-15 23:14:08,706] Trial 25 finished with value: 0.7832418634146627 and parameters: {'n_estimators': 84, 'max_depth': 6, 'learning_rate': 0.020601896099818936}. Best is trial 20 with value: 0.7865353649591307.\n",
      "[I 2025-04-15 23:14:14,668] Trial 26 finished with value: 0.7338057330890239 and parameters: {'n_estimators': 87, 'max_depth': 4, 'learning_rate': 0.8533906190641115}. Best is trial 20 with value: 0.7865353649591307.\n",
      "[I 2025-04-15 23:14:24,121] Trial 27 finished with value: 0.7816645187308767 and parameters: {'n_estimators': 75, 'max_depth': 7, 'learning_rate': 0.07034287380584002}. Best is trial 20 with value: 0.7865353649591307.\n",
      "[I 2025-04-15 23:14:37,073] Trial 28 finished with value: 0.7525344181139664 and parameters: {'n_estimators': 92, 'max_depth': 8, 'learning_rate': 0.18951577389570637}. Best is trial 20 with value: 0.7865353649591307.\n",
      "[I 2025-04-15 23:14:42,611] Trial 29 finished with value: 0.7865083331141562 and parameters: {'n_estimators': 75, 'max_depth': 4, 'learning_rate': 0.04668451485379426}. Best is trial 20 with value: 0.7865353649591307.\n",
      "[I 2025-04-15 23:14:48,041] Trial 30 finished with value: 0.7770734886276297 and parameters: {'n_estimators': 77, 'max_depth': 4, 'learning_rate': 0.005734274949802453}. Best is trial 20 with value: 0.7865353649591307.\n",
      "[I 2025-04-15 23:14:54,332] Trial 31 finished with value: 0.7847045054049078 and parameters: {'n_estimators': 69, 'max_depth': 5, 'learning_rate': 0.05566851783087496}. Best is trial 20 with value: 0.7865353649591307.\n",
      "[I 2025-04-15 23:15:00,168] Trial 32 finished with value: 0.7833309954440383 and parameters: {'n_estimators': 67, 'max_depth': 5, 'learning_rate': 0.020986439942350794}. Best is trial 20 with value: 0.7865353649591307.\n",
      "[I 2025-04-15 23:15:05,623] Trial 33 finished with value: 0.7864922601252524 and parameters: {'n_estimators': 80, 'max_depth': 4, 'learning_rate': 0.06113090595835015}. Best is trial 20 with value: 0.7865353649591307.\n",
      "[I 2025-04-15 23:15:11,582] Trial 34 finished with value: 0.772678256752847 and parameters: {'n_estimators': 80, 'max_depth': 4, 'learning_rate': 0.41512043710216495}. Best is trial 20 with value: 0.7865353649591307.\n",
      "[I 2025-04-15 23:15:16,216] Trial 35 finished with value: 0.787671433038467 and parameters: {'n_estimators': 94, 'max_depth': 3, 'learning_rate': 0.13962813919623543}. Best is trial 35 with value: 0.787671433038467.\n",
      "[I 2025-04-15 23:15:19,093] Trial 36 finished with value: 0.7869313449584878 and parameters: {'n_estimators': 61, 'max_depth': 3, 'learning_rate': 0.12381376914507357}. Best is trial 35 with value: 0.787671433038467.\n",
      "[I 2025-04-15 23:15:21,993] Trial 37 finished with value: 0.7872498823749448 and parameters: {'n_estimators': 60, 'max_depth': 3, 'learning_rate': 0.12534978754739484}. Best is trial 35 with value: 0.787671433038467.\n",
      "[I 2025-04-15 23:15:25,210] Trial 38 finished with value: 0.786956915622653 and parameters: {'n_estimators': 58, 'max_depth': 3, 'learning_rate': 0.12631980370401155}. Best is trial 35 with value: 0.787671433038467.\n",
      "[I 2025-04-15 23:15:28,141] Trial 39 finished with value: 0.7849302578399657 and parameters: {'n_estimators': 59, 'max_depth': 3, 'learning_rate': 0.43394828420767767}. Best is trial 35 with value: 0.787671433038467.\n",
      "[I 2025-04-15 23:15:31,383] Trial 40 finished with value: 0.7870416641096001 and parameters: {'n_estimators': 61, 'max_depth': 3, 'learning_rate': 0.14621367768475663}. Best is trial 35 with value: 0.787671433038467.\n",
      "[I 2025-04-15 23:15:34,375] Trial 41 finished with value: 0.7861627638527247 and parameters: {'n_estimators': 60, 'max_depth': 3, 'learning_rate': 0.10641905848292829}. Best is trial 35 with value: 0.787671433038467.\n",
      "[I 2025-04-15 23:15:36,787] Trial 42 finished with value: 0.7876685106768482 and parameters: {'n_estimators': 50, 'max_depth': 3, 'learning_rate': 0.22498835764222194}. Best is trial 35 with value: 0.787671433038467.\n",
      "[I 2025-04-15 23:15:39,649] Trial 43 finished with value: 0.7837883450373917 and parameters: {'n_estimators': 52, 'max_depth': 3, 'learning_rate': 0.243591363823667}. Best is trial 35 with value: 0.787671433038467.\n",
      "[I 2025-04-15 23:15:42,023] Trial 44 finished with value: 0.7813174882886358 and parameters: {'n_estimators': 46, 'max_depth': 3, 'learning_rate': 0.5719344892749334}. Best is trial 35 with value: 0.787671433038467.\n",
      "[I 2025-04-15 23:15:45,893] Trial 45 finished with value: 0.7579758554483049 and parameters: {'n_estimators': 71, 'max_depth': 3, 'learning_rate': 0.9208473929475377}. Best is trial 35 with value: 0.787671433038467.\n",
      "[I 2025-04-15 23:15:48,491] Trial 46 finished with value: 0.7871687868400211 and parameters: {'n_estimators': 50, 'max_depth': 3, 'learning_rate': 0.31526867735525954}. Best is trial 35 with value: 0.787671433038467.\n",
      "[I 2025-04-15 23:15:57,724] Trial 47 finished with value: 0.7494498654252475 and parameters: {'n_estimators': 50, 'max_depth': 10, 'learning_rate': 0.35460032328512636}. Best is trial 35 with value: 0.787671433038467.\n",
      "[I 2025-04-15 23:16:01,134] Trial 48 finished with value: 0.7858361899418157 and parameters: {'n_estimators': 64, 'max_depth': 3, 'learning_rate': 0.16616764444848148}. Best is trial 35 with value: 0.787671433038467.\n",
      "[I 2025-04-15 23:16:03,703] Trial 49 finished with value: 0.780136123604207 and parameters: {'n_estimators': 54, 'max_depth': 3, 'learning_rate': 0.3610526578157466}. Best is trial 35 with value: 0.787671433038467.\n"
     ]
    }
   ],
   "source": [
    "study = optuna.create_study(direction='maximize')\n",
    "study.optimize(lambda trial: objective(trial, features, target), n_trials=50, show_progress_bar=True)\n",
    "df = study.trials_dataframe()"
   ]
  },
  {
   "cell_type": "code",
   "execution_count": null,
   "id": "78d7296f",
   "metadata": {},
   "outputs": [],
   "source": []
  },
  {
   "cell_type": "code",
   "execution_count": 19,
   "id": "fc4c0827",
   "metadata": {},
   "outputs": [
    {
     "data": {
      "text/plain": [
       "{'n_estimators': 94, 'max_depth': 3, 'learning_rate': 0.13962813919623543}"
      ]
     },
     "execution_count": 19,
     "metadata": {},
     "output_type": "execute_result"
    }
   ],
   "source": [
    "study.best_params"
   ]
  },
  {
   "cell_type": "code",
   "execution_count": null,
   "id": "c1b290bc",
   "metadata": {},
   "outputs": [],
   "source": [
    "{'n_estimators': 66, 'max_depth': 3, 'learning_rate': 0.0971}"
   ]
  },
  {
   "cell_type": "code",
   "execution_count": 14,
   "id": "60edd3a9",
   "metadata": {},
   "outputs": [],
   "source": [
    "clf = GradientBoostingClassifier(random_state=42, **study.best_params)"
   ]
  },
  {
   "cell_type": "code",
   "execution_count": 15,
   "id": "e638e9e1",
   "metadata": {},
   "outputs": [
    {
     "data": {
      "text/plain": [
       "sklearn.ensemble._gb.GradientBoostingClassifier"
      ]
     },
     "execution_count": 15,
     "metadata": {},
     "output_type": "execute_result"
    }
   ],
   "source": [
    "clf.__class__"
   ]
  },
  {
   "cell_type": "code",
   "execution_count": 16,
   "id": "04ec468f",
   "metadata": {},
   "outputs": [
    {
     "data": {
      "text/plain": [
       "sklearn.ensemble._gb.GradientBoostingClassifier"
      ]
     },
     "execution_count": 16,
     "metadata": {},
     "output_type": "execute_result"
    }
   ],
   "source": [
    "GradientBoostingClassifier"
   ]
  },
  {
   "cell_type": "code",
   "execution_count": null,
   "id": "9c41aabe",
   "metadata": {},
   "outputs": [],
   "source": []
  }
 ],
 "metadata": {
  "kernelspec": {
   "display_name": "venv",
   "language": "python",
   "name": "python3"
  },
  "language_info": {
   "codemirror_mode": {
    "name": "ipython",
    "version": 3
   },
   "file_extension": ".py",
   "mimetype": "text/x-python",
   "name": "python",
   "nbconvert_exporter": "python",
   "pygments_lexer": "ipython3",
   "version": "3.10.11"
  }
 },
 "nbformat": 4,
 "nbformat_minor": 5
}
