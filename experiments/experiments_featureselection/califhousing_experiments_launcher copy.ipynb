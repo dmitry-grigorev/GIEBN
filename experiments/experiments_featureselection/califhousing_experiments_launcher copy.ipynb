{
 "cells": [
  {
   "cell_type": "code",
   "execution_count": 1,
   "id": "de643df9",
   "metadata": {},
   "outputs": [
    {
     "data": {
      "text/plain": [
       "'c:/Users/User/PycharmProjects/GIEBN'"
      ]
     },
     "execution_count": 1,
     "metadata": {},
     "output_type": "execute_result"
    }
   ],
   "source": [
    "import os\n",
    "\n",
    "import sys\n",
    "sys.path.append(\"C:\\\\Users\\\\User\\\\PycharmProjects\\\\GIEBN\\\\src\")\n",
    "sys.path.append(\"C:\\\\Users\\\\User\\\\PycharmProjects\\\\GIEBN\")\n",
    "sys.path.append(\"C:\\\\Users\\\\User\\\\PycharmProjects\\\\GIEBN\\\\venv\")\n",
    "\n",
    "path = os.getcwd()\n",
    "\n",
    "curr_path = path.replace('\\\\', '/')\n",
    "head_place = curr_path.find('GIEBN')\n",
    "main_path = curr_path[:head_place]+'GIEBN'\n",
    "main_path"
   ]
  },
  {
   "cell_type": "code",
   "execution_count": 2,
   "id": "d5c23947",
   "metadata": {},
   "outputs": [],
   "source": [
    "from sklearn.linear_model import LogisticRegression, LinearRegression, Lasso\n",
    "from sklearn.ensemble import GradientBoostingClassifier, RandomForestClassifier, GradientBoostingRegressor\n",
    "import pandas as pd\n",
    "import numpy as np\n",
    "import matplotlib.pyplot as plt\n",
    "import seaborn as sns\n",
    "from sklearn.preprocessing import KBinsDiscretizer, FunctionTransformer, OrdinalEncoder, OneHotEncoder\n",
    "from sklearn.pipeline import make_pipeline, make_union\n",
    "from sklearn.datasets import make_regression\n",
    "from sklearn.tree import DecisionTreeClassifier, DecisionTreeRegressor\n",
    "\n",
    "\n",
    "from sklearn.svm import LinearSVC\n",
    "from sklearn.feature_selection import SelectFromModel, f_regression\n",
    "\n",
    "from sklearn.model_selection import train_test_split\n",
    "from sklearn.feature_selection import SelectKBest, RFE\n",
    "\n",
    "from auxiliary.auxiliary import construct_by_kmeans\n",
    "\n",
    "from pgmpy.factors.discrete.CPD import TabularCPD\n",
    "from pgmpy.models import BayesianNetwork\n",
    "import yodo.yodo\n",
    "import matplotlib.pyplot as plt\n",
    "from pgmpy.estimators import PC, BicScore, K2Score\n",
    "from pgmpy.inference import VariableElimination\n",
    "from bamt.networks.discrete_bn import DiscreteBN\n",
    "from bamt_inherited.networks.discrete import DiscreteBNGI\n",
    "import shap\n",
    "from sklearn import metrics as m\n",
    "from tqdm import tqdm\n",
    "from itertools import product\n",
    "import optuna\n",
    "from copy import copy"
   ]
  },
  {
   "cell_type": "code",
   "execution_count": 3,
   "id": "3b842b01",
   "metadata": {},
   "outputs": [],
   "source": [
    "optuna.logging.set_verbosity(optuna.logging.WARNING)"
   ]
  },
  {
   "cell_type": "code",
   "execution_count": 4,
   "id": "6c4a99c7",
   "metadata": {},
   "outputs": [],
   "source": [
    "%run ../common_code.ipynb"
   ]
  },
  {
   "cell_type": "code",
   "execution_count": 5,
   "id": "29c48917",
   "metadata": {},
   "outputs": [
    {
     "data": {
      "text/html": [
       "<div>\n",
       "<style scoped>\n",
       "    .dataframe tbody tr th:only-of-type {\n",
       "        vertical-align: middle;\n",
       "    }\n",
       "\n",
       "    .dataframe tbody tr th {\n",
       "        vertical-align: top;\n",
       "    }\n",
       "\n",
       "    .dataframe thead th {\n",
       "        text-align: right;\n",
       "    }\n",
       "</style>\n",
       "<table border=\"1\" class=\"dataframe\">\n",
       "  <thead>\n",
       "    <tr style=\"text-align: right;\">\n",
       "      <th></th>\n",
       "      <th>f0P1</th>\n",
       "      <th>f1P5p1</th>\n",
       "      <th>f2P6p2</th>\n",
       "      <th>f3P11p4</th>\n",
       "      <th>f4P14p9</th>\n",
       "      <th>f5P15p1</th>\n",
       "      <th>f6P15p3</th>\n",
       "      <th>f7P16p2</th>\n",
       "      <th>price</th>\n",
       "    </tr>\n",
       "  </thead>\n",
       "  <tbody>\n",
       "    <tr>\n",
       "      <th>0</th>\n",
       "      <td>0.002118</td>\n",
       "      <td>0.460869</td>\n",
       "      <td>0.049252</td>\n",
       "      <td>0.226470</td>\n",
       "      <td>0.149827</td>\n",
       "      <td>0.752837</td>\n",
       "      <td>0.010057</td>\n",
       "      <td>0.579729</td>\n",
       "      <td>0.261199</td>\n",
       "    </tr>\n",
       "    <tr>\n",
       "      <th>1</th>\n",
       "      <td>0.000211</td>\n",
       "      <td>0.470968</td>\n",
       "      <td>0.002581</td>\n",
       "      <td>0.137419</td>\n",
       "      <td>0.096341</td>\n",
       "      <td>0.862581</td>\n",
       "      <td>0.000000</td>\n",
       "      <td>0.695142</td>\n",
       "      <td>0.081000</td>\n",
       "    </tr>\n",
       "    <tr>\n",
       "      <th>2</th>\n",
       "      <td>0.000647</td>\n",
       "      <td>0.485341</td>\n",
       "      <td>0.000211</td>\n",
       "      <td>0.189412</td>\n",
       "      <td>0.135656</td>\n",
       "      <td>0.856992</td>\n",
       "      <td>0.000000</td>\n",
       "      <td>0.683584</td>\n",
       "      <td>0.057400</td>\n",
       "    </tr>\n",
       "    <tr>\n",
       "      <th>3</th>\n",
       "      <td>0.000064</td>\n",
       "      <td>0.498929</td>\n",
       "      <td>0.000000</td>\n",
       "      <td>0.100642</td>\n",
       "      <td>0.085470</td>\n",
       "      <td>0.907923</td>\n",
       "      <td>0.000000</td>\n",
       "      <td>0.780488</td>\n",
       "      <td>0.057000</td>\n",
       "    </tr>\n",
       "    <tr>\n",
       "      <th>4</th>\n",
       "      <td>0.000042</td>\n",
       "      <td>0.474193</td>\n",
       "      <td>0.680645</td>\n",
       "      <td>0.225806</td>\n",
       "      <td>0.128834</td>\n",
       "      <td>0.896774</td>\n",
       "      <td>0.000000</td>\n",
       "      <td>0.756302</td>\n",
       "      <td>0.048200</td>\n",
       "    </tr>\n",
       "    <tr>\n",
       "      <th>5</th>\n",
       "      <td>0.000063</td>\n",
       "      <td>0.475054</td>\n",
       "      <td>0.086768</td>\n",
       "      <td>0.130152</td>\n",
       "      <td>0.095041</td>\n",
       "      <td>0.924078</td>\n",
       "      <td>0.000000</td>\n",
       "      <td>0.792683</td>\n",
       "      <td>0.029998</td>\n",
       "    </tr>\n",
       "    <tr>\n",
       "      <th>6</th>\n",
       "      <td>0.000098</td>\n",
       "      <td>0.506224</td>\n",
       "      <td>0.000000</td>\n",
       "      <td>0.121715</td>\n",
       "      <td>0.109244</td>\n",
       "      <td>0.865837</td>\n",
       "      <td>0.000000</td>\n",
       "      <td>0.724138</td>\n",
       "      <td>0.066400</td>\n",
       "    </tr>\n",
       "    <tr>\n",
       "      <th>7</th>\n",
       "      <td>0.010341</td>\n",
       "      <td>0.468334</td>\n",
       "      <td>0.291213</td>\n",
       "      <td>0.169686</td>\n",
       "      <td>0.123913</td>\n",
       "      <td>0.795254</td>\n",
       "      <td>0.009719</td>\n",
       "      <td>0.614848</td>\n",
       "      <td>0.132600</td>\n",
       "    </tr>\n",
       "    <tr>\n",
       "      <th>8</th>\n",
       "      <td>0.000402</td>\n",
       "      <td>0.467955</td>\n",
       "      <td>0.004408</td>\n",
       "      <td>0.180400</td>\n",
       "      <td>0.135755</td>\n",
       "      <td>0.828416</td>\n",
       "      <td>0.012886</td>\n",
       "      <td>0.674938</td>\n",
       "      <td>0.275999</td>\n",
       "    </tr>\n",
       "    <tr>\n",
       "      <th>9</th>\n",
       "      <td>0.000613</td>\n",
       "      <td>0.509800</td>\n",
       "      <td>0.007350</td>\n",
       "      <td>0.051893</td>\n",
       "      <td>0.035438</td>\n",
       "      <td>0.950779</td>\n",
       "      <td>0.003118</td>\n",
       "      <td>0.885986</td>\n",
       "      <td>0.281199</td>\n",
       "    </tr>\n",
       "  </tbody>\n",
       "</table>\n",
       "</div>"
      ],
      "text/plain": [
       "       f0P1    f1P5p1    f2P6p2   f3P11p4   f4P14p9   f5P15p1   f6P15p3  \\\n",
       "0  0.002118  0.460869  0.049252  0.226470  0.149827  0.752837  0.010057   \n",
       "1  0.000211  0.470968  0.002581  0.137419  0.096341  0.862581  0.000000   \n",
       "2  0.000647  0.485341  0.000211  0.189412  0.135656  0.856992  0.000000   \n",
       "3  0.000064  0.498929  0.000000  0.100642  0.085470  0.907923  0.000000   \n",
       "4  0.000042  0.474193  0.680645  0.225806  0.128834  0.896774  0.000000   \n",
       "5  0.000063  0.475054  0.086768  0.130152  0.095041  0.924078  0.000000   \n",
       "6  0.000098  0.506224  0.000000  0.121715  0.109244  0.865837  0.000000   \n",
       "7  0.010341  0.468334  0.291213  0.169686  0.123913  0.795254  0.009719   \n",
       "8  0.000402  0.467955  0.004408  0.180400  0.135755  0.828416  0.012886   \n",
       "9  0.000613  0.509800  0.007350  0.051893  0.035438  0.950779  0.003118   \n",
       "\n",
       "    f7P16p2     price  \n",
       "0  0.579729  0.261199  \n",
       "1  0.695142  0.081000  \n",
       "2  0.683584  0.057400  \n",
       "3  0.780488  0.057000  \n",
       "4  0.756302  0.048200  \n",
       "5  0.792683  0.029998  \n",
       "6  0.724138  0.066400  \n",
       "7  0.614848  0.132600  \n",
       "8  0.674938  0.275999  \n",
       "9  0.885986  0.281199  "
      ]
     },
     "execution_count": 5,
     "metadata": {},
     "output_type": "execute_result"
    }
   ],
   "source": [
    "#https://www.kaggle.com/datasets/camnugent/california-housing-prices\n",
    "data = pd.read_csv(\"../../datasets/house_16H.csv\")\n",
    "\n",
    "n = data.shape[0]\n",
    "target = \"price\"\n",
    "features = ['P1', 'P5p1', 'P6p2', 'P11p4', 'P14p9', 'P15p1', 'P15p3', 'P16p2',\n",
    "       'P18p2', 'P27p4', 'H2p2', 'H8p2', 'H10p1', 'H13p1', 'H18pA', 'H40p4'][:8]\n",
    "\n",
    "data = data.rename(columns={feat: f'f{i}{feat}' for i, feat in enumerate(features)})\n",
    "features = [f'f{i}{feat}' for i, feat in enumerate(features)]\n",
    "data = data[features+[target]]\n",
    "data['f0P1']=data['f0P1'].apply(lambda x: (x-data['f0P1'].min())/(data['f0P1'].max()-data['f0P1'].min()))\n",
    "data[target]=data[target].apply(lambda x: (x-data[target].min())/(data[target].max()-data[target].min()))\n",
    "data.loc[data[target]==0, target] = 0.01\n",
    "n_features = len(features)\n",
    "data.head(10)"
   ]
  },
  {
   "cell_type": "code",
   "execution_count": 6,
   "id": "ed1a39de",
   "metadata": {},
   "outputs": [
    {
     "data": {
      "text/html": [
       "<div>\n",
       "<style scoped>\n",
       "    .dataframe tbody tr th:only-of-type {\n",
       "        vertical-align: middle;\n",
       "    }\n",
       "\n",
       "    .dataframe tbody tr th {\n",
       "        vertical-align: top;\n",
       "    }\n",
       "\n",
       "    .dataframe thead th {\n",
       "        text-align: right;\n",
       "    }\n",
       "</style>\n",
       "<table border=\"1\" class=\"dataframe\">\n",
       "  <thead>\n",
       "    <tr style=\"text-align: right;\">\n",
       "      <th></th>\n",
       "      <th>f0P1</th>\n",
       "      <th>f1P5p1</th>\n",
       "      <th>f2P6p2</th>\n",
       "      <th>f3P11p4</th>\n",
       "      <th>f4P14p9</th>\n",
       "      <th>f5P15p1</th>\n",
       "      <th>f6P15p3</th>\n",
       "      <th>f7P16p2</th>\n",
       "      <th>price</th>\n",
       "    </tr>\n",
       "  </thead>\n",
       "  <tbody>\n",
       "    <tr>\n",
       "      <th>count</th>\n",
       "      <td>22784.000000</td>\n",
       "      <td>22784.000000</td>\n",
       "      <td>22784.000000</td>\n",
       "      <td>22784.000000</td>\n",
       "      <td>22784.000000</td>\n",
       "      <td>22784.000000</td>\n",
       "      <td>22784.000000</td>\n",
       "      <td>22784.000000</td>\n",
       "      <td>22784.000000</td>\n",
       "    </tr>\n",
       "    <tr>\n",
       "      <th>mean</th>\n",
       "      <td>0.001066</td>\n",
       "      <td>0.482297</td>\n",
       "      <td>0.063982</td>\n",
       "      <td>0.163900</td>\n",
       "      <td>0.121538</td>\n",
       "      <td>0.851076</td>\n",
       "      <td>0.020487</td>\n",
       "      <td>0.716131</td>\n",
       "      <td>0.100172</td>\n",
       "    </tr>\n",
       "    <tr>\n",
       "      <th>std</th>\n",
       "      <td>0.008996</td>\n",
       "      <td>0.031876</td>\n",
       "      <td>0.150921</td>\n",
       "      <td>0.080461</td>\n",
       "      <td>0.056687</td>\n",
       "      <td>0.079455</td>\n",
       "      <td>0.057666</td>\n",
       "      <td>0.087264</td>\n",
       "      <td>0.105666</td>\n",
       "    </tr>\n",
       "    <tr>\n",
       "      <th>min</th>\n",
       "      <td>0.000000</td>\n",
       "      <td>0.125000</td>\n",
       "      <td>0.000000</td>\n",
       "      <td>0.000000</td>\n",
       "      <td>0.000000</td>\n",
       "      <td>0.054156</td>\n",
       "      <td>0.000000</td>\n",
       "      <td>0.233702</td>\n",
       "      <td>0.010000</td>\n",
       "    </tr>\n",
       "    <tr>\n",
       "      <th>25%</th>\n",
       "      <td>0.000058</td>\n",
       "      <td>0.464647</td>\n",
       "      <td>0.000000</td>\n",
       "      <td>0.112069</td>\n",
       "      <td>0.081236</td>\n",
       "      <td>0.819686</td>\n",
       "      <td>0.000000</td>\n",
       "      <td>0.662283</td>\n",
       "      <td>0.042000</td>\n",
       "    </tr>\n",
       "    <tr>\n",
       "      <th>50%</th>\n",
       "      <td>0.000183</td>\n",
       "      <td>0.480396</td>\n",
       "      <td>0.003413</td>\n",
       "      <td>0.155485</td>\n",
       "      <td>0.117127</td>\n",
       "      <td>0.863645</td>\n",
       "      <td>0.000000</td>\n",
       "      <td>0.714286</td>\n",
       "      <td>0.066400</td>\n",
       "    </tr>\n",
       "    <tr>\n",
       "      <th>75%</th>\n",
       "      <td>0.000617</td>\n",
       "      <td>0.496040</td>\n",
       "      <td>0.033376</td>\n",
       "      <td>0.203596</td>\n",
       "      <td>0.156757</td>\n",
       "      <td>0.899657</td>\n",
       "      <td>0.019196</td>\n",
       "      <td>0.771039</td>\n",
       "      <td>0.112200</td>\n",
       "    </tr>\n",
       "    <tr>\n",
       "      <th>max</th>\n",
       "      <td>1.000000</td>\n",
       "      <td>0.923077</td>\n",
       "      <td>1.000000</td>\n",
       "      <td>0.917255</td>\n",
       "      <td>0.511872</td>\n",
       "      <td>1.000000</td>\n",
       "      <td>0.943325</td>\n",
       "      <td>1.000000</td>\n",
       "      <td>1.000000</td>\n",
       "    </tr>\n",
       "  </tbody>\n",
       "</table>\n",
       "</div>"
      ],
      "text/plain": [
       "               f0P1        f1P5p1        f2P6p2       f3P11p4       f4P14p9  \\\n",
       "count  22784.000000  22784.000000  22784.000000  22784.000000  22784.000000   \n",
       "mean       0.001066      0.482297      0.063982      0.163900      0.121538   \n",
       "std        0.008996      0.031876      0.150921      0.080461      0.056687   \n",
       "min        0.000000      0.125000      0.000000      0.000000      0.000000   \n",
       "25%        0.000058      0.464647      0.000000      0.112069      0.081236   \n",
       "50%        0.000183      0.480396      0.003413      0.155485      0.117127   \n",
       "75%        0.000617      0.496040      0.033376      0.203596      0.156757   \n",
       "max        1.000000      0.923077      1.000000      0.917255      0.511872   \n",
       "\n",
       "            f5P15p1       f6P15p3       f7P16p2         price  \n",
       "count  22784.000000  22784.000000  22784.000000  22784.000000  \n",
       "mean       0.851076      0.020487      0.716131      0.100172  \n",
       "std        0.079455      0.057666      0.087264      0.105666  \n",
       "min        0.054156      0.000000      0.233702      0.010000  \n",
       "25%        0.819686      0.000000      0.662283      0.042000  \n",
       "50%        0.863645      0.000000      0.714286      0.066400  \n",
       "75%        0.899657      0.019196      0.771039      0.112200  \n",
       "max        1.000000      0.943325      1.000000      1.000000  "
      ]
     },
     "execution_count": 6,
     "metadata": {},
     "output_type": "execute_result"
    }
   ],
   "source": [
    "data.describe()"
   ]
  },
  {
   "cell_type": "code",
   "execution_count": 98,
   "id": "9b791857",
   "metadata": {},
   "outputs": [],
   "source": [
    "data_corr = add_extra_features(data, features, extra_size=0.75, mode='prod')"
   ]
  },
  {
   "cell_type": "code",
   "execution_count": 99,
   "id": "a03769a9",
   "metadata": {},
   "outputs": [],
   "source": [
    "data_dict_corr = {}\n",
    "\n",
    "data_tv, data_dict_corr['test'] = train_test_split(data_corr, test_size=0.15, random_state=42)\n",
    "\n",
    "data_dict_corr['train'], data_dict_corr['val'] = train_test_split(data_tv, test_size=0.15, random_state=42)\n",
    "\n",
    "features_corr = list(data_corr.columns.difference([target]))"
   ]
  },
  {
   "cell_type": "code",
   "execution_count": 100,
   "id": "7cd8854b",
   "metadata": {},
   "outputs": [
    {
     "data": {
      "text/plain": [
       "['extra_001',\n",
       " 'extra_002',\n",
       " 'extra_003',\n",
       " 'extra_004',\n",
       " 'extra_005',\n",
       " 'extra_006',\n",
       " 'extra_007',\n",
       " 'extra_008',\n",
       " 'extra_009',\n",
       " 'extra_010',\n",
       " 'extra_011',\n",
       " 'extra_012',\n",
       " 'extra_013',\n",
       " 'extra_014',\n",
       " 'extra_015',\n",
       " 'extra_016',\n",
       " 'extra_017',\n",
       " 'extra_018',\n",
       " 'extra_019',\n",
       " 'extra_020',\n",
       " 'extra_021',\n",
       " 'extra_022',\n",
       " 'extra_023',\n",
       " 'extra_024',\n",
       " 'f0P1',\n",
       " 'f1P5p1',\n",
       " 'f2P6p2',\n",
       " 'f3P11p4',\n",
       " 'f4P14p9',\n",
       " 'f5P15p1',\n",
       " 'f6P15p3',\n",
       " 'f7P16p2']"
      ]
     },
     "execution_count": 100,
     "metadata": {},
     "output_type": "execute_result"
    }
   ],
   "source": [
    "features_corr"
   ]
  },
  {
   "cell_type": "code",
   "execution_count": 101,
   "id": "0ada96fb",
   "metadata": {},
   "outputs": [],
   "source": [
    "def objective(trial, features, target, data_dict):\n",
    "    n_estimators= trial.suggest_int(\"n_estimators\", low=params_net['n_estimators'][0], high=params_net['n_estimators'][1], step=1)\n",
    "    max_depth= trial.suggest_int(\"max_depth\", low=params_net['max_depth'][0], high=params_net['max_depth'][1], step=1)\n",
    "    learning_rate=trial.suggest_float(\"learning_rate\", low=params_net['learning_rate'][0], high=params_net['learning_rate'][1],log=True)\n",
    "    \n",
    "    regr = GradientBoostingRegressor(random_state=42, n_estimators=n_estimators,\n",
    "                                     max_depth=max_depth, learning_rate=learning_rate)\n",
    "    regr.fit(data_dict['train'][features], data_dict['train'][target])\n",
    "    return score_regr(regr, data_dict['val'][features], data_dict['val'][target])\n",
    "\n",
    "params_net = {\n",
    "    'n_estimators': [10, 100],\n",
    "    'max_depth': [3, 10],\n",
    "    'learning_rate':[1e-5, 1]\n",
    "}\n"
   ]
  },
  {
   "cell_type": "markdown",
   "id": "0dde69b4",
   "metadata": {},
   "source": [
    "# Initial model for error calculation"
   ]
  },
  {
   "cell_type": "code",
   "execution_count": 102,
   "id": "c0ef96d8",
   "metadata": {},
   "outputs": [
    {
     "data": {
      "application/vnd.jupyter.widget-view+json": {
       "model_id": "6fd1c215149d47a3b85c7129a1a85ffe",
       "version_major": 2,
       "version_minor": 0
      },
      "text/plain": [
       "  0%|          | 0/20 [00:00<?, ?it/s]"
      ]
     },
     "metadata": {},
     "output_type": "display_data"
    }
   ],
   "source": [
    "best_base_params = optunize_model(objective, features_corr, target, data_dict_corr, n_trials=20)"
   ]
  },
  {
   "cell_type": "code",
   "execution_count": 103,
   "id": "78372590",
   "metadata": {},
   "outputs": [
    {
     "data": {
      "text/plain": [
       "{'n_estimators': 88, 'max_depth': 6, 'learning_rate': 0.12985501348561462}"
      ]
     },
     "execution_count": 103,
     "metadata": {},
     "output_type": "execute_result"
    }
   ],
   "source": [
    "best_base_params"
   ]
  },
  {
   "cell_type": "code",
   "execution_count": 104,
   "id": "3464be47",
   "metadata": {},
   "outputs": [],
   "source": [
    "model_corr = GradientBoostingRegressor(random_state=42, **best_base_params)\n",
    "#model = LogisticRegression()\n",
    "model_corr.fit(data_dict_corr['train'][features_corr], data_dict_corr['train'][target])\n",
    "\n",
    "data_errors_corr = measure_error(data_dict_corr['val'], model_corr, features_corr, target, error_col_name='ape_error', task='regr')"
   ]
  },
  {
   "cell_type": "code",
   "execution_count": 105,
   "id": "0fb38b3a",
   "metadata": {},
   "outputs": [
    {
     "name": "stdout",
     "output_type": "stream",
     "text": [
      "Warning: feature extra_001 has practically degenerate states and low entropy\n",
      "Warning: feature extra_004 has practically degenerate states and low entropy\n",
      "Warning: feature extra_005 has practically degenerate states and low entropy\n",
      "Warning: feature extra_008 has practically degenerate states and low entropy\n",
      "Warning: feature extra_009 has practically degenerate states and low entropy\n",
      "Warning: feature extra_010 has practically degenerate states and low entropy\n",
      "Warning: feature extra_011 has practically degenerate states and low entropy\n",
      "Warning: feature extra_012 has practically degenerate states and low entropy\n",
      "Warning: feature extra_013 has practically degenerate states and low entropy\n",
      "Warning: feature extra_014 has practically degenerate states and low entropy\n",
      "Warning: feature extra_015 has practically degenerate states and low entropy\n",
      "Warning: feature extra_016 has practically degenerate states and low entropy\n",
      "Warning: feature extra_017 has practically degenerate states and low entropy\n",
      "Warning: feature extra_018 has practically degenerate states and low entropy\n",
      "Warning: feature extra_020 has practically degenerate states and low entropy\n",
      "Warning: feature extra_022 has practically degenerate states and low entropy\n",
      "Warning: feature extra_024 has practically degenerate states and low entropy\n",
      "Warning: feature f0P1 has practically degenerate states and low entropy\n",
      "Warning: feature f1P5p1 has practically degenerate states and low entropy\n",
      "Warning: feature f2P6p2 has practically degenerate states and low entropy\n",
      "Warning: feature f5P15p1 has practically degenerate states and low entropy\n",
      "Warning: feature f6P15p3 has practically degenerate states and low entropy\n",
      "Warning: feature ape_error has practically degenerate states and low entropy\n"
     ]
    },
    {
     "data": {
      "text/html": [
       "<div>\n",
       "<style scoped>\n",
       "    .dataframe tbody tr th:only-of-type {\n",
       "        vertical-align: middle;\n",
       "    }\n",
       "\n",
       "    .dataframe tbody tr th {\n",
       "        vertical-align: top;\n",
       "    }\n",
       "\n",
       "    .dataframe thead th {\n",
       "        text-align: right;\n",
       "    }\n",
       "</style>\n",
       "<table border=\"1\" class=\"dataframe\">\n",
       "  <thead>\n",
       "    <tr style=\"text-align: right;\">\n",
       "      <th></th>\n",
       "      <th>f0P1_0</th>\n",
       "      <th>f0P1_1</th>\n",
       "      <th>f0P1_2</th>\n",
       "      <th>f1P5p1_0</th>\n",
       "      <th>f1P5p1_1</th>\n",
       "      <th>f1P5p1_2</th>\n",
       "      <th>f2P6p2_1</th>\n",
       "      <th>f2P6p2_2</th>\n",
       "      <th>f3P11p4_0</th>\n",
       "      <th>f3P11p4_1</th>\n",
       "      <th>...</th>\n",
       "      <th>extra_022_1</th>\n",
       "      <th>extra_022_2</th>\n",
       "      <th>extra_023_0</th>\n",
       "      <th>extra_023_1</th>\n",
       "      <th>extra_023_2</th>\n",
       "      <th>extra_024_1</th>\n",
       "      <th>extra_024_2</th>\n",
       "      <th>ape_error_0</th>\n",
       "      <th>ape_error_1</th>\n",
       "      <th>ape_error_2</th>\n",
       "    </tr>\n",
       "  </thead>\n",
       "  <tbody>\n",
       "    <tr>\n",
       "      <th>0</th>\n",
       "      <td>0</td>\n",
       "      <td>1</td>\n",
       "      <td>0</td>\n",
       "      <td>1</td>\n",
       "      <td>0</td>\n",
       "      <td>0</td>\n",
       "      <td>1</td>\n",
       "      <td>0</td>\n",
       "      <td>0</td>\n",
       "      <td>1</td>\n",
       "      <td>...</td>\n",
       "      <td>0</td>\n",
       "      <td>1</td>\n",
       "      <td>1</td>\n",
       "      <td>0</td>\n",
       "      <td>0</td>\n",
       "      <td>0</td>\n",
       "      <td>1</td>\n",
       "      <td>1</td>\n",
       "      <td>0</td>\n",
       "      <td>0</td>\n",
       "    </tr>\n",
       "  </tbody>\n",
       "</table>\n",
       "<p>1 rows × 84 columns</p>\n",
       "</div>"
      ],
      "text/plain": [
       "   f0P1_0  f0P1_1  f0P1_2  f1P5p1_0  f1P5p1_1  f1P5p1_2  f2P6p2_1  f2P6p2_2  \\\n",
       "0       0       1       0         1         0         0         1         0   \n",
       "\n",
       "   f3P11p4_0  f3P11p4_1  ...  extra_022_1  extra_022_2  extra_023_0  \\\n",
       "0          0          1  ...            0            1            1   \n",
       "\n",
       "   extra_023_1  extra_023_2  extra_024_1  extra_024_2  ape_error_0  \\\n",
       "0            0            0            0            1            1   \n",
       "\n",
       "   ape_error_1  ape_error_2  \n",
       "0            0            0  \n",
       "\n",
       "[1 rows x 84 columns]"
      ]
     },
     "execution_count": 105,
     "metadata": {},
     "output_type": "execute_result"
    }
   ],
   "source": [
    "n_features_corr = len(features_corr)\n",
    "disc_data_corr, pipeline_data_corr = discretize(data_errors_corr, \n",
    "                                      features_corr+[\"ape_error\"], icat=None, icont=list(range(n_features_corr+1)))\n",
    "\n",
    "categories_corr = extract_categories(disc_data_corr)\n",
    "encoder = OneHotEncoder(sparse=False)\n",
    "disc_data_encoded_corr = pd.DataFrame(encoder.fit_transform(X=disc_data_corr), columns=categories_corr, dtype='uint8')\n",
    "disc_data_encoded_corr.head(1)"
   ]
  },
  {
   "cell_type": "code",
   "execution_count": 106,
   "id": "7a2ef371",
   "metadata": {},
   "outputs": [
    {
     "data": {
      "text/plain": [
       "ape_error\n",
       "1    1161\n",
       "0     872\n",
       "2     872\n",
       "Name: count, dtype: int64"
      ]
     },
     "execution_count": 106,
     "metadata": {},
     "output_type": "execute_result"
    }
   ],
   "source": [
    "disc_data_corr['ape_error'].value_counts()"
   ]
  },
  {
   "cell_type": "code",
   "execution_count": 107,
   "id": "138a5f61",
   "metadata": {},
   "outputs": [
    {
     "name": "stdout",
     "output_type": "stream",
     "text": [
      "2025-05-06 16:48:01,489 | ERROR    | GraphUtils.py-nodes_types-0034 | Unsupported data type. Dtype: uint8\n",
      "2025-05-06 16:48:01,498 | ERROR    | GraphUtils.py-nodes_types-0034 | Unsupported data type. Dtype: uint8\n",
      "2025-05-06 16:48:01,500 | ERROR    | GraphUtils.py-nodes_types-0034 | Unsupported data type. Dtype: uint8\n",
      "2025-05-06 16:48:01,503 | ERROR    | GraphUtils.py-nodes_types-0034 | Unsupported data type. Dtype: uint8\n",
      "2025-05-06 16:48:01,505 | ERROR    | GraphUtils.py-nodes_types-0034 | Unsupported data type. Dtype: uint8\n",
      "2025-05-06 16:48:01,507 | ERROR    | GraphUtils.py-nodes_types-0034 | Unsupported data type. Dtype: uint8\n",
      "2025-05-06 16:48:01,510 | ERROR    | GraphUtils.py-nodes_types-0034 | Unsupported data type. Dtype: uint8\n",
      "2025-05-06 16:48:01,511 | ERROR    | GraphUtils.py-nodes_types-0034 | Unsupported data type. Dtype: uint8\n",
      "2025-05-06 16:48:01,512 | ERROR    | GraphUtils.py-nodes_types-0034 | Unsupported data type. Dtype: uint8\n",
      "2025-05-06 16:48:01,513 | ERROR    | GraphUtils.py-nodes_types-0034 | Unsupported data type. Dtype: uint8\n",
      "2025-05-06 16:48:01,514 | ERROR    | GraphUtils.py-nodes_types-0034 | Unsupported data type. Dtype: uint8\n",
      "2025-05-06 16:48:01,515 | ERROR    | GraphUtils.py-nodes_types-0034 | Unsupported data type. Dtype: uint8\n",
      "2025-05-06 16:48:01,517 | ERROR    | GraphUtils.py-nodes_types-0034 | Unsupported data type. Dtype: uint8\n",
      "2025-05-06 16:48:01,519 | ERROR    | GraphUtils.py-nodes_types-0034 | Unsupported data type. Dtype: uint8\n",
      "2025-05-06 16:48:01,520 | ERROR    | GraphUtils.py-nodes_types-0034 | Unsupported data type. Dtype: uint8\n",
      "2025-05-06 16:48:01,522 | ERROR    | GraphUtils.py-nodes_types-0034 | Unsupported data type. Dtype: uint8\n",
      "2025-05-06 16:48:01,524 | ERROR    | GraphUtils.py-nodes_types-0034 | Unsupported data type. Dtype: uint8\n",
      "2025-05-06 16:48:01,525 | ERROR    | GraphUtils.py-nodes_types-0034 | Unsupported data type. Dtype: uint8\n",
      "2025-05-06 16:48:01,526 | ERROR    | GraphUtils.py-nodes_types-0034 | Unsupported data type. Dtype: uint8\n",
      "2025-05-06 16:48:01,529 | ERROR    | GraphUtils.py-nodes_types-0034 | Unsupported data type. Dtype: uint8\n",
      "2025-05-06 16:48:01,530 | ERROR    | GraphUtils.py-nodes_types-0034 | Unsupported data type. Dtype: uint8\n",
      "2025-05-06 16:48:01,532 | ERROR    | GraphUtils.py-nodes_types-0034 | Unsupported data type. Dtype: uint8\n",
      "2025-05-06 16:48:01,535 | ERROR    | GraphUtils.py-nodes_types-0034 | Unsupported data type. Dtype: uint8\n",
      "2025-05-06 16:48:01,536 | ERROR    | GraphUtils.py-nodes_types-0034 | Unsupported data type. Dtype: uint8\n",
      "2025-05-06 16:48:01,537 | ERROR    | GraphUtils.py-nodes_types-0034 | Unsupported data type. Dtype: uint8\n",
      "2025-05-06 16:48:01,539 | ERROR    | GraphUtils.py-nodes_types-0034 | Unsupported data type. Dtype: uint8\n",
      "2025-05-06 16:48:01,541 | ERROR    | GraphUtils.py-nodes_types-0034 | Unsupported data type. Dtype: uint8\n",
      "2025-05-06 16:48:01,543 | ERROR    | GraphUtils.py-nodes_types-0034 | Unsupported data type. Dtype: uint8\n",
      "2025-05-06 16:48:01,544 | ERROR    | GraphUtils.py-nodes_types-0034 | Unsupported data type. Dtype: uint8\n",
      "2025-05-06 16:48:01,545 | ERROR    | GraphUtils.py-nodes_types-0034 | Unsupported data type. Dtype: uint8\n",
      "2025-05-06 16:48:01,546 | ERROR    | GraphUtils.py-nodes_types-0034 | Unsupported data type. Dtype: uint8\n",
      "2025-05-06 16:48:01,550 | ERROR    | GraphUtils.py-nodes_types-0034 | Unsupported data type. Dtype: uint8\n",
      "2025-05-06 16:48:01,553 | ERROR    | GraphUtils.py-nodes_types-0034 | Unsupported data type. Dtype: uint8\n",
      "2025-05-06 16:48:01,555 | ERROR    | GraphUtils.py-nodes_types-0034 | Unsupported data type. Dtype: uint8\n",
      "2025-05-06 16:48:01,558 | ERROR    | GraphUtils.py-nodes_types-0034 | Unsupported data type. Dtype: uint8\n",
      "2025-05-06 16:48:01,559 | ERROR    | GraphUtils.py-nodes_types-0034 | Unsupported data type. Dtype: uint8\n",
      "2025-05-06 16:48:01,560 | ERROR    | GraphUtils.py-nodes_types-0034 | Unsupported data type. Dtype: uint8\n",
      "2025-05-06 16:48:01,563 | ERROR    | GraphUtils.py-nodes_types-0034 | Unsupported data type. Dtype: uint8\n",
      "2025-05-06 16:48:01,564 | ERROR    | GraphUtils.py-nodes_types-0034 | Unsupported data type. Dtype: uint8\n",
      "2025-05-06 16:48:01,566 | ERROR    | GraphUtils.py-nodes_types-0034 | Unsupported data type. Dtype: uint8\n",
      "2025-05-06 16:48:01,567 | ERROR    | GraphUtils.py-nodes_types-0034 | Unsupported data type. Dtype: uint8\n",
      "2025-05-06 16:48:01,569 | ERROR    | GraphUtils.py-nodes_types-0034 | Unsupported data type. Dtype: uint8\n",
      "2025-05-06 16:48:01,570 | ERROR    | GraphUtils.py-nodes_types-0034 | Unsupported data type. Dtype: uint8\n",
      "2025-05-06 16:48:01,572 | ERROR    | GraphUtils.py-nodes_types-0034 | Unsupported data type. Dtype: uint8\n",
      "2025-05-06 16:48:01,575 | ERROR    | GraphUtils.py-nodes_types-0034 | Unsupported data type. Dtype: uint8\n",
      "2025-05-06 16:48:01,576 | ERROR    | GraphUtils.py-nodes_types-0034 | Unsupported data type. Dtype: uint8\n",
      "2025-05-06 16:48:01,578 | ERROR    | GraphUtils.py-nodes_types-0034 | Unsupported data type. Dtype: uint8\n",
      "2025-05-06 16:48:01,579 | ERROR    | GraphUtils.py-nodes_types-0034 | Unsupported data type. Dtype: uint8\n",
      "2025-05-06 16:48:01,581 | ERROR    | GraphUtils.py-nodes_types-0034 | Unsupported data type. Dtype: uint8\n",
      "2025-05-06 16:48:01,582 | ERROR    | GraphUtils.py-nodes_types-0034 | Unsupported data type. Dtype: uint8\n",
      "2025-05-06 16:48:01,585 | ERROR    | GraphUtils.py-nodes_types-0034 | Unsupported data type. Dtype: uint8\n",
      "2025-05-06 16:48:01,586 | ERROR    | GraphUtils.py-nodes_types-0034 | Unsupported data type. Dtype: uint8\n",
      "2025-05-06 16:48:01,589 | ERROR    | GraphUtils.py-nodes_types-0034 | Unsupported data type. Dtype: uint8\n",
      "2025-05-06 16:48:01,590 | ERROR    | GraphUtils.py-nodes_types-0034 | Unsupported data type. Dtype: uint8\n",
      "2025-05-06 16:48:01,591 | ERROR    | GraphUtils.py-nodes_types-0034 | Unsupported data type. Dtype: uint8\n",
      "2025-05-06 16:48:01,594 | ERROR    | GraphUtils.py-nodes_types-0034 | Unsupported data type. Dtype: uint8\n",
      "2025-05-06 16:48:01,595 | ERROR    | GraphUtils.py-nodes_types-0034 | Unsupported data type. Dtype: uint8\n",
      "2025-05-06 16:48:01,597 | ERROR    | GraphUtils.py-nodes_types-0034 | Unsupported data type. Dtype: uint8\n",
      "2025-05-06 16:48:01,599 | ERROR    | GraphUtils.py-nodes_types-0034 | Unsupported data type. Dtype: uint8\n",
      "2025-05-06 16:48:01,600 | ERROR    | GraphUtils.py-nodes_types-0034 | Unsupported data type. Dtype: uint8\n",
      "2025-05-06 16:48:01,602 | ERROR    | GraphUtils.py-nodes_types-0034 | Unsupported data type. Dtype: uint8\n",
      "2025-05-06 16:48:01,603 | ERROR    | GraphUtils.py-nodes_types-0034 | Unsupported data type. Dtype: uint8\n",
      "2025-05-06 16:48:01,604 | ERROR    | GraphUtils.py-nodes_types-0034 | Unsupported data type. Dtype: uint8\n",
      "2025-05-06 16:48:01,607 | ERROR    | GraphUtils.py-nodes_types-0034 | Unsupported data type. Dtype: uint8\n",
      "2025-05-06 16:48:01,608 | ERROR    | GraphUtils.py-nodes_types-0034 | Unsupported data type. Dtype: uint8\n",
      "2025-05-06 16:48:01,608 | ERROR    | GraphUtils.py-nodes_types-0034 | Unsupported data type. Dtype: uint8\n",
      "2025-05-06 16:48:01,611 | ERROR    | GraphUtils.py-nodes_types-0034 | Unsupported data type. Dtype: uint8\n",
      "2025-05-06 16:48:01,612 | ERROR    | GraphUtils.py-nodes_types-0034 | Unsupported data type. Dtype: uint8\n",
      "2025-05-06 16:48:01,615 | ERROR    | GraphUtils.py-nodes_types-0034 | Unsupported data type. Dtype: uint8\n",
      "2025-05-06 16:48:01,617 | ERROR    | GraphUtils.py-nodes_types-0034 | Unsupported data type. Dtype: uint8\n",
      "2025-05-06 16:48:01,622 | ERROR    | GraphUtils.py-nodes_types-0034 | Unsupported data type. Dtype: uint8\n",
      "2025-05-06 16:48:01,625 | ERROR    | GraphUtils.py-nodes_types-0034 | Unsupported data type. Dtype: uint8\n",
      "2025-05-06 16:48:01,628 | ERROR    | GraphUtils.py-nodes_types-0034 | Unsupported data type. Dtype: uint8\n",
      "2025-05-06 16:48:01,630 | ERROR    | GraphUtils.py-nodes_types-0034 | Unsupported data type. Dtype: uint8\n",
      "2025-05-06 16:48:01,632 | ERROR    | GraphUtils.py-nodes_types-0034 | Unsupported data type. Dtype: uint8\n",
      "2025-05-06 16:48:01,634 | ERROR    | GraphUtils.py-nodes_types-0034 | Unsupported data type. Dtype: uint8\n",
      "2025-05-06 16:48:01,635 | ERROR    | GraphUtils.py-nodes_types-0034 | Unsupported data type. Dtype: uint8\n",
      "2025-05-06 16:48:01,637 | ERROR    | GraphUtils.py-nodes_types-0034 | Unsupported data type. Dtype: uint8\n",
      "2025-05-06 16:48:01,639 | ERROR    | GraphUtils.py-nodes_types-0034 | Unsupported data type. Dtype: uint8\n",
      "2025-05-06 16:48:01,642 | ERROR    | GraphUtils.py-nodes_types-0034 | Unsupported data type. Dtype: uint8\n",
      "2025-05-06 16:48:01,644 | ERROR    | GraphUtils.py-nodes_types-0034 | Unsupported data type. Dtype: uint8\n",
      "2025-05-06 16:48:01,647 | ERROR    | GraphUtils.py-nodes_types-0034 | Unsupported data type. Dtype: uint8\n",
      "2025-05-06 16:48:01,648 | ERROR    | GraphUtils.py-nodes_types-0034 | Unsupported data type. Dtype: uint8\n",
      "2025-05-06 16:48:01,652 | ERROR    | GraphUtils.py-nodes_types-0034 | Unsupported data type. Dtype: uint8\n"
     ]
    },
    {
     "data": {
      "application/vnd.jupyter.widget-view+json": {
       "model_id": "cc001b06470c45958c163fb2857c31ba",
       "version_major": 2,
       "version_minor": 0
      },
      "text/plain": [
       "  0%|          | 0/200 [00:00<?, ?it/s]"
      ]
     },
     "metadata": {},
     "output_type": "display_data"
    }
   ],
   "source": [
    "feat_to_grad_corr = {}\n",
    "for feat in features_corr+['ape_error']:\n",
    "    feat_to_grad_corr[feat]=[grad for grad in disc_data_encoded_corr.columns if feat in grad]\n",
    "\n",
    "\n",
    "metric_dict = {\n",
    "    'mape': lambda x, y: m.mean_absolute_percentage_error(x,y)*100,\n",
    "    'r2_score': lambda x, y: m.r2_score(x, y)*100\n",
    "}\n",
    "\n",
    "gbn_fs = DiscreteBNGI('')\n",
    "\n",
    "gbn_training_pipeline(gbn_fs, disc_data_encoded_corr, 'ape_error', categories_corr, score=BicScore)"
   ]
  },
  {
   "cell_type": "code",
   "execution_count": 110,
   "id": "1b20242c",
   "metadata": {},
   "outputs": [
    {
     "data": {
      "text/html": [
       "<div>\n",
       "<style scoped>\n",
       "    .dataframe tbody tr th:only-of-type {\n",
       "        vertical-align: middle;\n",
       "    }\n",
       "\n",
       "    .dataframe tbody tr th {\n",
       "        vertical-align: top;\n",
       "    }\n",
       "\n",
       "    .dataframe thead th {\n",
       "        text-align: right;\n",
       "    }\n",
       "</style>\n",
       "<table border=\"1\" class=\"dataframe\">\n",
       "  <thead>\n",
       "    <tr style=\"text-align: right;\">\n",
       "      <th></th>\n",
       "      <th>name</th>\n",
       "      <th>node_type</th>\n",
       "      <th>data_type</th>\n",
       "      <th>parents</th>\n",
       "      <th>parents_types</th>\n",
       "    </tr>\n",
       "  </thead>\n",
       "  <tbody>\n",
       "    <tr>\n",
       "      <th>0</th>\n",
       "      <td>extra_007_2</td>\n",
       "      <td>Discrete</td>\n",
       "      <td>disc</td>\n",
       "      <td>[]</td>\n",
       "      <td>[]</td>\n",
       "    </tr>\n",
       "    <tr>\n",
       "      <th>1</th>\n",
       "      <td>f4P14p9_2</td>\n",
       "      <td>Discrete</td>\n",
       "      <td>disc</td>\n",
       "      <td>[extra_007_2]</td>\n",
       "      <td>[disc]</td>\n",
       "    </tr>\n",
       "    <tr>\n",
       "      <th>2</th>\n",
       "      <td>extra_003_2</td>\n",
       "      <td>Discrete</td>\n",
       "      <td>disc</td>\n",
       "      <td>[f4P14p9_2]</td>\n",
       "      <td>[disc]</td>\n",
       "    </tr>\n",
       "    <tr>\n",
       "      <th>3</th>\n",
       "      <td>extra_007_0</td>\n",
       "      <td>Discrete</td>\n",
       "      <td>disc</td>\n",
       "      <td>[f4P14p9_2, extra_003_2]</td>\n",
       "      <td>[disc, disc]</td>\n",
       "    </tr>\n",
       "    <tr>\n",
       "      <th>4</th>\n",
       "      <td>ape_error_1</td>\n",
       "      <td>Discrete</td>\n",
       "      <td>disc</td>\n",
       "      <td>[extra_003_2]</td>\n",
       "      <td>[disc]</td>\n",
       "    </tr>\n",
       "    <tr>\n",
       "      <th>...</th>\n",
       "      <td>...</td>\n",
       "      <td>...</td>\n",
       "      <td>...</td>\n",
       "      <td>...</td>\n",
       "      <td>...</td>\n",
       "    </tr>\n",
       "    <tr>\n",
       "      <th>79</th>\n",
       "      <td>extra_016_2</td>\n",
       "      <td>Discrete</td>\n",
       "      <td>disc</td>\n",
       "      <td>[f2P6p2_2, f4P14p9_0, extra_017_2]</td>\n",
       "      <td>[disc, disc, disc]</td>\n",
       "    </tr>\n",
       "    <tr>\n",
       "      <th>80</th>\n",
       "      <td>extra_006_1</td>\n",
       "      <td>Discrete</td>\n",
       "      <td>disc</td>\n",
       "      <td>[f3P11p4_1, f7P16p2_0, extra_002_1, extra_022_2]</td>\n",
       "      <td>[disc, disc, disc, disc]</td>\n",
       "    </tr>\n",
       "    <tr>\n",
       "      <th>81</th>\n",
       "      <td>extra_017_1</td>\n",
       "      <td>Discrete</td>\n",
       "      <td>disc</td>\n",
       "      <td>[extra_013_2]</td>\n",
       "      <td>[disc]</td>\n",
       "    </tr>\n",
       "    <tr>\n",
       "      <th>82</th>\n",
       "      <td>extra_011_2</td>\n",
       "      <td>Discrete</td>\n",
       "      <td>disc</td>\n",
       "      <td>[extra_005_2, extra_016_2]</td>\n",
       "      <td>[disc, disc]</td>\n",
       "    </tr>\n",
       "    <tr>\n",
       "      <th>83</th>\n",
       "      <td>extra_011_1</td>\n",
       "      <td>Discrete</td>\n",
       "      <td>disc</td>\n",
       "      <td>[extra_016_2, extra_020_1]</td>\n",
       "      <td>[disc, disc]</td>\n",
       "    </tr>\n",
       "  </tbody>\n",
       "</table>\n",
       "<p>84 rows × 5 columns</p>\n",
       "</div>"
      ],
      "text/plain": [
       "           name node_type data_type  \\\n",
       "0   extra_007_2  Discrete      disc   \n",
       "1     f4P14p9_2  Discrete      disc   \n",
       "2   extra_003_2  Discrete      disc   \n",
       "3   extra_007_0  Discrete      disc   \n",
       "4   ape_error_1  Discrete      disc   \n",
       "..          ...       ...       ...   \n",
       "79  extra_016_2  Discrete      disc   \n",
       "80  extra_006_1  Discrete      disc   \n",
       "81  extra_017_1  Discrete      disc   \n",
       "82  extra_011_2  Discrete      disc   \n",
       "83  extra_011_1  Discrete      disc   \n",
       "\n",
       "                                             parents             parents_types  \n",
       "0                                                 []                        []  \n",
       "1                                      [extra_007_2]                    [disc]  \n",
       "2                                        [f4P14p9_2]                    [disc]  \n",
       "3                           [f4P14p9_2, extra_003_2]              [disc, disc]  \n",
       "4                                      [extra_003_2]                    [disc]  \n",
       "..                                               ...                       ...  \n",
       "79                [f2P6p2_2, f4P14p9_0, extra_017_2]        [disc, disc, disc]  \n",
       "80  [f3P11p4_1, f7P16p2_0, extra_002_1, extra_022_2]  [disc, disc, disc, disc]  \n",
       "81                                     [extra_013_2]                    [disc]  \n",
       "82                        [extra_005_2, extra_016_2]              [disc, disc]  \n",
       "83                        [extra_016_2, extra_020_1]              [disc, disc]  \n",
       "\n",
       "[84 rows x 5 columns]"
      ]
     },
     "execution_count": 110,
     "metadata": {},
     "output_type": "execute_result"
    }
   ],
   "source": [
    "gbn_fs.get_info()"
   ]
  },
  {
   "cell_type": "code",
   "execution_count": 111,
   "id": "19af9b11",
   "metadata": {},
   "outputs": [
    {
     "data": {
      "text/html": [
       "<div>\n",
       "<style scoped>\n",
       "    .dataframe tbody tr th:only-of-type {\n",
       "        vertical-align: middle;\n",
       "    }\n",
       "\n",
       "    .dataframe tbody tr th {\n",
       "        vertical-align: top;\n",
       "    }\n",
       "\n",
       "    .dataframe thead th {\n",
       "        text-align: right;\n",
       "    }\n",
       "</style>\n",
       "<table border=\"1\" class=\"dataframe\">\n",
       "  <thead>\n",
       "    <tr style=\"text-align: right;\">\n",
       "      <th></th>\n",
       "      <th>name</th>\n",
       "      <th>node_type</th>\n",
       "      <th>data_type</th>\n",
       "      <th>parents</th>\n",
       "      <th>parents_types</th>\n",
       "    </tr>\n",
       "  </thead>\n",
       "  <tbody>\n",
       "    <tr>\n",
       "      <th>4</th>\n",
       "      <td>ape_error_1</td>\n",
       "      <td>Discrete</td>\n",
       "      <td>disc</td>\n",
       "      <td>[extra_003_2]</td>\n",
       "      <td>[disc]</td>\n",
       "    </tr>\n",
       "    <tr>\n",
       "      <th>27</th>\n",
       "      <td>ape_error_0</td>\n",
       "      <td>Discrete</td>\n",
       "      <td>disc</td>\n",
       "      <td>[f4P14p9_2, f5P15p1_0]</td>\n",
       "      <td>[disc, disc]</td>\n",
       "    </tr>\n",
       "    <tr>\n",
       "      <th>35</th>\n",
       "      <td>ape_error_2</td>\n",
       "      <td>Discrete</td>\n",
       "      <td>disc</td>\n",
       "      <td>[f3P11p4_2, extra_003_2]</td>\n",
       "      <td>[disc, disc]</td>\n",
       "    </tr>\n",
       "  </tbody>\n",
       "</table>\n",
       "</div>"
      ],
      "text/plain": [
       "           name node_type data_type                   parents parents_types\n",
       "4   ape_error_1  Discrete      disc             [extra_003_2]        [disc]\n",
       "27  ape_error_0  Discrete      disc    [f4P14p9_2, f5P15p1_0]  [disc, disc]\n",
       "35  ape_error_2  Discrete      disc  [f3P11p4_2, extra_003_2]  [disc, disc]"
      ]
     },
     "execution_count": 111,
     "metadata": {},
     "output_type": "execute_result"
    }
   ],
   "source": [
    "_df=gbn_fs.get_info()\n",
    "_df[_df['name'].apply(lambda x: 'ape_error' in x.name)]"
   ]
  },
  {
   "cell_type": "markdown",
   "id": "963afd81",
   "metadata": {},
   "source": [
    "# Univariate Feature selector"
   ]
  },
  {
   "cell_type": "code",
   "execution_count": 112,
   "id": "ec73fb1a",
   "metadata": {},
   "outputs": [],
   "source": [
    "univ_sel = SelectKBest(f_regression, k=len(features_corr))\n",
    "univ_sel.fit(data_dict_corr['val'][features_corr], data_dict_corr['val'][target])\n",
    "df_val_corr_univ = pd.DataFrame({'Feature': univ_sel.feature_names_in_, 'Metric value': univ_sel.pvalues_})"
   ]
  },
  {
   "cell_type": "markdown",
   "id": "8e94ddf8",
   "metadata": {},
   "source": [
    "# RFE on decision tree"
   ]
  },
  {
   "cell_type": "code",
   "execution_count": 113,
   "id": "66559772",
   "metadata": {},
   "outputs": [],
   "source": [
    "rfe_sel = RFE(estimator=DecisionTreeRegressor(random_state=42, max_depth=10,), n_features_to_select=1)\n",
    "#rfe_sel = RFE(estimator=RandomForestClassifier(random_state=42, max_depth=10, n_estimators=50), n_features_to_select=1, )\n",
    "rfe_sel.fit(data_dict_corr['val'][features_corr], data_dict_corr['val'][target])\n",
    "df_val_corr_rfe = pd.DataFrame({'Feature': rfe_sel.feature_names_in_, 'Metric value': rfe_sel.ranking_})"
   ]
  },
  {
   "cell_type": "markdown",
   "id": "006721af",
   "metadata": {},
   "source": [
    "# Lasso from Logistic Regression with L1 penalty"
   ]
  },
  {
   "cell_type": "code",
   "execution_count": 119,
   "id": "979e1c2c",
   "metadata": {},
   "outputs": [],
   "source": [
    "lsvc = Lasso(alpha=0.00005, random_state=42)\n",
    "lsvc.fit(data_dict_corr['val'][features_corr], data_dict_corr['val'][target])\n",
    "lasso_selector = SelectFromModel(lsvc, prefit=True)"
   ]
  },
  {
   "cell_type": "code",
   "execution_count": 120,
   "id": "eb5d5703",
   "metadata": {},
   "outputs": [
    {
     "data": {
      "text/plain": [
       "['extra_003',\n",
       " 'extra_005',\n",
       " 'extra_006',\n",
       " 'extra_010',\n",
       " 'extra_020',\n",
       " 'f3P11p4',\n",
       " 'f5P15p1',\n",
       " 'f6P15p3',\n",
       " 'f7P16p2']"
      ]
     },
     "execution_count": 120,
     "metadata": {},
     "output_type": "execute_result"
    }
   ],
   "source": [
    "lasso_support = [x for i, x in enumerate(features_corr) if lasso_selector.get_support()[i]]\n",
    "lasso_support"
   ]
  },
  {
   "cell_type": "code",
   "execution_count": 121,
   "id": "f7c28adf",
   "metadata": {},
   "outputs": [
    {
     "data": {
      "text/plain": [
       "9"
      ]
     },
     "execution_count": 121,
     "metadata": {},
     "output_type": "execute_result"
    }
   ],
   "source": [
    "len(lasso_support)"
   ]
  },
  {
   "cell_type": "markdown",
   "id": "a7f0e86d",
   "metadata": {},
   "source": [
    "## GBN selector"
   ]
  },
  {
   "cell_type": "code",
   "execution_count": 122,
   "id": "af59082c",
   "metadata": {},
   "outputs": [
    {
     "name": "stderr",
     "output_type": "stream",
     "text": [
      "100%|██████████| 32/32 [00:23<00:00,  1.39it/s]\n"
     ]
    }
   ],
   "source": [
    "df_val_corr_bn=error_based_importance_features_bn(gbn_fs, 'ape_error', features_corr, feat_to_grad_corr).fillna(0)"
   ]
  },
  {
   "cell_type": "markdown",
   "id": "cbf8225e",
   "metadata": {},
   "source": [
    "## GBN selector run"
   ]
  },
  {
   "cell_type": "code",
   "execution_count": 123,
   "id": "e79283c2",
   "metadata": {},
   "outputs": [
    {
     "name": "stderr",
     "output_type": "stream",
     "text": [
      "  0%|          | 0/32 [00:00<?, ?it/s]"
     ]
    },
    {
     "name": "stderr",
     "output_type": "stream",
     "text": [
      "100%|██████████| 32/32 [31:55<00:00, 59.84s/it]\n"
     ]
    }
   ],
   "source": [
    "gbn_res = elimination_experiment(model_corr, data_dict_corr, metric_dict, df_val_corr_bn, direction='asc', task='regr')"
   ]
  },
  {
   "cell_type": "code",
   "execution_count": 124,
   "id": "8c8efaf9",
   "metadata": {},
   "outputs": [
    {
     "data": {
      "text/html": [
       "<div>\n",
       "<style scoped>\n",
       "    .dataframe tbody tr th:only-of-type {\n",
       "        vertical-align: middle;\n",
       "    }\n",
       "\n",
       "    .dataframe tbody tr th {\n",
       "        vertical-align: top;\n",
       "    }\n",
       "\n",
       "    .dataframe thead th {\n",
       "        text-align: right;\n",
       "    }\n",
       "</style>\n",
       "<table border=\"1\" class=\"dataframe\">\n",
       "  <thead>\n",
       "    <tr style=\"text-align: right;\">\n",
       "      <th></th>\n",
       "      <th>n_features</th>\n",
       "      <th>last_excluded</th>\n",
       "      <th>mape</th>\n",
       "      <th>r2_score</th>\n",
       "      <th>mape_change, %</th>\n",
       "      <th>r2_score_change, %</th>\n",
       "    </tr>\n",
       "  </thead>\n",
       "  <tbody>\n",
       "    <tr>\n",
       "      <th>0</th>\n",
       "      <td>32</td>\n",
       "      <td>-</td>\n",
       "      <td>51.413</td>\n",
       "      <td>38.22</td>\n",
       "      <td>0</td>\n",
       "      <td>0</td>\n",
       "    </tr>\n",
       "    <tr>\n",
       "      <th>1</th>\n",
       "      <td>31</td>\n",
       "      <td>extra_018</td>\n",
       "      <td>51.06</td>\n",
       "      <td>38.553</td>\n",
       "      <td>-0.686</td>\n",
       "      <td>0.87</td>\n",
       "    </tr>\n",
       "    <tr>\n",
       "      <th>2</th>\n",
       "      <td>30</td>\n",
       "      <td>extra_001</td>\n",
       "      <td>51.168</td>\n",
       "      <td>38.147</td>\n",
       "      <td>-0.477</td>\n",
       "      <td>-0.192</td>\n",
       "    </tr>\n",
       "    <tr>\n",
       "      <th>3</th>\n",
       "      <td>29</td>\n",
       "      <td>f6P15p3</td>\n",
       "      <td>51.028</td>\n",
       "      <td>38.888</td>\n",
       "      <td>-0.749</td>\n",
       "      <td>1.748</td>\n",
       "    </tr>\n",
       "    <tr>\n",
       "      <th>4</th>\n",
       "      <td>28</td>\n",
       "      <td>extra_013</td>\n",
       "      <td>51.014</td>\n",
       "      <td>38.81</td>\n",
       "      <td>-0.776</td>\n",
       "      <td>1.544</td>\n",
       "    </tr>\n",
       "  </tbody>\n",
       "</table>\n",
       "</div>"
      ],
      "text/plain": [
       "  n_features last_excluded    mape r2_score mape_change, % r2_score_change, %\n",
       "0         32             -  51.413    38.22              0                  0\n",
       "1         31     extra_018   51.06   38.553         -0.686               0.87\n",
       "2         30     extra_001  51.168   38.147         -0.477             -0.192\n",
       "3         29       f6P15p3  51.028   38.888         -0.749              1.748\n",
       "4         28     extra_013  51.014    38.81         -0.776              1.544"
      ]
     },
     "execution_count": 124,
     "metadata": {},
     "output_type": "execute_result"
    }
   ],
   "source": [
    "gbn_res.head()"
   ]
  },
  {
   "cell_type": "code",
   "execution_count": 125,
   "id": "b6d446a1",
   "metadata": {},
   "outputs": [
    {
     "data": {
      "text/html": [
       "<div>\n",
       "<style scoped>\n",
       "    .dataframe tbody tr th:only-of-type {\n",
       "        vertical-align: middle;\n",
       "    }\n",
       "\n",
       "    .dataframe tbody tr th {\n",
       "        vertical-align: top;\n",
       "    }\n",
       "\n",
       "    .dataframe thead th {\n",
       "        text-align: right;\n",
       "    }\n",
       "</style>\n",
       "<table border=\"1\" class=\"dataframe\">\n",
       "  <thead>\n",
       "    <tr style=\"text-align: right;\">\n",
       "      <th></th>\n",
       "      <th>n_features</th>\n",
       "      <th>last_excluded</th>\n",
       "      <th>mape</th>\n",
       "      <th>r2_score</th>\n",
       "      <th>mape_change, %</th>\n",
       "      <th>r2_score_change, %</th>\n",
       "    </tr>\n",
       "  </thead>\n",
       "  <tbody>\n",
       "    <tr>\n",
       "      <th>10</th>\n",
       "      <td>22</td>\n",
       "      <td>f0P1</td>\n",
       "      <td>50.723</td>\n",
       "      <td>39.176</td>\n",
       "      <td>-1.342</td>\n",
       "      <td>2.502</td>\n",
       "    </tr>\n",
       "  </tbody>\n",
       "</table>\n",
       "</div>"
      ],
      "text/plain": [
       "   n_features last_excluded    mape r2_score mape_change, % r2_score_change, %\n",
       "10         22          f0P1  50.723   39.176         -1.342              2.502"
      ]
     },
     "execution_count": 125,
     "metadata": {},
     "output_type": "execute_result"
    }
   ],
   "source": [
    "get_best_record(gbn_res, 'mape', mode='min')"
   ]
  },
  {
   "cell_type": "code",
   "execution_count": 126,
   "id": "1c1adf80",
   "metadata": {},
   "outputs": [
    {
     "data": {
      "text/html": [
       "<div>\n",
       "<style scoped>\n",
       "    .dataframe tbody tr th:only-of-type {\n",
       "        vertical-align: middle;\n",
       "    }\n",
       "\n",
       "    .dataframe tbody tr th {\n",
       "        vertical-align: top;\n",
       "    }\n",
       "\n",
       "    .dataframe thead th {\n",
       "        text-align: right;\n",
       "    }\n",
       "</style>\n",
       "<table border=\"1\" class=\"dataframe\">\n",
       "  <thead>\n",
       "    <tr style=\"text-align: right;\">\n",
       "      <th></th>\n",
       "      <th>n_features</th>\n",
       "      <th>last_excluded</th>\n",
       "      <th>mape</th>\n",
       "      <th>r2_score</th>\n",
       "      <th>mape_change, %</th>\n",
       "      <th>r2_score_change, %</th>\n",
       "    </tr>\n",
       "  </thead>\n",
       "  <tbody>\n",
       "    <tr>\n",
       "      <th>8</th>\n",
       "      <td>24</td>\n",
       "      <td>extra_004</td>\n",
       "      <td>51.397</td>\n",
       "      <td>39.588</td>\n",
       "      <td>-0.03</td>\n",
       "      <td>3.578</td>\n",
       "    </tr>\n",
       "  </tbody>\n",
       "</table>\n",
       "</div>"
      ],
      "text/plain": [
       "  n_features last_excluded    mape r2_score mape_change, % r2_score_change, %\n",
       "8         24     extra_004  51.397   39.588          -0.03              3.578"
      ]
     },
     "execution_count": 126,
     "metadata": {},
     "output_type": "execute_result"
    }
   ],
   "source": [
    "get_best_record(gbn_res, 'r2_score')"
   ]
  },
  {
   "cell_type": "code",
   "execution_count": 127,
   "id": "c1e5ed05",
   "metadata": {},
   "outputs": [
    {
     "name": "stderr",
     "output_type": "stream",
     "text": [
      "100%|██████████| 32/32 [24:38<00:00, 46.19s/it]\n"
     ]
    },
    {
     "data": {
      "text/html": [
       "<div>\n",
       "<style scoped>\n",
       "    .dataframe tbody tr th:only-of-type {\n",
       "        vertical-align: middle;\n",
       "    }\n",
       "\n",
       "    .dataframe tbody tr th {\n",
       "        vertical-align: top;\n",
       "    }\n",
       "\n",
       "    .dataframe thead th {\n",
       "        text-align: right;\n",
       "    }\n",
       "</style>\n",
       "<table border=\"1\" class=\"dataframe\">\n",
       "  <thead>\n",
       "    <tr style=\"text-align: right;\">\n",
       "      <th></th>\n",
       "      <th>n_features</th>\n",
       "      <th>last_excluded</th>\n",
       "      <th>mape</th>\n",
       "      <th>r2_score</th>\n",
       "      <th>mape_change, %</th>\n",
       "      <th>r2_score_change, %</th>\n",
       "    </tr>\n",
       "  </thead>\n",
       "  <tbody>\n",
       "    <tr>\n",
       "      <th>0</th>\n",
       "      <td>32</td>\n",
       "      <td>-</td>\n",
       "      <td>50.929</td>\n",
       "      <td>38.489</td>\n",
       "      <td>0</td>\n",
       "      <td>0</td>\n",
       "    </tr>\n",
       "    <tr>\n",
       "      <th>1</th>\n",
       "      <td>31</td>\n",
       "      <td>extra_003</td>\n",
       "      <td>51.173</td>\n",
       "      <td>38.577</td>\n",
       "      <td>0.479</td>\n",
       "      <td>0.228</td>\n",
       "    </tr>\n",
       "    <tr>\n",
       "      <th>2</th>\n",
       "      <td>30</td>\n",
       "      <td>f4P14p9</td>\n",
       "      <td>51.143</td>\n",
       "      <td>38.47</td>\n",
       "      <td>0.419</td>\n",
       "      <td>-0.048</td>\n",
       "    </tr>\n",
       "    <tr>\n",
       "      <th>3</th>\n",
       "      <td>29</td>\n",
       "      <td>extra_007</td>\n",
       "      <td>52.139</td>\n",
       "      <td>37.441</td>\n",
       "      <td>2.377</td>\n",
       "      <td>-2.723</td>\n",
       "    </tr>\n",
       "    <tr>\n",
       "      <th>4</th>\n",
       "      <td>28</td>\n",
       "      <td>extra_022</td>\n",
       "      <td>53.117</td>\n",
       "      <td>35.105</td>\n",
       "      <td>4.297</td>\n",
       "      <td>-8.791</td>\n",
       "    </tr>\n",
       "  </tbody>\n",
       "</table>\n",
       "</div>"
      ],
      "text/plain": [
       "  n_features last_excluded    mape r2_score mape_change, % r2_score_change, %\n",
       "0         32             -  50.929   38.489              0                  0\n",
       "1         31     extra_003  51.173   38.577          0.479              0.228\n",
       "2         30       f4P14p9  51.143    38.47          0.419             -0.048\n",
       "3         29     extra_007  52.139   37.441          2.377             -2.723\n",
       "4         28     extra_022  53.117   35.105          4.297             -8.791"
      ]
     },
     "execution_count": 127,
     "metadata": {},
     "output_type": "execute_result"
    }
   ],
   "source": [
    "df_corr_excluded_asc_univ=elimination_experiment(model_corr, data_dict_corr, metric_dict,\n",
    "                       df_val_corr_univ, 'asc', task='regr')\n",
    "df_corr_excluded_asc_univ.head()"
   ]
  },
  {
   "cell_type": "code",
   "execution_count": 128,
   "id": "eab67dc9",
   "metadata": {},
   "outputs": [
    {
     "data": {
      "text/html": [
       "<div>\n",
       "<style scoped>\n",
       "    .dataframe tbody tr th:only-of-type {\n",
       "        vertical-align: middle;\n",
       "    }\n",
       "\n",
       "    .dataframe tbody tr th {\n",
       "        vertical-align: top;\n",
       "    }\n",
       "\n",
       "    .dataframe thead th {\n",
       "        text-align: right;\n",
       "    }\n",
       "</style>\n",
       "<table border=\"1\" class=\"dataframe\">\n",
       "  <thead>\n",
       "    <tr style=\"text-align: right;\">\n",
       "      <th></th>\n",
       "      <th>n_features</th>\n",
       "      <th>last_excluded</th>\n",
       "      <th>mape</th>\n",
       "      <th>r2_score</th>\n",
       "      <th>mape_change, %</th>\n",
       "      <th>r2_score_change, %</th>\n",
       "    </tr>\n",
       "  </thead>\n",
       "  <tbody>\n",
       "    <tr>\n",
       "      <th>0</th>\n",
       "      <td>32</td>\n",
       "      <td>-</td>\n",
       "      <td>50.929</td>\n",
       "      <td>38.489</td>\n",
       "      <td>0</td>\n",
       "      <td>0</td>\n",
       "    </tr>\n",
       "  </tbody>\n",
       "</table>\n",
       "</div>"
      ],
      "text/plain": [
       "  n_features last_excluded    mape r2_score mape_change, % r2_score_change, %\n",
       "0         32             -  50.929   38.489              0                  0"
      ]
     },
     "execution_count": 128,
     "metadata": {},
     "output_type": "execute_result"
    }
   ],
   "source": [
    "get_best_record(df_corr_excluded_asc_univ, 'mape', mode='min')"
   ]
  },
  {
   "cell_type": "code",
   "execution_count": 129,
   "id": "71c56ca0",
   "metadata": {},
   "outputs": [
    {
     "data": {
      "text/html": [
       "<div>\n",
       "<style scoped>\n",
       "    .dataframe tbody tr th:only-of-type {\n",
       "        vertical-align: middle;\n",
       "    }\n",
       "\n",
       "    .dataframe tbody tr th {\n",
       "        vertical-align: top;\n",
       "    }\n",
       "\n",
       "    .dataframe thead th {\n",
       "        text-align: right;\n",
       "    }\n",
       "</style>\n",
       "<table border=\"1\" class=\"dataframe\">\n",
       "  <thead>\n",
       "    <tr style=\"text-align: right;\">\n",
       "      <th></th>\n",
       "      <th>n_features</th>\n",
       "      <th>last_excluded</th>\n",
       "      <th>mape</th>\n",
       "      <th>r2_score</th>\n",
       "      <th>mape_change, %</th>\n",
       "      <th>r2_score_change, %</th>\n",
       "    </tr>\n",
       "  </thead>\n",
       "  <tbody>\n",
       "    <tr>\n",
       "      <th>1</th>\n",
       "      <td>31</td>\n",
       "      <td>extra_003</td>\n",
       "      <td>51.173</td>\n",
       "      <td>38.577</td>\n",
       "      <td>0.479</td>\n",
       "      <td>0.228</td>\n",
       "    </tr>\n",
       "  </tbody>\n",
       "</table>\n",
       "</div>"
      ],
      "text/plain": [
       "  n_features last_excluded    mape r2_score mape_change, % r2_score_change, %\n",
       "1         31     extra_003  51.173   38.577          0.479              0.228"
      ]
     },
     "execution_count": 129,
     "metadata": {},
     "output_type": "execute_result"
    }
   ],
   "source": [
    "get_best_record(df_corr_excluded_asc_univ, 'r2_score')"
   ]
  },
  {
   "cell_type": "code",
   "execution_count": 130,
   "id": "56c0f60c",
   "metadata": {},
   "outputs": [
    {
     "name": "stderr",
     "output_type": "stream",
     "text": [
      "  0%|          | 0/32 [00:00<?, ?it/s]"
     ]
    },
    {
     "name": "stderr",
     "output_type": "stream",
     "text": [
      "100%|██████████| 32/32 [21:44<00:00, 40.77s/it]\n"
     ]
    },
    {
     "data": {
      "text/html": [
       "<div>\n",
       "<style scoped>\n",
       "    .dataframe tbody tr th:only-of-type {\n",
       "        vertical-align: middle;\n",
       "    }\n",
       "\n",
       "    .dataframe tbody tr th {\n",
       "        vertical-align: top;\n",
       "    }\n",
       "\n",
       "    .dataframe thead th {\n",
       "        text-align: right;\n",
       "    }\n",
       "</style>\n",
       "<table border=\"1\" class=\"dataframe\">\n",
       "  <thead>\n",
       "    <tr style=\"text-align: right;\">\n",
       "      <th></th>\n",
       "      <th>n_features</th>\n",
       "      <th>last_excluded</th>\n",
       "      <th>mape</th>\n",
       "      <th>r2_score</th>\n",
       "      <th>mape_change, %</th>\n",
       "      <th>r2_score_change, %</th>\n",
       "    </tr>\n",
       "  </thead>\n",
       "  <tbody>\n",
       "    <tr>\n",
       "      <th>0</th>\n",
       "      <td>32</td>\n",
       "      <td>-</td>\n",
       "      <td>51.362</td>\n",
       "      <td>38.131</td>\n",
       "      <td>0</td>\n",
       "      <td>0</td>\n",
       "    </tr>\n",
       "    <tr>\n",
       "      <th>1</th>\n",
       "      <td>31</td>\n",
       "      <td>extra_024</td>\n",
       "      <td>51.591</td>\n",
       "      <td>37.563</td>\n",
       "      <td>0.445</td>\n",
       "      <td>-1.489</td>\n",
       "    </tr>\n",
       "    <tr>\n",
       "      <th>2</th>\n",
       "      <td>30</td>\n",
       "      <td>extra_009</td>\n",
       "      <td>51.143</td>\n",
       "      <td>38.795</td>\n",
       "      <td>-0.426</td>\n",
       "      <td>1.742</td>\n",
       "    </tr>\n",
       "    <tr>\n",
       "      <th>3</th>\n",
       "      <td>29</td>\n",
       "      <td>extra_004</td>\n",
       "      <td>51.173</td>\n",
       "      <td>38.514</td>\n",
       "      <td>-0.368</td>\n",
       "      <td>1.004</td>\n",
       "    </tr>\n",
       "    <tr>\n",
       "      <th>4</th>\n",
       "      <td>28</td>\n",
       "      <td>f6P15p3</td>\n",
       "      <td>51.37</td>\n",
       "      <td>38.045</td>\n",
       "      <td>0.015</td>\n",
       "      <td>-0.226</td>\n",
       "    </tr>\n",
       "  </tbody>\n",
       "</table>\n",
       "</div>"
      ],
      "text/plain": [
       "  n_features last_excluded    mape r2_score mape_change, % r2_score_change, %\n",
       "0         32             -  51.362   38.131              0                  0\n",
       "1         31     extra_024  51.591   37.563          0.445             -1.489\n",
       "2         30     extra_009  51.143   38.795         -0.426              1.742\n",
       "3         29     extra_004  51.173   38.514         -0.368              1.004\n",
       "4         28       f6P15p3   51.37   38.045          0.015             -0.226"
      ]
     },
     "execution_count": 130,
     "metadata": {},
     "output_type": "execute_result"
    }
   ],
   "source": [
    "df_corr_excluded_rfe=elimination_experiment(model_corr, data_dict_corr, metric_dict,\n",
    "                       df_val_corr_rfe, 'desc', task='regr')\n",
    "df_corr_excluded_rfe.head()"
   ]
  },
  {
   "cell_type": "code",
   "execution_count": 131,
   "id": "7979f672",
   "metadata": {},
   "outputs": [
    {
     "data": {
      "text/html": [
       "<div>\n",
       "<style scoped>\n",
       "    .dataframe tbody tr th:only-of-type {\n",
       "        vertical-align: middle;\n",
       "    }\n",
       "\n",
       "    .dataframe tbody tr th {\n",
       "        vertical-align: top;\n",
       "    }\n",
       "\n",
       "    .dataframe thead th {\n",
       "        text-align: right;\n",
       "    }\n",
       "</style>\n",
       "<table border=\"1\" class=\"dataframe\">\n",
       "  <thead>\n",
       "    <tr style=\"text-align: right;\">\n",
       "      <th></th>\n",
       "      <th>n_features</th>\n",
       "      <th>last_excluded</th>\n",
       "      <th>mape</th>\n",
       "      <th>r2_score</th>\n",
       "      <th>mape_change, %</th>\n",
       "      <th>r2_score_change, %</th>\n",
       "    </tr>\n",
       "  </thead>\n",
       "  <tbody>\n",
       "    <tr>\n",
       "      <th>25</th>\n",
       "      <td>7</td>\n",
       "      <td>extra_010</td>\n",
       "      <td>50.184</td>\n",
       "      <td>37.522</td>\n",
       "      <td>-2.293</td>\n",
       "      <td>-1.597</td>\n",
       "    </tr>\n",
       "  </tbody>\n",
       "</table>\n",
       "</div>"
      ],
      "text/plain": [
       "   n_features last_excluded    mape r2_score mape_change, % r2_score_change, %\n",
       "25          7     extra_010  50.184   37.522         -2.293             -1.597"
      ]
     },
     "execution_count": 131,
     "metadata": {},
     "output_type": "execute_result"
    }
   ],
   "source": [
    "get_best_record(df_corr_excluded_rfe, 'mape', mode='min')"
   ]
  },
  {
   "cell_type": "code",
   "execution_count": 132,
   "id": "8d6a0be3",
   "metadata": {},
   "outputs": [
    {
     "data": {
      "text/html": [
       "<div>\n",
       "<style scoped>\n",
       "    .dataframe tbody tr th:only-of-type {\n",
       "        vertical-align: middle;\n",
       "    }\n",
       "\n",
       "    .dataframe tbody tr th {\n",
       "        vertical-align: top;\n",
       "    }\n",
       "\n",
       "    .dataframe thead th {\n",
       "        text-align: right;\n",
       "    }\n",
       "</style>\n",
       "<table border=\"1\" class=\"dataframe\">\n",
       "  <thead>\n",
       "    <tr style=\"text-align: right;\">\n",
       "      <th></th>\n",
       "      <th>n_features</th>\n",
       "      <th>last_excluded</th>\n",
       "      <th>mape</th>\n",
       "      <th>r2_score</th>\n",
       "      <th>mape_change, %</th>\n",
       "      <th>r2_score_change, %</th>\n",
       "    </tr>\n",
       "  </thead>\n",
       "  <tbody>\n",
       "    <tr>\n",
       "      <th>11</th>\n",
       "      <td>21</td>\n",
       "      <td>extra_020</td>\n",
       "      <td>51.247</td>\n",
       "      <td>39.311</td>\n",
       "      <td>-0.223</td>\n",
       "      <td>3.095</td>\n",
       "    </tr>\n",
       "  </tbody>\n",
       "</table>\n",
       "</div>"
      ],
      "text/plain": [
       "   n_features last_excluded    mape r2_score mape_change, % r2_score_change, %\n",
       "11         21     extra_020  51.247   39.311         -0.223              3.095"
      ]
     },
     "execution_count": 132,
     "metadata": {},
     "output_type": "execute_result"
    }
   ],
   "source": [
    "get_best_record(df_corr_excluded_rfe, 'r2_score')"
   ]
  },
  {
   "cell_type": "code",
   "execution_count": 133,
   "id": "8cc01c98",
   "metadata": {},
   "outputs": [
    {
     "data": {
      "text/plain": [
       "[56.183, 34.581]"
      ]
     },
     "execution_count": 133,
     "metadata": {},
     "output_type": "execute_result"
    }
   ],
   "source": [
    "single_run(model_corr, data_dict_corr, lasso_support, target, metric_dict, task='regr')"
   ]
  },
  {
   "cell_type": "code",
   "execution_count": null,
   "id": "d6799715",
   "metadata": {},
   "outputs": [],
   "source": [
    "#logging mape (probably woth to be negative mape)\n",
    "0.5 random, base 18.467, gbn 17.877, univ 18.467, rfe 18.103 , lasso: 17.89\n",
    "0.75 random, base 19.137, gbn 18.346, univ 19.137, rfe 18.239 , lasso: 18.338\n",
    "0.5 noisy, base 18.337, gbn 17.927, univ 18.337, rfe  18.109, lasso: 18.221\n",
    "0.75 noisy, base 18.442, gbn 17.960, univ 18.442, rfe  18.185, lasso: 18.586\n",
    "0.5 prod, base 17.865, gbn 17.865, univ 17.865, rfe 17.802, lasso: 17.762\n",
    "0.75 prod, base 18.442, gbn 18.417, univ 18.382, rfe 18.029, lasso: 18.585\n"
   ]
  },
  {
   "cell_type": "code",
   "execution_count": null,
   "id": "b7996a30",
   "metadata": {},
   "outputs": [],
   "source": [
    "# logging r2_score\n",
    "0.5 random, base 81.675, gbn 82.667, univ 81.675, rfe  82.27, lasso: 82.616 \n",
    "0.75 random, base 80.482, gbn 81.832, univ 80.619, rfe  82.188, lasso: 81.806\n",
    "0.5 noisy, base 81.813, gbn 82.479, univ 81.863, rfe  82.047, lasso: 81.88\n",
    "0.75 noisy, base 81.637, gbn 82.039, univ 81.596, rfe  81.97, lasso: 81.392\n",
    "0.5 prod, base 81.97, gbn 81.97, univ 82.176, rfe 82.438, lasso: 82.363\n",
    "0.75 prod, base 81.637, gbn 81.637, univ 81.704, rfe 82.364, lasso: 80.941\n"
   ]
  },
  {
   "cell_type": "code",
   "execution_count": null,
   "id": "ff9f0696",
   "metadata": {},
   "outputs": [],
   "source": [
    "# #logging mape\n",
    "# 0.5 random, base 17.877, gbn 80.075, univ 79.953, rfe 79.953, lasso: 79.944\n",
    "# 0.75 random, base 80.119, gbn 80.55\t, univ 80.119, rfe 80.119, lasso: 80.242\n",
    "\n",
    "# 0.5 noisy base 80.42, gbn 80.58\t, univ 80.42, rfe 80.578, lasso: 80.515\n",
    "# 0.75 noisy base 80.264, gbn 80.311, univ 80.264, rfe 80.264, lasso: 80.633\n",
    "\n",
    "# 0.5 prod base 80.007, gbn 80.203\t, univ 80.022, rfe 80.448, lasso: 80.422\n",
    "# 0.75 prod base 80.36, gbn 80.422\t, univ 80.549, rfe 80.542, lasso: 80.316\n"
   ]
  }
 ],
 "metadata": {
  "kernelspec": {
   "display_name": "venv",
   "language": "python",
   "name": "python3"
  },
  "language_info": {
   "codemirror_mode": {
    "name": "ipython",
    "version": 3
   },
   "file_extension": ".py",
   "mimetype": "text/x-python",
   "name": "python",
   "nbconvert_exporter": "python",
   "pygments_lexer": "ipython3",
   "version": "3.10.11"
  }
 },
 "nbformat": 4,
 "nbformat_minor": 5
}
