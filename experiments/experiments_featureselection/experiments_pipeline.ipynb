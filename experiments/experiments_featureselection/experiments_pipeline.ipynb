{
 "cells": [
  {
   "cell_type": "code",
   "execution_count": null,
   "id": "2ba8b873",
   "metadata": {},
   "outputs": [],
   "source": [
    "# Univariate feature selector\n",
    "univ_sel = SelectKBest(k=len(features_corr))\n",
    "univ_sel.fit(data_dict_corr['val'][features_corr], data_dict_corr['val'][target])"
   ]
  }
 ],
 "metadata": {
  "language_info": {
   "name": "python"
  }
 },
 "nbformat": 4,
 "nbformat_minor": 5
}
