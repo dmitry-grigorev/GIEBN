{
 "cells": [
  {
   "cell_type": "code",
   "execution_count": 2,
   "id": "de643df9",
   "metadata": {},
   "outputs": [
    {
     "data": {
      "text/plain": [
       "'c:/Users/User/PycharmProjects/GIEBN'"
      ]
     },
     "execution_count": 2,
     "metadata": {},
     "output_type": "execute_result"
    }
   ],
   "source": [
    "import os\n",
    "\n",
    "import sys\n",
    "sys.path.append(\"C:\\\\Users\\\\User\\\\PycharmProjects\\\\GIEBN\\\\src\")\n",
    "sys.path.append(\"C:\\\\Users\\\\User\\\\PycharmProjects\\\\GIEBN\")\n",
    "sys.path.append(\"C:\\\\Users\\\\User\\\\PycharmProjects\\\\GIEBN\\\\venv\")\n",
    "\n",
    "path = os.getcwd()\n",
    "\n",
    "curr_path = path.replace('\\\\', '/')\n",
    "head_place = curr_path.find('GIEBN')\n",
    "main_path = curr_path[:head_place]+'GIEBN'\n",
    "main_path"
   ]
  },
  {
   "cell_type": "code",
   "execution_count": 86,
   "id": "d5c23947",
   "metadata": {},
   "outputs": [],
   "source": [
    "from sklearn.linear_model import LogisticRegression\n",
    "from sklearn.ensemble import GradientBoostingClassifier, RandomForestClassifier\n",
    "import pandas as pd\n",
    "import numpy as np\n",
    "import matplotlib.pyplot as plt\n",
    "import seaborn as sns\n",
    "from sklearn.preprocessing import KBinsDiscretizer, FunctionTransformer, OrdinalEncoder, OneHotEncoder\n",
    "from sklearn.pipeline import make_pipeline, make_union\n",
    "from sklearn.datasets import make_regression\n",
    "from sklearn.tree import DecisionTreeClassifier\n",
    "\n",
    "from sklearn.svm import LinearSVC\n",
    "from sklearn.feature_selection import SelectFromModel\n",
    "\n",
    "from sklearn.model_selection import train_test_split\n",
    "from sklearn.feature_selection import SelectKBest, RFE\n",
    "\n",
    "from auxiliary.auxiliary import construct_by_kmeans\n",
    "\n",
    "from pgmpy.factors.discrete.CPD import TabularCPD\n",
    "from pgmpy.models import BayesianNetwork\n",
    "import yodo.yodo\n",
    "import matplotlib.pyplot as plt\n",
    "from pgmpy.estimators import PC, BicScore, K2Score\n",
    "from pgmpy.inference import VariableElimination\n",
    "from bamt.networks.discrete_bn import DiscreteBN\n",
    "from bamt_inherited.networks.discrete import DiscreteBNGI\n",
    "import shap\n",
    "from sklearn import metrics as m\n",
    "from tqdm import tqdm\n",
    "from itertools import product\n",
    "import optuna\n",
    "from copy import copy"
   ]
  },
  {
   "cell_type": "code",
   "execution_count": 30,
   "id": "3b842b01",
   "metadata": {},
   "outputs": [],
   "source": [
    "optuna.logging.set_verbosity(optuna.logging.WARNING)"
   ]
  },
  {
   "cell_type": "code",
   "execution_count": 93,
   "id": "6c4a99c7",
   "metadata": {},
   "outputs": [],
   "source": [
    "%run ../common_code.ipynb"
   ]
  },
  {
   "cell_type": "code",
   "execution_count": 8,
   "id": "29c48917",
   "metadata": {},
   "outputs": [
    {
     "name": "stdout",
     "output_type": "stream",
     "text": [
      "Index(['RevolvingUtilizationOfUnsecuredLines', 'age',\n",
      "       'NumberOfTime30-59DaysPastDueNotWorse', 'DebtRatio', 'MonthlyIncome',\n",
      "       'NumberOfOpenCreditLinesAndLoans', 'NumberOfTimes90DaysLate',\n",
      "       'NumberRealEstateLoansOrLines', 'NumberOfTime60-89DaysPastDueNotWorse',\n",
      "       'NumberOfDependents', 'SeriousDlqin2yrs'],\n",
      "      dtype='object')\n"
     ]
    },
    {
     "data": {
      "text/html": [
       "<div>\n",
       "<style scoped>\n",
       "    .dataframe tbody tr th:only-of-type {\n",
       "        vertical-align: middle;\n",
       "    }\n",
       "\n",
       "    .dataframe tbody tr th {\n",
       "        vertical-align: top;\n",
       "    }\n",
       "\n",
       "    .dataframe thead th {\n",
       "        text-align: right;\n",
       "    }\n",
       "</style>\n",
       "<table border=\"1\" class=\"dataframe\">\n",
       "  <thead>\n",
       "    <tr style=\"text-align: right;\">\n",
       "      <th></th>\n",
       "      <th>RevolvingUtilizationOfUnsecuredLines</th>\n",
       "      <th>age</th>\n",
       "      <th>DebtRatio</th>\n",
       "      <th>MonthlyIncome</th>\n",
       "      <th>NumberOfOpenCreditLinesAndLoans</th>\n",
       "      <th>NumberRealEstateLoansOrLines</th>\n",
       "      <th>NumberOfDependents</th>\n",
       "      <th>default</th>\n",
       "    </tr>\n",
       "  </thead>\n",
       "  <tbody>\n",
       "    <tr>\n",
       "      <th>0</th>\n",
       "      <td>0.006999</td>\n",
       "      <td>38</td>\n",
       "      <td>0.302150</td>\n",
       "      <td>5440.0</td>\n",
       "      <td>4</td>\n",
       "      <td>1</td>\n",
       "      <td>3</td>\n",
       "      <td>0</td>\n",
       "    </tr>\n",
       "    <tr>\n",
       "      <th>1</th>\n",
       "      <td>0.704592</td>\n",
       "      <td>63</td>\n",
       "      <td>0.471441</td>\n",
       "      <td>8000.0</td>\n",
       "      <td>9</td>\n",
       "      <td>1</td>\n",
       "      <td>0</td>\n",
       "      <td>0</td>\n",
       "    </tr>\n",
       "    <tr>\n",
       "      <th>2</th>\n",
       "      <td>0.063113</td>\n",
       "      <td>57</td>\n",
       "      <td>0.068586</td>\n",
       "      <td>5000.0</td>\n",
       "      <td>17</td>\n",
       "      <td>0</td>\n",
       "      <td>0</td>\n",
       "      <td>0</td>\n",
       "    </tr>\n",
       "    <tr>\n",
       "      <th>3</th>\n",
       "      <td>0.368397</td>\n",
       "      <td>68</td>\n",
       "      <td>0.296273</td>\n",
       "      <td>6250.0</td>\n",
       "      <td>16</td>\n",
       "      <td>2</td>\n",
       "      <td>0</td>\n",
       "      <td>0</td>\n",
       "    </tr>\n",
       "    <tr>\n",
       "      <th>4</th>\n",
       "      <td>1.000000</td>\n",
       "      <td>34</td>\n",
       "      <td>0.000000</td>\n",
       "      <td>3500.0</td>\n",
       "      <td>0</td>\n",
       "      <td>0</td>\n",
       "      <td>1</td>\n",
       "      <td>0</td>\n",
       "    </tr>\n",
       "    <tr>\n",
       "      <th>5</th>\n",
       "      <td>0.051799</td>\n",
       "      <td>63</td>\n",
       "      <td>0.770687</td>\n",
       "      <td>4700.0</td>\n",
       "      <td>16</td>\n",
       "      <td>1</td>\n",
       "      <td>1</td>\n",
       "      <td>0</td>\n",
       "    </tr>\n",
       "    <tr>\n",
       "      <th>6</th>\n",
       "      <td>0.648733</td>\n",
       "      <td>40</td>\n",
       "      <td>0.402060</td>\n",
       "      <td>6600.0</td>\n",
       "      <td>10</td>\n",
       "      <td>2</td>\n",
       "      <td>3</td>\n",
       "      <td>0</td>\n",
       "    </tr>\n",
       "    <tr>\n",
       "      <th>7</th>\n",
       "      <td>0.767270</td>\n",
       "      <td>33</td>\n",
       "      <td>0.338390</td>\n",
       "      <td>5800.0</td>\n",
       "      <td>10</td>\n",
       "      <td>0</td>\n",
       "      <td>3</td>\n",
       "      <td>0</td>\n",
       "    </tr>\n",
       "    <tr>\n",
       "      <th>8</th>\n",
       "      <td>0.190111</td>\n",
       "      <td>27</td>\n",
       "      <td>0.164605</td>\n",
       "      <td>3960.0</td>\n",
       "      <td>6</td>\n",
       "      <td>0</td>\n",
       "      <td>1</td>\n",
       "      <td>0</td>\n",
       "    </tr>\n",
       "    <tr>\n",
       "      <th>9</th>\n",
       "      <td>0.139989</td>\n",
       "      <td>65</td>\n",
       "      <td>0.258397</td>\n",
       "      <td>6400.0</td>\n",
       "      <td>6</td>\n",
       "      <td>1</td>\n",
       "      <td>0</td>\n",
       "      <td>0</td>\n",
       "    </tr>\n",
       "  </tbody>\n",
       "</table>\n",
       "</div>"
      ],
      "text/plain": [
       "   RevolvingUtilizationOfUnsecuredLines  age  DebtRatio  MonthlyIncome  \\\n",
       "0                              0.006999   38   0.302150         5440.0   \n",
       "1                              0.704592   63   0.471441         8000.0   \n",
       "2                              0.063113   57   0.068586         5000.0   \n",
       "3                              0.368397   68   0.296273         6250.0   \n",
       "4                              1.000000   34   0.000000         3500.0   \n",
       "5                              0.051799   63   0.770687         4700.0   \n",
       "6                              0.648733   40   0.402060         6600.0   \n",
       "7                              0.767270   33   0.338390         5800.0   \n",
       "8                              0.190111   27   0.164605         3960.0   \n",
       "9                              0.139989   65   0.258397         6400.0   \n",
       "\n",
       "   NumberOfOpenCreditLinesAndLoans  NumberRealEstateLoansOrLines  \\\n",
       "0                                4                             1   \n",
       "1                                9                             1   \n",
       "2                               17                             0   \n",
       "3                               16                             2   \n",
       "4                                0                             0   \n",
       "5                               16                             1   \n",
       "6                               10                             2   \n",
       "7                               10                             0   \n",
       "8                                6                             0   \n",
       "9                                6                             1   \n",
       "\n",
       "   NumberOfDependents  default  \n",
       "0                   3        0  \n",
       "1                   0        0  \n",
       "2                   0        0  \n",
       "3                   0        0  \n",
       "4                   1        0  \n",
       "5                   1        0  \n",
       "6                   3        0  \n",
       "7                   3        0  \n",
       "8                   1        0  \n",
       "9                   0        0  "
      ]
     },
     "execution_count": 8,
     "metadata": {},
     "output_type": "execute_result"
    }
   ],
   "source": [
    "data = pd.read_csv(\"../../datasets/credit.csv\")\n",
    "print(data.columns)\n",
    "#data = data.reset_index().drop(columns=[\"index\"])\n",
    "n_features = data.shape[1]-1\n",
    "n = data.shape[0]\n",
    "data[\"default\"] = (data[\"NumberOfTimes90DaysLate\"] > 0).astype(int)\n",
    "data.drop(columns=[\"NumberOfTimes90DaysLate\", 'NumberOfTime60-89DaysPastDueNotWorse', 'SeriousDlqin2yrs',\n",
    "                   'NumberOfTime30-59DaysPastDueNotWorse'], inplace=True)\n",
    "n_features = data.shape[1]-1\n",
    "n = data.shape[0]\n",
    "data.rename(columns={feat: \"\".join(feat.split(\"-\")) for feat in data.columns}, inplace=True)\n",
    "target = \"default\"\n",
    "features = data.columns.difference([target]).tolist()\n",
    "\n",
    "data.head(10)"
   ]
  },
  {
   "cell_type": "code",
   "execution_count": 230,
   "id": "9b791857",
   "metadata": {},
   "outputs": [],
   "source": [
    "data_corr = add_extra_features(data, features, extra_size=0.75, mode='prod')"
   ]
  },
  {
   "cell_type": "code",
   "execution_count": 231,
   "id": "a03769a9",
   "metadata": {},
   "outputs": [],
   "source": [
    "data_dict_corr = {}\n",
    "\n",
    "data_tv, data_dict_corr['test'] = train_test_split(data_corr, test_size=0.15, random_state=42,\n",
    "                                      stratify=data_corr[target])\n",
    "\n",
    "data_dict_corr['train'], data_dict_corr['val'] = train_test_split(data_tv, test_size=0.15, random_state=42,\n",
    "                                      stratify=data_tv[target])\n",
    "\n",
    "features_corr = list(data_corr.columns.difference([target]))"
   ]
  },
  {
   "cell_type": "code",
   "execution_count": 232,
   "id": "0ada96fb",
   "metadata": {},
   "outputs": [],
   "source": [
    "def objective(trial, features, target, data_dict):\n",
    "    n_estimators= trial.suggest_int(\"n_estimators\", low=params_net['n_estimators'][0], high=params_net['n_estimators'][1], step=1)\n",
    "    max_depth= trial.suggest_int(\"max_depth\", low=params_net['max_depth'][0], high=params_net['max_depth'][1], step=1)\n",
    "    learning_rate=trial.suggest_float(\"learning_rate\", low=params_net['learning_rate'][0], high=params_net['learning_rate'][1],log=True)\n",
    "    \n",
    "    clf = GradientBoostingClassifier(random_state=42, n_estimators=n_estimators,\n",
    "                                     max_depth=max_depth, learning_rate=learning_rate)\n",
    "    clf.fit(data_dict['train'][features], data_dict['train'][target])\n",
    "    return score_classif(clf, data_dict['val'][features], data_dict['val'][target])\n",
    "\n",
    "params_net = {\n",
    "    'n_estimators': [10, 100],\n",
    "    'max_depth': [3, 10],\n",
    "    'learning_rate':[1e-5, 1]\n",
    "}\n"
   ]
  },
  {
   "cell_type": "markdown",
   "id": "0dde69b4",
   "metadata": {},
   "source": [
    "# Initial model for error calculation"
   ]
  },
  {
   "cell_type": "code",
   "execution_count": 233,
   "id": "c0ef96d8",
   "metadata": {},
   "outputs": [
    {
     "data": {
      "application/vnd.jupyter.widget-view+json": {
       "model_id": "04c253786df7441db12e249e5fd37d4c",
       "version_major": 2,
       "version_minor": 0
      },
      "text/plain": [
       "  0%|          | 0/30 [00:00<?, ?it/s]"
      ]
     },
     "metadata": {},
     "output_type": "display_data"
    }
   ],
   "source": [
    "best_base_params = optunize_model(objective, features_corr, target, data_dict_corr)"
   ]
  },
  {
   "cell_type": "code",
   "execution_count": 234,
   "id": "78372590",
   "metadata": {},
   "outputs": [
    {
     "data": {
      "text/plain": [
       "{'n_estimators': 58, 'max_depth': 3, 'learning_rate': 0.0810026143211461}"
      ]
     },
     "execution_count": 234,
     "metadata": {},
     "output_type": "execute_result"
    }
   ],
   "source": [
    "best_base_params"
   ]
  },
  {
   "cell_type": "code",
   "execution_count": 235,
   "id": "3464be47",
   "metadata": {},
   "outputs": [],
   "source": [
    "model_corr = GradientBoostingClassifier(random_state=42, **best_base_params)\n",
    "#model = LogisticRegression()\n",
    "model_corr.fit(data_dict_corr['train'][features_corr], data_dict_corr['train'][target])\n",
    "\n",
    "data_errors_corr = measure_error(data_dict_corr['val'], model_corr, features_corr, target, error_col_name='inconf_error', task='classif')"
   ]
  },
  {
   "cell_type": "code",
   "execution_count": 236,
   "id": "0fb38b3a",
   "metadata": {},
   "outputs": [
    {
     "name": "stdout",
     "output_type": "stream",
     "text": [
      "Warning: feature DebtRatio has practically degenerate states and low entropy\n",
      "Warning: feature MonthlyIncome has practically degenerate states and low entropy\n",
      "Warning: feature NumberOfDependents has practically degenerate states and low entropy\n",
      "Warning: feature NumberRealEstateLoansOrLines has practically degenerate states and low entropy\n",
      "Warning: feature RevolvingUtilizationOfUnsecuredLines has practically degenerate states and low entropy\n",
      "Warning: feature extra_1 has practically degenerate states and low entropy\n",
      "Warning: feature extra_10 has practically degenerate states and low entropy\n",
      "Warning: feature extra_11 has practically degenerate states and low entropy\n",
      "Warning: feature extra_12 has practically degenerate states and low entropy\n",
      "Warning: feature extra_13 has practically degenerate states and low entropy\n",
      "Warning: feature extra_14 has practically degenerate states and low entropy\n",
      "Warning: feature extra_16 has practically degenerate states and low entropy\n",
      "Warning: feature extra_17 has practically degenerate states and low entropy\n",
      "Warning: feature extra_18 has practically degenerate states and low entropy\n",
      "Warning: feature extra_19 has practically degenerate states and low entropy\n",
      "Warning: feature extra_2 has practically degenerate states and low entropy\n",
      "Warning: feature extra_20 has practically degenerate states and low entropy\n",
      "Warning: feature extra_21 has practically degenerate states and low entropy\n",
      "Warning: feature extra_3 has practically degenerate states and low entropy\n",
      "Warning: feature extra_4 has practically degenerate states and low entropy\n",
      "Warning: feature extra_5 has practically degenerate states and low entropy\n",
      "Warning: feature extra_6 has practically degenerate states and low entropy\n",
      "Warning: feature extra_7 has practically degenerate states and low entropy\n",
      "Warning: feature extra_8 has practically degenerate states and low entropy\n",
      "Warning: feature extra_9 has practically degenerate states and low entropy\n",
      "Warning: feature inconf_error has practically degenerate states and low entropy\n"
     ]
    },
    {
     "data": {
      "text/html": [
       "<div>\n",
       "<style scoped>\n",
       "    .dataframe tbody tr th:only-of-type {\n",
       "        vertical-align: middle;\n",
       "    }\n",
       "\n",
       "    .dataframe tbody tr th {\n",
       "        vertical-align: top;\n",
       "    }\n",
       "\n",
       "    .dataframe thead th {\n",
       "        text-align: right;\n",
       "    }\n",
       "</style>\n",
       "<table border=\"1\" class=\"dataframe\">\n",
       "  <thead>\n",
       "    <tr style=\"text-align: right;\">\n",
       "      <th></th>\n",
       "      <th>RevolvingUtilizationOfUnsecuredLines_0</th>\n",
       "      <th>RevolvingUtilizationOfUnsecuredLines_1</th>\n",
       "      <th>RevolvingUtilizationOfUnsecuredLines_2</th>\n",
       "      <th>age_0</th>\n",
       "      <th>age_1</th>\n",
       "      <th>age_2</th>\n",
       "      <th>DebtRatio_0</th>\n",
       "      <th>DebtRatio_1</th>\n",
       "      <th>DebtRatio_2</th>\n",
       "      <th>MonthlyIncome_0</th>\n",
       "      <th>...</th>\n",
       "      <th>extra_19_2</th>\n",
       "      <th>extra_20_0</th>\n",
       "      <th>extra_20_1</th>\n",
       "      <th>extra_20_2</th>\n",
       "      <th>extra_21_0</th>\n",
       "      <th>extra_21_1</th>\n",
       "      <th>extra_21_2</th>\n",
       "      <th>inconf_error_0</th>\n",
       "      <th>inconf_error_1</th>\n",
       "      <th>inconf_error_2</th>\n",
       "    </tr>\n",
       "  </thead>\n",
       "  <tbody>\n",
       "    <tr>\n",
       "      <th>0</th>\n",
       "      <td>0</td>\n",
       "      <td>0</td>\n",
       "      <td>1</td>\n",
       "      <td>0</td>\n",
       "      <td>1</td>\n",
       "      <td>0</td>\n",
       "      <td>1</td>\n",
       "      <td>0</td>\n",
       "      <td>0</td>\n",
       "      <td>1</td>\n",
       "      <td>...</td>\n",
       "      <td>0</td>\n",
       "      <td>0</td>\n",
       "      <td>1</td>\n",
       "      <td>0</td>\n",
       "      <td>0</td>\n",
       "      <td>0</td>\n",
       "      <td>1</td>\n",
       "      <td>0</td>\n",
       "      <td>0</td>\n",
       "      <td>1</td>\n",
       "    </tr>\n",
       "  </tbody>\n",
       "</table>\n",
       "<p>1 rows × 73 columns</p>\n",
       "</div>"
      ],
      "text/plain": [
       "   RevolvingUtilizationOfUnsecuredLines_0  \\\n",
       "0                                       0   \n",
       "\n",
       "   RevolvingUtilizationOfUnsecuredLines_1  \\\n",
       "0                                       0   \n",
       "\n",
       "   RevolvingUtilizationOfUnsecuredLines_2  age_0  age_1  age_2  DebtRatio_0  \\\n",
       "0                                       1      0      1      0            1   \n",
       "\n",
       "   DebtRatio_1  DebtRatio_2  MonthlyIncome_0  ...  extra_19_2  extra_20_0  \\\n",
       "0            0            0                1  ...           0           0   \n",
       "\n",
       "   extra_20_1  extra_20_2  extra_21_0  extra_21_1  extra_21_2  inconf_error_0  \\\n",
       "0           1           0           0           0           1               0   \n",
       "\n",
       "   inconf_error_1  inconf_error_2  \n",
       "0               0               1  \n",
       "\n",
       "[1 rows x 73 columns]"
      ]
     },
     "execution_count": 236,
     "metadata": {},
     "output_type": "execute_result"
    }
   ],
   "source": [
    "n_features_corr = len(features_corr)\n",
    "disc_data_corr, pipeline_data_corr = discretize(data_errors_corr, \n",
    "                                      features_corr+[\"inconf_error\"], icat=None, icont=list(range(n_features_corr+1)))\n",
    "\n",
    "categories_corr = extract_categories(disc_data_corr)\n",
    "encoder = OneHotEncoder(sparse=False)\n",
    "disc_data_encoded_corr = pd.DataFrame(encoder.fit_transform(X=disc_data_corr), columns=categories_corr, dtype='uint8')\n",
    "disc_data_encoded_corr.head(1)"
   ]
  },
  {
   "cell_type": "code",
   "execution_count": 237,
   "id": "138a5f61",
   "metadata": {},
   "outputs": [
    {
     "name": "stdout",
     "output_type": "stream",
     "text": [
      "2025-04-16 14:01:55,512 | ERROR    | GraphUtils.py-nodes_types-0034 | Unsupported data type. Dtype: uint8\n",
      "2025-04-16 14:01:55,513 | ERROR    | GraphUtils.py-nodes_types-0034 | Unsupported data type. Dtype: uint8\n",
      "2025-04-16 14:01:55,515 | ERROR    | GraphUtils.py-nodes_types-0034 | Unsupported data type. Dtype: uint8\n",
      "2025-04-16 14:01:55,516 | ERROR    | GraphUtils.py-nodes_types-0034 | Unsupported data type. Dtype: uint8\n",
      "2025-04-16 14:01:55,518 | ERROR    | GraphUtils.py-nodes_types-0034 | Unsupported data type. Dtype: uint8\n",
      "2025-04-16 14:01:55,520 | ERROR    | GraphUtils.py-nodes_types-0034 | Unsupported data type. Dtype: uint8\n",
      "2025-04-16 14:01:55,521 | ERROR    | GraphUtils.py-nodes_types-0034 | Unsupported data type. Dtype: uint8\n",
      "2025-04-16 14:01:55,524 | ERROR    | GraphUtils.py-nodes_types-0034 | Unsupported data type. Dtype: uint8\n",
      "2025-04-16 14:01:55,526 | ERROR    | GraphUtils.py-nodes_types-0034 | Unsupported data type. Dtype: uint8\n",
      "2025-04-16 14:01:55,528 | ERROR    | GraphUtils.py-nodes_types-0034 | Unsupported data type. Dtype: uint8\n",
      "2025-04-16 14:01:55,531 | ERROR    | GraphUtils.py-nodes_types-0034 | Unsupported data type. Dtype: uint8\n",
      "2025-04-16 14:01:55,532 | ERROR    | GraphUtils.py-nodes_types-0034 | Unsupported data type. Dtype: uint8\n",
      "2025-04-16 14:01:55,533 | ERROR    | GraphUtils.py-nodes_types-0034 | Unsupported data type. Dtype: uint8\n",
      "2025-04-16 14:01:55,534 | ERROR    | GraphUtils.py-nodes_types-0034 | Unsupported data type. Dtype: uint8\n",
      "2025-04-16 14:01:55,535 | ERROR    | GraphUtils.py-nodes_types-0034 | Unsupported data type. Dtype: uint8\n",
      "2025-04-16 14:01:55,537 | ERROR    | GraphUtils.py-nodes_types-0034 | Unsupported data type. Dtype: uint8\n",
      "2025-04-16 14:01:55,539 | ERROR    | GraphUtils.py-nodes_types-0034 | Unsupported data type. Dtype: uint8\n",
      "2025-04-16 14:01:55,541 | ERROR    | GraphUtils.py-nodes_types-0034 | Unsupported data type. Dtype: uint8\n",
      "2025-04-16 14:01:55,543 | ERROR    | GraphUtils.py-nodes_types-0034 | Unsupported data type. Dtype: uint8\n",
      "2025-04-16 14:01:55,544 | ERROR    | GraphUtils.py-nodes_types-0034 | Unsupported data type. Dtype: uint8\n",
      "2025-04-16 14:01:55,545 | ERROR    | GraphUtils.py-nodes_types-0034 | Unsupported data type. Dtype: uint8\n",
      "2025-04-16 14:01:55,547 | ERROR    | GraphUtils.py-nodes_types-0034 | Unsupported data type. Dtype: uint8\n",
      "2025-04-16 14:01:55,548 | ERROR    | GraphUtils.py-nodes_types-0034 | Unsupported data type. Dtype: uint8\n",
      "2025-04-16 14:01:55,550 | ERROR    | GraphUtils.py-nodes_types-0034 | Unsupported data type. Dtype: uint8\n",
      "2025-04-16 14:01:55,551 | ERROR    | GraphUtils.py-nodes_types-0034 | Unsupported data type. Dtype: uint8\n",
      "2025-04-16 14:01:55,551 | ERROR    | GraphUtils.py-nodes_types-0034 | Unsupported data type. Dtype: uint8\n",
      "2025-04-16 14:01:55,553 | ERROR    | GraphUtils.py-nodes_types-0034 | Unsupported data type. Dtype: uint8\n",
      "2025-04-16 14:01:55,554 | ERROR    | GraphUtils.py-nodes_types-0034 | Unsupported data type. Dtype: uint8\n",
      "2025-04-16 14:01:55,556 | ERROR    | GraphUtils.py-nodes_types-0034 | Unsupported data type. Dtype: uint8\n",
      "2025-04-16 14:01:55,557 | ERROR    | GraphUtils.py-nodes_types-0034 | Unsupported data type. Dtype: uint8\n",
      "2025-04-16 14:01:55,559 | ERROR    | GraphUtils.py-nodes_types-0034 | Unsupported data type. Dtype: uint8\n",
      "2025-04-16 14:01:55,560 | ERROR    | GraphUtils.py-nodes_types-0034 | Unsupported data type. Dtype: uint8\n",
      "2025-04-16 14:01:55,561 | ERROR    | GraphUtils.py-nodes_types-0034 | Unsupported data type. Dtype: uint8\n",
      "2025-04-16 14:01:55,562 | ERROR    | GraphUtils.py-nodes_types-0034 | Unsupported data type. Dtype: uint8\n",
      "2025-04-16 14:01:55,564 | ERROR    | GraphUtils.py-nodes_types-0034 | Unsupported data type. Dtype: uint8\n",
      "2025-04-16 14:01:55,565 | ERROR    | GraphUtils.py-nodes_types-0034 | Unsupported data type. Dtype: uint8\n",
      "2025-04-16 14:01:55,566 | ERROR    | GraphUtils.py-nodes_types-0034 | Unsupported data type. Dtype: uint8\n",
      "2025-04-16 14:01:55,567 | ERROR    | GraphUtils.py-nodes_types-0034 | Unsupported data type. Dtype: uint8\n",
      "2025-04-16 14:01:55,570 | ERROR    | GraphUtils.py-nodes_types-0034 | Unsupported data type. Dtype: uint8\n",
      "2025-04-16 14:01:55,573 | ERROR    | GraphUtils.py-nodes_types-0034 | Unsupported data type. Dtype: uint8\n",
      "2025-04-16 14:01:55,575 | ERROR    | GraphUtils.py-nodes_types-0034 | Unsupported data type. Dtype: uint8\n",
      "2025-04-16 14:01:55,576 | ERROR    | GraphUtils.py-nodes_types-0034 | Unsupported data type. Dtype: uint8\n",
      "2025-04-16 14:01:55,579 | ERROR    | GraphUtils.py-nodes_types-0034 | Unsupported data type. Dtype: uint8\n",
      "2025-04-16 14:01:55,581 | ERROR    | GraphUtils.py-nodes_types-0034 | Unsupported data type. Dtype: uint8\n",
      "2025-04-16 14:01:55,582 | ERROR    | GraphUtils.py-nodes_types-0034 | Unsupported data type. Dtype: uint8\n",
      "2025-04-16 14:01:55,583 | ERROR    | GraphUtils.py-nodes_types-0034 | Unsupported data type. Dtype: uint8\n",
      "2025-04-16 14:01:55,584 | ERROR    | GraphUtils.py-nodes_types-0034 | Unsupported data type. Dtype: uint8\n",
      "2025-04-16 14:01:55,585 | ERROR    | GraphUtils.py-nodes_types-0034 | Unsupported data type. Dtype: uint8\n",
      "2025-04-16 14:01:55,590 | ERROR    | GraphUtils.py-nodes_types-0034 | Unsupported data type. Dtype: uint8\n",
      "2025-04-16 14:01:55,591 | ERROR    | GraphUtils.py-nodes_types-0034 | Unsupported data type. Dtype: uint8\n",
      "2025-04-16 14:01:55,592 | ERROR    | GraphUtils.py-nodes_types-0034 | Unsupported data type. Dtype: uint8\n",
      "2025-04-16 14:01:55,595 | ERROR    | GraphUtils.py-nodes_types-0034 | Unsupported data type. Dtype: uint8\n",
      "2025-04-16 14:01:55,597 | ERROR    | GraphUtils.py-nodes_types-0034 | Unsupported data type. Dtype: uint8\n",
      "2025-04-16 14:01:55,598 | ERROR    | GraphUtils.py-nodes_types-0034 | Unsupported data type. Dtype: uint8\n",
      "2025-04-16 14:01:55,599 | ERROR    | GraphUtils.py-nodes_types-0034 | Unsupported data type. Dtype: uint8\n",
      "2025-04-16 14:01:55,600 | ERROR    | GraphUtils.py-nodes_types-0034 | Unsupported data type. Dtype: uint8\n",
      "2025-04-16 14:01:55,602 | ERROR    | GraphUtils.py-nodes_types-0034 | Unsupported data type. Dtype: uint8\n",
      "2025-04-16 14:01:55,607 | ERROR    | GraphUtils.py-nodes_types-0034 | Unsupported data type. Dtype: uint8\n",
      "2025-04-16 14:01:55,608 | ERROR    | GraphUtils.py-nodes_types-0034 | Unsupported data type. Dtype: uint8\n",
      "2025-04-16 14:01:55,610 | ERROR    | GraphUtils.py-nodes_types-0034 | Unsupported data type. Dtype: uint8\n",
      "2025-04-16 14:01:55,612 | ERROR    | GraphUtils.py-nodes_types-0034 | Unsupported data type. Dtype: uint8\n",
      "2025-04-16 14:01:55,613 | ERROR    | GraphUtils.py-nodes_types-0034 | Unsupported data type. Dtype: uint8\n",
      "2025-04-16 14:01:55,614 | ERROR    | GraphUtils.py-nodes_types-0034 | Unsupported data type. Dtype: uint8\n",
      "2025-04-16 14:01:55,615 | ERROR    | GraphUtils.py-nodes_types-0034 | Unsupported data type. Dtype: uint8\n",
      "2025-04-16 14:01:55,618 | ERROR    | GraphUtils.py-nodes_types-0034 | Unsupported data type. Dtype: uint8\n",
      "2025-04-16 14:01:55,620 | ERROR    | GraphUtils.py-nodes_types-0034 | Unsupported data type. Dtype: uint8\n",
      "2025-04-16 14:01:55,621 | ERROR    | GraphUtils.py-nodes_types-0034 | Unsupported data type. Dtype: uint8\n",
      "2025-04-16 14:01:55,623 | ERROR    | GraphUtils.py-nodes_types-0034 | Unsupported data type. Dtype: uint8\n",
      "2025-04-16 14:01:55,625 | ERROR    | GraphUtils.py-nodes_types-0034 | Unsupported data type. Dtype: uint8\n",
      "2025-04-16 14:01:55,626 | ERROR    | GraphUtils.py-nodes_types-0034 | Unsupported data type. Dtype: uint8\n",
      "2025-04-16 14:01:55,627 | ERROR    | GraphUtils.py-nodes_types-0034 | Unsupported data type. Dtype: uint8\n",
      "2025-04-16 14:01:55,628 | ERROR    | GraphUtils.py-nodes_types-0034 | Unsupported data type. Dtype: uint8\n",
      "2025-04-16 14:01:55,630 | ERROR    | GraphUtils.py-nodes_types-0034 | Unsupported data type. Dtype: uint8\n"
     ]
    },
    {
     "data": {
      "application/vnd.jupyter.widget-view+json": {
       "model_id": "7ee8b8698fdf4bb89afa9d4356bd9213",
       "version_major": 2,
       "version_minor": 0
      },
      "text/plain": [
       "  0%|          | 0/1000000 [00:00<?, ?it/s]"
      ]
     },
     "metadata": {},
     "output_type": "display_data"
    }
   ],
   "source": [
    "feat_to_grad_corr = {}\n",
    "for feat in features_corr+['inconf_error']:\n",
    "    feat_to_grad_corr[feat]=[grad for grad in disc_data_encoded_corr.columns if feat in grad]\n",
    "\n",
    "\n",
    "metric_dict = {\n",
    "    'ROC AUC': lambda x, y: m.roc_auc_score(x,y)*100,\n",
    "    'log_loss': lambda x, y: m.log_loss(x, y)\n",
    "}\n",
    "\n",
    "gbn_fs = DiscreteBNGI('')\n",
    "\n",
    "gbn_training_pipeline(gbn_fs, disc_data_encoded_corr, 'inconf_error', categories_corr)"
   ]
  },
  {
   "cell_type": "markdown",
   "id": "963afd81",
   "metadata": {},
   "source": [
    "# Univariate Feature selector"
   ]
  },
  {
   "cell_type": "code",
   "execution_count": 238,
   "id": "ec73fb1a",
   "metadata": {},
   "outputs": [],
   "source": [
    "univ_sel = SelectKBest(k=len(features_corr))\n",
    "univ_sel.fit(data_dict_corr['val'][features_corr], data_dict_corr['val'][target])\n",
    "df_val_corr_univ = pd.DataFrame({'Feature': univ_sel.feature_names_in_, 'Metric value': univ_sel.pvalues_})"
   ]
  },
  {
   "cell_type": "markdown",
   "id": "8e94ddf8",
   "metadata": {},
   "source": [
    "# RFE on decision tree"
   ]
  },
  {
   "cell_type": "code",
   "execution_count": 239,
   "id": "66559772",
   "metadata": {},
   "outputs": [],
   "source": [
    "rfe_sel = RFE(estimator=DecisionTreeClassifier(random_state=42, max_depth=10,), n_features_to_select=1)\n",
    "#rfe_sel = RFE(estimator=RandomForestClassifier(random_state=42, max_depth=10, n_estimators=50), n_features_to_select=1, )\n",
    "rfe_sel.fit(data_dict_corr['val'][features_corr], data_dict_corr['val'][target])\n",
    "df_val_corr_rfe = pd.DataFrame({'Feature': rfe_sel.feature_names_in_, 'Metric value': rfe_sel.ranking_})"
   ]
  },
  {
   "cell_type": "markdown",
   "id": "006721af",
   "metadata": {},
   "source": [
    "# Lasso from Logistic Regression with L1 penalty"
   ]
  },
  {
   "cell_type": "code",
   "execution_count": 240,
   "id": "979e1c2c",
   "metadata": {},
   "outputs": [],
   "source": [
    "lsvc = LogisticRegression(C=0.5, penalty=\"l1\", solver='liblinear')\n",
    "lsvc.fit(data_dict_corr['val'][features_corr], data_dict_corr['val'][target])\n",
    "lasso_selector = SelectFromModel(lsvc, prefit=True)"
   ]
  },
  {
   "cell_type": "code",
   "execution_count": 241,
   "id": "eb5d5703",
   "metadata": {},
   "outputs": [
    {
     "data": {
      "text/plain": [
       "['MonthlyIncome',\n",
       " 'NumberOfDependents',\n",
       " 'NumberOfOpenCreditLinesAndLoans',\n",
       " 'RevolvingUtilizationOfUnsecuredLines',\n",
       " 'age',\n",
       " 'extra_1',\n",
       " 'extra_10',\n",
       " 'extra_11',\n",
       " 'extra_12',\n",
       " 'extra_13',\n",
       " 'extra_14',\n",
       " 'extra_15',\n",
       " 'extra_17',\n",
       " 'extra_18',\n",
       " 'extra_20',\n",
       " 'extra_21',\n",
       " 'extra_3',\n",
       " 'extra_4',\n",
       " 'extra_5',\n",
       " 'extra_6',\n",
       " 'extra_7',\n",
       " 'extra_8',\n",
       " 'extra_9']"
      ]
     },
     "execution_count": 241,
     "metadata": {},
     "output_type": "execute_result"
    }
   ],
   "source": [
    "lasso_support = [x for i, x in enumerate(features_corr) if lasso_selector.get_support()[i]]\n",
    "lasso_support"
   ]
  },
  {
   "cell_type": "markdown",
   "id": "a7f0e86d",
   "metadata": {},
   "source": [
    "## GBN selector"
   ]
  },
  {
   "cell_type": "code",
   "execution_count": 242,
   "id": "af59082c",
   "metadata": {},
   "outputs": [
    {
     "name": "stderr",
     "output_type": "stream",
     "text": [
      "100%|██████████| 28/28 [00:09<00:00,  2.92it/s]\n"
     ]
    }
   ],
   "source": [
    "df_val_corr_bn=error_based_importance_features_bn(gbn_fs, 'inconf_error', features_corr, feat_to_grad_corr).fillna(0)"
   ]
  },
  {
   "cell_type": "markdown",
   "id": "cbf8225e",
   "metadata": {},
   "source": [
    "## GBN selector run"
   ]
  },
  {
   "cell_type": "code",
   "execution_count": 243,
   "id": "e79283c2",
   "metadata": {},
   "outputs": [
    {
     "name": "stderr",
     "output_type": "stream",
     "text": [
      "100%|██████████| 28/28 [05:46<00:00, 12.39s/it]\n"
     ]
    }
   ],
   "source": [
    "gbn_res = elimination_experiment(model_corr, data_dict_corr, metric_dict, df_val_corr_bn, direction='asc')"
   ]
  },
  {
   "cell_type": "code",
   "execution_count": 244,
   "id": "8c8efaf9",
   "metadata": {},
   "outputs": [
    {
     "data": {
      "text/html": [
       "<div>\n",
       "<style scoped>\n",
       "    .dataframe tbody tr th:only-of-type {\n",
       "        vertical-align: middle;\n",
       "    }\n",
       "\n",
       "    .dataframe tbody tr th {\n",
       "        vertical-align: top;\n",
       "    }\n",
       "\n",
       "    .dataframe thead th {\n",
       "        text-align: right;\n",
       "    }\n",
       "</style>\n",
       "<table border=\"1\" class=\"dataframe\">\n",
       "  <thead>\n",
       "    <tr style=\"text-align: right;\">\n",
       "      <th></th>\n",
       "      <th>n_features</th>\n",
       "      <th>last_excluded</th>\n",
       "      <th>ROC AUC</th>\n",
       "      <th>log_loss</th>\n",
       "      <th>ROC AUC_change, %</th>\n",
       "      <th>log_loss_change, %</th>\n",
       "    </tr>\n",
       "  </thead>\n",
       "  <tbody>\n",
       "    <tr>\n",
       "      <th>0</th>\n",
       "      <td>28</td>\n",
       "      <td>-</td>\n",
       "      <td>80.36</td>\n",
       "      <td>0.389</td>\n",
       "      <td>0</td>\n",
       "      <td>0</td>\n",
       "    </tr>\n",
       "    <tr>\n",
       "      <th>1</th>\n",
       "      <td>27</td>\n",
       "      <td>extra_6</td>\n",
       "      <td>80.365</td>\n",
       "      <td>0.389</td>\n",
       "      <td>0.006</td>\n",
       "      <td>-0.105</td>\n",
       "    </tr>\n",
       "    <tr>\n",
       "      <th>2</th>\n",
       "      <td>26</td>\n",
       "      <td>extra_5</td>\n",
       "      <td>80.357</td>\n",
       "      <td>0.389</td>\n",
       "      <td>-0.004</td>\n",
       "      <td>-0.085</td>\n",
       "    </tr>\n",
       "    <tr>\n",
       "      <th>3</th>\n",
       "      <td>25</td>\n",
       "      <td>extra_13</td>\n",
       "      <td>80.369</td>\n",
       "      <td>0.389</td>\n",
       "      <td>0.012</td>\n",
       "      <td>-0.115</td>\n",
       "    </tr>\n",
       "    <tr>\n",
       "      <th>4</th>\n",
       "      <td>24</td>\n",
       "      <td>extra_12</td>\n",
       "      <td>80.422</td>\n",
       "      <td>0.388</td>\n",
       "      <td>0.077</td>\n",
       "      <td>-0.146</td>\n",
       "    </tr>\n",
       "  </tbody>\n",
       "</table>\n",
       "</div>"
      ],
      "text/plain": [
       "  n_features last_excluded ROC AUC log_loss ROC AUC_change, %  \\\n",
       "0         28             -   80.36    0.389                 0   \n",
       "1         27       extra_6  80.365    0.389             0.006   \n",
       "2         26       extra_5  80.357    0.389            -0.004   \n",
       "3         25      extra_13  80.369    0.389             0.012   \n",
       "4         24      extra_12  80.422    0.388             0.077   \n",
       "\n",
       "  log_loss_change, %  \n",
       "0                  0  \n",
       "1             -0.105  \n",
       "2             -0.085  \n",
       "3             -0.115  \n",
       "4             -0.146  "
      ]
     },
     "execution_count": 244,
     "metadata": {},
     "output_type": "execute_result"
    }
   ],
   "source": [
    "gbn_res.head()"
   ]
  },
  {
   "cell_type": "code",
   "execution_count": 246,
   "id": "b6d446a1",
   "metadata": {},
   "outputs": [
    {
     "data": {
      "text/html": [
       "<div>\n",
       "<style scoped>\n",
       "    .dataframe tbody tr th:only-of-type {\n",
       "        vertical-align: middle;\n",
       "    }\n",
       "\n",
       "    .dataframe tbody tr th {\n",
       "        vertical-align: top;\n",
       "    }\n",
       "\n",
       "    .dataframe thead th {\n",
       "        text-align: right;\n",
       "    }\n",
       "</style>\n",
       "<table border=\"1\" class=\"dataframe\">\n",
       "  <thead>\n",
       "    <tr style=\"text-align: right;\">\n",
       "      <th></th>\n",
       "      <th>n_features</th>\n",
       "      <th>last_excluded</th>\n",
       "      <th>ROC AUC</th>\n",
       "      <th>log_loss</th>\n",
       "      <th>ROC AUC_change, %</th>\n",
       "      <th>log_loss_change, %</th>\n",
       "    </tr>\n",
       "  </thead>\n",
       "  <tbody>\n",
       "    <tr>\n",
       "      <th>4</th>\n",
       "      <td>24</td>\n",
       "      <td>extra_12</td>\n",
       "      <td>80.422</td>\n",
       "      <td>0.388</td>\n",
       "      <td>0.077</td>\n",
       "      <td>-0.146</td>\n",
       "    </tr>\n",
       "  </tbody>\n",
       "</table>\n",
       "</div>"
      ],
      "text/plain": [
       "  n_features last_excluded ROC AUC log_loss ROC AUC_change, %  \\\n",
       "4         24      extra_12  80.422    0.388             0.077   \n",
       "\n",
       "  log_loss_change, %  \n",
       "4             -0.146  "
      ]
     },
     "execution_count": 246,
     "metadata": {},
     "output_type": "execute_result"
    }
   ],
   "source": [
    "get_best_record(gbn_res, 'ROC AUC')"
   ]
  },
  {
   "cell_type": "code",
   "execution_count": 247,
   "id": "c1e5ed05",
   "metadata": {},
   "outputs": [
    {
     "name": "stderr",
     "output_type": "stream",
     "text": [
      "100%|██████████| 28/28 [05:21<00:00, 11.48s/it]\n"
     ]
    },
    {
     "data": {
      "text/html": [
       "<div>\n",
       "<style scoped>\n",
       "    .dataframe tbody tr th:only-of-type {\n",
       "        vertical-align: middle;\n",
       "    }\n",
       "\n",
       "    .dataframe tbody tr th {\n",
       "        vertical-align: top;\n",
       "    }\n",
       "\n",
       "    .dataframe thead th {\n",
       "        text-align: right;\n",
       "    }\n",
       "</style>\n",
       "<table border=\"1\" class=\"dataframe\">\n",
       "  <thead>\n",
       "    <tr style=\"text-align: right;\">\n",
       "      <th></th>\n",
       "      <th>n_features</th>\n",
       "      <th>last_excluded</th>\n",
       "      <th>ROC AUC</th>\n",
       "      <th>log_loss</th>\n",
       "      <th>ROC AUC_change, %</th>\n",
       "      <th>log_loss_change, %</th>\n",
       "    </tr>\n",
       "  </thead>\n",
       "  <tbody>\n",
       "    <tr>\n",
       "      <th>0</th>\n",
       "      <td>28</td>\n",
       "      <td>-</td>\n",
       "      <td>80.348</td>\n",
       "      <td>0.389</td>\n",
       "      <td>0</td>\n",
       "      <td>0</td>\n",
       "    </tr>\n",
       "    <tr>\n",
       "      <th>1</th>\n",
       "      <td>27</td>\n",
       "      <td>NumberOfOpenCreditLinesAndLoans</td>\n",
       "      <td>80.188</td>\n",
       "      <td>0.39</td>\n",
       "      <td>-0.199</td>\n",
       "      <td>0.135</td>\n",
       "    </tr>\n",
       "    <tr>\n",
       "      <th>2</th>\n",
       "      <td>26</td>\n",
       "      <td>extra_15</td>\n",
       "      <td>80.15</td>\n",
       "      <td>0.39</td>\n",
       "      <td>-0.247</td>\n",
       "      <td>0.249</td>\n",
       "    </tr>\n",
       "    <tr>\n",
       "      <th>3</th>\n",
       "      <td>25</td>\n",
       "      <td>extra_4</td>\n",
       "      <td>80.355</td>\n",
       "      <td>0.389</td>\n",
       "      <td>0.009</td>\n",
       "      <td>-0.067</td>\n",
       "    </tr>\n",
       "    <tr>\n",
       "      <th>4</th>\n",
       "      <td>24</td>\n",
       "      <td>NumberRealEstateLoansOrLines</td>\n",
       "      <td>80.356</td>\n",
       "      <td>0.389</td>\n",
       "      <td>0.01</td>\n",
       "      <td>-0.069</td>\n",
       "    </tr>\n",
       "  </tbody>\n",
       "</table>\n",
       "</div>"
      ],
      "text/plain": [
       "  n_features                    last_excluded ROC AUC log_loss  \\\n",
       "0         28                                -  80.348    0.389   \n",
       "1         27  NumberOfOpenCreditLinesAndLoans  80.188     0.39   \n",
       "2         26                         extra_15   80.15     0.39   \n",
       "3         25                          extra_4  80.355    0.389   \n",
       "4         24     NumberRealEstateLoansOrLines  80.356    0.389   \n",
       "\n",
       "  ROC AUC_change, % log_loss_change, %  \n",
       "0                 0                  0  \n",
       "1            -0.199              0.135  \n",
       "2            -0.247              0.249  \n",
       "3             0.009             -0.067  \n",
       "4              0.01             -0.069  "
      ]
     },
     "execution_count": 247,
     "metadata": {},
     "output_type": "execute_result"
    }
   ],
   "source": [
    "df_corr_excluded_asc_univ=elimination_experiment(model_corr, data_dict_corr, metric_dict,\n",
    "                       df_val_corr_univ, 'asc')\n",
    "df_corr_excluded_asc_univ.head()"
   ]
  },
  {
   "cell_type": "code",
   "execution_count": 249,
   "id": "eab67dc9",
   "metadata": {},
   "outputs": [
    {
     "data": {
      "text/html": [
       "<div>\n",
       "<style scoped>\n",
       "    .dataframe tbody tr th:only-of-type {\n",
       "        vertical-align: middle;\n",
       "    }\n",
       "\n",
       "    .dataframe tbody tr th {\n",
       "        vertical-align: top;\n",
       "    }\n",
       "\n",
       "    .dataframe thead th {\n",
       "        text-align: right;\n",
       "    }\n",
       "</style>\n",
       "<table border=\"1\" class=\"dataframe\">\n",
       "  <thead>\n",
       "    <tr style=\"text-align: right;\">\n",
       "      <th></th>\n",
       "      <th>n_features</th>\n",
       "      <th>last_excluded</th>\n",
       "      <th>ROC AUC</th>\n",
       "      <th>log_loss</th>\n",
       "      <th>ROC AUC_change, %</th>\n",
       "      <th>log_loss_change, %</th>\n",
       "    </tr>\n",
       "  </thead>\n",
       "  <tbody>\n",
       "    <tr>\n",
       "      <th>10</th>\n",
       "      <td>18</td>\n",
       "      <td>extra_7</td>\n",
       "      <td>80.549</td>\n",
       "      <td>0.387</td>\n",
       "      <td>0.25</td>\n",
       "      <td>-0.477</td>\n",
       "    </tr>\n",
       "  </tbody>\n",
       "</table>\n",
       "</div>"
      ],
      "text/plain": [
       "   n_features last_excluded ROC AUC log_loss ROC AUC_change, %  \\\n",
       "10         18       extra_7  80.549    0.387              0.25   \n",
       "\n",
       "   log_loss_change, %  \n",
       "10             -0.477  "
      ]
     },
     "execution_count": 249,
     "metadata": {},
     "output_type": "execute_result"
    }
   ],
   "source": [
    "get_best_record(df_corr_excluded_asc_univ, 'ROC AUC')"
   ]
  },
  {
   "cell_type": "code",
   "execution_count": 250,
   "id": "56c0f60c",
   "metadata": {},
   "outputs": [
    {
     "name": "stderr",
     "output_type": "stream",
     "text": [
      "100%|██████████| 28/28 [05:24<00:00, 11.60s/it]\n"
     ]
    },
    {
     "data": {
      "text/html": [
       "<div>\n",
       "<style scoped>\n",
       "    .dataframe tbody tr th:only-of-type {\n",
       "        vertical-align: middle;\n",
       "    }\n",
       "\n",
       "    .dataframe tbody tr th {\n",
       "        vertical-align: top;\n",
       "    }\n",
       "\n",
       "    .dataframe thead th {\n",
       "        text-align: right;\n",
       "    }\n",
       "</style>\n",
       "<table border=\"1\" class=\"dataframe\">\n",
       "  <thead>\n",
       "    <tr style=\"text-align: right;\">\n",
       "      <th></th>\n",
       "      <th>n_features</th>\n",
       "      <th>last_excluded</th>\n",
       "      <th>ROC AUC</th>\n",
       "      <th>log_loss</th>\n",
       "      <th>ROC AUC_change, %</th>\n",
       "      <th>log_loss_change, %</th>\n",
       "    </tr>\n",
       "  </thead>\n",
       "  <tbody>\n",
       "    <tr>\n",
       "      <th>0</th>\n",
       "      <td>28</td>\n",
       "      <td>-</td>\n",
       "      <td>80.349</td>\n",
       "      <td>0.389</td>\n",
       "      <td>0</td>\n",
       "      <td>0</td>\n",
       "    </tr>\n",
       "    <tr>\n",
       "      <th>1</th>\n",
       "      <td>27</td>\n",
       "      <td>NumberRealEstateLoansOrLines</td>\n",
       "      <td>80.366</td>\n",
       "      <td>0.389</td>\n",
       "      <td>0.021</td>\n",
       "      <td>-0.109</td>\n",
       "    </tr>\n",
       "    <tr>\n",
       "      <th>2</th>\n",
       "      <td>26</td>\n",
       "      <td>NumberOfDependents</td>\n",
       "      <td>80.365</td>\n",
       "      <td>0.389</td>\n",
       "      <td>0.021</td>\n",
       "      <td>-0.107</td>\n",
       "    </tr>\n",
       "    <tr>\n",
       "      <th>3</th>\n",
       "      <td>25</td>\n",
       "      <td>extra_14</td>\n",
       "      <td>80.367</td>\n",
       "      <td>0.389</td>\n",
       "      <td>0.022</td>\n",
       "      <td>-0.111</td>\n",
       "    </tr>\n",
       "    <tr>\n",
       "      <th>4</th>\n",
       "      <td>24</td>\n",
       "      <td>extra_7</td>\n",
       "      <td>80.369</td>\n",
       "      <td>0.389</td>\n",
       "      <td>0.024</td>\n",
       "      <td>-0.113</td>\n",
       "    </tr>\n",
       "  </tbody>\n",
       "</table>\n",
       "</div>"
      ],
      "text/plain": [
       "  n_features                 last_excluded ROC AUC log_loss ROC AUC_change, %  \\\n",
       "0         28                             -  80.349    0.389                 0   \n",
       "1         27  NumberRealEstateLoansOrLines  80.366    0.389             0.021   \n",
       "2         26            NumberOfDependents  80.365    0.389             0.021   \n",
       "3         25                      extra_14  80.367    0.389             0.022   \n",
       "4         24                       extra_7  80.369    0.389             0.024   \n",
       "\n",
       "  log_loss_change, %  \n",
       "0                  0  \n",
       "1             -0.109  \n",
       "2             -0.107  \n",
       "3             -0.111  \n",
       "4             -0.113  "
      ]
     },
     "execution_count": 250,
     "metadata": {},
     "output_type": "execute_result"
    }
   ],
   "source": [
    "df_corr_excluded_rfe=elimination_experiment(model_corr, data_dict_corr, metric_dict,\n",
    "                       df_val_corr_rfe, 'desc')\n",
    "df_corr_excluded_rfe.head()"
   ]
  },
  {
   "cell_type": "code",
   "execution_count": 252,
   "id": "7979f672",
   "metadata": {},
   "outputs": [
    {
     "data": {
      "text/html": [
       "<div>\n",
       "<style scoped>\n",
       "    .dataframe tbody tr th:only-of-type {\n",
       "        vertical-align: middle;\n",
       "    }\n",
       "\n",
       "    .dataframe tbody tr th {\n",
       "        vertical-align: top;\n",
       "    }\n",
       "\n",
       "    .dataframe thead th {\n",
       "        text-align: right;\n",
       "    }\n",
       "</style>\n",
       "<table border=\"1\" class=\"dataframe\">\n",
       "  <thead>\n",
       "    <tr style=\"text-align: right;\">\n",
       "      <th></th>\n",
       "      <th>n_features</th>\n",
       "      <th>last_excluded</th>\n",
       "      <th>ROC AUC</th>\n",
       "      <th>log_loss</th>\n",
       "      <th>ROC AUC_change, %</th>\n",
       "      <th>log_loss_change, %</th>\n",
       "    </tr>\n",
       "  </thead>\n",
       "  <tbody>\n",
       "    <tr>\n",
       "      <th>8</th>\n",
       "      <td>20</td>\n",
       "      <td>extra_13</td>\n",
       "      <td>80.542</td>\n",
       "      <td>0.388</td>\n",
       "      <td>0.24</td>\n",
       "      <td>-0.378</td>\n",
       "    </tr>\n",
       "  </tbody>\n",
       "</table>\n",
       "</div>"
      ],
      "text/plain": [
       "  n_features last_excluded ROC AUC log_loss ROC AUC_change, %  \\\n",
       "8         20      extra_13  80.542    0.388              0.24   \n",
       "\n",
       "  log_loss_change, %  \n",
       "8             -0.378  "
      ]
     },
     "execution_count": 252,
     "metadata": {},
     "output_type": "execute_result"
    }
   ],
   "source": [
    "get_best_record(df_corr_excluded_rfe, 'ROC AUC')"
   ]
  },
  {
   "cell_type": "code",
   "execution_count": 253,
   "id": "8cc01c98",
   "metadata": {},
   "outputs": [
    {
     "data": {
      "text/plain": [
       "[80.316, 0.388]"
      ]
     },
     "execution_count": 253,
     "metadata": {},
     "output_type": "execute_result"
    }
   ],
   "source": [
    "single_run(model_corr, data_dict_corr, lasso_support, target, metric_dict)"
   ]
  },
  {
   "cell_type": "code",
   "execution_count": null,
   "id": "d6799715",
   "metadata": {},
   "outputs": [],
   "source": [
    "#logging\n",
    "0.5 random, base 79.953, gbn 80.075, univ 79.953, rfe 79.953, lasso: 79.944\n",
    "0.75 random, base 80.119, gbn 80.55\t, univ 80.119, rfe 80.119, lasso: 80.242\n",
    "\n",
    "0.5 noisy base 80.42, gbn 80.58\t, univ 80.42, rfe 80.578, lasso: 80.515\n",
    "0.75 noisy base 80.264, gbn 80.311, univ 80.264, rfe 80.264, lasso: 80.633\n",
    "\n",
    "0.5 prod base 80.007, gbn 80.203\t, univ 80.022, rfe 80.448, lasso: 80.422\n",
    "0.75 prod base 80.36, gbn 80.422\t, univ 80.549, rfe 80.542, lasso: 80.316\n"
   ]
  }
 ],
 "metadata": {
  "kernelspec": {
   "display_name": "venv",
   "language": "python",
   "name": "python3"
  },
  "language_info": {
   "codemirror_mode": {
    "name": "ipython",
    "version": 3
   },
   "file_extension": ".py",
   "mimetype": "text/x-python",
   "name": "python",
   "nbconvert_exporter": "python",
   "pygments_lexer": "ipython3",
   "version": "3.10.11"
  }
 },
 "nbformat": 4,
 "nbformat_minor": 5
}
