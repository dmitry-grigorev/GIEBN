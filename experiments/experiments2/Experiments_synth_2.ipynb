{
 "cells": [
  {
   "cell_type": "code",
   "execution_count": 1,
   "outputs": [],
   "source": [
    "import random\n",
    "\n",
    "import bamt.preprocessors\n",
    "import bamt.networks as Nets\n",
    "import pandas as pd\n",
    "from sklearn.preprocessing import OneHotEncoder, KBinsDiscretizer\n",
    "from itertools import product\n",
    "from pgmpy.estimators import  K2Score\n",
    "import numpy as np\n",
    "import seaborn as sns\n",
    "import importlib\n",
    "import matplotlib.pyplot as plt\n",
    "\n",
    "from auxiliary.auxiliary import *\n",
    "\n",
    "plt.rcParams.update({'font.size': 14})\n",
    "\n",
    "imagespath = 'C:/Users/Acer/PycharmProjects/BAMTclone/BAMT/experiments2/images2'"
   ],
   "metadata": {
    "collapsed": false,
    "ExecuteTime": {
     "start_time": "2023-05-07T19:28:42.105995Z",
     "end_time": "2023-05-07T19:28:43.129426Z"
    }
   }
  },
  {
   "cell_type": "code",
   "execution_count": 2,
   "outputs": [],
   "source": [
    "from bamt.networks.discrete_bn import DiscreteBN"
   ],
   "metadata": {
    "collapsed": false,
    "ExecuteTime": {
     "start_time": "2023-05-07T19:29:28.101601Z",
     "end_time": "2023-05-07T19:29:29.427558Z"
    }
   }
  },
  {
   "cell_type": "code",
   "execution_count": 3,
   "outputs": [
    {
     "data": {
      "text/plain": "<bamt.networks.discrete_bn.DiscreteBN at 0x17c9d5cf910>"
     },
     "execution_count": 3,
     "metadata": {},
     "output_type": "execute_result"
    }
   ],
   "source": [
    "DiscreteBN()"
   ],
   "metadata": {
    "collapsed": false,
    "ExecuteTime": {
     "start_time": "2023-05-07T19:29:32.107038Z",
     "end_time": "2023-05-07T19:29:32.152949Z"
    }
   }
  },
  {
   "cell_type": "code",
   "execution_count": 2,
   "outputs": [],
   "source": [
    "#importlib.reload(bamt)"
   ],
   "metadata": {
    "collapsed": false,
    "ExecuteTime": {
     "start_time": "2023-04-24T12:04:32.010298Z",
     "end_time": "2023-04-24T12:04:32.024484Z"
    }
   }
  },
  {
   "cell_type": "markdown",
   "source": [],
   "metadata": {
    "collapsed": false
   }
  },
  {
   "cell_type": "code",
   "execution_count": 3,
   "outputs": [
    {
     "data": {
      "text/plain": "    origin1   origin2     cubed  negative_root3  hyperbola  combined  marker\n0  2.119492  0.737207  0.174883       -0.794917   0.118959 -0.620034       1\n1 -2.625095  0.031537 -0.477368       -0.337130   0.461323 -0.814498       2\n2 -2.894855  0.009888 -0.505449       -0.261298   0.660181 -0.766747       1\n3  2.688882  0.292918  0.486818       -0.737814   0.044543 -0.250996       1\n4  1.990172  0.243591  0.188168       -0.630120   0.361815 -0.441953       0\n5  0.055618  1.007663  0.114813       -1.010407   0.143756 -0.895594       2\n6  1.978326  1.391204  0.189030       -1.095673   0.490799 -0.906644       2\n7  2.810375  0.138295  0.314106       -0.530062  -0.152493 -0.215957       1\n8  1.026379  0.008179 -0.230460       -0.214845  -0.176626 -0.445304       2\n9 -0.542534  0.038656  0.011687       -0.415791   0.867133 -0.404104       1",
      "text/html": "<div>\n<style scoped>\n    .dataframe tbody tr th:only-of-type {\n        vertical-align: middle;\n    }\n\n    .dataframe tbody tr th {\n        vertical-align: top;\n    }\n\n    .dataframe thead th {\n        text-align: right;\n    }\n</style>\n<table border=\"1\" class=\"dataframe\">\n  <thead>\n    <tr style=\"text-align: right;\">\n      <th></th>\n      <th>origin1</th>\n      <th>origin2</th>\n      <th>cubed</th>\n      <th>negative_root3</th>\n      <th>hyperbola</th>\n      <th>combined</th>\n      <th>marker</th>\n    </tr>\n  </thead>\n  <tbody>\n    <tr>\n      <th>0</th>\n      <td>2.119492</td>\n      <td>0.737207</td>\n      <td>0.174883</td>\n      <td>-0.794917</td>\n      <td>0.118959</td>\n      <td>-0.620034</td>\n      <td>1</td>\n    </tr>\n    <tr>\n      <th>1</th>\n      <td>-2.625095</td>\n      <td>0.031537</td>\n      <td>-0.477368</td>\n      <td>-0.337130</td>\n      <td>0.461323</td>\n      <td>-0.814498</td>\n      <td>2</td>\n    </tr>\n    <tr>\n      <th>2</th>\n      <td>-2.894855</td>\n      <td>0.009888</td>\n      <td>-0.505449</td>\n      <td>-0.261298</td>\n      <td>0.660181</td>\n      <td>-0.766747</td>\n      <td>1</td>\n    </tr>\n    <tr>\n      <th>3</th>\n      <td>2.688882</td>\n      <td>0.292918</td>\n      <td>0.486818</td>\n      <td>-0.737814</td>\n      <td>0.044543</td>\n      <td>-0.250996</td>\n      <td>1</td>\n    </tr>\n    <tr>\n      <th>4</th>\n      <td>1.990172</td>\n      <td>0.243591</td>\n      <td>0.188168</td>\n      <td>-0.630120</td>\n      <td>0.361815</td>\n      <td>-0.441953</td>\n      <td>0</td>\n    </tr>\n    <tr>\n      <th>5</th>\n      <td>0.055618</td>\n      <td>1.007663</td>\n      <td>0.114813</td>\n      <td>-1.010407</td>\n      <td>0.143756</td>\n      <td>-0.895594</td>\n      <td>2</td>\n    </tr>\n    <tr>\n      <th>6</th>\n      <td>1.978326</td>\n      <td>1.391204</td>\n      <td>0.189030</td>\n      <td>-1.095673</td>\n      <td>0.490799</td>\n      <td>-0.906644</td>\n      <td>2</td>\n    </tr>\n    <tr>\n      <th>7</th>\n      <td>2.810375</td>\n      <td>0.138295</td>\n      <td>0.314106</td>\n      <td>-0.530062</td>\n      <td>-0.152493</td>\n      <td>-0.215957</td>\n      <td>1</td>\n    </tr>\n    <tr>\n      <th>8</th>\n      <td>1.026379</td>\n      <td>0.008179</td>\n      <td>-0.230460</td>\n      <td>-0.214845</td>\n      <td>-0.176626</td>\n      <td>-0.445304</td>\n      <td>2</td>\n    </tr>\n    <tr>\n      <th>9</th>\n      <td>-0.542534</td>\n      <td>0.038656</td>\n      <td>0.011687</td>\n      <td>-0.415791</td>\n      <td>0.867133</td>\n      <td>-0.404104</td>\n      <td>1</td>\n    </tr>\n  </tbody>\n</table>\n</div>"
     },
     "execution_count": 3,
     "metadata": {},
     "output_type": "execute_result"
    }
   ],
   "source": [
    "n = 2000\n",
    "np.random.seed(42)\n",
    "data = pd.DataFrame(data=np.random.beta(0.95, 0.5, size=n)*6-3, columns=['origin1'])\n",
    "data['origin2'] = np.random.beta(0.4,1, size=n)*2\n",
    "data['cubed'] = data['origin1']**3/50 + np.random.normal(scale=0.1, size=n)\n",
    "data['negative_root3'] = -np.sign(data['origin2'])*np.power(np.abs(data['origin2']), 1/3) + np.random.normal(scale=0.1, size=n)\n",
    "data['hyperbola'] = 1./(data['origin1']+4) + np.random.normal(scale=0.3, size=n)\n",
    "data['combined'] = data['cubed'] + data['negative_root3']\n",
    "data['marker'] = 0\n",
    "\n",
    "mask1 = data['combined']>1.5\n",
    "mask2 = data['combined']<=-0.7\n",
    "mask3 = (~mask1) & (~mask2)\n",
    "\n",
    "data.loc[data[mask1].index, 'marker'] = np.random.choice([0, 1, 2], size=data[mask1].shape[0], p=[0.8, 0.1, 0.1])\n",
    "data.loc[data[mask2].index, 'marker'] = np.random.choice([0, 1, 2], size=data[mask2].shape[0], p=[0.05, 0.15, 0.8])\n",
    "data.loc[data[mask3].index, 'marker'] = np.random.choice([0, 1, 2], size=data[mask3].shape[0], p=[0.1, 0.7, 0.2])\n",
    "data.head(10)"
   ],
   "metadata": {
    "collapsed": false,
    "ExecuteTime": {
     "start_time": "2023-04-24T12:04:32.031990Z",
     "end_time": "2023-04-24T12:04:32.075196Z"
    }
   }
  },
  {
   "cell_type": "code",
   "execution_count": 4,
   "outputs": [
    {
     "data": {
      "text/plain": "origin1           float64\norigin2           float64\ncubed             float64\nnegative_root3    float64\nhyperbola         float64\ncombined          float64\nmarker              int64\ndtype: object"
     },
     "execution_count": 4,
     "metadata": {},
     "output_type": "execute_result"
    }
   ],
   "source": [
    "data.dtypes"
   ],
   "metadata": {
    "collapsed": false,
    "ExecuteTime": {
     "start_time": "2023-04-24T12:04:32.074199Z",
     "end_time": "2023-04-24T12:04:32.086092Z"
    }
   }
  },
  {
   "cell_type": "code",
   "execution_count": 5,
   "outputs": [
    {
     "data": {
      "text/plain": "<AxesSubplot: xlabel='origin1', ylabel='Count'>"
     },
     "execution_count": 5,
     "metadata": {},
     "output_type": "execute_result"
    },
    {
     "data": {
      "text/plain": "<Figure size 432x288 with 1 Axes>",
      "image/png": "[encoded data removed]"
     },
     "metadata": {
      "needs_background": "light"
     },
     "output_type": "display_data"
    }
   ],
   "source": [
    "sns.histplot(data['origin1'])"
   ],
   "metadata": {
    "collapsed": false,
    "ExecuteTime": {
     "start_time": "2023-04-24T12:04:32.091092Z",
     "end_time": "2023-04-24T12:04:32.346331Z"
    }
   }
  },
  {
   "cell_type": "code",
   "execution_count": 6,
   "outputs": [
    {
     "data": {
      "text/plain": "<AxesSubplot: xlabel='origin2', ylabel='Count'>"
     },
     "execution_count": 6,
     "metadata": {},
     "output_type": "execute_result"
    },
    {
     "data": {
      "text/plain": "<Figure size 432x288 with 1 Axes>",
      "image/png": "[encoded data removed]"
     },
     "metadata": {
      "needs_background": "light"
     },
     "output_type": "display_data"
    }
   ],
   "source": [
    "sns.histplot(data['origin2'])"
   ],
   "metadata": {
    "collapsed": false,
    "ExecuteTime": {
     "start_time": "2023-04-24T12:04:32.348330Z",
     "end_time": "2023-04-24T12:04:32.561124Z"
    }
   }
  },
  {
   "cell_type": "code",
   "execution_count": 7,
   "outputs": [
    {
     "name": "stdout",
     "output_type": "stream",
     "text": [
      "Local cdn resources have problems on chrome/safari when used in jupyter-notebook. \n"
     ]
    }
   ],
   "source": [
    "qresult = construct_by_quantiles(data, ['marker'])\n",
    "uresult = construct_by_uniform(data, ['marker'])\n",
    "kresult = construct_by_kmeans(data, ['marker'])\n",
    "kbn = kresult['bn']\n",
    "\n",
    "c=kbn.plot2(imagespath , \"kbn16.html\", custom_mapper={'marker': {0: 'Zero', 1: 'One', 2: 'Two'}})\n",
    "#c=kbn.plot2(\"visualization_results\" , \"k_before1.html\", custom_mapper={'marker': {0: 'Zero', 1: 'One', 2: 'Two'}})\n",
    "#c=kbn.plot2(\"visualization_results_new\" , \"k_after1.html\", custom_mapper={'marker': {0: 'Zero', 1: 'One', 2: 'Two'}})"
   ],
   "metadata": {
    "collapsed": false,
    "ExecuteTime": {
     "start_time": "2023-04-24T12:04:32.564127Z",
     "end_time": "2023-04-24T12:04:45.362603Z"
    }
   }
  },
  {
   "cell_type": "markdown",
   "source": [
    "![](images/kbn16.png)"
   ],
   "metadata": {
    "collapsed": false
   }
  },
  {
   "cell_type": "code",
   "execution_count": 8,
   "outputs": [],
   "source": [
    "kencoder, data_kdiscretized_enc = kresult['encoder'], kresult['disc_data']"
   ],
   "metadata": {
    "collapsed": false,
    "ExecuteTime": {
     "start_time": "2023-04-24T12:04:45.363605Z",
     "end_time": "2023-04-24T12:04:45.383664Z"
    }
   }
  },
  {
   "cell_type": "code",
   "execution_count": 9,
   "outputs": [
    {
     "data": {
      "text/plain": "<Figure size 864x360 with 1 Axes>",
      "image/png": "[encoded data removed]"
     },
     "metadata": {
      "needs_background": "light"
     },
     "output_type": "display_data"
    }
   ],
   "source": [
    "print_histogram('origin1', data, data_kdiscretized_enc, kencoder)"
   ],
   "metadata": {
    "collapsed": false,
    "ExecuteTime": {
     "start_time": "2023-04-24T12:04:45.379664Z",
     "end_time": "2023-04-24T12:04:45.664676Z"
    }
   }
  },
  {
   "cell_type": "code",
   "execution_count": 10,
   "outputs": [
    {
     "data": {
      "text/plain": "<Figure size 864x360 with 1 Axes>",
      "image/png": "[encoded data removed]"
     },
     "metadata": {
      "needs_background": "light"
     },
     "output_type": "display_data"
    }
   ],
   "source": [
    "print_histogram('hyperbola', data, data_kdiscretized_enc, kencoder)"
   ],
   "metadata": {
    "collapsed": false,
    "ExecuteTime": {
     "start_time": "2023-04-24T12:04:45.678672Z",
     "end_time": "2023-04-24T12:04:46.043671Z"
    }
   }
  },
  {
   "cell_type": "code",
   "execution_count": 11,
   "outputs": [
    {
     "data": {
      "text/plain": "<Figure size 864x360 with 1 Axes>",
      "image/png": "[encoded data removed]"
     },
     "metadata": {
      "needs_background": "light"
     },
     "output_type": "display_data"
    }
   ],
   "source": [
    "print_histogram('negative_root3', data, data_kdiscretized_enc, kencoder)"
   ],
   "metadata": {
    "collapsed": false,
    "ExecuteTime": {
     "start_time": "2023-04-24T12:04:46.045672Z",
     "end_time": "2023-04-24T12:04:46.418306Z"
    }
   }
  },
  {
   "cell_type": "code",
   "execution_count": 12,
   "outputs": [
    {
     "data": {
      "text/plain": "<Figure size 864x360 with 1 Axes>",
      "image/png": "[encoded data removed]"
     },
     "metadata": {
      "needs_background": "light"
     },
     "output_type": "display_data"
    }
   ],
   "source": [
    "print_histogram('cubed', data, data_kdiscretized_enc, kencoder)"
   ],
   "metadata": {
    "collapsed": false,
    "ExecuteTime": {
     "start_time": "2023-04-24T12:04:46.412305Z",
     "end_time": "2023-04-24T12:04:46.742877Z"
    }
   }
  },
  {
   "cell_type": "code",
   "execution_count": 13,
   "outputs": [
    {
     "name": "stdout",
     "output_type": "stream",
     "text": [
      "Local cdn resources have problems on chrome/safari when used in jupyter-notebook. \n"
     ]
    }
   ],
   "source": [
    "c=kbn.plot_for_specific_nodes(['marker0', 'marker1', 'marker2'], imagespath , \"subkbn16.html\", custom_mapper={'marker': {0: 'Zero', 1: 'One', 2: 'Two'}})"
   ],
   "metadata": {
    "collapsed": false,
    "ExecuteTime": {
     "start_time": "2023-04-24T12:04:46.744876Z",
     "end_time": "2023-04-24T12:04:46.792876Z"
    }
   }
  },
  {
   "cell_type": "code",
   "execution_count": 14,
   "outputs": [
    {
     "data": {
      "text/plain": "[['origin10', 'cubed0'],\n ['origin11', 'cubed1'],\n ['origin12', 'cubed2'],\n ['origin20', 'negative_root32'],\n ['origin21', 'negative_root31'],\n ['origin22', 'negative_root30'],\n ['origin10', 'hyperbola2'],\n ['origin11', 'hyperbola1'],\n ['origin12', 'hyperbola0'],\n ['origin10', 'combined0'],\n ['origin11', 'combined1'],\n ['origin12', 'combined2'],\n ['origin20', 'combined2'],\n ['origin21', 'combined1'],\n ['origin22', 'combined0'],\n ['negative_root30', 'combined0'],\n ['negative_root31', 'combined1'],\n ['negative_root32', 'combined2'],\n ['cubed0', 'combined0'],\n ['cubed1', 'combined1'],\n ['cubed2', 'combined2']]"
     },
     "execution_count": 14,
     "metadata": {},
     "output_type": "execute_result"
    }
   ],
   "source": [
    "relationships = [['origin1', 'cubed', 1],\n",
    "                 ['origin2', 'negative_root3', -1],\n",
    "                 ['origin1', 'hyperbola', -1],\n",
    "                 ['origin1', 'combined', 1],\n",
    "                 ['origin2', 'combined', -1],\n",
    "                 ['negative_root3', 'combined', 1],\n",
    "                 ['cubed', 'combined', 1]]\n",
    "\n",
    "true_edges = list()\n",
    "states=[0,1,2]\n",
    "for rel in relationships:\n",
    "    true_edges+=([[rel[0]+str(i), rel[1]+str(j)] for i, j in zip(states, states[::rel[2]])])\n",
    "true_edges"
   ],
   "metadata": {
    "collapsed": false,
    "ExecuteTime": {
     "start_time": "2023-04-24T12:04:46.776877Z",
     "end_time": "2023-04-24T12:04:46.793876Z"
    }
   }
  },
  {
   "cell_type": "code",
   "execution_count": 15,
   "outputs": [
    {
     "data": {
      "text/plain": "(0.5714285714285714, 0.23809523809523808)"
     },
     "execution_count": 15,
     "metadata": {},
     "output_type": "execute_result"
    }
   ],
   "source": [
    "calculate_ratio(uresult['bn'].edges, true_edges), calculate_reversed_ratio(uresult['bn'].edges, true_edges)"
   ],
   "metadata": {
    "collapsed": false,
    "ExecuteTime": {
     "start_time": "2023-04-24T12:04:46.790875Z",
     "end_time": "2023-04-24T12:04:46.807875Z"
    }
   }
  },
  {
   "cell_type": "code",
   "execution_count": 16,
   "outputs": [
    {
     "data": {
      "text/plain": "(0.5238095238095238, 0.19047619047619047)"
     },
     "execution_count": 16,
     "metadata": {},
     "output_type": "execute_result"
    }
   ],
   "source": [
    "calculate_ratio(qresult['bn'].edges, true_edges), calculate_reversed_ratio(qresult['bn'].edges, true_edges)"
   ],
   "metadata": {
    "collapsed": false,
    "ExecuteTime": {
     "start_time": "2023-04-24T12:04:46.806875Z",
     "end_time": "2023-04-24T12:04:46.852876Z"
    }
   }
  },
  {
   "cell_type": "code",
   "execution_count": 17,
   "outputs": [
    {
     "data": {
      "text/plain": "(0.6190476190476191, 0.14285714285714285)"
     },
     "execution_count": 17,
     "metadata": {},
     "output_type": "execute_result"
    }
   ],
   "source": [
    "calculate_ratio(kbn.edges, true_edges), calculate_reversed_ratio(kbn.edges, true_edges)"
   ],
   "metadata": {
    "collapsed": false,
    "ExecuteTime": {
     "start_time": "2023-04-24T12:04:46.821883Z",
     "end_time": "2023-04-24T12:04:46.855875Z"
    }
   }
  },
  {
   "cell_type": "markdown",
   "source": [
    "Эксперименты с зашумлением"
   ],
   "metadata": {
    "collapsed": false
   }
  },
  {
   "cell_type": "code",
   "execution_count": 18,
   "outputs": [
    {
     "name": "stdout",
     "output_type": "stream",
     "text": [
      "Noising of true edge ['origin10', 'cubed0']`s in-node the edge occured in 80.0% of cases \n",
      "Noising of true edge ['origin11', 'cubed1']`s in-node the edge occured in 0.0% of cases \n",
      "Noising of true edge ['origin12', 'cubed2']`s in-node the edge occured in 0.0% of cases \n",
      "Noising of true edge ['origin20', 'negative_root32']`s in-node the edge occured in 95.0% of cases \n",
      "Noising of true edge ['origin21', 'negative_root31']`s in-node the edge occured in 40.0% of cases \n",
      "Noising of true edge ['origin22', 'negative_root30']`s in-node the edge occured in 0.0% of cases \n",
      "Noising of true edge ['origin10', 'hyperbola2']`s in-node the edge occured in 100.0% of cases \n",
      "Noising of true edge ['origin11', 'hyperbola1']`s in-node the edge occured in 0.0% of cases \n",
      "Noising of true edge ['origin12', 'hyperbola0']`s in-node the edge occured in 0.0% of cases \n",
      "Noising of true edge ['origin10', 'combined0']`s in-node the edge occured in 0.0% of cases \n",
      "Noising of true edge ['origin11', 'combined1']`s in-node the edge occured in 5.0% of cases \n",
      "Noising of true edge ['origin12', 'combined2']`s in-node the edge occured in 0.0% of cases \n",
      "Noising of true edge ['origin20', 'combined2']`s in-node the edge occured in 35.0% of cases \n",
      "Noising of true edge ['origin21', 'combined1']`s in-node the edge occured in 25.0% of cases \n",
      "Noising of true edge ['origin22', 'combined0']`s in-node the edge occured in 100.0% of cases \n",
      "Noising of true edge ['negative_root30', 'combined0']`s in-node the edge occured in 100.0% of cases \n",
      "Noising of true edge ['negative_root31', 'combined1']`s in-node the edge occured in 35.0% of cases \n",
      "Noising of true edge ['negative_root32', 'combined2']`s in-node the edge occured in 100.0% of cases \n",
      "Noising of true edge ['cubed0', 'combined0']`s in-node the edge occured in 100.0% of cases \n",
      "Noising of true edge ['cubed1', 'combined1']`s in-node the edge occured in 5.0% of cases \n",
      "Noising of true edge ['cubed2', 'combined2']`s in-node the edge occured in 100.0% of cases \n"
     ]
    }
   ],
   "source": [
    "noising_standard(true_edges, qresult, data, construct_by_quantiles, force_normal_noise)"
   ],
   "metadata": {
    "collapsed": false,
    "ExecuteTime": {
     "start_time": "2023-04-24T12:04:46.839876Z",
     "end_time": "2023-04-24T12:33:47.656490Z"
    }
   }
  },
  {
   "cell_type": "code",
   "execution_count": 19,
   "outputs": [
    {
     "name": "stdout",
     "output_type": "stream",
     "text": [
      "Noising of true edge ['origin10', 'cubed0']`s in-node the edge occured in 45.0% of cases \n",
      "Noising of true edge ['origin11', 'cubed1']`s in-node the edge occured in 90.0% of cases \n",
      "Noising of true edge ['origin12', 'cubed2']`s in-node the edge occured in 25.0% of cases \n",
      "Noising of true edge ['origin20', 'negative_root32']`s in-node the edge occured in 100.0% of cases \n",
      "Noising of true edge ['origin21', 'negative_root31']`s in-node the edge occured in 5.0% of cases \n",
      "Noising of true edge ['origin22', 'negative_root30']`s in-node the edge occured in 100.0% of cases \n",
      "Noising of true edge ['origin10', 'hyperbola2']`s in-node the edge occured in 0.0% of cases \n",
      "Noising of true edge ['origin11', 'hyperbola1']`s in-node the edge occured in 5.0% of cases \n",
      "Noising of true edge ['origin12', 'hyperbola0']`s in-node the edge occured in 85.0% of cases \n",
      "Noising of true edge ['origin10', 'combined0']`s in-node the edge occured in 5.0% of cases \n",
      "Noising of true edge ['origin11', 'combined1']`s in-node the edge occured in 5.0% of cases \n",
      "Noising of true edge ['origin12', 'combined2']`s in-node the edge occured in 80.0% of cases \n",
      "Noising of true edge ['origin20', 'combined2']`s in-node the edge occured in 20.0% of cases \n",
      "Noising of true edge ['origin21', 'combined1']`s in-node the edge occured in 25.0% of cases \n",
      "Noising of true edge ['origin22', 'combined0']`s in-node the edge occured in 100.0% of cases \n",
      "Noising of true edge ['negative_root30', 'combined0']`s in-node the edge occured in 100.0% of cases \n",
      "Noising of true edge ['negative_root31', 'combined1']`s in-node the edge occured in 80.0% of cases \n",
      "Noising of true edge ['negative_root32', 'combined2']`s in-node the edge occured in 100.0% of cases \n",
      "Noising of true edge ['cubed0', 'combined0']`s in-node the edge occured in 95.0% of cases \n",
      "Noising of true edge ['cubed1', 'combined1']`s in-node the edge occured in 50.0% of cases \n",
      "Noising of true edge ['cubed2', 'combined2']`s in-node the edge occured in 100.0% of cases \n"
     ]
    }
   ],
   "source": [
    "noising_standard(true_edges, uresult, data, construct_by_uniform, force_normal_noise)"
   ],
   "metadata": {
    "collapsed": false,
    "ExecuteTime": {
     "start_time": "2023-04-24T12:33:47.666493Z",
     "end_time": "2023-04-24T13:07:48.729932Z"
    }
   }
  },
  {
   "cell_type": "code",
   "execution_count": 20,
   "outputs": [
    {
     "name": "stdout",
     "output_type": "stream",
     "text": [
      "Noising of true edge ['origin10', 'cubed0']`s in-node the edge occured in 0.0% of cases \n",
      "Noising of true edge ['origin11', 'cubed1']`s in-node the edge occured in 100.0% of cases \n",
      "Noising of true edge ['origin12', 'cubed2']`s in-node the edge occured in 0.0% of cases \n",
      "Noising of true edge ['origin20', 'negative_root32']`s in-node the edge occured in 100.0% of cases \n",
      "Noising of true edge ['origin21', 'negative_root31']`s in-node the edge occured in 100.0% of cases \n",
      "Noising of true edge ['origin22', 'negative_root30']`s in-node the edge occured in 100.0% of cases \n",
      "Noising of true edge ['origin10', 'hyperbola2']`s in-node the edge occured in 100.0% of cases \n",
      "Noising of true edge ['origin11', 'hyperbola1']`s in-node the edge occured in 15.0% of cases \n",
      "Noising of true edge ['origin12', 'hyperbola0']`s in-node the edge occured in 95.0% of cases \n",
      "Noising of true edge ['origin10', 'combined0']`s in-node the edge occured in 0.0% of cases \n",
      "Noising of true edge ['origin11', 'combined1']`s in-node the edge occured in 0.0% of cases \n",
      "Noising of true edge ['origin12', 'combined2']`s in-node the edge occured in 5.0% of cases \n",
      "Noising of true edge ['origin20', 'combined2']`s in-node the edge occured in 50.0% of cases \n",
      "Noising of true edge ['origin21', 'combined1']`s in-node the edge occured in 100.0% of cases \n",
      "Noising of true edge ['origin22', 'combined0']`s in-node the edge occured in 0.0% of cases \n",
      "Noising of true edge ['negative_root30', 'combined0']`s in-node the edge occured in 100.0% of cases \n",
      "Noising of true edge ['negative_root31', 'combined1']`s in-node the edge occured in 70.0% of cases \n",
      "Noising of true edge ['negative_root32', 'combined2']`s in-node the edge occured in 85.0% of cases \n",
      "Noising of true edge ['cubed0', 'combined0']`s in-node the edge occured in 100.0% of cases \n",
      "Noising of true edge ['cubed1', 'combined1']`s in-node the edge occured in 0.0% of cases \n",
      "Noising of true edge ['cubed2', 'combined2']`s in-node the edge occured in 100.0% of cases \n"
     ]
    }
   ],
   "source": [
    "noising_standard(true_edges, kresult, data, construct_by_kmeans, force_normal_noise)"
   ],
   "metadata": {
    "collapsed": false,
    "ExecuteTime": {
     "start_time": "2023-04-24T13:07:48.736494Z",
     "end_time": "2023-04-24T13:37:21.275980Z"
    }
   }
  },
  {
   "cell_type": "code",
   "execution_count": 21,
   "outputs": [
    {
     "name": "stdout",
     "output_type": "stream",
     "text": [
      "Noising of true edge ['origin10', 'cubed0']`s in-node the edge occured in 75.0% of cases \n",
      "Noising of true edge ['origin11', 'cubed1']`s in-node the edge occured in 0.0% of cases \n",
      "Noising of true edge ['origin12', 'cubed2']`s in-node the edge occured in 0.0% of cases \n",
      "Noising of true edge ['origin20', 'negative_root32']`s in-node the edge occured in 100.0% of cases \n",
      "Noising of true edge ['origin21', 'negative_root31']`s in-node the edge occured in 0.0% of cases \n",
      "Noising of true edge ['origin22', 'negative_root30']`s in-node the edge occured in 0.0% of cases \n",
      "Noising of true edge ['origin10', 'hyperbola2']`s in-node the edge occured in 95.0% of cases \n",
      "Noising of true edge ['origin11', 'hyperbola1']`s in-node the edge occured in 5.0% of cases \n",
      "Noising of true edge ['origin12', 'hyperbola0']`s in-node the edge occured in 50.0% of cases \n",
      "Noising of true edge ['origin10', 'combined0']`s in-node the edge occured in 0.0% of cases \n",
      "Noising of true edge ['origin11', 'combined1']`s in-node the edge occured in 10.0% of cases \n",
      "Noising of true edge ['origin12', 'combined2']`s in-node the edge occured in 0.0% of cases \n",
      "Noising of true edge ['origin20', 'combined2']`s in-node the edge occured in 100.0% of cases \n",
      "Noising of true edge ['origin21', 'combined1']`s in-node the edge occured in 10.0% of cases \n",
      "Noising of true edge ['origin22', 'combined0']`s in-node the edge occured in 25.0% of cases \n",
      "Noising of true edge ['negative_root30', 'combined0']`s in-node the edge occured in 100.0% of cases \n",
      "Noising of true edge ['negative_root31', 'combined1']`s in-node the edge occured in 100.0% of cases \n",
      "Noising of true edge ['negative_root32', 'combined2']`s in-node the edge occured in 100.0% of cases \n",
      "Noising of true edge ['cubed0', 'combined0']`s in-node the edge occured in 90.0% of cases \n",
      "Noising of true edge ['cubed1', 'combined1']`s in-node the edge occured in 100.0% of cases \n",
      "Noising of true edge ['cubed2', 'combined2']`s in-node the edge occured in 100.0% of cases \n"
     ]
    }
   ],
   "source": [
    "noising_standard(true_edges, qresult, data, construct_by_quantiles, force_uniform_noise)"
   ],
   "metadata": {
    "collapsed": false,
    "ExecuteTime": {
     "start_time": "2023-04-24T13:37:21.281425Z",
     "end_time": "2023-04-24T14:05:14.207277Z"
    }
   }
  },
  {
   "cell_type": "code",
   "execution_count": 22,
   "outputs": [
    {
     "name": "stdout",
     "output_type": "stream",
     "text": [
      "Noising of true edge ['origin10', 'cubed0']`s in-node the edge occured in 0.0% of cases \n",
      "Noising of true edge ['origin11', 'cubed1']`s in-node the edge occured in 100.0% of cases \n",
      "Noising of true edge ['origin12', 'cubed2']`s in-node the edge occured in 15.0% of cases \n",
      "Noising of true edge ['origin20', 'negative_root32']`s in-node the edge occured in 100.0% of cases \n",
      "Noising of true edge ['origin21', 'negative_root31']`s in-node the edge occured in 0.0% of cases \n",
      "Noising of true edge ['origin22', 'negative_root30']`s in-node the edge occured in 0.0% of cases \n",
      "Noising of true edge ['origin10', 'hyperbola2']`s in-node the edge occured in 30.0% of cases \n",
      "Noising of true edge ['origin11', 'hyperbola1']`s in-node the edge occured in 15.0% of cases \n",
      "Noising of true edge ['origin12', 'hyperbola0']`s in-node the edge occured in 65.0% of cases \n",
      "Noising of true edge ['origin10', 'combined0']`s in-node the edge occured in 45.0% of cases \n",
      "Noising of true edge ['origin11', 'combined1']`s in-node the edge occured in 0.0% of cases \n",
      "Noising of true edge ['origin12', 'combined2']`s in-node the edge occured in 70.0% of cases \n",
      "Noising of true edge ['origin20', 'combined2']`s in-node the edge occured in 95.0% of cases \n",
      "Noising of true edge ['origin21', 'combined1']`s in-node the edge occured in 25.0% of cases \n",
      "Noising of true edge ['origin22', 'combined0']`s in-node the edge occured in 30.0% of cases \n",
      "Noising of true edge ['negative_root30', 'combined0']`s in-node the edge occured in 90.0% of cases \n",
      "Noising of true edge ['negative_root31', 'combined1']`s in-node the edge occured in 100.0% of cases \n",
      "Noising of true edge ['negative_root32', 'combined2']`s in-node the edge occured in 10.0% of cases \n",
      "Noising of true edge ['cubed0', 'combined0']`s in-node the edge occured in 85.0% of cases \n",
      "Noising of true edge ['cubed1', 'combined1']`s in-node the edge occured in 100.0% of cases \n",
      "Noising of true edge ['cubed2', 'combined2']`s in-node the edge occured in 100.0% of cases \n"
     ]
    }
   ],
   "source": [
    "noising_standard(true_edges, uresult, data, construct_by_uniform, force_uniform_noise)"
   ],
   "metadata": {
    "collapsed": false,
    "ExecuteTime": {
     "start_time": "2023-04-24T14:05:14.210417Z",
     "end_time": "2023-04-24T14:43:05.438444Z"
    }
   }
  },
  {
   "cell_type": "code",
   "execution_count": 23,
   "outputs": [
    {
     "name": "stdout",
     "output_type": "stream",
     "text": [
      "Noising of true edge ['origin10', 'cubed0']`s in-node the edge occured in 0.0% of cases \n",
      "Noising of true edge ['origin11', 'cubed1']`s in-node the edge occured in 100.0% of cases \n",
      "Noising of true edge ['origin12', 'cubed2']`s in-node the edge occured in 0.0% of cases \n",
      "Noising of true edge ['origin20', 'negative_root32']`s in-node the edge occured in 100.0% of cases \n",
      "Noising of true edge ['origin21', 'negative_root31']`s in-node the edge occured in 15.0% of cases \n",
      "Noising of true edge ['origin22', 'negative_root30']`s in-node the edge occured in 0.0% of cases \n",
      "Noising of true edge ['origin10', 'hyperbola2']`s in-node the edge occured in 100.0% of cases \n",
      "Noising of true edge ['origin11', 'hyperbola1']`s in-node the edge occured in 20.0% of cases \n",
      "Noising of true edge ['origin12', 'hyperbola0']`s in-node the edge occured in 100.0% of cases \n",
      "Noising of true edge ['origin10', 'combined0']`s in-node the edge occured in 0.0% of cases \n",
      "Noising of true edge ['origin11', 'combined1']`s in-node the edge occured in 0.0% of cases \n",
      "Noising of true edge ['origin12', 'combined2']`s in-node the edge occured in 0.0% of cases \n",
      "Noising of true edge ['origin20', 'combined2']`s in-node the edge occured in 100.0% of cases \n",
      "Noising of true edge ['origin21', 'combined1']`s in-node the edge occured in 45.0% of cases \n",
      "Noising of true edge ['origin22', 'combined0']`s in-node the edge occured in 55.00000000000001% of cases \n",
      "Noising of true edge ['negative_root30', 'combined0']`s in-node the edge occured in 100.0% of cases \n",
      "Noising of true edge ['negative_root31', 'combined1']`s in-node the edge occured in 100.0% of cases \n",
      "Noising of true edge ['negative_root32', 'combined2']`s in-node the edge occured in 100.0% of cases \n",
      "Noising of true edge ['cubed0', 'combined0']`s in-node the edge occured in 95.0% of cases \n",
      "Noising of true edge ['cubed1', 'combined1']`s in-node the edge occured in 100.0% of cases \n",
      "Noising of true edge ['cubed2', 'combined2']`s in-node the edge occured in 100.0% of cases \n"
     ]
    }
   ],
   "source": [
    "noising_standard(true_edges, kresult, data, construct_by_kmeans, force_uniform_noise)"
   ],
   "metadata": {
    "collapsed": false,
    "ExecuteTime": {
     "start_time": "2023-04-24T14:43:05.445221Z",
     "end_time": "2023-04-24T15:20:39.312634Z"
    }
   }
  },
  {
   "cell_type": "code",
   "execution_count": 24,
   "outputs": [],
   "source": [
    "def noising_impute(true_edges, bn_result, data, construct_func, force_dist):\n",
    "    np.random.seed(42)\n",
    "\n",
    "    blacklist = create_blacklist(bn_result['disc_data'].columns.tolist())\n",
    "\n",
    "    for edge in true_edges:\n",
    "        forced_edge = edge\n",
    "        source_num = 0\n",
    "        n_trials, counter = 20, 0\n",
    "        #state_index = bn_result['disc_data'][bn_result['disc_data'][forced_edge[1]] == 1].index\n",
    "        #mean, std = data.loc[state_index, forced_edge[1][:-1]].mean(), data.loc[state_index, forced_edge[1][:-1]].std()\n",
    "\n",
    "        forced_state = forced_edge[1]#конечный узел зашумляемого ребра\n",
    "        forcing_state = forced_state[:-1] + str((int(forced_state[-1])+1)%3)\n",
    "\n",
    "        for s in range(n_trials):\n",
    "            data_kdisc = bn_result['disc_data'].copy(deep=True)\n",
    "\n",
    "            # будем подменять по циклу: Low на Mid и т.д.\n",
    "            imp_column_index = -1\n",
    "            data_kdisc[forced_state] = data_kdisc[forcing_state]\n",
    "\n",
    "            kbn1 = learn_bn(data_kdisc, bn_result['categories'], {'bl_add': blacklist})\n",
    "\n",
    "            if forced_edge in kbn1.edges:\n",
    "                counter += 1\n",
    "            del kbn1\n",
    "            del data_kdisc\n",
    "        print(f'Imputing of {forced_state} by {forcing_state} saves edge {edge} in {counter / n_trials * 100}% of cases')"
   ],
   "metadata": {
    "collapsed": false,
    "ExecuteTime": {
     "start_time": "2023-04-24T15:20:39.330604Z",
     "end_time": "2023-04-24T15:20:39.358702Z"
    }
   }
  },
  {
   "cell_type": "code",
   "execution_count": 25,
   "outputs": [
    {
     "name": "stdout",
     "output_type": "stream",
     "text": [
      "Imputing of cubed0 by cubed1 saves edge ['origin10', 'cubed0'] in 100.0% of cases\n",
      "Imputing of cubed1 by cubed2 saves edge ['origin11', 'cubed1'] in 100.0% of cases\n",
      "Imputing of cubed2 by cubed0 saves edge ['origin12', 'cubed2'] in 0.0% of cases\n",
      "Imputing of negative_root32 by negative_root30 saves edge ['origin20', 'negative_root32'] in 0.0% of cases\n",
      "Imputing of negative_root31 by negative_root32 saves edge ['origin21', 'negative_root31'] in 0.0% of cases\n",
      "Imputing of negative_root30 by negative_root31 saves edge ['origin22', 'negative_root30'] in 0.0% of cases\n",
      "Imputing of hyperbola2 by hyperbola0 saves edge ['origin10', 'hyperbola2'] in 100.0% of cases\n",
      "Imputing of hyperbola1 by hyperbola2 saves edge ['origin11', 'hyperbola1'] in 100.0% of cases\n",
      "Imputing of hyperbola0 by hyperbola1 saves edge ['origin12', 'hyperbola0'] in 0.0% of cases\n",
      "Imputing of combined0 by combined1 saves edge ['origin10', 'combined0'] in 0.0% of cases\n",
      "Imputing of combined1 by combined2 saves edge ['origin11', 'combined1'] in 0.0% of cases\n",
      "Imputing of combined2 by combined0 saves edge ['origin12', 'combined2'] in 0.0% of cases\n",
      "Imputing of combined2 by combined0 saves edge ['origin20', 'combined2'] in 0.0% of cases\n",
      "Imputing of combined1 by combined2 saves edge ['origin21', 'combined1'] in 0.0% of cases\n",
      "Imputing of combined0 by combined1 saves edge ['origin22', 'combined0'] in 0.0% of cases\n",
      "Imputing of combined0 by combined1 saves edge ['negative_root30', 'combined0'] in 100.0% of cases\n",
      "Imputing of combined1 by combined2 saves edge ['negative_root31', 'combined1'] in 100.0% of cases\n",
      "Imputing of combined2 by combined0 saves edge ['negative_root32', 'combined2'] in 0.0% of cases\n",
      "Imputing of combined0 by combined1 saves edge ['cubed0', 'combined0'] in 0.0% of cases\n",
      "Imputing of combined1 by combined2 saves edge ['cubed1', 'combined1'] in 0.0% of cases\n",
      "Imputing of combined2 by combined0 saves edge ['cubed2', 'combined2'] in 100.0% of cases\n"
     ]
    }
   ],
   "source": [
    "noising_impute(true_edges, qresult, None, None, None)"
   ],
   "metadata": {
    "collapsed": false,
    "ExecuteTime": {
     "start_time": "2023-04-24T15:20:39.346696Z",
     "end_time": "2023-04-24T15:53:50.536498Z"
    }
   }
  },
  {
   "cell_type": "code",
   "execution_count": 26,
   "outputs": [
    {
     "name": "stdout",
     "output_type": "stream",
     "text": [
      "Imputing of cubed0 by cubed1 saves edge ['origin10', 'cubed0'] in 100.0% of cases\n",
      "Imputing of cubed1 by cubed2 saves edge ['origin11', 'cubed1'] in 0.0% of cases\n",
      "Imputing of cubed2 by cubed0 saves edge ['origin12', 'cubed2'] in 0.0% of cases\n",
      "Imputing of negative_root32 by negative_root30 saves edge ['origin20', 'negative_root32'] in 100.0% of cases\n",
      "Imputing of negative_root31 by negative_root32 saves edge ['origin21', 'negative_root31'] in 0.0% of cases\n",
      "Imputing of negative_root30 by negative_root31 saves edge ['origin22', 'negative_root30'] in 0.0% of cases\n",
      "Imputing of hyperbola2 by hyperbola0 saves edge ['origin10', 'hyperbola2'] in 100.0% of cases\n",
      "Imputing of hyperbola1 by hyperbola2 saves edge ['origin11', 'hyperbola1'] in 0.0% of cases\n",
      "Imputing of hyperbola0 by hyperbola1 saves edge ['origin12', 'hyperbola0'] in 100.0% of cases\n",
      "Imputing of combined0 by combined1 saves edge ['origin10', 'combined0'] in 0.0% of cases\n",
      "Imputing of combined1 by combined2 saves edge ['origin11', 'combined1'] in 0.0% of cases\n",
      "Imputing of combined2 by combined0 saves edge ['origin12', 'combined2'] in 100.0% of cases\n",
      "Imputing of combined2 by combined0 saves edge ['origin20', 'combined2'] in 0.0% of cases\n",
      "Imputing of combined1 by combined2 saves edge ['origin21', 'combined1'] in 0.0% of cases\n",
      "Imputing of combined0 by combined1 saves edge ['origin22', 'combined0'] in 100.0% of cases\n",
      "Imputing of combined0 by combined1 saves edge ['negative_root30', 'combined0'] in 100.0% of cases\n",
      "Imputing of combined1 by combined2 saves edge ['negative_root31', 'combined1'] in 100.0% of cases\n",
      "Imputing of combined2 by combined0 saves edge ['negative_root32', 'combined2'] in 0.0% of cases\n",
      "Imputing of combined0 by combined1 saves edge ['cubed0', 'combined0'] in 0.0% of cases\n",
      "Imputing of combined1 by combined2 saves edge ['cubed1', 'combined1'] in 0.0% of cases\n",
      "Imputing of combined2 by combined0 saves edge ['cubed2', 'combined2'] in 100.0% of cases\n"
     ]
    }
   ],
   "source": [
    "noising_impute(true_edges, uresult, None, None, None)"
   ],
   "metadata": {
    "collapsed": false,
    "ExecuteTime": {
     "start_time": "2023-04-24T15:53:50.538499Z",
     "end_time": "2023-04-24T16:32:37.807132Z"
    }
   }
  },
  {
   "cell_type": "code",
   "execution_count": 27,
   "outputs": [
    {
     "name": "stdout",
     "output_type": "stream",
     "text": [
      "Imputing of cubed0 by cubed1 saves edge ['origin10', 'cubed0'] in 0.0% of cases\n",
      "Imputing of cubed1 by cubed2 saves edge ['origin11', 'cubed1'] in 0.0% of cases\n",
      "Imputing of cubed2 by cubed0 saves edge ['origin12', 'cubed2'] in 0.0% of cases\n",
      "Imputing of negative_root32 by negative_root30 saves edge ['origin20', 'negative_root32'] in 100.0% of cases\n",
      "Imputing of negative_root31 by negative_root32 saves edge ['origin21', 'negative_root31'] in 0.0% of cases\n",
      "Imputing of negative_root30 by negative_root31 saves edge ['origin22', 'negative_root30'] in 100.0% of cases\n",
      "Imputing of hyperbola2 by hyperbola0 saves edge ['origin10', 'hyperbola2'] in 100.0% of cases\n",
      "Imputing of hyperbola1 by hyperbola2 saves edge ['origin11', 'hyperbola1'] in 0.0% of cases\n",
      "Imputing of hyperbola0 by hyperbola1 saves edge ['origin12', 'hyperbola0'] in 0.0% of cases\n",
      "Imputing of combined0 by combined1 saves edge ['origin10', 'combined0'] in 0.0% of cases\n",
      "Imputing of combined1 by combined2 saves edge ['origin11', 'combined1'] in 0.0% of cases\n",
      "Imputing of combined2 by combined0 saves edge ['origin12', 'combined2'] in 100.0% of cases\n",
      "Imputing of combined2 by combined0 saves edge ['origin20', 'combined2'] in 0.0% of cases\n",
      "Imputing of combined1 by combined2 saves edge ['origin21', 'combined1'] in 0.0% of cases\n",
      "Imputing of combined0 by combined1 saves edge ['origin22', 'combined0'] in 0.0% of cases\n",
      "Imputing of combined0 by combined1 saves edge ['negative_root30', 'combined0'] in 100.0% of cases\n",
      "Imputing of combined1 by combined2 saves edge ['negative_root31', 'combined1'] in 100.0% of cases\n",
      "Imputing of combined2 by combined0 saves edge ['negative_root32', 'combined2'] in 100.0% of cases\n",
      "Imputing of combined0 by combined1 saves edge ['cubed0', 'combined0'] in 100.0% of cases\n",
      "Imputing of combined1 by combined2 saves edge ['cubed1', 'combined1'] in 0.0% of cases\n",
      "Imputing of combined2 by combined0 saves edge ['cubed2', 'combined2'] in 100.0% of cases\n"
     ]
    }
   ],
   "source": [
    "noising_impute(true_edges, kresult, None, None, None)"
   ],
   "metadata": {
    "collapsed": false,
    "ExecuteTime": {
     "start_time": "2023-04-24T16:32:37.811581Z",
     "end_time": "2023-04-24T17:08:20.930814Z"
    }
   }
  },
  {
   "cell_type": "markdown",
   "source": [
    "Определение реальных связей в зависимости от числа признаков (от 3 до 6)"
   ],
   "metadata": {
    "collapsed": false
   }
  },
  {
   "cell_type": "code",
   "execution_count": 28,
   "outputs": [
    {
     "data": {
      "text/plain": "[[[0, 1, 2], [0, 1, 2]],\n [[0, 1, 2, 3], [0, 1, 2, 3, 4, 5]],\n [[0, 1, 2, 3, 4], [0, 1, 2, 3, 4, 5, 6, 7, 8]],\n [[0, 1, 2, 3, 4, 5],\n  [0, 1, 2, 3, 4, 5, 6, 7, 8, 9, 10, 11, 12, 13, 14, 15, 16, 17, 18, 19, 20]]]"
     },
     "execution_count": 28,
     "metadata": {},
     "output_type": "execute_result"
    }
   ],
   "source": [
    "features_subsets = [[[0, 1, 2], list(range(3))], [[0, 1, 2, 3], list(range(6))],\n",
    "                    [[0, 1, 2, 3, 4], list(range(9))], [[0, 1, 2, 3, 4, 5], list(range(21))]]\n",
    "features_subsets"
   ],
   "metadata": {
    "collapsed": false,
    "ExecuteTime": {
     "start_time": "2023-04-24T17:08:20.940440Z",
     "end_time": "2023-04-24T17:08:20.970061Z"
    }
   }
  },
  {
   "cell_type": "code",
   "execution_count": 29,
   "outputs": [
    {
     "name": "stdout",
     "output_type": "stream",
     "text": [
      "Features number: 3\n",
      "Quantilelearnt in ensemble\n",
      "0.0 1.0\n",
      "Uniform\n",
      "0.3333333333333333 0.6666666666666666\n",
      "Kmeans\n",
      "0.3333333333333333 0.6666666666666666\n",
      "Features number: 4\n",
      "Quantilelearnt in ensemble\n",
      "0.5 0.5\n",
      "Uniform\n",
      "0.6666666666666666 0.3333333333333333\n",
      "Kmeans\n",
      "0.5 0.5\n",
      "Features number: 5\n",
      "Quantilelearnt in ensemble\n",
      "0.5555555555555556 0.4444444444444444\n",
      "Uniform\n",
      "0.4444444444444444 0.4444444444444444\n",
      "Kmeans\n",
      "0.5555555555555556 0.3333333333333333\n",
      "Features number: 6\n",
      "Quantilelearnt in ensemble\n",
      "0.5714285714285714 0.19047619047619047\n",
      "Uniform\n",
      "0.5714285714285714 0.23809523809523808\n",
      "Kmeans\n",
      "0.6190476190476191 0.14285714285714285\n"
     ]
    }
   ],
   "source": [
    "for feat_set, edges_set in features_subsets:\n",
    "    print(f\"Features number: {len(feat_set)}\")\n",
    "    #print(data.columns[feat_set])\n",
    "    #print(true_edges_array[edges_set])\n",
    "    qbn = construct_by_quantiles(data.iloc[:, feat_set], None)\n",
    "    ubn = construct_by_uniform(data.iloc[:, feat_set], None)\n",
    "    kbn = construct_by_kmeans(data.iloc[:, feat_set], [])\n",
    "\n",
    "    true_edges_array = np.array(true_edges)[edges_set].tolist()\n",
    "\n",
    "    print(\"Quantile\")\n",
    "    print(calculate_ratio(qbn['bn'].edges, true_edges_array), calculate_reversed_ratio(qbn['bn'].edges, true_edges_array))\n",
    "    #print(qbn['bn'].edges)\n",
    "    print(\"Uniform\")\n",
    "    print(calculate_ratio(ubn['bn'].edges, true_edges_array), calculate_reversed_ratio(ubn['bn'].edges, true_edges_array))\n",
    "\n",
    "    print(\"Kmeans\")\n",
    "    print(calculate_ratio(kbn['bn'].edges, true_edges_array), calculate_reversed_ratio(kbn['bn'].edges, true_edges_array))\n",
    "    del qbn\n",
    "    del ubn\n",
    "    del kbn"
   ],
   "metadata": {
    "collapsed": false,
    "ExecuteTime": {
     "start_time": "2023-04-24T17:08:20.964061Z",
     "end_time": "2023-04-24T17:08:38.151442Z"
    }
   }
  },
  {
   "cell_type": "code",
   "execution_count": 29,
   "outputs": [],
   "source": [],
   "metadata": {
    "collapsed": false,
    "ExecuteTime": {
     "start_time": "2023-04-24T17:08:38.151442Z",
     "end_time": "2023-04-24T17:08:38.166876Z"
    }
   }
  },
  {
   "cell_type": "code",
   "execution_count": 29,
   "outputs": [],
   "source": [],
   "metadata": {
    "collapsed": false,
    "ExecuteTime": {
     "start_time": "2023-04-24T17:08:38.167876Z",
     "end_time": "2023-04-24T17:08:38.200066Z"
    }
   }
  },
  {
   "cell_type": "code",
   "execution_count": 30,
   "outputs": [],
   "source": [
    "# np.random.seed(42)\n",
    "#\n",
    "# for edge in true_edges:\n",
    "#     forced_edge = edge\n",
    "#     source_num = 0\n",
    "#     n_trials, counter = 20, 0\n",
    "#     state_index = kresult['disc_data'][kresult['disc_data'][forced_edge[1]]==1].index\n",
    "#     m = state_index.shape[0]\n",
    "#     mean, std = data.loc[state_index, forced_edge[1][:-1]].mean(), data.loc[state_index, forced_edge[1][:-1]].std()\n",
    "#\n",
    "#     for s in range(n_trials):\n",
    "#         data_kdisc = data.copy(deep=True)\n",
    "#         data_kdisc.loc[state_index, forced_edge[1][:-1]] += np.random.uniform(-np.abs(mean)/2, np.abs(mean)/2, size=m)\n",
    "#\n",
    "#         kbn1 = construct_by_kmeans(data_kdisc, ['marker'])['bn']\n",
    "#\n",
    "#         if forced_edge in kbn1.edges:\n",
    "#             counter+=1\n",
    "#         del kbn1\n",
    "#         del data_kdisc\n",
    "#     print(f'Noising of true edge {edge}`s in-node the edge occured in {counter/n_trials*100}% of cases ')"
   ],
   "metadata": {
    "collapsed": false,
    "ExecuteTime": {
     "start_time": "2023-04-24T17:08:38.183131Z",
     "end_time": "2023-04-24T17:08:38.200066Z"
    }
   }
  }
 ],
 "metadata": {
  "kernelspec": {
   "display_name": "Python 3",
   "language": "python",
   "name": "python3"
  },
  "language_info": {
   "codemirror_mode": {
    "name": "ipython",
    "version": 2
   },
   "file_extension": ".py",
   "mimetype": "text/x-python",
   "name": "python",
   "nbconvert_exporter": "python",
   "pygments_lexer": "ipython2",
   "version": "2.7.6"
  }
 },
 "nbformat": 4,
 "nbformat_minor": 0
}
