{
 "cells": [
  {
   "cell_type": "markdown",
   "source": [
    "# Датасет diabetes (эталонный)"
   ],
   "metadata": {
    "collapsed": false
   }
  },
  {
   "cell_type": "code",
   "execution_count": 1,
   "outputs": [],
   "source": [
    "import numpy as np\n",
    "\n",
    "import bamt.preprocessors\n",
    "import bamt.networks as Nets\n",
    "import pandas as pd\n",
    "from sklearn.preprocessing import OneHotEncoder,KBinsDiscretizer\n",
    "from itertools import product\n",
    "from pgmpy.estimators import  K2Score\n",
    "\n",
    "from auxiliary import *\n",
    "\n",
    "imagespath = 'C:/Users/Acer/PycharmProjects/BAMTclone/BAMT/experiments2/images'"
   ],
   "metadata": {
    "collapsed": false
   }
  },
  {
   "cell_type": "markdown",
   "source": [
    "- Pregnancies: Number of times pregnant\n",
    "- Glucose: Plasma glucose concentration a 2 hours in an oral glucose tolerance test\n",
    "- BloodPressure: Diastolic blood pressure (mm Hg)\n",
    "- SkinThickness: Triceps skin fold thickness (mm)\n",
    "- Insulin: 2-Hour serum insulin (mu U/ml)\n",
    "- BMI: Body mass index (weight in kg/(height in m)^2)\n",
    "- DiabetesPedigreeFunction: Diabetes pedigree function indicating the function which scores likelihood of diabetes based on family history\n",
    "- Age: Age (years)\n",
    "- Outcome: Class variable (0 or 1)"
   ],
   "metadata": {
    "collapsed": false
   }
  },
  {
   "cell_type": "markdown",
   "source": [
    "- Уровни признаков после разбиения выносятся в отдельные столбцы в результате one-hot encoding и номер в конце имени признака обозначает уровень этого признака: 0 --- наименьшие значения, 2 --- наибольшие\n",
    "- Ручное разбиение не рассматривалось, рассмотрены лишь разбиения признаков по уровням по квантилям и равномерное разбиение. У обоих подходов есть свои проблемы: по квантилям можно получить либо меньше уровней разбиения (в том числе и лишь один уровень, так как квантили могут совпасть), а равномерное разбиение может приводить к тому, что данному уровню признака может отвечать малый объём выборки в сравнении с остальными уровнями\n",
    "- Также рассматривалась зависимость от выбора скора, по которому строится БС. mutual info даёт более простую сеть, чем BIC в рамках подхода с использованием one-hot encoding уровней признаков\n",
    "- Поскольку нам неинтересно взаимодействие различных уровней одного и того же признака, нужно исключать соответствующие дуги в БС из white-list"
   ],
   "metadata": {
    "collapsed": false
   }
  },
  {
   "cell_type": "code",
   "execution_count": 2,
   "outputs": [
    {
     "data": {
      "text/plain": "   Pregnancies  Glucose  BloodPressure  SkinThickness  Insulin   BMI  \\\n0            6      148             72             35        0  33.6   \n1            1       85             66             29        0  26.6   \n2            8      183             64              0        0  23.3   \n3            1       89             66             23       94  28.1   \n4            0      137             40             35      168  43.1   \n\n   DiabetesPedigreeFunction  Age  Outcome  \n0                     0.627   50        1  \n1                     0.351   31        0  \n2                     0.672   32        1  \n3                     0.167   21        0  \n4                     2.288   33        1  ",
      "text/html": "<div>\n<style scoped>\n    .dataframe tbody tr th:only-of-type {\n        vertical-align: middle;\n    }\n\n    .dataframe tbody tr th {\n        vertical-align: top;\n    }\n\n    .dataframe thead th {\n        text-align: right;\n    }\n</style>\n<table border=\"1\" class=\"dataframe\">\n  <thead>\n    <tr style=\"text-align: right;\">\n      <th></th>\n      <th>Pregnancies</th>\n      <th>Glucose</th>\n      <th>BloodPressure</th>\n      <th>SkinThickness</th>\n      <th>Insulin</th>\n      <th>BMI</th>\n      <th>DiabetesPedigreeFunction</th>\n      <th>Age</th>\n      <th>Outcome</th>\n    </tr>\n  </thead>\n  <tbody>\n    <tr>\n      <th>0</th>\n      <td>6</td>\n      <td>148</td>\n      <td>72</td>\n      <td>35</td>\n      <td>0</td>\n      <td>33.6</td>\n      <td>0.627</td>\n      <td>50</td>\n      <td>1</td>\n    </tr>\n    <tr>\n      <th>1</th>\n      <td>1</td>\n      <td>85</td>\n      <td>66</td>\n      <td>29</td>\n      <td>0</td>\n      <td>26.6</td>\n      <td>0.351</td>\n      <td>31</td>\n      <td>0</td>\n    </tr>\n    <tr>\n      <th>2</th>\n      <td>8</td>\n      <td>183</td>\n      <td>64</td>\n      <td>0</td>\n      <td>0</td>\n      <td>23.3</td>\n      <td>0.672</td>\n      <td>32</td>\n      <td>1</td>\n    </tr>\n    <tr>\n      <th>3</th>\n      <td>1</td>\n      <td>89</td>\n      <td>66</td>\n      <td>23</td>\n      <td>94</td>\n      <td>28.1</td>\n      <td>0.167</td>\n      <td>21</td>\n      <td>0</td>\n    </tr>\n    <tr>\n      <th>4</th>\n      <td>0</td>\n      <td>137</td>\n      <td>40</td>\n      <td>35</td>\n      <td>168</td>\n      <td>43.1</td>\n      <td>2.288</td>\n      <td>33</td>\n      <td>1</td>\n    </tr>\n  </tbody>\n</table>\n</div>"
     },
     "execution_count": 2,
     "metadata": {},
     "output_type": "execute_result"
    }
   ],
   "source": [
    "data = pd.read_csv(\"diabetes.csv\")\n",
    "data.head()"
   ],
   "metadata": {
    "collapsed": false
   }
  },
  {
   "cell_type": "markdown",
   "source": [
    "## Разбиение признаков по квантилям"
   ],
   "metadata": {
    "collapsed": false
   }
  },
  {
   "cell_type": "code",
   "execution_count": 3,
   "outputs": [
    {
     "name": "stdout",
     "output_type": "stream",
     "text": [
      "Local cdn resources have problems on chrome/safari when used in jupyter-notebook. \n"
     ]
    }
   ],
   "source": [
    "np.random.seed(SEED)\n",
    "random.seed(SEED)\n",
    "\n",
    "qresult = construct_by_quantiles(data, ['Outcome'])\n",
    "bn = qresult['bn']\n",
    "\n",
    "c=bn.plot2(imagespath , \"bn11.html\", custom_mapper={'Outcome': {0: 'NoDia', 1: 'HasDia'}})"
   ],
   "metadata": {
    "collapsed": false
   }
  },
  {
   "cell_type": "markdown",
   "source": [
    "![](images/bn11.png)"
   ],
   "metadata": {
    "collapsed": false
   }
  },
  {
   "cell_type": "code",
   "execution_count": 12,
   "outputs": [
    {
     "name": "stdout",
     "output_type": "stream",
     "text": [
      "Local cdn resources have problems on chrome/safari when used in jupyter-notebook. \n"
     ]
    }
   ],
   "source": [
    "c=bn.plot_for_specific_nodes(['Outcome0', 'Outcome1'], imagespath , \"subbn11.html\", custom_mapper={'Outcome': {0: 'NoDia', 1: 'HasDia'}})"
   ],
   "metadata": {
    "collapsed": false
   }
  },
  {
   "cell_type": "markdown",
   "source": [
    "### Проблема разбиения по квантилям: можно получить пустое состояния (если есть значение признака, имеющее большую вероятность в сравнении с остальными значениями)"
   ],
   "metadata": {
    "collapsed": false
   }
  },
  {
   "cell_type": "markdown",
   "source": [
    "## Равномерное разбиение признаков"
   ],
   "metadata": {
    "collapsed": false
   }
  },
  {
   "cell_type": "code",
   "execution_count": 4,
   "outputs": [
    {
     "name": "stdout",
     "output_type": "stream",
     "text": [
      "Local cdn resources have problems on chrome/safari when used in jupyter-notebook. \n"
     ]
    }
   ],
   "source": [
    "np.random.seed(SEED)\n",
    "random.seed(SEED)\n",
    "\n",
    "uqresult = construct_by_uniform(data, ['Outcome'])\n",
    "ubn = uqresult['bn']\n",
    "\n",
    "c=ubn.plot2(imagespath , \"ubn11.html\", custom_mapper={'Outcome': {0: 'NoDia', 1: 'HasDia'}})"
   ],
   "metadata": {
    "collapsed": false
   }
  },
  {
   "cell_type": "markdown",
   "source": [
    "![](images/ubn11.png)"
   ],
   "metadata": {
    "collapsed": false
   }
  },
  {
   "cell_type": "code",
   "execution_count": 13,
   "outputs": [
    {
     "name": "stdout",
     "output_type": "stream",
     "text": [
      "Local cdn resources have problems on chrome/safari when used in jupyter-notebook. \n"
     ]
    }
   ],
   "source": [
    "c=ubn.plot_for_specific_nodes(['Outcome0', 'Outcome1'], imagespath , \"sububn11.html\", custom_mapper={'Outcome': {0: 'NoDia', 1: 'HasDia'}})"
   ],
   "metadata": {
    "collapsed": false
   }
  },
  {
   "cell_type": "markdown",
   "source": [
    "Какие связи действительны\n",
    "- высокий уровень инсулина --- высокое давление (*Insulin can increase blood pressure via several mechanisms: increased renal sodium reabsorption, activation of the sympathetic nervous system, alteration of transmembrane ion transport, and hypertrophy of resistance vessels*, https://doi.org/10.2165/00003495-199300462-00024)\n",
    "- меньший возраст --- меньшее кол-во беременностей и то же соотношение между высокими показателями\n",
    "- Высокое значение diabetes pedigree function (высокая родовая предрасположенность к диабету) --- наличие диабета\n",
    "-"
   ],
   "metadata": {
    "collapsed": false
   }
  },
  {
   "cell_type": "markdown",
   "source": [
    "## KMeansDiscretizer с тремя bin'ами"
   ],
   "metadata": {
    "collapsed": false
   }
  },
  {
   "cell_type": "code",
   "execution_count": 5,
   "outputs": [
    {
     "name": "stdout",
     "output_type": "stream",
     "text": [
      "Local cdn resources have problems on chrome/safari when used in jupyter-notebook. \n"
     ]
    }
   ],
   "source": [
    "np.random.seed(SEED)\n",
    "random.seed(SEED)\n",
    "\n",
    "kqresult = construct_by_kmeans(data, ['Outcome'])\n",
    "kbn = kqresult['bn']\n",
    "\n",
    "c=kbn.plot2(imagespath , \"kbn11.html\", custom_mapper={'Outcome': {0: 'NoDia', 1: 'HasDia'}})"
   ],
   "metadata": {
    "collapsed": false
   }
  },
  {
   "cell_type": "code",
   "execution_count": 14,
   "outputs": [
    {
     "name": "stdout",
     "output_type": "stream",
     "text": [
      "Local cdn resources have problems on chrome/safari when used in jupyter-notebook. \n"
     ]
    }
   ],
   "source": [
    "c=kbn.plot_for_specific_nodes(['Outcome0', 'Outcome1'], imagespath , \"subkbn11.html\", custom_mapper={'Outcome': {0: 'NoDia', 1: 'HasDia'}})"
   ],
   "metadata": {
    "collapsed": false
   }
  },
  {
   "cell_type": "code",
   "execution_count": 6,
   "outputs": [],
   "source": [
    "kencoder, data_kdiscretized_enc = kqresult['encoder'], kqresult['disc_data']"
   ],
   "metadata": {
    "collapsed": false
   }
  },
  {
   "cell_type": "code",
   "execution_count": 41,
   "outputs": [],
   "source": [
    "import seaborn as sns\n",
    "import matplotlib.pyplot as plt"
   ],
   "metadata": {
    "collapsed": false
   }
  },
  {
   "cell_type": "code",
   "execution_count": 7,
   "outputs": [
    {
     "data": {
      "text/plain": "<Figure size 864x360 with 1 Axes>",
      "image/png": "[encoded data removed]"
     },
     "metadata": {
      "needs_background": "light"
     },
     "output_type": "display_data"
    }
   ],
   "source": [
    "print_histogram('Age', data, data_kdiscretized_enc, kencoder)"
   ],
   "metadata": {
    "collapsed": false
   }
  },
  {
   "cell_type": "code",
   "execution_count": 8,
   "outputs": [
    {
     "data": {
      "text/plain": "<Figure size 864x360 with 1 Axes>",
      "image/png": "[encoded data removed]"
     },
     "metadata": {
      "needs_background": "light"
     },
     "output_type": "display_data"
    }
   ],
   "source": [
    "print_histogram('BMI', data, data_kdiscretized_enc, kencoder)"
   ],
   "metadata": {
    "collapsed": false
   }
  },
  {
   "cell_type": "code",
   "execution_count": 9,
   "outputs": [
    {
     "data": {
      "text/plain": "<Figure size 864x360 with 1 Axes>",
      "image/png": "[encoded data removed]"
     },
     "metadata": {
      "needs_background": "light"
     },
     "output_type": "display_data"
    }
   ],
   "source": [
    "print_histogram('BloodPressure', data, data_kdiscretized_enc, kencoder)"
   ],
   "metadata": {
    "collapsed": false
   }
  },
  {
   "cell_type": "markdown",
   "source": [
    "![](images/kbn11.png)"
   ],
   "metadata": {
    "collapsed": false
   }
  },
  {
   "cell_type": "code",
   "execution_count": 10,
   "outputs": [],
   "source": [
    "all_edges = list(set([\"-\".join(e) for e in bn.edges + ubn.edges + kbn.edges])) #white list for the next bn"
   ],
   "metadata": {
    "collapsed": false
   }
  },
  {
   "cell_type": "code",
   "execution_count": 11,
   "outputs": [
    {
     "data": {
      "text/plain": "  0%|          | 0/1000000 [00:00<?, ?it/s]",
      "application/vnd.jupyter.widget-view+json": {
       "version_major": 2,
       "version_minor": 0,
       "model_id": "12dec2310a0e44b38820bc317228d382"
      }
     },
     "metadata": {},
     "output_type": "display_data"
    },
    {
     "name": "stdout",
     "output_type": "stream",
     "text": [
      "Local cdn resources have problems on chrome/safari when used in jupyter-notebook. \n"
     ]
    }
   ],
   "source": [
    "tradeoffbn = Nets.DiscreteBN()\n",
    "nodes = list(dict.fromkeys(sum([x.split(\"-\") for x in all_edges], start=[])))\n",
    "tradeoffbn.add_nodes(dict(types={cat: 'disc' for _, cat in enumerate(nodes)}))\n",
    "\n",
    "params = {'white_list': [(x[0], x[1]) for x in [y.split(\"-\") for y in all_edges]]}\n",
    "\n",
    "tradeoffbn.add_edges(data_kdiscretized_enc.astype(\"int32\"), scoring_function=(\"K2\",K2Score), params=params)\n",
    "\n",
    "c=tradeoffbn.plot2(imagespath, \"tbn11.html\", custom_mapper={'Outcome': {0: 'NoDia', 1: 'HasDia'}})"
   ],
   "metadata": {
    "collapsed": false
   }
  },
  {
   "cell_type": "markdown",
   "source": [
    "![](images/tbn11.png)"
   ],
   "metadata": {
    "collapsed": false
   }
  },
  {
   "cell_type": "code",
   "execution_count": 15,
   "outputs": [
    {
     "name": "stdout",
     "output_type": "stream",
     "text": [
      "Local cdn resources have problems on chrome/safari when used in jupyter-notebook. \n"
     ]
    }
   ],
   "source": [
    "c=tradeoffbn.plot_for_specific_nodes(['Outcome0', 'Outcome1'], imagespath , \"subtbn11.html\", custom_mapper={'Outcome': {0: 'NoDia', 1: 'HasDia'}})"
   ],
   "metadata": {
    "collapsed": false
   }
  },
  {
   "cell_type": "code",
   "execution_count": null,
   "outputs": [],
   "source": [],
   "metadata": {
    "collapsed": false
   }
  }
 ],
 "metadata": {
  "kernelspec": {
   "display_name": "Python 3",
   "language": "python",
   "name": "python3"
  },
  "language_info": {
   "codemirror_mode": {
    "name": "ipython",
    "version": 2
   },
   "file_extension": ".py",
   "mimetype": "text/x-python",
   "name": "python",
   "nbconvert_exporter": "python",
   "pygments_lexer": "ipython2",
   "version": "2.7.6"
  }
 },
 "nbformat": 4,
 "nbformat_minor": 0
}
