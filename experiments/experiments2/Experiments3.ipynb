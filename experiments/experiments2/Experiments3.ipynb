{
 "cells": [
  {
   "cell_type": "markdown",
   "source": [
    "# Датасет Narvik Weather (подвыборка из большего датасета, который анализировал в прошлом семестре)"
   ],
   "metadata": {
    "collapsed": false
   }
  },
  {
   "cell_type": "code",
   "execution_count": 1,
   "metadata": {
    "collapsed": true
   },
   "outputs": [],
   "source": [
    "import bamt.preprocessors\n",
    "import bamt.networks as Nets\n",
    "import pandas as pd\n",
    "import numpy as np\n",
    "from sklearn.preprocessing import OneHotEncoder, KBinsDiscretizer\n",
    "from itertools import product\n",
    "from pgmpy.estimators import  K2Score\n",
    "\n",
    "from auxiliary import *\n",
    "\n",
    "imagespath = 'C:/Users/Acer/PycharmProjects/BAMTclone/BAMT/experiments2/images'"
   ]
  },
  {
   "cell_type": "markdown",
   "source": [
    "- Уровни признаков после разбиения выносятся в отдельные столбцы в результате one-hot encoding и номер в конце имени признака обозначает уровень этого признака: 0 --- наименьшие значения, 2 --- наибольшие\n",
    "- Ручное разбиение не рассматривалось, рассмотрены лишь разбиения признаков по уровням по квантилям и равномерное разбиение. У обоих подходов есть свои проблемы: по квантилям можно получить либо меньше уровней разбиения (в том числе и лишь один уровень, так как квантили могут совпасть), а равномерное разбиение может приводить к тому, что данному уровню признака может отвечать малый объём выборки в сравнении с остальными уровнями\n",
    "- Также рассматривалась зависимость от выбора скора, по которому строится БС. mutual info даёт более простую сеть, чем BIC в рамках подхода с использованием one-hot encoding уровней признаков\n",
    "- Поскольку нам неинтересно взаимодействие различных уровней одного и того же признака, нужно исключать соответствующие дуги в БС из white-list."
   ],
   "metadata": {
    "collapsed": false
   }
  },
  {
   "cell_type": "code",
   "execution_count": 2,
   "outputs": [
    {
     "data": {
      "text/plain": "   Unnamed: 0.1  Unnamed: 0     lat_     lon_  State_    Ta_mean  Ta_min  \\\n0         93084       93084  68.4317  17.4334       5  12.400000    12.4   \n1         70925       70925  68.4349  17.4320       3   4.711765     4.7   \n2         47174       47174  68.4117  17.4310       6   5.400000     5.4   \n3        163824      163824  68.5296  17.4650       1  12.600000    12.6   \n4         67379       67379  68.4436  17.4176       4  15.133333    10.6   \n\n   Ta_max  Tsurf_mean  Tsurf_min  ...  WindGustKmph  cloudcover  humidity  \\\n0    12.4    1.810000       1.75  ...            15          63        79   \n1     4.9    0.167647      -0.15  ...            41          93        89   \n2     5.4   -2.320000      -2.32  ...            48         100        94   \n3    12.6    3.230000       3.23  ...            28           5        76   \n4    16.1    2.903333       1.28  ...            28          68        78   \n\n   precipMM  pressure  tempC  visibility  winddirDegree  windspeedKmph  \\\n0       0.0      1030     -3          10            182              9   \n1       0.6      1002     -4           6            257             21   \n2       1.2      1020     -5           1            273             26   \n3       0.0      1013     -7          10            105             13   \n4       0.0      1004     -5          10            109             18   \n\n   location  \n0    narvik  \n1    narvik  \n2    narvik  \n3    oyjord  \n4    narvik  \n\n[5 rows x 57 columns]",
      "text/html": "<div>\n<style scoped>\n    .dataframe tbody tr th:only-of-type {\n        vertical-align: middle;\n    }\n\n    .dataframe tbody tr th {\n        vertical-align: top;\n    }\n\n    .dataframe thead th {\n        text-align: right;\n    }\n</style>\n<table border=\"1\" class=\"dataframe\">\n  <thead>\n    <tr style=\"text-align: right;\">\n      <th></th>\n      <th>Unnamed: 0.1</th>\n      <th>Unnamed: 0</th>\n      <th>lat_</th>\n      <th>lon_</th>\n      <th>State_</th>\n      <th>Ta_mean</th>\n      <th>Ta_min</th>\n      <th>Ta_max</th>\n      <th>Tsurf_mean</th>\n      <th>Tsurf_min</th>\n      <th>...</th>\n      <th>WindGustKmph</th>\n      <th>cloudcover</th>\n      <th>humidity</th>\n      <th>precipMM</th>\n      <th>pressure</th>\n      <th>tempC</th>\n      <th>visibility</th>\n      <th>winddirDegree</th>\n      <th>windspeedKmph</th>\n      <th>location</th>\n    </tr>\n  </thead>\n  <tbody>\n    <tr>\n      <th>0</th>\n      <td>93084</td>\n      <td>93084</td>\n      <td>68.4317</td>\n      <td>17.4334</td>\n      <td>5</td>\n      <td>12.400000</td>\n      <td>12.4</td>\n      <td>12.4</td>\n      <td>1.810000</td>\n      <td>1.75</td>\n      <td>...</td>\n      <td>15</td>\n      <td>63</td>\n      <td>79</td>\n      <td>0.0</td>\n      <td>1030</td>\n      <td>-3</td>\n      <td>10</td>\n      <td>182</td>\n      <td>9</td>\n      <td>narvik</td>\n    </tr>\n    <tr>\n      <th>1</th>\n      <td>70925</td>\n      <td>70925</td>\n      <td>68.4349</td>\n      <td>17.4320</td>\n      <td>3</td>\n      <td>4.711765</td>\n      <td>4.7</td>\n      <td>4.9</td>\n      <td>0.167647</td>\n      <td>-0.15</td>\n      <td>...</td>\n      <td>41</td>\n      <td>93</td>\n      <td>89</td>\n      <td>0.6</td>\n      <td>1002</td>\n      <td>-4</td>\n      <td>6</td>\n      <td>257</td>\n      <td>21</td>\n      <td>narvik</td>\n    </tr>\n    <tr>\n      <th>2</th>\n      <td>47174</td>\n      <td>47174</td>\n      <td>68.4117</td>\n      <td>17.4310</td>\n      <td>6</td>\n      <td>5.400000</td>\n      <td>5.4</td>\n      <td>5.4</td>\n      <td>-2.320000</td>\n      <td>-2.32</td>\n      <td>...</td>\n      <td>48</td>\n      <td>100</td>\n      <td>94</td>\n      <td>1.2</td>\n      <td>1020</td>\n      <td>-5</td>\n      <td>1</td>\n      <td>273</td>\n      <td>26</td>\n      <td>narvik</td>\n    </tr>\n    <tr>\n      <th>3</th>\n      <td>163824</td>\n      <td>163824</td>\n      <td>68.5296</td>\n      <td>17.4650</td>\n      <td>1</td>\n      <td>12.600000</td>\n      <td>12.6</td>\n      <td>12.6</td>\n      <td>3.230000</td>\n      <td>3.23</td>\n      <td>...</td>\n      <td>28</td>\n      <td>5</td>\n      <td>76</td>\n      <td>0.0</td>\n      <td>1013</td>\n      <td>-7</td>\n      <td>10</td>\n      <td>105</td>\n      <td>13</td>\n      <td>oyjord</td>\n    </tr>\n    <tr>\n      <th>4</th>\n      <td>67379</td>\n      <td>67379</td>\n      <td>68.4436</td>\n      <td>17.4176</td>\n      <td>4</td>\n      <td>15.133333</td>\n      <td>10.6</td>\n      <td>16.1</td>\n      <td>2.903333</td>\n      <td>1.28</td>\n      <td>...</td>\n      <td>28</td>\n      <td>68</td>\n      <td>78</td>\n      <td>0.0</td>\n      <td>1004</td>\n      <td>-5</td>\n      <td>10</td>\n      <td>109</td>\n      <td>18</td>\n      <td>narvik</td>\n    </tr>\n  </tbody>\n</table>\n<p>5 rows × 57 columns</p>\n</div>"
     },
     "execution_count": 2,
     "metadata": {},
     "output_type": "execute_result"
    }
   ],
   "source": [
    "data = pd.read_csv(\"narvikweather.csv\")\n",
    "data.head()"
   ],
   "metadata": {
    "collapsed": false
   }
  },
  {
   "cell_type": "code",
   "execution_count": 3,
   "outputs": [
    {
     "data": {
      "text/plain": "Index(['Unnamed: 0.1', 'Unnamed: 0', 'lat_', 'lon_', 'State_', 'Ta_mean',\n       'Ta_min', 'Ta_max', 'Tsurf_mean', 'Tsurf_min', 'Tsurf_max',\n       'Water_mean', 'Water_min', 'Water_max', 'Speed_mean', 'Speed_min',\n       'Speed_max', 'Height_mean', 'Height_min', 'Height_max', 'Tdew_mean',\n       'Tdew_min', 'Tdew_max', 'Friction_mean', 'Friction_min', 'Friction_max',\n       'Date', 'Time', 'Direction_min', 'Direction_max', 'FullDate',\n       'ClosestCity', 'date_time', 'maxtempC', 'mintempC', 'totalSnow_cm',\n       'sunHour', 'uvIndex', 'moon_illumination', 'moonrise', 'moonset',\n       'sunrise', 'sunset', 'DewPointC', 'FeelsLikeC', 'HeatIndexC',\n       'WindChillC', 'WindGustKmph', 'cloudcover', 'humidity', 'precipMM',\n       'pressure', 'tempC', 'visibility', 'winddirDegree', 'windspeedKmph',\n       'location'],\n      dtype='object')"
     },
     "execution_count": 3,
     "metadata": {},
     "output_type": "execute_result"
    }
   ],
   "source": [
    "data.columns"
   ],
   "metadata": {
    "collapsed": false
   }
  },
  {
   "cell_type": "code",
   "execution_count": 4,
   "outputs": [
    {
     "data": {
      "text/plain": "10    690\n2      89\n4      53\n3      36\n6      34\n7      27\n9      26\n8      24\n5      14\n1       4\n0       3\nName: visibility, dtype: int64"
     },
     "execution_count": 4,
     "metadata": {},
     "output_type": "execute_result"
    }
   ],
   "source": [
    "data.visibility.value_counts()"
   ],
   "metadata": {
    "collapsed": false
   }
  },
  {
   "cell_type": "code",
   "execution_count": 5,
   "outputs": [
    {
     "data": {
      "text/plain": "count    1000.000000\nmean       -4.362000\nstd         4.542641\nmin       -15.000000\n25%        -7.000000\n50%        -4.000000\n75%        -1.000000\nmax         6.000000\nName: tempC, dtype: float64"
     },
     "execution_count": 5,
     "metadata": {},
     "output_type": "execute_result"
    }
   ],
   "source": [
    "data.tempC.describe()"
   ],
   "metadata": {
    "collapsed": false
   }
  },
  {
   "cell_type": "code",
   "execution_count": 6,
   "outputs": [
    {
     "data": {
      "text/plain": "array(['2021-01-04', '2021-03-01', '2021-02-12', '2020-12-16',\n       '2020-12-28', '2020-12-09', '2020-12-17', '2021-02-17',\n       '2021-01-13', '2021-02-01', '2021-02-23', '2020-12-03',\n       '2020-12-10', '2020-12-23', '2021-02-22', '2020-12-22',\n       '2021-03-03', '2021-01-19', '2020-12-21', '2020-12-15',\n       '2021-01-11', '2021-01-28', '2021-01-12', '2020-12-02',\n       '2020-12-07', '2020-12-01', '2021-01-06', '2020-12-04',\n       '2021-02-09', '2020-11-30', '2021-02-26', '2021-01-21',\n       '2021-01-18', '2021-01-29', '2021-01-14', '2021-01-26',\n       '2021-02-18', '2021-02-02', '2021-01-07', '2021-01-27',\n       '2021-02-08', '2021-01-20', '2021-02-10', '2020-12-18',\n       '2021-01-25', '2021-03-02', '2021-02-11', '2020-12-08',\n       '2021-01-08', '2020-12-11', '2021-02-24', '2020-12-30',\n       '2021-01-22', '2021-01-05', '2021-02-15', '2020-12-29',\n       '2020-12-14', '2021-01-15', '2021-02-25', '2021-02-16',\n       '2021-02-19', '2021-02-05', '2021-02-03'], dtype=object)"
     },
     "execution_count": 6,
     "metadata": {},
     "output_type": "execute_result"
    }
   ],
   "source": [
    "data.date_time.apply(lambda x: x[0:10]).unique()"
   ],
   "metadata": {
    "collapsed": false
   }
  },
  {
   "cell_type": "markdown",
   "source": [
    "## Разбиение признаков по квантилям"
   ],
   "metadata": {
    "collapsed": false
   }
  },
  {
   "cell_type": "code",
   "execution_count": 3,
   "outputs": [],
   "source": [
    "cols = ['cloudcover', 'humidity',\n",
    "       'pressure', 'tempC', 'visibility', 'windspeedKmph']"
   ],
   "metadata": {
    "collapsed": false
   }
  },
  {
   "cell_type": "code",
   "execution_count": 4,
   "outputs": [
    {
     "name": "stdout",
     "output_type": "stream",
     "text": [
      "Local cdn resources have problems on chrome/safari when used in jupyter-notebook. \n"
     ]
    }
   ],
   "source": [
    "np.random.seed(SEED)\n",
    "random.seed(SEED)\n",
    "\n",
    "qresult = construct_by_quantiles(data[cols], None)\n",
    "bn = qresult['bn']\n",
    "\n",
    "c=bn.plot2(imagespath , \"bn13.html\")"
   ],
   "metadata": {
    "collapsed": false
   }
  },
  {
   "cell_type": "markdown",
   "source": [
    "![](images/bn13.png)"
   ],
   "metadata": {
    "collapsed": false
   }
  },
  {
   "cell_type": "code",
   "execution_count": 11,
   "outputs": [
    {
     "name": "stdout",
     "output_type": "stream",
     "text": [
      "Local cdn resources have problems on chrome/safari when used in jupyter-notebook. \n"
     ]
    }
   ],
   "source": [
    "c=bn.plot_for_specific_nodes(['humidity0', 'humidity1', 'humidity2'], imagespath , \"subbn13.html\")"
   ],
   "metadata": {
    "collapsed": false
   }
  },
  {
   "cell_type": "markdown",
   "source": [
    "## Равномерное разбиение признаков"
   ],
   "metadata": {
    "collapsed": false
   }
  },
  {
   "cell_type": "code",
   "execution_count": 5,
   "outputs": [
    {
     "name": "stdout",
     "output_type": "stream",
     "text": [
      "Local cdn resources have problems on chrome/safari when used in jupyter-notebook. \n"
     ]
    }
   ],
   "source": [
    "np.random.seed(SEED)\n",
    "random.seed(SEED)\n",
    "\n",
    "uresult = construct_by_uniform(data[cols], None)\n",
    "ubn = uresult['bn']\n",
    "\n",
    "c=ubn.plot2(imagespath , \"ubn13.html\")"
   ],
   "metadata": {
    "collapsed": false
   }
  },
  {
   "cell_type": "markdown",
   "source": [
    "![](images/ubn13.png)"
   ],
   "metadata": {
    "collapsed": false
   }
  },
  {
   "cell_type": "code",
   "execution_count": 12,
   "outputs": [
    {
     "name": "stdout",
     "output_type": "stream",
     "text": [
      "Local cdn resources have problems on chrome/safari when used in jupyter-notebook. \n"
     ]
    }
   ],
   "source": [
    "c=ubn.plot_for_specific_nodes(['humidity0', 'humidity1', 'humidity2'], imagespath , \"sububn13.html\")"
   ],
   "metadata": {
    "collapsed": false
   }
  },
  {
   "cell_type": "markdown",
   "source": [
    "Валидные связи\n",
    "- Высокое давление --- высокая температура атмосферы\n",
    "- низкая облачность --- низкая влажность и высокая температура *The researchers concluded that cloud cover is directly proportional to humidity and inversely proportional to temperature.* (https://www.globe.gov/documents/10157/5c1db298-1dd3-4fb1-8e40-daa3464dbcaa#:~:text=The%20researchers%20concluded%20that%20cloud,cloud%20cover%20increases%20temperature%20decreases.)"
   ],
   "metadata": {
    "collapsed": false
   }
  },
  {
   "cell_type": "code",
   "execution_count": 19,
   "outputs": [],
   "source": [],
   "metadata": {
    "collapsed": false
   }
  },
  {
   "cell_type": "markdown",
   "source": [
    "## KMeansDiscretizer с тремя bin'ами"
   ],
   "metadata": {
    "collapsed": false
   }
  },
  {
   "cell_type": "code",
   "execution_count": 7,
   "outputs": [
    {
     "name": "stdout",
     "output_type": "stream",
     "text": [
      "Local cdn resources have problems on chrome/safari when used in jupyter-notebook. \n"
     ]
    }
   ],
   "source": [
    "np.random.seed(SEED)\n",
    "random.seed(SEED)\n",
    "\n",
    "kresult = construct_by_kmeans(data[cols], [])\n",
    "kbn = kresult['bn']\n",
    "\n",
    "c=kbn.plot2(imagespath , \"kbn13.html\")"
   ],
   "metadata": {
    "collapsed": false
   }
  },
  {
   "cell_type": "code",
   "execution_count": 28,
   "outputs": [
    {
     "data": {
      "text/plain": "<Figure size 864x360 with 1 Axes>",
      "image/png": "[encoded data removed]"
     },
     "metadata": {
      "needs_background": "light"
     },
     "output_type": "display_data"
    }
   ],
   "source": [
    "print_histogram('cloudcover')"
   ],
   "metadata": {
    "collapsed": false
   }
  },
  {
   "cell_type": "code",
   "execution_count": 29,
   "outputs": [
    {
     "data": {
      "text/plain": "<Figure size 864x360 with 1 Axes>",
      "image/png": "[encoded data removed]"
     },
     "metadata": {
      "needs_background": "light"
     },
     "output_type": "display_data"
    }
   ],
   "source": [
    "print_histogram('humidity')"
   ],
   "metadata": {
    "collapsed": false
   }
  },
  {
   "cell_type": "code",
   "execution_count": 30,
   "outputs": [
    {
     "data": {
      "text/plain": "<Figure size 864x360 with 1 Axes>",
      "image/png": "[encoded data removed]"
     },
     "metadata": {
      "needs_background": "light"
     },
     "output_type": "display_data"
    }
   ],
   "source": [
    "print_histogram('pressure')"
   ],
   "metadata": {
    "collapsed": false
   }
  },
  {
   "cell_type": "markdown",
   "source": [
    "![](images/kbn13.png)"
   ],
   "metadata": {
    "collapsed": false
   }
  },
  {
   "cell_type": "code",
   "execution_count": 13,
   "outputs": [
    {
     "name": "stdout",
     "output_type": "stream",
     "text": [
      "Local cdn resources have problems on chrome/safari when used in jupyter-notebook. \n"
     ]
    }
   ],
   "source": [
    "c=kbn.plot_for_specific_nodes(['humidity0', 'humidity1', 'humidity2'], imagespath , \"subkbn13.html\")"
   ],
   "metadata": {
    "collapsed": false
   }
  },
  {
   "cell_type": "code",
   "execution_count": 8,
   "outputs": [],
   "source": [
    "kencoder, data_kdiscretized_enc = kresult['encoder'], kresult['disc_data']"
   ],
   "metadata": {
    "collapsed": false
   }
  },
  {
   "cell_type": "code",
   "execution_count": 9,
   "outputs": [],
   "source": [
    "all_edges = list(set([\"-\".join(e) for e in bn.edges + ubn.edges + kbn.edges])) #white list for the next bn"
   ],
   "metadata": {
    "collapsed": false
   }
  },
  {
   "cell_type": "code",
   "execution_count": 10,
   "outputs": [
    {
     "data": {
      "text/plain": "  0%|          | 0/1000000 [00:00<?, ?it/s]",
      "application/vnd.jupyter.widget-view+json": {
       "version_major": 2,
       "version_minor": 0,
       "model_id": "86473037babb49e0b0b4177c7c141786"
      }
     },
     "metadata": {},
     "output_type": "display_data"
    },
    {
     "name": "stdout",
     "output_type": "stream",
     "text": [
      "Local cdn resources have problems on chrome/safari when used in jupyter-notebook. \n"
     ]
    }
   ],
   "source": [
    "tradeoffbn = Nets.DiscreteBN()\n",
    "nodes = list(dict.fromkeys(sum([x.split(\"-\") for x in all_edges], start=[])))\n",
    "tradeoffbn.add_nodes(dict(types={cat: 'disc' for _, cat in enumerate(nodes)}))\n",
    "\n",
    "params = {'white_list': [(x[0], x[1]) for x in [y.split(\"-\") for y in all_edges]]}\n",
    "\n",
    "tradeoffbn.add_edges(data_kdiscretized_enc.astype(\"int32\"), scoring_function=(\"K2\",K2Score), params=params)\n",
    "\n",
    "c=tradeoffbn.plot2(imagespath, \"tbn13.html\")"
   ],
   "metadata": {
    "collapsed": false
   }
  },
  {
   "cell_type": "markdown",
   "source": [
    "![](images/tbn13.png)"
   ],
   "metadata": {
    "collapsed": false
   }
  },
  {
   "cell_type": "code",
   "execution_count": 14,
   "outputs": [
    {
     "name": "stdout",
     "output_type": "stream",
     "text": [
      "Local cdn resources have problems on chrome/safari when used in jupyter-notebook. \n"
     ]
    }
   ],
   "source": [
    "c=tradeoffbn.plot_for_specific_nodes(['humidity0', 'humidity1', 'humidity2'], imagespath , \"subtbn13.html\")"
   ],
   "metadata": {
    "collapsed": false
   }
  },
  {
   "cell_type": "code",
   "execution_count": null,
   "outputs": [],
   "source": [],
   "metadata": {
    "collapsed": false
   }
  }
 ],
 "metadata": {
  "kernelspec": {
   "display_name": "Python 3",
   "language": "python",
   "name": "python3"
  },
  "language_info": {
   "codemirror_mode": {
    "name": "ipython",
    "version": 2
   },
   "file_extension": ".py",
   "mimetype": "text/x-python",
   "name": "python",
   "nbconvert_exporter": "python",
   "pygments_lexer": "ipython2",
   "version": "2.7.6"
  }
 },
 "nbformat": 4,
 "nbformat_minor": 0
}
