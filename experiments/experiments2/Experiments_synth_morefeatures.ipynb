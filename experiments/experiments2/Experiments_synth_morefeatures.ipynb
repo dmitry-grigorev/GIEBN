{
 "cells": [
  {
   "cell_type": "code",
   "execution_count": 6,
   "outputs": [],
   "source": [
    "import random\n",
    "\n",
    "import bamt.preprocessors\n",
    "import bamt.networks as Nets\n",
    "import pandas as pd\n",
    "from sklearn.preprocessing import OneHotEncoder, KBinsDiscretizer\n",
    "from itertools import product\n",
    "from pgmpy.estimators import  K2Score\n",
    "import numpy as np\n",
    "import seaborn as sns\n",
    "import importlib\n",
    "import matplotlib.pyplot as plt\n",
    "\n",
    "from auxiliary.auxiliary import *\n",
    "\n",
    "plt.rcParams.update({'font.size': 14})\n",
    "\n",
    "imagespath = 'C:/Users/Acer/PycharmProjects/BAMTclone/BAMT/experiments2/images2'"
   ],
   "metadata": {
    "collapsed": false,
    "ExecuteTime": {
     "start_time": "2023-04-24T17:37:12.129007Z",
     "end_time": "2023-04-24T17:37:12.163006Z"
    }
   }
  },
  {
   "cell_type": "code",
   "execution_count": 7,
   "outputs": [
    {
     "data": {
      "text/plain": "    origin1   origin2   origin3  cubed_o1  negative_root3_o2  hyperbola_o3  \\\n0  2.119492  0.737207  0.312454  0.058769          -0.992276      0.488902   \n1 -2.625095  0.031537  0.776028 -0.293367          -0.484123      0.586394   \n2 -2.894855  0.009888  1.209078 -0.468985          -0.142113      0.602876   \n3  2.688882  0.292918  0.395079  0.376103          -0.800458      0.684562   \n4  1.990172  0.243591  2.290462  0.272118          -0.483364      0.209023   \n5  0.055618  1.007663  0.193023 -0.028964          -0.966945      0.566283   \n6  1.978326  1.391204  1.796556  0.277852          -1.020400      0.693850   \n7  2.810375  0.138295  1.485132  0.336994          -0.581798      0.397911   \n8  1.026379  0.008179  2.807084 -0.097354          -0.313829      0.172240   \n9 -0.542534  0.038656  1.574959 -0.017011          -0.372894      0.700862   \n\n   combined_cn  combined_nh  combined_ch  combined_cno3  combined_co2h  \\\n0    -0.933507    -0.503373     0.547671      -0.621053       1.284878   \n1    -0.777490     0.102271     0.293027      -0.001462       0.324564   \n2    -0.611097     0.460763     0.133891       0.597981       0.143779   \n3    -0.424355    -0.115896     1.060665      -0.029276       1.353584   \n4    -0.211245    -0.274341     0.481141       2.079217       0.724732   \n5    -0.995909    -0.400662     0.537319      -0.802887       1.544982   \n6    -0.742548    -0.326550     0.971702       1.054008       2.362905   \n7    -0.244804    -0.183887     0.734905       1.240328       0.873199   \n8    -0.411183    -0.141589     0.074885       2.395901       0.083065   \n9    -0.389905     0.327968     0.683852       1.185054       0.722508   \n\n   combined_o1nh  \n0       1.616118  \n1      -2.522824  \n2      -2.434091  \n3       2.572987  \n4       1.715831  \n5      -0.345044  \n6       1.651775  \n7       2.626487  \n8       0.884790  \n9      -0.214566  ",
      "text/html": "<div>\n<style scoped>\n    .dataframe tbody tr th:only-of-type {\n        vertical-align: middle;\n    }\n\n    .dataframe tbody tr th {\n        vertical-align: top;\n    }\n\n    .dataframe thead th {\n        text-align: right;\n    }\n</style>\n<table border=\"1\" class=\"dataframe\">\n  <thead>\n    <tr style=\"text-align: right;\">\n      <th></th>\n      <th>origin1</th>\n      <th>origin2</th>\n      <th>origin3</th>\n      <th>cubed_o1</th>\n      <th>negative_root3_o2</th>\n      <th>hyperbola_o3</th>\n      <th>combined_cn</th>\n      <th>combined_nh</th>\n      <th>combined_ch</th>\n      <th>combined_cno3</th>\n      <th>combined_co2h</th>\n      <th>combined_o1nh</th>\n    </tr>\n  </thead>\n  <tbody>\n    <tr>\n      <th>0</th>\n      <td>2.119492</td>\n      <td>0.737207</td>\n      <td>0.312454</td>\n      <td>0.058769</td>\n      <td>-0.992276</td>\n      <td>0.488902</td>\n      <td>-0.933507</td>\n      <td>-0.503373</td>\n      <td>0.547671</td>\n      <td>-0.621053</td>\n      <td>1.284878</td>\n      <td>1.616118</td>\n    </tr>\n    <tr>\n      <th>1</th>\n      <td>-2.625095</td>\n      <td>0.031537</td>\n      <td>0.776028</td>\n      <td>-0.293367</td>\n      <td>-0.484123</td>\n      <td>0.586394</td>\n      <td>-0.777490</td>\n      <td>0.102271</td>\n      <td>0.293027</td>\n      <td>-0.001462</td>\n      <td>0.324564</td>\n      <td>-2.522824</td>\n    </tr>\n    <tr>\n      <th>2</th>\n      <td>-2.894855</td>\n      <td>0.009888</td>\n      <td>1.209078</td>\n      <td>-0.468985</td>\n      <td>-0.142113</td>\n      <td>0.602876</td>\n      <td>-0.611097</td>\n      <td>0.460763</td>\n      <td>0.133891</td>\n      <td>0.597981</td>\n      <td>0.143779</td>\n      <td>-2.434091</td>\n    </tr>\n    <tr>\n      <th>3</th>\n      <td>2.688882</td>\n      <td>0.292918</td>\n      <td>0.395079</td>\n      <td>0.376103</td>\n      <td>-0.800458</td>\n      <td>0.684562</td>\n      <td>-0.424355</td>\n      <td>-0.115896</td>\n      <td>1.060665</td>\n      <td>-0.029276</td>\n      <td>1.353584</td>\n      <td>2.572987</td>\n    </tr>\n    <tr>\n      <th>4</th>\n      <td>1.990172</td>\n      <td>0.243591</td>\n      <td>2.290462</td>\n      <td>0.272118</td>\n      <td>-0.483364</td>\n      <td>0.209023</td>\n      <td>-0.211245</td>\n      <td>-0.274341</td>\n      <td>0.481141</td>\n      <td>2.079217</td>\n      <td>0.724732</td>\n      <td>1.715831</td>\n    </tr>\n    <tr>\n      <th>5</th>\n      <td>0.055618</td>\n      <td>1.007663</td>\n      <td>0.193023</td>\n      <td>-0.028964</td>\n      <td>-0.966945</td>\n      <td>0.566283</td>\n      <td>-0.995909</td>\n      <td>-0.400662</td>\n      <td>0.537319</td>\n      <td>-0.802887</td>\n      <td>1.544982</td>\n      <td>-0.345044</td>\n    </tr>\n    <tr>\n      <th>6</th>\n      <td>1.978326</td>\n      <td>1.391204</td>\n      <td>1.796556</td>\n      <td>0.277852</td>\n      <td>-1.020400</td>\n      <td>0.693850</td>\n      <td>-0.742548</td>\n      <td>-0.326550</td>\n      <td>0.971702</td>\n      <td>1.054008</td>\n      <td>2.362905</td>\n      <td>1.651775</td>\n    </tr>\n    <tr>\n      <th>7</th>\n      <td>2.810375</td>\n      <td>0.138295</td>\n      <td>1.485132</td>\n      <td>0.336994</td>\n      <td>-0.581798</td>\n      <td>0.397911</td>\n      <td>-0.244804</td>\n      <td>-0.183887</td>\n      <td>0.734905</td>\n      <td>1.240328</td>\n      <td>0.873199</td>\n      <td>2.626487</td>\n    </tr>\n    <tr>\n      <th>8</th>\n      <td>1.026379</td>\n      <td>0.008179</td>\n      <td>2.807084</td>\n      <td>-0.097354</td>\n      <td>-0.313829</td>\n      <td>0.172240</td>\n      <td>-0.411183</td>\n      <td>-0.141589</td>\n      <td>0.074885</td>\n      <td>2.395901</td>\n      <td>0.083065</td>\n      <td>0.884790</td>\n    </tr>\n    <tr>\n      <th>9</th>\n      <td>-0.542534</td>\n      <td>0.038656</td>\n      <td>1.574959</td>\n      <td>-0.017011</td>\n      <td>-0.372894</td>\n      <td>0.700862</td>\n      <td>-0.389905</td>\n      <td>0.327968</td>\n      <td>0.683852</td>\n      <td>1.185054</td>\n      <td>0.722508</td>\n      <td>-0.214566</td>\n    </tr>\n  </tbody>\n</table>\n</div>"
     },
     "execution_count": 7,
     "metadata": {},
     "output_type": "execute_result"
    }
   ],
   "source": [
    "n = 2000\n",
    "np.random.seed(42)\n",
    "#independent\n",
    "data = pd.DataFrame(data=np.random.beta(0.95, 0.5, size=n)*6-3, columns=['origin1'])\n",
    "data['origin2'] = np.random.beta(0.4,1, size=n)*2\n",
    "data['origin3'] = np.random.beta(0.9,2, size=n)*4\n",
    "#dependent\n",
    "#1-dependent\n",
    "data['cubed_o1'] = data['origin1']**3/50 + np.random.normal(scale=0.1, size=n)\n",
    "data['negative_root3_o2'] = -np.sign(data['origin2'])*np.power(np.abs(data['origin2']), 1/3) + np.random.normal(scale=0.1, size=n)\n",
    "data['hyperbola_o3'] = 1./(data['origin3']+1) + np.random.normal(scale=0.2, size=n)\n",
    "#2-dependent\n",
    "data['combined_cn'] = data['cubed_o1'] + data['negative_root3_o2']\n",
    "data['combined_nh'] = data['hyperbola_o3'] + data['negative_root3_o2']\n",
    "data['combined_ch'] = data['hyperbola_o3'] + data['cubed_o1']\n",
    "#3-dependent\n",
    "data['combined_cno3'] = data['cubed_o1'] + data['negative_root3_o2'] + data['origin3']\n",
    "data['combined_co2h'] = data['cubed_o1'] + data['origin2'] + data['hyperbola_o3']\n",
    "data['combined_o1nh'] = data['origin1'] + data['negative_root3_o2'] + data['hyperbola_o3']\n",
    "\n",
    "data.head(10)"
   ],
   "metadata": {
    "collapsed": false,
    "ExecuteTime": {
     "start_time": "2023-04-24T17:37:12.140006Z",
     "end_time": "2023-04-24T17:37:12.199090Z"
    }
   }
  },
  {
   "cell_type": "code",
   "execution_count": 17,
   "outputs": [
    {
     "name": "stdout",
     "output_type": "stream",
     "text": [
      "1/1 BNs learnt in ensemble\r"
     ]
    }
   ],
   "source": [
    "qresult = construct_by_quantiles(data, None)\n",
    "uresult = construct_by_uniform(data, None)\n",
    "kresult = construct_by_kmeans(data, [])\n",
    "kbn = kresult['bn']\n",
    "\n",
    "#c=kbn.plot2(imagespath , \"kbn16.html\", custom_mapper={'marker': {0: 'Zero', 1: 'One', 2: 'Two'}})\n",
    "#c=kbn.plot2(\"visualization_results\" , \"k_before1.html\", custom_mapper={'marker': {0: 'Zero', 1: 'One', 2: 'Two'}})\n",
    "#c=kbn.plot2(\"visualization_results_new\" , \"k_after1.html\", custom_mapper={'marker': {0: 'Zero', 1: 'One', 2: 'Two'}})"
   ],
   "metadata": {
    "collapsed": false,
    "ExecuteTime": {
     "start_time": "2023-04-24T17:46:58.347724Z",
     "end_time": "2023-04-24T17:48:48.286369Z"
    }
   }
  },
  {
   "cell_type": "code",
   "execution_count": 9,
   "outputs": [],
   "source": [
    "kencoder, data_kdiscretized_enc = kresult['encoder'], kresult['disc_data']"
   ],
   "metadata": {
    "collapsed": false,
    "ExecuteTime": {
     "start_time": "2023-04-24T17:39:15.488840Z",
     "end_time": "2023-04-24T17:39:15.506047Z"
    }
   }
  },
  {
   "cell_type": "code",
   "execution_count": 10,
   "outputs": [],
   "source": [
    "#print_histogram('origin1', data, data_kdiscretized_enc, kencoder)"
   ],
   "metadata": {
    "collapsed": false,
    "ExecuteTime": {
     "start_time": "2023-04-24T17:39:15.501976Z",
     "end_time": "2023-04-24T17:39:15.516916Z"
    }
   }
  },
  {
   "cell_type": "code",
   "execution_count": 11,
   "outputs": [],
   "source": [
    "#('hyperbola', data, data_kdiscretized_enc, kencoder)"
   ],
   "metadata": {
    "collapsed": false,
    "ExecuteTime": {
     "start_time": "2023-04-24T17:39:15.518914Z",
     "end_time": "2023-04-24T17:39:15.545691Z"
    }
   }
  },
  {
   "cell_type": "code",
   "execution_count": 12,
   "outputs": [],
   "source": [
    "#print_histogram('negative_root3', data, data_kdiscretized_enc, kencoder)"
   ],
   "metadata": {
    "collapsed": false,
    "ExecuteTime": {
     "start_time": "2023-04-24T17:39:15.534498Z",
     "end_time": "2023-04-24T17:39:15.551692Z"
    }
   }
  },
  {
   "cell_type": "code",
   "execution_count": 13,
   "outputs": [],
   "source": [
    "#print_histogram('cubed', data, data_kdiscretized_enc, kencoder)"
   ],
   "metadata": {
    "collapsed": false,
    "ExecuteTime": {
     "start_time": "2023-04-24T17:39:15.549691Z",
     "end_time": "2023-04-24T17:39:15.562429Z"
    }
   }
  },
  {
   "cell_type": "code",
   "execution_count": 14,
   "outputs": [],
   "source": [
    "#c=kbn.plot_for_specific_nodes(['marker0', 'marker1', 'marker2'], imagespath , \"subkbn16.html\", custom_mapper={'marker': {0: 'Zero', 1: 'One', 2: 'Two'}})"
   ],
   "metadata": {
    "collapsed": false,
    "ExecuteTime": {
     "start_time": "2023-04-24T17:39:15.564393Z",
     "end_time": "2023-04-24T17:39:15.595601Z"
    }
   }
  },
  {
   "cell_type": "code",
   "execution_count": 19,
   "outputs": [],
   "source": [
    "relationships_1dep = [\n",
    "    ['origin1', 'cubed_o1', 1],\n",
    "    ['origin2', 'negative_root3_o2', -1],\n",
    "    ['origin3', 'hyperbola_o3', -1]]\n",
    "\n",
    "relationships_2dep = [\n",
    "    ['cubed_o1', 'combined_cn', 1],\n",
    "    ['negative_root3_o2', 'combined_cn', 1],\n",
    "    ['origin1', 'combined_cn', 1],\n",
    "    ['origin2', 'combined_cn', -1],\n",
    "\n",
    "    ['negative_root3_o2', 'combined_nh', 1],\n",
    "    ['hyperbola_o3', 'combined_nh', 1],\n",
    "    ['origin2', 'combined_nh', -1],\n",
    "    ['origin3', 'combined_nh', -1],\n",
    "\n",
    "    ['cubed_o1', 'combined_ch', 1],\n",
    "    ['hyperbola_o3', 'combined_ch', 1],\n",
    "    ['origin1', 'combined_ch', 1],\n",
    "    ['origin3', 'combined_ch', -1],\n",
    "]\n",
    "\n",
    "relationships_3dep = [\n",
    "    ['cubed_o1', 'combined_cno3', 1],\n",
    "    ['negative_root3_o2', 'combined_cno3', 1],\n",
    "    ['origin1', 'combined_cno3', 1],\n",
    "    ['origin2', 'combined_cno3', -1],\n",
    "    ['origin3', 'combined_cno3', 1],\n",
    "\n",
    "    ['cubed_o1', 'combined_co2h', 1],\n",
    "    ['hyperbola_o3', 'combined_co2h', 1],\n",
    "    ['origin1', 'combined_co2h', 1],\n",
    "    ['origin2', 'combined_co2h', 1],\n",
    "    ['origin3', 'combined_co2h', -1],\n",
    "\n",
    "    ['negative_root3_o2', 'combined_o1nh', 1],\n",
    "    ['hyperbola_o3', 'combined_o1nh', 1],\n",
    "    ['origin1', 'combined_o1nh', 1],\n",
    "    ['origin2', 'combined_o1nh', -1],\n",
    "    ['origin3', 'combined_o1nh', -1],\n",
    "]\n",
    "realtionships = relationships_1dep + relationships_2dep + relationships_3dep\n",
    "\n",
    "true_edges = list()\n",
    "true_edges_bydep = [None, None, None]\n",
    "states=[0,1,2]\n",
    "def get_true_edges(relationships):\n",
    "    result = list()\n",
    "    for rel in relationships:\n",
    "        result+=([[rel[0]+str(i), rel[1]+str(j)] for i, j in zip(states, states[::rel[2]])])\n",
    "    return result\n",
    "\n",
    "for i, rels in enumerate([relationships_1dep, relationships_2dep, relationships_3dep]):\n",
    "    true_edges_bydep[i] = get_true_edges(rels)\n",
    "true_edges = sum(true_edges_bydep, start=[])"
   ],
   "metadata": {
    "collapsed": false,
    "ExecuteTime": {
     "start_time": "2023-04-24T18:08:27.751351Z",
     "end_time": "2023-04-24T18:08:27.778493Z"
    }
   }
  },
  {
   "cell_type": "code",
   "execution_count": 20,
   "outputs": [
    {
     "data": {
      "text/plain": "[['origin10', 'cubed_o10'],\n ['origin11', 'cubed_o11'],\n ['origin12', 'cubed_o12'],\n ['origin20', 'negative_root3_o22'],\n ['origin21', 'negative_root3_o21'],\n ['origin22', 'negative_root3_o20'],\n ['origin30', 'hyperbola_o32'],\n ['origin31', 'hyperbola_o31'],\n ['origin32', 'hyperbola_o30'],\n ['cubed_o10', 'combined_cn0'],\n ['cubed_o11', 'combined_cn1'],\n ['cubed_o12', 'combined_cn2'],\n ['negative_root3_o20', 'combined_cn0'],\n ['negative_root3_o21', 'combined_cn1'],\n ['negative_root3_o22', 'combined_cn2'],\n ['origin10', 'combined_cn0'],\n ['origin11', 'combined_cn1'],\n ['origin12', 'combined_cn2'],\n ['origin20', 'combined_cn2'],\n ['origin21', 'combined_cn1'],\n ['origin22', 'combined_cn0'],\n ['negative_root3_o20', 'combined_nh0'],\n ['negative_root3_o21', 'combined_nh1'],\n ['negative_root3_o22', 'combined_nh2'],\n ['hyperbola_o30', 'combined_nh0'],\n ['hyperbola_o31', 'combined_nh1'],\n ['hyperbola_o32', 'combined_nh2'],\n ['origin20', 'combined_nh2'],\n ['origin21', 'combined_nh1'],\n ['origin22', 'combined_nh0'],\n ['origin30', 'combined_nh2'],\n ['origin31', 'combined_nh1'],\n ['origin32', 'combined_nh0'],\n ['cubed_o10', 'combined_ch0'],\n ['cubed_o11', 'combined_ch1'],\n ['cubed_o12', 'combined_ch2'],\n ['hyperbola_o30', 'combined_ch0'],\n ['hyperbola_o31', 'combined_ch1'],\n ['hyperbola_o32', 'combined_ch2'],\n ['origin10', 'combined_ch0'],\n ['origin11', 'combined_ch1'],\n ['origin12', 'combined_ch2'],\n ['origin30', 'combined_ch2'],\n ['origin31', 'combined_ch1'],\n ['origin32', 'combined_ch0'],\n ['cubed_o10', 'combined_cno30'],\n ['cubed_o11', 'combined_cno31'],\n ['cubed_o12', 'combined_cno32'],\n ['negative_root3_o20', 'combined_cno30'],\n ['negative_root3_o21', 'combined_cno31'],\n ['negative_root3_o22', 'combined_cno32'],\n ['origin10', 'combined_cno30'],\n ['origin11', 'combined_cno31'],\n ['origin12', 'combined_cno32'],\n ['origin20', 'combined_cno32'],\n ['origin21', 'combined_cno31'],\n ['origin22', 'combined_cno30'],\n ['origin30', 'combined_cno30'],\n ['origin31', 'combined_cno31'],\n ['origin32', 'combined_cno32'],\n ['cubed_o10', 'combined_co2h0'],\n ['cubed_o11', 'combined_co2h1'],\n ['cubed_o12', 'combined_co2h2'],\n ['hyperbola_o30', 'combined_co2h0'],\n ['hyperbola_o31', 'combined_co2h1'],\n ['hyperbola_o32', 'combined_co2h2'],\n ['origin10', 'combined_co2h0'],\n ['origin11', 'combined_co2h1'],\n ['origin12', 'combined_co2h2'],\n ['origin20', 'combined_co2h0'],\n ['origin21', 'combined_co2h1'],\n ['origin22', 'combined_co2h2'],\n ['origin30', 'combined_co2h2'],\n ['origin31', 'combined_co2h1'],\n ['origin32', 'combined_co2h0'],\n ['negative_root3_o20', 'combined_o1nh0'],\n ['negative_root3_o21', 'combined_o1nh1'],\n ['negative_root3_o22', 'combined_o1nh2'],\n ['hyperbola_o30', 'combined_o1nh0'],\n ['hyperbola_o31', 'combined_o1nh1'],\n ['hyperbola_o32', 'combined_o1nh2'],\n ['origin10', 'combined_o1nh0'],\n ['origin11', 'combined_o1nh1'],\n ['origin12', 'combined_o1nh2'],\n ['origin20', 'combined_o1nh2'],\n ['origin21', 'combined_o1nh1'],\n ['origin22', 'combined_o1nh0'],\n ['origin30', 'combined_o1nh2'],\n ['origin31', 'combined_o1nh1'],\n ['origin32', 'combined_o1nh0']]"
     },
     "execution_count": 20,
     "metadata": {},
     "output_type": "execute_result"
    }
   ],
   "source": [
    "true_edges"
   ],
   "metadata": {
    "collapsed": false,
    "ExecuteTime": {
     "start_time": "2023-04-24T18:08:35.760663Z",
     "end_time": "2023-04-24T18:08:35.770661Z"
    }
   }
  },
  {
   "cell_type": "code",
   "execution_count": 22,
   "outputs": [
    {
     "name": "stdout",
     "output_type": "stream",
     "text": [
      " Strategy Uniform gives BN in which 1-dep features` true relationships are found with rates (0.5555555555555556, 0.2222222222222222)\n",
      " Strategy Uniform gives BN in which 2-dep features` true relationships are found with rates (0.5833333333333334, 0.05555555555555555)\n",
      " Strategy Uniform gives BN in which 3-dep features` true relationships are found with rates (0.15555555555555556, 0.1111111111111111)\n",
      " Strategy Uniform gives BN in which true relationships are found with rates (0.36666666666666664, 0.1)\n",
      " Strategy Quantlile gives BN in which 1-dep features` true relationships are found with rates (0.6666666666666666, 0.2222222222222222)\n",
      " Strategy Quantlile gives BN in which 2-dep features` true relationships are found with rates (0.3888888888888889, 0.19444444444444445)\n",
      " Strategy Quantlile gives BN in which 3-dep features` true relationships are found with rates (0.15555555555555556, 0.044444444444444446)\n",
      " Strategy Quantlile gives BN in which true relationships are found with rates (0.3, 0.12222222222222222)\n",
      " Strategy Kmeans gives BN in which 1-dep features` true relationships are found with rates (0.5555555555555556, 0.1111111111111111)\n",
      " Strategy Kmeans gives BN in which 2-dep features` true relationships are found with rates (0.5833333333333334, 0.0)\n",
      " Strategy Kmeans gives BN in which 3-dep features` true relationships are found with rates (0.13333333333333333, 0.06666666666666667)\n",
      " Strategy Kmeans gives BN in which true relationships are found with rates (0.35555555555555557, 0.044444444444444446)\n"
     ]
    }
   ],
   "source": [
    "for bnet, name in zip([uresult['bn'], qresult['bn'], kresult['bn']], ['Uniform', 'Quantlile', 'Kmeans']):\n",
    "    for i in range(3):\n",
    "        res = calculate_ratio(bnet.edges, true_edges_bydep[i]), calculate_reversed_ratio(bnet.edges, true_edges_bydep[i])\n",
    "        print(f' Strategy {name} gives BN in which {i+1}-dep features` true relationships are found with rates {res}')\n",
    "    res = calculate_ratio(bnet.edges, true_edges), calculate_reversed_ratio(bnet.edges, true_edges)\n",
    "    print(f' Strategy {name} gives BN in which true relationships are found with rates {res}')\n",
    "\n",
    "\n",
    "#calculate_ratio(uresult['bn'].edges, true_edges), calculate_reversed_ratio(uresult['bn'].edges, true_edges)"
   ],
   "metadata": {
    "collapsed": false,
    "ExecuteTime": {
     "start_time": "2023-04-24T18:20:02.011117Z",
     "end_time": "2023-04-24T18:20:02.031117Z"
    }
   }
  },
  {
   "cell_type": "code",
   "execution_count": null,
   "outputs": [],
   "source": [
    "calculate_ratio(qresult['bn'].edges, true_edges), calculate_reversed_ratio(qresult['bn'].edges, true_edges)"
   ],
   "metadata": {
    "collapsed": false,
    "ExecuteTime": {
     "start_time": "2023-04-23T21:55:12.172737Z",
     "end_time": "2023-04-23T21:55:12.197795Z"
    }
   }
  },
  {
   "cell_type": "code",
   "execution_count": null,
   "outputs": [],
   "source": [
    "calculate_ratio(kbn.edges, true_edges), calculate_reversed_ratio(kbn.edges, true_edges)"
   ],
   "metadata": {
    "collapsed": false,
    "ExecuteTime": {
     "start_time": "2023-04-23T21:55:12.188174Z",
     "end_time": "2023-04-23T21:55:12.293050Z"
    }
   }
  },
  {
   "cell_type": "markdown",
   "source": [
    "Эксперименты с зашумлением"
   ],
   "metadata": {
    "collapsed": false
   }
  }
 ],
 "metadata": {
  "kernelspec": {
   "display_name": "Python 3",
   "language": "python",
   "name": "python3"
  },
  "language_info": {
   "codemirror_mode": {
    "name": "ipython",
    "version": 2
   },
   "file_extension": ".py",
   "mimetype": "text/x-python",
   "name": "python",
   "nbconvert_exporter": "python",
   "pygments_lexer": "ipython2",
   "version": "2.7.6"
  }
 },
 "nbformat": 4,
 "nbformat_minor": 0
}
