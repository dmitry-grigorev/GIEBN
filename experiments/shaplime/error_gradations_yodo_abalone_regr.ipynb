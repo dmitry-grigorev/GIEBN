{
 "cells": [
  {
   "cell_type": "code",
   "execution_count": 2,
   "metadata": {},
   "outputs": [
    {
     "data": {
      "text/plain": [
       "'c:/Users/User/PycharmProjects/GIEBN'"
      ]
     },
     "execution_count": 2,
     "metadata": {},
     "output_type": "execute_result"
    }
   ],
   "source": [
    "import os\n",
    "\n",
    "import sys\n",
    "sys.path.append(\"C:\\\\Users\\\\User\\\\PycharmProjects\\\\GIEBN\\\\src\")\n",
    "sys.path.append(\"C:\\\\Users\\\\User\\\\PycharmProjects\\\\GIEBN\")\n",
    "sys.path.append(\"C:\\\\Users\\\\User\\\\PycharmProjects\\\\GIEBN\\\\venv\")\n",
    "\n",
    "path = os.getcwd()\n",
    "\n",
    "curr_path = path.replace('\\\\', '/')\n",
    "head_place = curr_path.find('GIEBN')\n",
    "main_path = curr_path[:head_place]+'GIEBN'\n",
    "main_path"
   ]
  },
  {
   "cell_type": "code",
   "execution_count": 3,
   "metadata": {
    "ExecuteTime": {
     "end_time": "2024-01-24T18:39:21.441346Z",
     "start_time": "2024-01-24T18:39:21.154598400Z"
    },
    "collapsed": false
   },
   "outputs": [],
   "source": [
    "from sklearn.linear_model import LogisticRegression\n",
    "from sklearn.ensemble import GradientBoostingRegressor\n",
    "import pandas as pd\n",
    "import numpy as np\n",
    "import matplotlib.pyplot as plt\n",
    "import seaborn as sns\n",
    "from sklearn.preprocessing import KBinsDiscretizer, FunctionTransformer, OrdinalEncoder, OneHotEncoder\n",
    "from sklearn.pipeline import make_pipeline, make_union\n",
    "from sklearn.datasets import make_regression\n",
    "\n",
    "from auxiliary.auxiliary import construct_by_kmeans\n",
    "from pgmpy.estimators import K2Score\n",
    "from bamt.networks.discrete_bn import DiscreteBN\n",
    "from bamt_inherited.networks.discrete import DiscreteBNGI\n",
    "import shap\n",
    "\n",
    "from tqdm import tqdm\n",
    "\n",
    "imagespath = 'C://Users/User/PycharmProjects/GIEBN/experiments/shaplime/images'"
   ]
  },
  {
   "cell_type": "code",
   "execution_count": 4,
   "metadata": {},
   "outputs": [],
   "source": [
    "%run ../common_code.ipynb"
   ]
  },
  {
   "cell_type": "code",
   "execution_count": 5,
   "metadata": {
    "ExecuteTime": {
     "end_time": "2024-01-24T18:37:17.975175200Z",
     "start_time": "2024-01-24T18:37:17.904466100Z"
    },
    "collapsed": false
   },
   "outputs": [
    {
     "data": {
      "text/html": [
       "<div>\n",
       "<style scoped>\n",
       "    .dataframe tbody tr th:only-of-type {\n",
       "        vertical-align: middle;\n",
       "    }\n",
       "\n",
       "    .dataframe tbody tr th {\n",
       "        vertical-align: top;\n",
       "    }\n",
       "\n",
       "    .dataframe thead th {\n",
       "        text-align: right;\n",
       "    }\n",
       "</style>\n",
       "<table border=\"1\" class=\"dataframe\">\n",
       "  <thead>\n",
       "    <tr style=\"text-align: right;\">\n",
       "      <th></th>\n",
       "      <th>length</th>\n",
       "      <th>diameter</th>\n",
       "      <th>height</th>\n",
       "      <th>W_weight</th>\n",
       "      <th>S_weight</th>\n",
       "      <th>viscera_weight</th>\n",
       "      <th>shell_weight</th>\n",
       "      <th>rings</th>\n",
       "    </tr>\n",
       "  </thead>\n",
       "  <tbody>\n",
       "    <tr>\n",
       "      <th>0</th>\n",
       "      <td>0.455</td>\n",
       "      <td>0.365</td>\n",
       "      <td>0.095</td>\n",
       "      <td>0.5140</td>\n",
       "      <td>0.2245</td>\n",
       "      <td>0.1010</td>\n",
       "      <td>0.150</td>\n",
       "      <td>15</td>\n",
       "    </tr>\n",
       "    <tr>\n",
       "      <th>1</th>\n",
       "      <td>0.350</td>\n",
       "      <td>0.265</td>\n",
       "      <td>0.090</td>\n",
       "      <td>0.2255</td>\n",
       "      <td>0.0995</td>\n",
       "      <td>0.0485</td>\n",
       "      <td>0.070</td>\n",
       "      <td>7</td>\n",
       "    </tr>\n",
       "    <tr>\n",
       "      <th>2</th>\n",
       "      <td>0.530</td>\n",
       "      <td>0.420</td>\n",
       "      <td>0.135</td>\n",
       "      <td>0.6770</td>\n",
       "      <td>0.2565</td>\n",
       "      <td>0.1415</td>\n",
       "      <td>0.210</td>\n",
       "      <td>9</td>\n",
       "    </tr>\n",
       "    <tr>\n",
       "      <th>3</th>\n",
       "      <td>0.440</td>\n",
       "      <td>0.365</td>\n",
       "      <td>0.125</td>\n",
       "      <td>0.5160</td>\n",
       "      <td>0.2155</td>\n",
       "      <td>0.1140</td>\n",
       "      <td>0.155</td>\n",
       "      <td>10</td>\n",
       "    </tr>\n",
       "    <tr>\n",
       "      <th>4</th>\n",
       "      <td>0.330</td>\n",
       "      <td>0.255</td>\n",
       "      <td>0.080</td>\n",
       "      <td>0.2050</td>\n",
       "      <td>0.0895</td>\n",
       "      <td>0.0395</td>\n",
       "      <td>0.055</td>\n",
       "      <td>7</td>\n",
       "    </tr>\n",
       "    <tr>\n",
       "      <th>5</th>\n",
       "      <td>0.425</td>\n",
       "      <td>0.300</td>\n",
       "      <td>0.095</td>\n",
       "      <td>0.3515</td>\n",
       "      <td>0.1410</td>\n",
       "      <td>0.0775</td>\n",
       "      <td>0.120</td>\n",
       "      <td>8</td>\n",
       "    </tr>\n",
       "    <tr>\n",
       "      <th>6</th>\n",
       "      <td>0.530</td>\n",
       "      <td>0.415</td>\n",
       "      <td>0.150</td>\n",
       "      <td>0.7775</td>\n",
       "      <td>0.2370</td>\n",
       "      <td>0.1415</td>\n",
       "      <td>0.330</td>\n",
       "      <td>20</td>\n",
       "    </tr>\n",
       "    <tr>\n",
       "      <th>7</th>\n",
       "      <td>0.545</td>\n",
       "      <td>0.425</td>\n",
       "      <td>0.125</td>\n",
       "      <td>0.7680</td>\n",
       "      <td>0.2940</td>\n",
       "      <td>0.1495</td>\n",
       "      <td>0.260</td>\n",
       "      <td>16</td>\n",
       "    </tr>\n",
       "    <tr>\n",
       "      <th>8</th>\n",
       "      <td>0.475</td>\n",
       "      <td>0.370</td>\n",
       "      <td>0.125</td>\n",
       "      <td>0.5095</td>\n",
       "      <td>0.2165</td>\n",
       "      <td>0.1125</td>\n",
       "      <td>0.165</td>\n",
       "      <td>9</td>\n",
       "    </tr>\n",
       "    <tr>\n",
       "      <th>9</th>\n",
       "      <td>0.550</td>\n",
       "      <td>0.440</td>\n",
       "      <td>0.150</td>\n",
       "      <td>0.8945</td>\n",
       "      <td>0.3145</td>\n",
       "      <td>0.1510</td>\n",
       "      <td>0.320</td>\n",
       "      <td>19</td>\n",
       "    </tr>\n",
       "  </tbody>\n",
       "</table>\n",
       "</div>"
      ],
      "text/plain": [
       "   length  diameter  height  W_weight  S_weight  viscera_weight  shell_weight  \\\n",
       "0   0.455     0.365   0.095    0.5140    0.2245          0.1010         0.150   \n",
       "1   0.350     0.265   0.090    0.2255    0.0995          0.0485         0.070   \n",
       "2   0.530     0.420   0.135    0.6770    0.2565          0.1415         0.210   \n",
       "3   0.440     0.365   0.125    0.5160    0.2155          0.1140         0.155   \n",
       "4   0.330     0.255   0.080    0.2050    0.0895          0.0395         0.055   \n",
       "5   0.425     0.300   0.095    0.3515    0.1410          0.0775         0.120   \n",
       "6   0.530     0.415   0.150    0.7775    0.2370          0.1415         0.330   \n",
       "7   0.545     0.425   0.125    0.7680    0.2940          0.1495         0.260   \n",
       "8   0.475     0.370   0.125    0.5095    0.2165          0.1125         0.165   \n",
       "9   0.550     0.440   0.150    0.8945    0.3145          0.1510         0.320   \n",
       "\n",
       "   rings  \n",
       "0     15  \n",
       "1      7  \n",
       "2      9  \n",
       "3     10  \n",
       "4      7  \n",
       "5      8  \n",
       "6     20  \n",
       "7     16  \n",
       "8      9  \n",
       "9     19  "
      ]
     },
     "execution_count": 5,
     "metadata": {},
     "output_type": "execute_result"
    }
   ],
   "source": [
    "data = pd.read_csv(\"../../datasets/abalone.data\", sep=',', names=['sex', 'length', 'diameter', 'height', 'W_weight', 'S_weight', 'viscera_weight', 'shell_weight', 'rings'])\n",
    "data.drop(columns=[\"sex\"], inplace=True)\n",
    "n_features = data.shape[1]-1\n",
    "n = data.shape[0]\n",
    "target = \"rings\"\n",
    "features = data.columns.difference([target]).tolist()\n",
    "\n",
    "data.head(10)"
   ]
  },
  {
   "cell_type": "code",
   "execution_count": 6,
   "metadata": {
    "ExecuteTime": {
     "end_time": "2024-01-24T18:37:18.464047200Z",
     "start_time": "2024-01-24T18:37:17.966175200Z"
    },
    "collapsed": false
   },
   "outputs": [],
   "source": [
    "#data_disc, tfdata = discretize(data, features, icat=None, icont=list(range(n_features)))\n",
    "#preprocessing\n",
    "data = data[data[\"height\"]<0.26]"
   ]
  },
  {
   "cell_type": "markdown",
   "metadata": {},
   "source": [
    "## Using gradient boosting regressor for experiments"
   ]
  },
  {
   "cell_type": "code",
   "execution_count": 7,
   "metadata": {
    "ExecuteTime": {
     "end_time": "2024-01-24T18:37:18.654545300Z",
     "start_time": "2024-01-24T18:37:18.215386900Z"
    },
    "collapsed": false
   },
   "outputs": [
    {
     "data": {
      "text/html": [
       "<style>#sk-container-id-1 {color: black;}#sk-container-id-1 pre{padding: 0;}#sk-container-id-1 div.sk-toggleable {background-color: white;}#sk-container-id-1 label.sk-toggleable__label {cursor: pointer;display: block;width: 100%;margin-bottom: 0;padding: 0.3em;box-sizing: border-box;text-align: center;}#sk-container-id-1 label.sk-toggleable__label-arrow:before {content: \"▸\";float: left;margin-right: 0.25em;color: #696969;}#sk-container-id-1 label.sk-toggleable__label-arrow:hover:before {color: black;}#sk-container-id-1 div.sk-estimator:hover label.sk-toggleable__label-arrow:before {color: black;}#sk-container-id-1 div.sk-toggleable__content {max-height: 0;max-width: 0;overflow: hidden;text-align: left;background-color: #f0f8ff;}#sk-container-id-1 div.sk-toggleable__content pre {margin: 0.2em;color: black;border-radius: 0.25em;background-color: #f0f8ff;}#sk-container-id-1 input.sk-toggleable__control:checked~div.sk-toggleable__content {max-height: 200px;max-width: 100%;overflow: auto;}#sk-container-id-1 input.sk-toggleable__control:checked~label.sk-toggleable__label-arrow:before {content: \"▾\";}#sk-container-id-1 div.sk-estimator input.sk-toggleable__control:checked~label.sk-toggleable__label {background-color: #d4ebff;}#sk-container-id-1 div.sk-label input.sk-toggleable__control:checked~label.sk-toggleable__label {background-color: #d4ebff;}#sk-container-id-1 input.sk-hidden--visually {border: 0;clip: rect(1px 1px 1px 1px);clip: rect(1px, 1px, 1px, 1px);height: 1px;margin: -1px;overflow: hidden;padding: 0;position: absolute;width: 1px;}#sk-container-id-1 div.sk-estimator {font-family: monospace;background-color: #f0f8ff;border: 1px dotted black;border-radius: 0.25em;box-sizing: border-box;margin-bottom: 0.5em;}#sk-container-id-1 div.sk-estimator:hover {background-color: #d4ebff;}#sk-container-id-1 div.sk-parallel-item::after {content: \"\";width: 100%;border-bottom: 1px solid gray;flex-grow: 1;}#sk-container-id-1 div.sk-label:hover label.sk-toggleable__label {background-color: #d4ebff;}#sk-container-id-1 div.sk-serial::before {content: \"\";position: absolute;border-left: 1px solid gray;box-sizing: border-box;top: 0;bottom: 0;left: 50%;z-index: 0;}#sk-container-id-1 div.sk-serial {display: flex;flex-direction: column;align-items: center;background-color: white;padding-right: 0.2em;padding-left: 0.2em;position: relative;}#sk-container-id-1 div.sk-item {position: relative;z-index: 1;}#sk-container-id-1 div.sk-parallel {display: flex;align-items: stretch;justify-content: center;background-color: white;position: relative;}#sk-container-id-1 div.sk-item::before, #sk-container-id-1 div.sk-parallel-item::before {content: \"\";position: absolute;border-left: 1px solid gray;box-sizing: border-box;top: 0;bottom: 0;left: 50%;z-index: -1;}#sk-container-id-1 div.sk-parallel-item {display: flex;flex-direction: column;z-index: 1;position: relative;background-color: white;}#sk-container-id-1 div.sk-parallel-item:first-child::after {align-self: flex-end;width: 50%;}#sk-container-id-1 div.sk-parallel-item:last-child::after {align-self: flex-start;width: 50%;}#sk-container-id-1 div.sk-parallel-item:only-child::after {width: 0;}#sk-container-id-1 div.sk-dashed-wrapped {border: 1px dashed gray;margin: 0 0.4em 0.5em 0.4em;box-sizing: border-box;padding-bottom: 0.4em;background-color: white;}#sk-container-id-1 div.sk-label label {font-family: monospace;font-weight: bold;display: inline-block;line-height: 1.2em;}#sk-container-id-1 div.sk-label-container {text-align: center;}#sk-container-id-1 div.sk-container {/* jupyter's `normalize.less` sets `[hidden] { display: none; }` but bootstrap.min.css set `[hidden] { display: none !important; }` so we also need the `!important` here to be able to override the default hidden behavior on the sphinx rendered scikit-learn.org. See: https://github.com/scikit-learn/scikit-learn/issues/21755 */display: inline-block !important;position: relative;}#sk-container-id-1 div.sk-text-repr-fallback {display: none;}</style><div id=\"sk-container-id-1\" class=\"sk-top-container\"><div class=\"sk-text-repr-fallback\"><pre>GradientBoostingRegressor(n_estimators=30)</pre><b>In a Jupyter environment, please rerun this cell to show the HTML representation or trust the notebook. <br />On GitHub, the HTML representation is unable to render, please try loading this page with nbviewer.org.</b></div><div class=\"sk-container\" hidden><div class=\"sk-item\"><div class=\"sk-estimator sk-toggleable\"><input class=\"sk-toggleable__control sk-hidden--visually\" id=\"sk-estimator-id-1\" type=\"checkbox\" checked><label for=\"sk-estimator-id-1\" class=\"sk-toggleable__label sk-toggleable__label-arrow\">GradientBoostingRegressor</label><div class=\"sk-toggleable__content\"><pre>GradientBoostingRegressor(n_estimators=30)</pre></div></div></div></div></div>"
      ],
      "text/plain": [
       "GradientBoostingRegressor(n_estimators=30)"
      ]
     },
     "execution_count": 7,
     "metadata": {},
     "output_type": "execute_result"
    }
   ],
   "source": [
    "model = GradientBoostingRegressor(n_estimators=30,)\n",
    "model.fit(data[features], data[target])"
   ]
  },
  {
   "cell_type": "markdown",
   "metadata": {},
   "source": [
    "## calculating individual errors"
   ]
  },
  {
   "cell_type": "code",
   "execution_count": 8,
   "metadata": {
    "ExecuteTime": {
     "end_time": "2024-01-24T18:37:19.224250900Z",
     "start_time": "2024-01-24T18:37:19.109703600Z"
    },
    "collapsed": false
   },
   "outputs": [
    {
     "data": {
      "text/html": [
       "<div>\n",
       "<style scoped>\n",
       "    .dataframe tbody tr th:only-of-type {\n",
       "        vertical-align: middle;\n",
       "    }\n",
       "\n",
       "    .dataframe tbody tr th {\n",
       "        vertical-align: top;\n",
       "    }\n",
       "\n",
       "    .dataframe thead th {\n",
       "        text-align: right;\n",
       "    }\n",
       "</style>\n",
       "<table border=\"1\" class=\"dataframe\">\n",
       "  <thead>\n",
       "    <tr style=\"text-align: right;\">\n",
       "      <th></th>\n",
       "      <th>length</th>\n",
       "      <th>diameter</th>\n",
       "      <th>height</th>\n",
       "      <th>W_weight</th>\n",
       "      <th>S_weight</th>\n",
       "      <th>viscera_weight</th>\n",
       "      <th>shell_weight</th>\n",
       "      <th>ape_error</th>\n",
       "    </tr>\n",
       "  </thead>\n",
       "  <tbody>\n",
       "    <tr>\n",
       "      <th>0</th>\n",
       "      <td>0.455</td>\n",
       "      <td>0.365</td>\n",
       "      <td>0.095</td>\n",
       "      <td>0.5140</td>\n",
       "      <td>0.2245</td>\n",
       "      <td>0.1010</td>\n",
       "      <td>0.150</td>\n",
       "      <td>0.423826</td>\n",
       "    </tr>\n",
       "    <tr>\n",
       "      <th>1</th>\n",
       "      <td>0.350</td>\n",
       "      <td>0.265</td>\n",
       "      <td>0.090</td>\n",
       "      <td>0.2255</td>\n",
       "      <td>0.0995</td>\n",
       "      <td>0.0485</td>\n",
       "      <td>0.070</td>\n",
       "      <td>0.074583</td>\n",
       "    </tr>\n",
       "    <tr>\n",
       "      <th>2</th>\n",
       "      <td>0.530</td>\n",
       "      <td>0.420</td>\n",
       "      <td>0.135</td>\n",
       "      <td>0.6770</td>\n",
       "      <td>0.2565</td>\n",
       "      <td>0.1415</td>\n",
       "      <td>0.210</td>\n",
       "      <td>0.177560</td>\n",
       "    </tr>\n",
       "    <tr>\n",
       "      <th>3</th>\n",
       "      <td>0.440</td>\n",
       "      <td>0.365</td>\n",
       "      <td>0.125</td>\n",
       "      <td>0.5160</td>\n",
       "      <td>0.2155</td>\n",
       "      <td>0.1140</td>\n",
       "      <td>0.155</td>\n",
       "      <td>0.023819</td>\n",
       "    </tr>\n",
       "    <tr>\n",
       "      <th>4</th>\n",
       "      <td>0.330</td>\n",
       "      <td>0.255</td>\n",
       "      <td>0.080</td>\n",
       "      <td>0.2050</td>\n",
       "      <td>0.0895</td>\n",
       "      <td>0.0395</td>\n",
       "      <td>0.055</td>\n",
       "      <td>0.009314</td>\n",
       "    </tr>\n",
       "  </tbody>\n",
       "</table>\n",
       "</div>"
      ],
      "text/plain": [
       "   length  diameter  height  W_weight  S_weight  viscera_weight  shell_weight  \\\n",
       "0   0.455     0.365   0.095    0.5140    0.2245          0.1010         0.150   \n",
       "1   0.350     0.265   0.090    0.2255    0.0995          0.0485         0.070   \n",
       "2   0.530     0.420   0.135    0.6770    0.2565          0.1415         0.210   \n",
       "3   0.440     0.365   0.125    0.5160    0.2155          0.1140         0.155   \n",
       "4   0.330     0.255   0.080    0.2050    0.0895          0.0395         0.055   \n",
       "\n",
       "   ape_error  \n",
       "0   0.423826  \n",
       "1   0.074583  \n",
       "2   0.177560  \n",
       "3   0.023819  \n",
       "4   0.009314  "
      ]
     },
     "execution_count": 8,
     "metadata": {},
     "output_type": "execute_result"
    }
   ],
   "source": [
    "data_errors = data.copy(deep=True)\n",
    "data_errors[\"ape_error\"] = np.abs((data[target]-model.predict(data[features]))/data[target])\n",
    "data_errors.drop(columns=[target], inplace=True)\n",
    "data_errors.head()"
   ]
  },
  {
   "cell_type": "markdown",
   "metadata": {},
   "source": [
    "## discretization into gradarions"
   ]
  },
  {
   "cell_type": "code",
   "execution_count": 9,
   "metadata": {
    "ExecuteTime": {
     "end_time": "2024-01-24T18:37:20.522112700Z",
     "start_time": "2024-01-24T18:37:20.398621800Z"
    },
    "collapsed": false
   },
   "outputs": [
    {
     "data": {
      "text/html": [
       "<div>\n",
       "<style scoped>\n",
       "    .dataframe tbody tr th:only-of-type {\n",
       "        vertical-align: middle;\n",
       "    }\n",
       "\n",
       "    .dataframe tbody tr th {\n",
       "        vertical-align: top;\n",
       "    }\n",
       "\n",
       "    .dataframe thead th {\n",
       "        text-align: right;\n",
       "    }\n",
       "</style>\n",
       "<table border=\"1\" class=\"dataframe\">\n",
       "  <thead>\n",
       "    <tr style=\"text-align: right;\">\n",
       "      <th></th>\n",
       "      <th>S_weight</th>\n",
       "      <th>W_weight</th>\n",
       "      <th>diameter</th>\n",
       "      <th>height</th>\n",
       "      <th>length</th>\n",
       "      <th>shell_weight</th>\n",
       "      <th>viscera_weight</th>\n",
       "      <th>ape_error</th>\n",
       "    </tr>\n",
       "  </thead>\n",
       "  <tbody>\n",
       "    <tr>\n",
       "      <th>0</th>\n",
       "      <td>0</td>\n",
       "      <td>0</td>\n",
       "      <td>1</td>\n",
       "      <td>0</td>\n",
       "      <td>1</td>\n",
       "      <td>0</td>\n",
       "      <td>0</td>\n",
       "      <td>1</td>\n",
       "    </tr>\n",
       "    <tr>\n",
       "      <th>1</th>\n",
       "      <td>0</td>\n",
       "      <td>0</td>\n",
       "      <td>0</td>\n",
       "      <td>0</td>\n",
       "      <td>0</td>\n",
       "      <td>0</td>\n",
       "      <td>0</td>\n",
       "      <td>0</td>\n",
       "    </tr>\n",
       "    <tr>\n",
       "      <th>2</th>\n",
       "      <td>0</td>\n",
       "      <td>1</td>\n",
       "      <td>1</td>\n",
       "      <td>1</td>\n",
       "      <td>1</td>\n",
       "      <td>1</td>\n",
       "      <td>0</td>\n",
       "      <td>0</td>\n",
       "    </tr>\n",
       "    <tr>\n",
       "      <th>3</th>\n",
       "      <td>0</td>\n",
       "      <td>0</td>\n",
       "      <td>1</td>\n",
       "      <td>1</td>\n",
       "      <td>1</td>\n",
       "      <td>0</td>\n",
       "      <td>0</td>\n",
       "      <td>0</td>\n",
       "    </tr>\n",
       "    <tr>\n",
       "      <th>4</th>\n",
       "      <td>0</td>\n",
       "      <td>0</td>\n",
       "      <td>0</td>\n",
       "      <td>0</td>\n",
       "      <td>0</td>\n",
       "      <td>0</td>\n",
       "      <td>0</td>\n",
       "      <td>0</td>\n",
       "    </tr>\n",
       "    <tr>\n",
       "      <th>...</th>\n",
       "      <td>...</td>\n",
       "      <td>...</td>\n",
       "      <td>...</td>\n",
       "      <td>...</td>\n",
       "      <td>...</td>\n",
       "      <td>...</td>\n",
       "      <td>...</td>\n",
       "      <td>...</td>\n",
       "    </tr>\n",
       "    <tr>\n",
       "      <th>4170</th>\n",
       "      <td>1</td>\n",
       "      <td>1</td>\n",
       "      <td>2</td>\n",
       "      <td>2</td>\n",
       "      <td>2</td>\n",
       "      <td>1</td>\n",
       "      <td>1</td>\n",
       "      <td>0</td>\n",
       "    </tr>\n",
       "    <tr>\n",
       "      <th>4171</th>\n",
       "      <td>1</td>\n",
       "      <td>1</td>\n",
       "      <td>2</td>\n",
       "      <td>1</td>\n",
       "      <td>2</td>\n",
       "      <td>1</td>\n",
       "      <td>1</td>\n",
       "      <td>0</td>\n",
       "    </tr>\n",
       "    <tr>\n",
       "      <th>4172</th>\n",
       "      <td>1</td>\n",
       "      <td>1</td>\n",
       "      <td>2</td>\n",
       "      <td>2</td>\n",
       "      <td>2</td>\n",
       "      <td>1</td>\n",
       "      <td>2</td>\n",
       "      <td>0</td>\n",
       "    </tr>\n",
       "    <tr>\n",
       "      <th>4173</th>\n",
       "      <td>1</td>\n",
       "      <td>1</td>\n",
       "      <td>2</td>\n",
       "      <td>1</td>\n",
       "      <td>2</td>\n",
       "      <td>1</td>\n",
       "      <td>1</td>\n",
       "      <td>0</td>\n",
       "    </tr>\n",
       "    <tr>\n",
       "      <th>4174</th>\n",
       "      <td>2</td>\n",
       "      <td>2</td>\n",
       "      <td>2</td>\n",
       "      <td>2</td>\n",
       "      <td>2</td>\n",
       "      <td>2</td>\n",
       "      <td>2</td>\n",
       "      <td>0</td>\n",
       "    </tr>\n",
       "  </tbody>\n",
       "</table>\n",
       "<p>4175 rows × 8 columns</p>\n",
       "</div>"
      ],
      "text/plain": [
       "      S_weight  W_weight  diameter  height  length  shell_weight  \\\n",
       "0            0         0         1       0       1             0   \n",
       "1            0         0         0       0       0             0   \n",
       "2            0         1         1       1       1             1   \n",
       "3            0         0         1       1       1             0   \n",
       "4            0         0         0       0       0             0   \n",
       "...        ...       ...       ...     ...     ...           ...   \n",
       "4170         1         1         2       2       2             1   \n",
       "4171         1         1         2       1       2             1   \n",
       "4172         1         1         2       2       2             1   \n",
       "4173         1         1         2       1       2             1   \n",
       "4174         2         2         2       2       2             2   \n",
       "\n",
       "      viscera_weight  ape_error  \n",
       "0                  0          1  \n",
       "1                  0          0  \n",
       "2                  0          0  \n",
       "3                  0          0  \n",
       "4                  0          0  \n",
       "...              ...        ...  \n",
       "4170               1          0  \n",
       "4171               1          0  \n",
       "4172               2          0  \n",
       "4173               1          0  \n",
       "4174               2          0  \n",
       "\n",
       "[4175 rows x 8 columns]"
      ]
     },
     "execution_count": 9,
     "metadata": {},
     "output_type": "execute_result"
    }
   ],
   "source": [
    "disc_data, pipeline_data = discretize(data_errors, features+[\"ape_error\"], icat=None, icont=list(range(n_features+1)))\n",
    "disc_data"
   ]
  },
  {
   "cell_type": "code",
   "execution_count": 10,
   "metadata": {
    "ExecuteTime": {
     "end_time": "2024-01-24T18:37:21.450972400Z",
     "start_time": "2024-01-24T18:37:21.367021800Z"
    },
    "collapsed": false
   },
   "outputs": [
    {
     "data": {
      "text/plain": [
       "['length',\n",
       " 'diameter',\n",
       " 'height',\n",
       " 'W_weight',\n",
       " 'S_weight',\n",
       " 'viscera_weight',\n",
       " 'shell_weight',\n",
       " 'ape_error']"
      ]
     },
     "execution_count": 10,
     "metadata": {},
     "output_type": "execute_result"
    }
   ],
   "source": [
    "pipeline_data[\"cont_features\"]"
   ]
  },
  {
   "cell_type": "markdown",
   "metadata": {},
   "source": [
    "## automatic adjustment of gradations\n",
    "for features with unfair gradations kmeans split\n",
    "in general gradations are up to reseacher reasoning"
   ]
  },
  {
   "cell_type": "code",
   "execution_count": 11,
   "metadata": {
    "ExecuteTime": {
     "end_time": "2024-01-24T18:37:22.929918200Z",
     "start_time": "2024-01-24T18:37:22.838293500Z"
    },
    "collapsed": false
   },
   "outputs": [],
   "source": [
    "q = np.linspace(0, 1, 11)\n",
    "dicval = {feat: [data_errors[feat].quantile(qu) for qu in q] for feat in pipeline_data[\"cont_features\"]}\n",
    "#dicval\n",
    "v = pipeline_data[\"cont_features_edges\"]\n",
    "for i in [7]:\n",
    "    v[i] = [v[i][0], dicval[pipeline_data[\"cont_features\"][i]][3], dicval[pipeline_data[\"cont_features\"][i]][7],\n",
    "            v[i][3]]\n",
    "pipeline_data[\"transformer\"].steps[0][1].bin_edges_ = v"
   ]
  },
  {
   "cell_type": "markdown",
   "metadata": {},
   "source": [
    "## rediscretization after the adjustment"
   ]
  },
  {
   "cell_type": "code",
   "execution_count": 12,
   "metadata": {
    "ExecuteTime": {
     "end_time": "2024-01-24T18:37:23.514627100Z",
     "start_time": "2024-01-24T18:37:23.403084100Z"
    },
    "collapsed": false
   },
   "outputs": [
    {
     "data": {
      "text/html": [
       "<div>\n",
       "<style scoped>\n",
       "    .dataframe tbody tr th:only-of-type {\n",
       "        vertical-align: middle;\n",
       "    }\n",
       "\n",
       "    .dataframe tbody tr th {\n",
       "        vertical-align: top;\n",
       "    }\n",
       "\n",
       "    .dataframe thead th {\n",
       "        text-align: right;\n",
       "    }\n",
       "</style>\n",
       "<table border=\"1\" class=\"dataframe\">\n",
       "  <thead>\n",
       "    <tr style=\"text-align: right;\">\n",
       "      <th></th>\n",
       "      <th>length</th>\n",
       "      <th>diameter</th>\n",
       "      <th>height</th>\n",
       "      <th>W_weight</th>\n",
       "      <th>S_weight</th>\n",
       "      <th>viscera_weight</th>\n",
       "      <th>shell_weight</th>\n",
       "      <th>ape_error</th>\n",
       "    </tr>\n",
       "  </thead>\n",
       "  <tbody>\n",
       "    <tr>\n",
       "      <th>0</th>\n",
       "      <td>1</td>\n",
       "      <td>1</td>\n",
       "      <td>0</td>\n",
       "      <td>0</td>\n",
       "      <td>0</td>\n",
       "      <td>0</td>\n",
       "      <td>0</td>\n",
       "      <td>2</td>\n",
       "    </tr>\n",
       "    <tr>\n",
       "      <th>1</th>\n",
       "      <td>0</td>\n",
       "      <td>0</td>\n",
       "      <td>0</td>\n",
       "      <td>0</td>\n",
       "      <td>0</td>\n",
       "      <td>0</td>\n",
       "      <td>0</td>\n",
       "      <td>1</td>\n",
       "    </tr>\n",
       "    <tr>\n",
       "      <th>2</th>\n",
       "      <td>1</td>\n",
       "      <td>1</td>\n",
       "      <td>1</td>\n",
       "      <td>1</td>\n",
       "      <td>0</td>\n",
       "      <td>0</td>\n",
       "      <td>1</td>\n",
       "      <td>1</td>\n",
       "    </tr>\n",
       "    <tr>\n",
       "      <th>3</th>\n",
       "      <td>1</td>\n",
       "      <td>1</td>\n",
       "      <td>1</td>\n",
       "      <td>0</td>\n",
       "      <td>0</td>\n",
       "      <td>0</td>\n",
       "      <td>0</td>\n",
       "      <td>0</td>\n",
       "    </tr>\n",
       "    <tr>\n",
       "      <th>4</th>\n",
       "      <td>0</td>\n",
       "      <td>0</td>\n",
       "      <td>0</td>\n",
       "      <td>0</td>\n",
       "      <td>0</td>\n",
       "      <td>0</td>\n",
       "      <td>0</td>\n",
       "      <td>0</td>\n",
       "    </tr>\n",
       "    <tr>\n",
       "      <th>...</th>\n",
       "      <td>...</td>\n",
       "      <td>...</td>\n",
       "      <td>...</td>\n",
       "      <td>...</td>\n",
       "      <td>...</td>\n",
       "      <td>...</td>\n",
       "      <td>...</td>\n",
       "      <td>...</td>\n",
       "    </tr>\n",
       "    <tr>\n",
       "      <th>4170</th>\n",
       "      <td>2</td>\n",
       "      <td>2</td>\n",
       "      <td>2</td>\n",
       "      <td>1</td>\n",
       "      <td>1</td>\n",
       "      <td>1</td>\n",
       "      <td>1</td>\n",
       "      <td>0</td>\n",
       "    </tr>\n",
       "    <tr>\n",
       "      <th>4171</th>\n",
       "      <td>2</td>\n",
       "      <td>2</td>\n",
       "      <td>1</td>\n",
       "      <td>1</td>\n",
       "      <td>1</td>\n",
       "      <td>1</td>\n",
       "      <td>1</td>\n",
       "      <td>0</td>\n",
       "    </tr>\n",
       "    <tr>\n",
       "      <th>4172</th>\n",
       "      <td>2</td>\n",
       "      <td>2</td>\n",
       "      <td>2</td>\n",
       "      <td>1</td>\n",
       "      <td>1</td>\n",
       "      <td>2</td>\n",
       "      <td>1</td>\n",
       "      <td>1</td>\n",
       "    </tr>\n",
       "    <tr>\n",
       "      <th>4173</th>\n",
       "      <td>2</td>\n",
       "      <td>2</td>\n",
       "      <td>1</td>\n",
       "      <td>1</td>\n",
       "      <td>1</td>\n",
       "      <td>1</td>\n",
       "      <td>1</td>\n",
       "      <td>0</td>\n",
       "    </tr>\n",
       "    <tr>\n",
       "      <th>4174</th>\n",
       "      <td>2</td>\n",
       "      <td>2</td>\n",
       "      <td>2</td>\n",
       "      <td>2</td>\n",
       "      <td>2</td>\n",
       "      <td>2</td>\n",
       "      <td>2</td>\n",
       "      <td>0</td>\n",
       "    </tr>\n",
       "  </tbody>\n",
       "</table>\n",
       "<p>4175 rows × 8 columns</p>\n",
       "</div>"
      ],
      "text/plain": [
       "      length  diameter  height  W_weight  S_weight  viscera_weight  \\\n",
       "0          1         1       0         0         0               0   \n",
       "1          0         0       0         0         0               0   \n",
       "2          1         1       1         1         0               0   \n",
       "3          1         1       1         0         0               0   \n",
       "4          0         0       0         0         0               0   \n",
       "...      ...       ...     ...       ...       ...             ...   \n",
       "4170       2         2       2         1         1               1   \n",
       "4171       2         2       1         1         1               1   \n",
       "4172       2         2       2         1         1               2   \n",
       "4173       2         2       1         1         1               1   \n",
       "4174       2         2       2         2         2               2   \n",
       "\n",
       "      shell_weight  ape_error  \n",
       "0                0          2  \n",
       "1                0          1  \n",
       "2                1          1  \n",
       "3                0          0  \n",
       "4                0          0  \n",
       "...            ...        ...  \n",
       "4170             1          0  \n",
       "4171             1          0  \n",
       "4172             1          1  \n",
       "4173             1          0  \n",
       "4174             2          0  \n",
       "\n",
       "[4175 rows x 8 columns]"
      ]
     },
     "execution_count": 12,
     "metadata": {},
     "output_type": "execute_result"
    }
   ],
   "source": [
    "disc_data = pd.DataFrame(pipeline_data[\"transformer\"].transform(data_errors), columns=data_errors.columns)\n",
    "disc_data"
   ]
  },
  {
   "cell_type": "code",
   "execution_count": 13,
   "metadata": {},
   "outputs": [
    {
     "data": {
      "text/plain": [
       "ape_error\n",
       "1    1668\n",
       "2    1256\n",
       "0    1251\n",
       "Name: count, dtype: int64"
      ]
     },
     "execution_count": 13,
     "metadata": {},
     "output_type": "execute_result"
    }
   ],
   "source": [
    "disc_data['ape_error'].value_counts()"
   ]
  },
  {
   "cell_type": "code",
   "execution_count": 14,
   "metadata": {
    "ExecuteTime": {
     "end_time": "2024-01-24T18:37:25.246344500Z",
     "start_time": "2024-01-24T18:37:25.153092800Z"
    },
    "collapsed": false
   },
   "outputs": [
    {
     "data": {
      "text/plain": [
       "0.15496210534140759"
      ]
     },
     "execution_count": 14,
     "metadata": {},
     "output_type": "execute_result"
    }
   ],
   "source": [
    "current_error = data_errors[\"ape_error\"].sum()/n\n",
    "current_error"
   ]
  },
  {
   "cell_type": "code",
   "execution_count": 15,
   "metadata": {
    "ExecuteTime": {
     "end_time": "2024-01-24T18:37:26.455017300Z",
     "start_time": "2024-01-24T18:37:26.337563400Z"
    },
    "collapsed": false
   },
   "outputs": [],
   "source": [
    "from pgmpy.factors.discrete.CPD import TabularCPD\n",
    "from pgmpy.models import BayesianNetwork\n",
    "import yodo.yodo\n",
    "import matplotlib.pyplot as plt\n",
    "from pgmpy.estimators import PC, BicScore\n"
   ]
  },
  {
   "cell_type": "code",
   "execution_count": 16,
   "metadata": {
    "ExecuteTime": {
     "end_time": "2024-01-24T18:37:27.376921Z",
     "start_time": "2024-01-24T18:37:27.292302400Z"
    },
    "collapsed": false
   },
   "outputs": [
    {
     "data": {
      "text/plain": [
       "{'length': 3,\n",
       " 'diameter': 3,\n",
       " 'height': 3,\n",
       " 'W_weight': 3,\n",
       " 'S_weight': 3,\n",
       " 'viscera_weight': 3,\n",
       " 'shell_weight': 3,\n",
       " 'ape_error': 3}"
      ]
     },
     "execution_count": 16,
     "metadata": {},
     "output_type": "execute_result"
    }
   ],
   "source": [
    "n_states_map = {feat: disc_data[feat].unique().shape[0] for feat in data_errors.columns}\n",
    "n_states_map"
   ]
  },
  {
   "cell_type": "code",
   "execution_count": 17,
   "metadata": {
    "ExecuteTime": {
     "end_time": "2024-01-24T18:37:28.899706300Z",
     "start_time": "2024-01-24T18:37:28.816993200Z"
    },
    "collapsed": false
   },
   "outputs": [],
   "source": [
    "bn = DiscreteBN()\n",
    "bn.add_nodes({\"types\": {feat: \"disc\" for feat in data_errors.columns}})\n",
    "\n",
    "blacklist = [(\"ape_error\", x) for x in features]"
   ]
  },
  {
   "cell_type": "code",
   "execution_count": 18,
   "metadata": {
    "ExecuteTime": {
     "end_time": "2024-01-24T18:37:29.945074500Z",
     "start_time": "2024-01-24T18:37:29.488972800Z"
    },
    "collapsed": false
   },
   "outputs": [
    {
     "data": {
      "application/vnd.jupyter.widget-view+json": {
       "model_id": "ca0e861647574c7b9e7033a0f832b350",
       "version_major": 2,
       "version_minor": 0
      },
      "text/plain": [
       "  0%|          | 0/1000000 [00:00<?, ?it/s]"
      ]
     },
     "metadata": {},
     "output_type": "display_data"
    }
   ],
   "source": [
    "bn.add_edges(disc_data, scoring_function=(\"K2\", BicScore), params={\"bl_add\": blacklist})"
   ]
  },
  {
   "cell_type": "code",
   "execution_count": 19,
   "metadata": {
    "ExecuteTime": {
     "end_time": "2024-01-24T18:20:23.840662400Z",
     "start_time": "2024-01-24T18:20:23.741539200Z"
    },
    "collapsed": false
   },
   "outputs": [
    {
     "data": {
      "text/html": [
       "<div>\n",
       "<style scoped>\n",
       "    .dataframe tbody tr th:only-of-type {\n",
       "        vertical-align: middle;\n",
       "    }\n",
       "\n",
       "    .dataframe tbody tr th {\n",
       "        vertical-align: top;\n",
       "    }\n",
       "\n",
       "    .dataframe thead th {\n",
       "        text-align: right;\n",
       "    }\n",
       "</style>\n",
       "<table border=\"1\" class=\"dataframe\">\n",
       "  <thead>\n",
       "    <tr style=\"text-align: right;\">\n",
       "      <th></th>\n",
       "      <th>name</th>\n",
       "      <th>node_type</th>\n",
       "      <th>data_type</th>\n",
       "      <th>parents</th>\n",
       "      <th>parents_types</th>\n",
       "    </tr>\n",
       "  </thead>\n",
       "  <tbody>\n",
       "    <tr>\n",
       "      <th>0</th>\n",
       "      <td>S_weight</td>\n",
       "      <td>Discrete</td>\n",
       "      <td>disc</td>\n",
       "      <td>[]</td>\n",
       "      <td>[]</td>\n",
       "    </tr>\n",
       "    <tr>\n",
       "      <th>1</th>\n",
       "      <td>W_weight</td>\n",
       "      <td>Discrete</td>\n",
       "      <td>disc</td>\n",
       "      <td>[S_weight]</td>\n",
       "      <td>[disc]</td>\n",
       "    </tr>\n",
       "    <tr>\n",
       "      <th>2</th>\n",
       "      <td>ape_error</td>\n",
       "      <td>Discrete</td>\n",
       "      <td>disc</td>\n",
       "      <td>[S_weight]</td>\n",
       "      <td>[disc]</td>\n",
       "    </tr>\n",
       "    <tr>\n",
       "      <th>3</th>\n",
       "      <td>length</td>\n",
       "      <td>Discrete</td>\n",
       "      <td>disc</td>\n",
       "      <td>[W_weight, S_weight]</td>\n",
       "      <td>[disc, disc]</td>\n",
       "    </tr>\n",
       "    <tr>\n",
       "      <th>4</th>\n",
       "      <td>diameter</td>\n",
       "      <td>Discrete</td>\n",
       "      <td>disc</td>\n",
       "      <td>[length, W_weight]</td>\n",
       "      <td>[disc, disc]</td>\n",
       "    </tr>\n",
       "    <tr>\n",
       "      <th>5</th>\n",
       "      <td>viscera_weight</td>\n",
       "      <td>Discrete</td>\n",
       "      <td>disc</td>\n",
       "      <td>[length, W_weight]</td>\n",
       "      <td>[disc, disc]</td>\n",
       "    </tr>\n",
       "    <tr>\n",
       "      <th>6</th>\n",
       "      <td>shell_weight</td>\n",
       "      <td>Discrete</td>\n",
       "      <td>disc</td>\n",
       "      <td>[diameter, W_weight]</td>\n",
       "      <td>[disc, disc]</td>\n",
       "    </tr>\n",
       "    <tr>\n",
       "      <th>7</th>\n",
       "      <td>height</td>\n",
       "      <td>Discrete</td>\n",
       "      <td>disc</td>\n",
       "      <td>[diameter, shell_weight]</td>\n",
       "      <td>[disc, disc]</td>\n",
       "    </tr>\n",
       "  </tbody>\n",
       "</table>\n",
       "</div>"
      ],
      "text/plain": [
       "             name node_type data_type                   parents parents_types\n",
       "0        S_weight  Discrete      disc                        []            []\n",
       "1        W_weight  Discrete      disc                [S_weight]        [disc]\n",
       "2       ape_error  Discrete      disc                [S_weight]        [disc]\n",
       "3          length  Discrete      disc      [W_weight, S_weight]  [disc, disc]\n",
       "4        diameter  Discrete      disc        [length, W_weight]  [disc, disc]\n",
       "5  viscera_weight  Discrete      disc        [length, W_weight]  [disc, disc]\n",
       "6    shell_weight  Discrete      disc      [diameter, W_weight]  [disc, disc]\n",
       "7          height  Discrete      disc  [diameter, shell_weight]  [disc, disc]"
      ]
     },
     "execution_count": 19,
     "metadata": {},
     "output_type": "execute_result"
    }
   ],
   "source": [
    "bn.get_info()"
   ]
  },
  {
   "cell_type": "code",
   "execution_count": 20,
   "metadata": {
    "ExecuteTime": {
     "end_time": "2024-01-24T18:37:32.206638700Z",
     "start_time": "2024-01-24T18:37:32.115616500Z"
    },
    "collapsed": false
   },
   "outputs": [],
   "source": [
    "bn.fit_parameters(data=disc_data, n_jobs=1)"
   ]
  },
  {
   "cell_type": "code",
   "execution_count": 21,
   "metadata": {
    "ExecuteTime": {
     "end_time": "2024-01-24T18:30:39.080377200Z",
     "start_time": "2024-01-24T18:30:38.986194200Z"
    },
    "collapsed": false
   },
   "outputs": [
    {
     "data": {
      "text/plain": [
       "{'S_weight': {'cprob': [0.42347305389221557,\n",
       "   0.40119760479041916,\n",
       "   0.17532934131736527],\n",
       "  'vals': ['0', '1', '2']},\n",
       " 'W_weight': {'cprob': {\"['0']\": [0.9276018099547512,\n",
       "    0.07239819004524888,\n",
       "    0.0],\n",
       "   \"['1']\": [0.060298507462686564, 0.8740298507462687, 0.06567164179104477],\n",
       "   \"['2']\": [0.0, 0.1721311475409836, 0.8278688524590164]},\n",
       "  'vals': ['0', '1', '2']},\n",
       " 'ape_error': {'cprob': {\"['0']\": [0.25961538461538464,\n",
       "    0.3897058823529412,\n",
       "    0.3506787330316742],\n",
       "   \"['1']\": [0.3182089552238806, 0.3970149253731343, 0.2847761194029851],\n",
       "   \"['2']\": [0.35382513661202186, 0.42896174863387976, 0.21721311475409835]},\n",
       "  'vals': ['0', '1', '2']},\n",
       " 'length': {'cprob': {\"['0', '0']\": [0.4353658536585366,\n",
       "    0.5634146341463414,\n",
       "    0.0012195121951219512],\n",
       "   \"['0', '1']\": [0.04950495049504951,\n",
       "    0.9306930693069307,\n",
       "    0.019801980198019802],\n",
       "   \"['0', '2']\": [0.3333333333333333, 0.3333333333333333, 0.3333333333333333],\n",
       "   \"['1', '0']\": [0.0, 0.9375, 0.0625],\n",
       "   \"['1', '1']\": [0.0006830601092896175,\n",
       "    0.2827868852459016,\n",
       "    0.7165300546448088],\n",
       "   \"['1', '2']\": [0.0, 0.015873015873015872, 0.9841269841269841],\n",
       "   \"['2', '0']\": [0.3333333333333333, 0.3333333333333333, 0.3333333333333333],\n",
       "   \"['2', '1']\": [0.0, 0.0, 1.0],\n",
       "   \"['2', '2']\": [0.0, 0.0049504950495049506, 0.995049504950495]},\n",
       "  'vals': ['0', '1', '2']},\n",
       " 'diameter': {'cprob': {\"['1', '0']\": [0.021611001964636542,\n",
       "    0.9754420432220039,\n",
       "    0.0029469548133595285],\n",
       "   \"['1', '1']\": [0.0, 0.7630597014925373, 0.23694029850746268],\n",
       "   \"['1', '2']\": [0.0, 1.0, 0.0],\n",
       "   \"['0', '0']\": [0.9471488178025035, 0.05285118219749652, 0.0],\n",
       "   \"['0', '1']\": [0.0, 1.0, 0.0],\n",
       "   \"['0', '2']\": [0.3333333333333333, 0.3333333333333333, 0.3333333333333333],\n",
       "   \"['2', '0']\": [0.0, 0.5, 0.5],\n",
       "   \"['2', '1']\": [0.0, 0.05842506350550381, 0.9415749364944962],\n",
       "   \"['2', '2']\": [0.0, 0.0070126227208976155, 0.9929873772791024]},\n",
       "  'vals': ['0', '1', '2']},\n",
       " 'viscera_weight': {'cprob': {\"['1', '0']\": [0.8644400785854617,\n",
       "    0.13555992141453832,\n",
       "    0.0],\n",
       "   \"['1', '1']\": [0.13432835820895522,\n",
       "    0.8526119402985075,\n",
       "    0.013059701492537313],\n",
       "   \"['1', '2']\": [0.0, 0.0, 1.0],\n",
       "   \"['0', '0']\": [1.0, 0.0, 0.0],\n",
       "   \"['0', '1']\": [0.0, 1.0, 0.0],\n",
       "   \"['0', '2']\": [0.3333333333333333, 0.3333333333333333, 0.3333333333333333],\n",
       "   \"['2', '0']\": [0.25, 0.75, 0.0],\n",
       "   \"['2', '1']\": [0.016088060965283656,\n",
       "    0.8509737510584251,\n",
       "    0.13293818797629128],\n",
       "   \"['2', '2']\": [0.0, 0.13744740532959326, 0.8625525946704067]},\n",
       "  'vals': ['0', '1', '2']},\n",
       " 'shell_weight': {'cprob': {\"['1', '0']\": [0.9090029041626331,\n",
       "    0.0909970958373669,\n",
       "    0.0],\n",
       "   \"['1', '1']\": [0.20668058455114824,\n",
       "    0.7828810020876826,\n",
       "    0.010438413361169102],\n",
       "   \"['1', '2']\": [0.0, 0.125, 0.875],\n",
       "   \"['0', '0']\": [0.9971550497866287, 0.002844950213371266, 0.0],\n",
       "   \"['0', '1']\": [0.3333333333333333, 0.3333333333333333, 0.3333333333333333],\n",
       "   \"['0', '2']\": [0.3333333333333333, 0.3333333333333333, 0.3333333333333333],\n",
       "   \"['2', '0']\": [0.4, 0.6, 0.0],\n",
       "   \"['2', '1']\": [0.011299435028248588,\n",
       "    0.910411622276029,\n",
       "    0.07828894269572235],\n",
       "   \"['2', '2']\": [0.00423728813559322,\n",
       "    0.2387005649717514,\n",
       "    0.7570621468926554]},\n",
       "  'vals': ['0', '1', '2']},\n",
       " 'height': {'cprob': {\"['1', '0']\": [0.2186897880539499,\n",
       "    0.7658959537572254,\n",
       "    0.015414258188824663],\n",
       "   \"['1', '1']\": [0.00425531914893617, 0.8106382978723404, 0.1851063829787234],\n",
       "   \"['1', '2']\": [0.0, 0.08333333333333333, 0.9166666666666666],\n",
       "   \"['0', '0']\": [0.9300998573466477,\n",
       "    0.06847360912981455,\n",
       "    0.0014265335235378032],\n",
       "   \"['0', '1']\": [1.0, 0.0, 0.0],\n",
       "   \"['0', '2']\": [0.3333333333333333, 0.3333333333333333, 0.3333333333333333],\n",
       "   \"['2', '0']\": [0.05263157894736842,\n",
       "    0.7894736842105263,\n",
       "    0.15789473684210525],\n",
       "   \"['2', '1']\": [0.003076923076923077,\n",
       "    0.47615384615384615,\n",
       "    0.5207692307692308],\n",
       "   \"['2', '2']\": [0.0, 0.037914691943127965, 0.9620853080568721]},\n",
       "  'vals': ['0', '1', '2']}}"
      ]
     },
     "execution_count": 21,
     "metadata": {},
     "output_type": "execute_result"
    }
   ],
   "source": [
    "bn.distributions"
   ]
  },
  {
   "cell_type": "markdown",
   "metadata": {},
   "source": [
    "## applying YODO"
   ]
  },
  {
   "cell_type": "code",
   "execution_count": 22,
   "metadata": {
    "ExecuteTime": {
     "end_time": "2024-01-24T18:37:33.802218500Z",
     "start_time": "2024-01-24T18:37:33.731700700Z"
    },
    "collapsed": false
   },
   "outputs": [],
   "source": [
    "pgmpy_bn = BayesianNetwork([list(e) for e in bn.edges])\n",
    "cpds = collect_all_cpds(bn.get_info(), bn.distributions, n_states_map)\n",
    "for e in cpds:\n",
    "    if len(e.variables) == 1: # либо узел без родителей, либо изолированный узел\n",
    "        feat = e.variables[0]\n",
    "        if not any([(feat in edge) for edge in bn.edges]):\n",
    "            continue\n",
    "    pgmpy_bn.add_cpds(e)"
   ]
  },
  {
   "cell_type": "code",
   "execution_count": 23,
   "metadata": {
    "ExecuteTime": {
     "end_time": "2024-01-24T18:37:36.969644600Z",
     "start_time": "2024-01-24T18:37:36.693317100Z"
    },
    "collapsed": false
   },
   "outputs": [
    {
     "data": {
      "text/plain": [
       "<Figure size 640x480 with 0 Axes>"
      ]
     },
     "metadata": {},
     "output_type": "display_data"
    },
    {
     "data": {
      "image/png": "[encoded data removed]",
      "text/plain": [
       "<Figure size 1000x750 with 1 Axes>"
      ]
     },
     "metadata": {},
     "output_type": "display_data"
    }
   ],
   "source": [
    "plt.figure()\n",
    "yodo.plot(pgmpy_bn, probability={'ape_error': 2}, nbars=10)"
   ]
  },
  {
   "cell_type": "markdown",
   "metadata": {
    "collapsed": false
   },
   "source": [
    "трактуем так: вероятность того, что ошибка регрессии будет высокой, наиболее чувствительна к изменению параметра, отвечающего за условную вероятность ошибки быть высокой при условии низкого S_weight"
   ]
  },
  {
   "cell_type": "code",
   "execution_count": 24,
   "metadata": {
    "ExecuteTime": {
     "end_time": "2024-01-24T18:37:40.065574900Z",
     "start_time": "2024-01-24T18:37:39.975864700Z"
    },
    "collapsed": false
   },
   "outputs": [],
   "source": [
    "from copy import copy\n",
    "from sklearn.metrics import log_loss, roc_auc_score\n",
    "from sklearn.metrics import mean_squared_error as MSE, r2_score, mean_absolute_percentage_error as mape"
   ]
  },
  {
   "cell_type": "code",
   "execution_count": 25,
   "metadata": {
    "ExecuteTime": {
     "end_time": "2024-01-24T18:30:52.345933400Z",
     "start_time": "2024-01-24T18:30:52.254063600Z"
    },
    "collapsed": false
   },
   "outputs": [],
   "source": [
    "def inconfidence_score(y_true, y_pred):\n",
    "    return np.mean((1-y_pred)*y_true + y_pred*(1-y_true))"
   ]
  },
  {
   "cell_type": "markdown",
   "metadata": {},
   "source": [
    "## applying SHAP"
   ]
  },
  {
   "cell_type": "code",
   "execution_count": 26,
   "metadata": {
    "ExecuteTime": {
     "end_time": "2024-01-24T18:37:42.252246300Z",
     "start_time": "2024-01-24T18:37:41.913988400Z"
    },
    "collapsed": false
   },
   "outputs": [
    {
     "data": {
      "image/png": "[encoded data removed]",
      "text/plain": [
       "<Figure size 800x430 with 2 Axes>"
      ]
     },
     "metadata": {},
     "output_type": "display_data"
    }
   ],
   "source": [
    "explainer = shap.Explainer(model)\n",
    "shap_values = explainer(data.reset_index()[disc_data['ape_error']==2][features])\n",
    "shap.plots.beeswarm(shap_values)"
   ]
  },
  {
   "cell_type": "markdown",
   "metadata": {},
   "source": [
    "трактование: больше всего на предскзаания для наблюдений с высокой ошибкой влияет shell_weight, большее влияние от высоких значений (влияние на результат, дающий высокую ошибку)"
   ]
  },
  {
   "cell_type": "markdown",
   "metadata": {},
   "source": [
    "## applying our approarch"
   ]
  },
  {
   "cell_type": "code",
   "execution_count": null,
   "metadata": {},
   "outputs": [
    {
     "data": {
      "text/html": [
       "<div>\n",
       "<style scoped>\n",
       "    .dataframe tbody tr th:only-of-type {\n",
       "        vertical-align: middle;\n",
       "    }\n",
       "\n",
       "    .dataframe tbody tr th {\n",
       "        vertical-align: top;\n",
       "    }\n",
       "\n",
       "    .dataframe thead th {\n",
       "        text-align: right;\n",
       "    }\n",
       "</style>\n",
       "<table border=\"1\" class=\"dataframe\">\n",
       "  <thead>\n",
       "    <tr style=\"text-align: right;\">\n",
       "      <th></th>\n",
       "      <th>length_0</th>\n",
       "      <th>length_1</th>\n",
       "      <th>length_2</th>\n",
       "      <th>diameter_0</th>\n",
       "      <th>diameter_1</th>\n",
       "      <th>diameter_2</th>\n",
       "      <th>height_0</th>\n",
       "      <th>height_1</th>\n",
       "      <th>height_2</th>\n",
       "      <th>W_weight_0</th>\n",
       "      <th>...</th>\n",
       "      <th>S_weight_2</th>\n",
       "      <th>viscera_weight_0</th>\n",
       "      <th>viscera_weight_1</th>\n",
       "      <th>viscera_weight_2</th>\n",
       "      <th>shell_weight_0</th>\n",
       "      <th>shell_weight_1</th>\n",
       "      <th>shell_weight_2</th>\n",
       "      <th>ape_error_0</th>\n",
       "      <th>ape_error_1</th>\n",
       "      <th>ape_error_2</th>\n",
       "    </tr>\n",
       "  </thead>\n",
       "  <tbody>\n",
       "    <tr>\n",
       "      <th>0</th>\n",
       "      <td>0</td>\n",
       "      <td>1</td>\n",
       "      <td>0</td>\n",
       "      <td>0</td>\n",
       "      <td>1</td>\n",
       "      <td>0</td>\n",
       "      <td>1</td>\n",
       "      <td>0</td>\n",
       "      <td>0</td>\n",
       "      <td>1</td>\n",
       "      <td>...</td>\n",
       "      <td>0</td>\n",
       "      <td>1</td>\n",
       "      <td>0</td>\n",
       "      <td>0</td>\n",
       "      <td>1</td>\n",
       "      <td>0</td>\n",
       "      <td>0</td>\n",
       "      <td>0</td>\n",
       "      <td>0</td>\n",
       "      <td>1</td>\n",
       "    </tr>\n",
       "    <tr>\n",
       "      <th>1</th>\n",
       "      <td>1</td>\n",
       "      <td>0</td>\n",
       "      <td>0</td>\n",
       "      <td>1</td>\n",
       "      <td>0</td>\n",
       "      <td>0</td>\n",
       "      <td>1</td>\n",
       "      <td>0</td>\n",
       "      <td>0</td>\n",
       "      <td>1</td>\n",
       "      <td>...</td>\n",
       "      <td>0</td>\n",
       "      <td>1</td>\n",
       "      <td>0</td>\n",
       "      <td>0</td>\n",
       "      <td>1</td>\n",
       "      <td>0</td>\n",
       "      <td>0</td>\n",
       "      <td>0</td>\n",
       "      <td>1</td>\n",
       "      <td>0</td>\n",
       "    </tr>\n",
       "    <tr>\n",
       "      <th>2</th>\n",
       "      <td>0</td>\n",
       "      <td>1</td>\n",
       "      <td>0</td>\n",
       "      <td>0</td>\n",
       "      <td>1</td>\n",
       "      <td>0</td>\n",
       "      <td>0</td>\n",
       "      <td>1</td>\n",
       "      <td>0</td>\n",
       "      <td>0</td>\n",
       "      <td>...</td>\n",
       "      <td>0</td>\n",
       "      <td>1</td>\n",
       "      <td>0</td>\n",
       "      <td>0</td>\n",
       "      <td>0</td>\n",
       "      <td>1</td>\n",
       "      <td>0</td>\n",
       "      <td>0</td>\n",
       "      <td>1</td>\n",
       "      <td>0</td>\n",
       "    </tr>\n",
       "    <tr>\n",
       "      <th>3</th>\n",
       "      <td>0</td>\n",
       "      <td>1</td>\n",
       "      <td>0</td>\n",
       "      <td>0</td>\n",
       "      <td>1</td>\n",
       "      <td>0</td>\n",
       "      <td>0</td>\n",
       "      <td>1</td>\n",
       "      <td>0</td>\n",
       "      <td>1</td>\n",
       "      <td>...</td>\n",
       "      <td>0</td>\n",
       "      <td>1</td>\n",
       "      <td>0</td>\n",
       "      <td>0</td>\n",
       "      <td>1</td>\n",
       "      <td>0</td>\n",
       "      <td>0</td>\n",
       "      <td>1</td>\n",
       "      <td>0</td>\n",
       "      <td>0</td>\n",
       "    </tr>\n",
       "    <tr>\n",
       "      <th>4</th>\n",
       "      <td>1</td>\n",
       "      <td>0</td>\n",
       "      <td>0</td>\n",
       "      <td>1</td>\n",
       "      <td>0</td>\n",
       "      <td>0</td>\n",
       "      <td>1</td>\n",
       "      <td>0</td>\n",
       "      <td>0</td>\n",
       "      <td>1</td>\n",
       "      <td>...</td>\n",
       "      <td>0</td>\n",
       "      <td>1</td>\n",
       "      <td>0</td>\n",
       "      <td>0</td>\n",
       "      <td>1</td>\n",
       "      <td>0</td>\n",
       "      <td>0</td>\n",
       "      <td>1</td>\n",
       "      <td>0</td>\n",
       "      <td>0</td>\n",
       "    </tr>\n",
       "    <tr>\n",
       "      <th>...</th>\n",
       "      <td>...</td>\n",
       "      <td>...</td>\n",
       "      <td>...</td>\n",
       "      <td>...</td>\n",
       "      <td>...</td>\n",
       "      <td>...</td>\n",
       "      <td>...</td>\n",
       "      <td>...</td>\n",
       "      <td>...</td>\n",
       "      <td>...</td>\n",
       "      <td>...</td>\n",
       "      <td>...</td>\n",
       "      <td>...</td>\n",
       "      <td>...</td>\n",
       "      <td>...</td>\n",
       "      <td>...</td>\n",
       "      <td>...</td>\n",
       "      <td>...</td>\n",
       "      <td>...</td>\n",
       "      <td>...</td>\n",
       "      <td>...</td>\n",
       "    </tr>\n",
       "    <tr>\n",
       "      <th>4170</th>\n",
       "      <td>0</td>\n",
       "      <td>0</td>\n",
       "      <td>1</td>\n",
       "      <td>0</td>\n",
       "      <td>0</td>\n",
       "      <td>1</td>\n",
       "      <td>0</td>\n",
       "      <td>0</td>\n",
       "      <td>1</td>\n",
       "      <td>0</td>\n",
       "      <td>...</td>\n",
       "      <td>0</td>\n",
       "      <td>0</td>\n",
       "      <td>1</td>\n",
       "      <td>0</td>\n",
       "      <td>0</td>\n",
       "      <td>1</td>\n",
       "      <td>0</td>\n",
       "      <td>1</td>\n",
       "      <td>0</td>\n",
       "      <td>0</td>\n",
       "    </tr>\n",
       "    <tr>\n",
       "      <th>4171</th>\n",
       "      <td>0</td>\n",
       "      <td>0</td>\n",
       "      <td>1</td>\n",
       "      <td>0</td>\n",
       "      <td>0</td>\n",
       "      <td>1</td>\n",
       "      <td>0</td>\n",
       "      <td>1</td>\n",
       "      <td>0</td>\n",
       "      <td>0</td>\n",
       "      <td>...</td>\n",
       "      <td>0</td>\n",
       "      <td>0</td>\n",
       "      <td>1</td>\n",
       "      <td>0</td>\n",
       "      <td>0</td>\n",
       "      <td>1</td>\n",
       "      <td>0</td>\n",
       "      <td>1</td>\n",
       "      <td>0</td>\n",
       "      <td>0</td>\n",
       "    </tr>\n",
       "    <tr>\n",
       "      <th>4172</th>\n",
       "      <td>0</td>\n",
       "      <td>0</td>\n",
       "      <td>1</td>\n",
       "      <td>0</td>\n",
       "      <td>0</td>\n",
       "      <td>1</td>\n",
       "      <td>0</td>\n",
       "      <td>0</td>\n",
       "      <td>1</td>\n",
       "      <td>0</td>\n",
       "      <td>...</td>\n",
       "      <td>0</td>\n",
       "      <td>0</td>\n",
       "      <td>0</td>\n",
       "      <td>1</td>\n",
       "      <td>0</td>\n",
       "      <td>1</td>\n",
       "      <td>0</td>\n",
       "      <td>0</td>\n",
       "      <td>1</td>\n",
       "      <td>0</td>\n",
       "    </tr>\n",
       "    <tr>\n",
       "      <th>4173</th>\n",
       "      <td>0</td>\n",
       "      <td>0</td>\n",
       "      <td>1</td>\n",
       "      <td>0</td>\n",
       "      <td>0</td>\n",
       "      <td>1</td>\n",
       "      <td>0</td>\n",
       "      <td>1</td>\n",
       "      <td>0</td>\n",
       "      <td>0</td>\n",
       "      <td>...</td>\n",
       "      <td>0</td>\n",
       "      <td>0</td>\n",
       "      <td>1</td>\n",
       "      <td>0</td>\n",
       "      <td>0</td>\n",
       "      <td>1</td>\n",
       "      <td>0</td>\n",
       "      <td>1</td>\n",
       "      <td>0</td>\n",
       "      <td>0</td>\n",
       "    </tr>\n",
       "    <tr>\n",
       "      <th>4174</th>\n",
       "      <td>0</td>\n",
       "      <td>0</td>\n",
       "      <td>1</td>\n",
       "      <td>0</td>\n",
       "      <td>0</td>\n",
       "      <td>1</td>\n",
       "      <td>0</td>\n",
       "      <td>0</td>\n",
       "      <td>1</td>\n",
       "      <td>0</td>\n",
       "      <td>...</td>\n",
       "      <td>1</td>\n",
       "      <td>0</td>\n",
       "      <td>0</td>\n",
       "      <td>1</td>\n",
       "      <td>0</td>\n",
       "      <td>0</td>\n",
       "      <td>1</td>\n",
       "      <td>1</td>\n",
       "      <td>0</td>\n",
       "      <td>0</td>\n",
       "    </tr>\n",
       "  </tbody>\n",
       "</table>\n",
       "<p>4175 rows × 24 columns</p>\n",
       "</div>"
      ],
      "text/plain": [
       "      length_0  length_1  length_2  diameter_0  diameter_1  diameter_2  \\\n",
       "0            0         1         0           0           1           0   \n",
       "1            1         0         0           1           0           0   \n",
       "2            0         1         0           0           1           0   \n",
       "3            0         1         0           0           1           0   \n",
       "4            1         0         0           1           0           0   \n",
       "...        ...       ...       ...         ...         ...         ...   \n",
       "4170         0         0         1           0           0           1   \n",
       "4171         0         0         1           0           0           1   \n",
       "4172         0         0         1           0           0           1   \n",
       "4173         0         0         1           0           0           1   \n",
       "4174         0         0         1           0           0           1   \n",
       "\n",
       "      height_0  height_1  height_2  W_weight_0  ...  S_weight_2  \\\n",
       "0            1         0         0           1  ...           0   \n",
       "1            1         0         0           1  ...           0   \n",
       "2            0         1         0           0  ...           0   \n",
       "3            0         1         0           1  ...           0   \n",
       "4            1         0         0           1  ...           0   \n",
       "...        ...       ...       ...         ...  ...         ...   \n",
       "4170         0         0         1           0  ...           0   \n",
       "4171         0         1         0           0  ...           0   \n",
       "4172         0         0         1           0  ...           0   \n",
       "4173         0         1         0           0  ...           0   \n",
       "4174         0         0         1           0  ...           1   \n",
       "\n",
       "      viscera_weight_0  viscera_weight_1  viscera_weight_2  shell_weight_0  \\\n",
       "0                    1                 0                 0               1   \n",
       "1                    1                 0                 0               1   \n",
       "2                    1                 0                 0               0   \n",
       "3                    1                 0                 0               1   \n",
       "4                    1                 0                 0               1   \n",
       "...                ...               ...               ...             ...   \n",
       "4170                 0                 1                 0               0   \n",
       "4171                 0                 1                 0               0   \n",
       "4172                 0                 0                 1               0   \n",
       "4173                 0                 1                 0               0   \n",
       "4174                 0                 0                 1               0   \n",
       "\n",
       "      shell_weight_1  shell_weight_2  ape_error_0  ape_error_1  ape_error_2  \n",
       "0                  0               0            0            0            1  \n",
       "1                  0               0            0            1            0  \n",
       "2                  1               0            0            1            0  \n",
       "3                  0               0            1            0            0  \n",
       "4                  0               0            1            0            0  \n",
       "...              ...             ...          ...          ...          ...  \n",
       "4170               1               0            1            0            0  \n",
       "4171               1               0            1            0            0  \n",
       "4172               1               0            0            1            0  \n",
       "4173               1               0            1            0            0  \n",
       "4174               0               1            1            0            0  \n",
       "\n",
       "[4175 rows x 24 columns]"
      ]
     },
     "metadata": {},
     "output_type": "display_data"
    }
   ],
   "source": [
    "def extract_categories(data):\n",
    "    return [f\"{feat}_{int(k)}\" for feat in data.columns for k in\n",
    "            sorted(data[feat].unique())]\n",
    "categories = extract_categories(disc_data)\n",
    "encoder = OneHotEncoder(sparse=False)\n",
    "disc_data_encoded = pd.DataFrame(encoder.fit_transform(X=disc_data), columns=categories, dtype='uint8')\n",
    "disc_data_encoded"
   ]
  },
  {
   "cell_type": "code",
   "execution_count": null,
   "metadata": {},
   "outputs": [],
   "source": [
    "from itertools import product"
   ]
  },
  {
   "cell_type": "code",
   "execution_count": null,
   "metadata": {},
   "outputs": [
    {
     "name": "stdout",
     "output_type": "stream",
     "text": [
      "2025-03-22 16:45:37,965 | ERROR    | GraphUtils.py-nodes_types-0034 | Unsupported data type. Dtype: uint8\n",
      "2025-03-22 16:45:37,968 | ERROR    | GraphUtils.py-nodes_types-0034 | Unsupported data type. Dtype: uint8\n",
      "2025-03-22 16:45:37,969 | ERROR    | GraphUtils.py-nodes_types-0034 | Unsupported data type. Dtype: uint8\n",
      "2025-03-22 16:45:37,971 | ERROR    | GraphUtils.py-nodes_types-0034 | Unsupported data type. Dtype: uint8\n",
      "2025-03-22 16:45:37,972 | ERROR    | GraphUtils.py-nodes_types-0034 | Unsupported data type. Dtype: uint8\n",
      "2025-03-22 16:45:37,973 | ERROR    | GraphUtils.py-nodes_types-0034 | Unsupported data type. Dtype: uint8\n",
      "2025-03-22 16:45:37,975 | ERROR    | GraphUtils.py-nodes_types-0034 | Unsupported data type. Dtype: uint8\n",
      "2025-03-22 16:45:37,976 | ERROR    | GraphUtils.py-nodes_types-0034 | Unsupported data type. Dtype: uint8\n",
      "2025-03-22 16:45:37,977 | ERROR    | GraphUtils.py-nodes_types-0034 | Unsupported data type. Dtype: uint8\n",
      "2025-03-22 16:45:37,978 | ERROR    | GraphUtils.py-nodes_types-0034 | Unsupported data type. Dtype: uint8\n",
      "2025-03-22 16:45:37,979 | ERROR    | GraphUtils.py-nodes_types-0034 | Unsupported data type. Dtype: uint8\n",
      "2025-03-22 16:45:37,981 | ERROR    | GraphUtils.py-nodes_types-0034 | Unsupported data type. Dtype: uint8\n",
      "2025-03-22 16:45:37,982 | ERROR    | GraphUtils.py-nodes_types-0034 | Unsupported data type. Dtype: uint8\n",
      "2025-03-22 16:45:37,983 | ERROR    | GraphUtils.py-nodes_types-0034 | Unsupported data type. Dtype: uint8\n",
      "2025-03-22 16:45:37,984 | ERROR    | GraphUtils.py-nodes_types-0034 | Unsupported data type. Dtype: uint8\n",
      "2025-03-22 16:45:37,985 | ERROR    | GraphUtils.py-nodes_types-0034 | Unsupported data type. Dtype: uint8\n",
      "2025-03-22 16:45:37,986 | ERROR    | GraphUtils.py-nodes_types-0034 | Unsupported data type. Dtype: uint8\n",
      "2025-03-22 16:45:37,987 | ERROR    | GraphUtils.py-nodes_types-0034 | Unsupported data type. Dtype: uint8\n",
      "2025-03-22 16:45:37,987 | ERROR    | GraphUtils.py-nodes_types-0034 | Unsupported data type. Dtype: uint8\n",
      "2025-03-22 16:45:37,989 | ERROR    | GraphUtils.py-nodes_types-0034 | Unsupported data type. Dtype: uint8\n",
      "2025-03-22 16:45:37,990 | ERROR    | GraphUtils.py-nodes_types-0034 | Unsupported data type. Dtype: uint8\n",
      "2025-03-22 16:45:37,991 | ERROR    | GraphUtils.py-nodes_types-0034 | Unsupported data type. Dtype: uint8\n",
      "2025-03-22 16:45:37,991 | ERROR    | GraphUtils.py-nodes_types-0034 | Unsupported data type. Dtype: uint8\n",
      "2025-03-22 16:45:37,992 | ERROR    | GraphUtils.py-nodes_types-0034 | Unsupported data type. Dtype: uint8\n"
     ]
    },
    {
     "data": {
      "application/vnd.jupyter.widget-view+json": {
       "model_id": "18e818ef4e2f4037a6dec4b8d71037f7",
       "version_major": 2,
       "version_minor": 0
      },
      "text/plain": [
       "  0%|          | 0/1000000 [00:00<?, ?it/s]"
      ]
     },
     "metadata": {},
     "output_type": "display_data"
    }
   ],
   "source": [
    "gbn = DiscreteBNGI(imagespath)\n",
    "gbn.add_nodes({\"types\": {feat: \"disc\" for feat in disc_data_encoded.columns}})\n",
    "features_cats = [x for x in disc_data_encoded.columns if \"ape_error\" not in x]\n",
    "error_cats = [x for x in disc_data_encoded.columns if \"ape_error\" in x]\n",
    "blacklist = [(x, y) for x, y in product(error_cats, features_cats)] \\\n",
    "            + [(x, y) for x, y in product(categories, categories) if x.split(\"_\")[:-1]==y.split(\"_\")[:-1]]\n",
    "\n",
    "gbn.add_edges(disc_data_encoded, scoring_function=(\"K2\", BicScore), params={\"bl_add\": blacklist})"
   ]
  },
  {
   "cell_type": "code",
   "execution_count": null,
   "metadata": {},
   "outputs": [
    {
     "data": {
      "text/html": [
       "<div>\n",
       "<style scoped>\n",
       "    .dataframe tbody tr th:only-of-type {\n",
       "        vertical-align: middle;\n",
       "    }\n",
       "\n",
       "    .dataframe tbody tr th {\n",
       "        vertical-align: top;\n",
       "    }\n",
       "\n",
       "    .dataframe thead th {\n",
       "        text-align: right;\n",
       "    }\n",
       "</style>\n",
       "<table border=\"1\" class=\"dataframe\">\n",
       "  <thead>\n",
       "    <tr style=\"text-align: right;\">\n",
       "      <th></th>\n",
       "      <th>name</th>\n",
       "      <th>node_type</th>\n",
       "      <th>data_type</th>\n",
       "      <th>parents</th>\n",
       "      <th>parents_types</th>\n",
       "    </tr>\n",
       "  </thead>\n",
       "  <tbody>\n",
       "    <tr>\n",
       "      <th>0</th>\n",
       "      <td>height_0</td>\n",
       "      <td>Discrete</td>\n",
       "      <td>disc</td>\n",
       "      <td>[]</td>\n",
       "      <td>[]</td>\n",
       "    </tr>\n",
       "    <tr>\n",
       "      <th>1</th>\n",
       "      <td>ape_error_1</td>\n",
       "      <td>Discrete</td>\n",
       "      <td>disc</td>\n",
       "      <td>[]</td>\n",
       "      <td>[]</td>\n",
       "    </tr>\n",
       "    <tr>\n",
       "      <th>2</th>\n",
       "      <td>length_1</td>\n",
       "      <td>Discrete</td>\n",
       "      <td>disc</td>\n",
       "      <td>[height_0]</td>\n",
       "      <td>[disc]</td>\n",
       "    </tr>\n",
       "    <tr>\n",
       "      <th>3</th>\n",
       "      <td>diameter_1</td>\n",
       "      <td>Discrete</td>\n",
       "      <td>disc</td>\n",
       "      <td>[length_1]</td>\n",
       "      <td>[disc]</td>\n",
       "    </tr>\n",
       "    <tr>\n",
       "      <th>4</th>\n",
       "      <td>length_0</td>\n",
       "      <td>Discrete</td>\n",
       "      <td>disc</td>\n",
       "      <td>[diameter_1, height_0]</td>\n",
       "      <td>[disc, disc]</td>\n",
       "    </tr>\n",
       "    <tr>\n",
       "      <th>5</th>\n",
       "      <td>diameter_0</td>\n",
       "      <td>Discrete</td>\n",
       "      <td>disc</td>\n",
       "      <td>[length_0, height_0]</td>\n",
       "      <td>[disc, disc]</td>\n",
       "    </tr>\n",
       "    <tr>\n",
       "      <th>6</th>\n",
       "      <td>length_2</td>\n",
       "      <td>Discrete</td>\n",
       "      <td>disc</td>\n",
       "      <td>[diameter_0, diameter_1]</td>\n",
       "      <td>[disc, disc]</td>\n",
       "    </tr>\n",
       "    <tr>\n",
       "      <th>7</th>\n",
       "      <td>diameter_2</td>\n",
       "      <td>Discrete</td>\n",
       "      <td>disc</td>\n",
       "      <td>[length_2, height_0]</td>\n",
       "      <td>[disc, disc]</td>\n",
       "    </tr>\n",
       "    <tr>\n",
       "      <th>8</th>\n",
       "      <td>shell_weight_0</td>\n",
       "      <td>Discrete</td>\n",
       "      <td>disc</td>\n",
       "      <td>[length_2, diameter_2, height_0]</td>\n",
       "      <td>[disc, disc, disc]</td>\n",
       "    </tr>\n",
       "    <tr>\n",
       "      <th>9</th>\n",
       "      <td>W_weight_0</td>\n",
       "      <td>Discrete</td>\n",
       "      <td>disc</td>\n",
       "      <td>[length_2, height_0, shell_weight_0]</td>\n",
       "      <td>[disc, disc, disc]</td>\n",
       "    </tr>\n",
       "    <tr>\n",
       "      <th>10</th>\n",
       "      <td>S_weight_0</td>\n",
       "      <td>Discrete</td>\n",
       "      <td>disc</td>\n",
       "      <td>[length_1, W_weight_0]</td>\n",
       "      <td>[disc, disc]</td>\n",
       "    </tr>\n",
       "    <tr>\n",
       "      <th>11</th>\n",
       "      <td>shell_weight_1</td>\n",
       "      <td>Discrete</td>\n",
       "      <td>disc</td>\n",
       "      <td>[length_1, diameter_2, W_weight_0]</td>\n",
       "      <td>[disc, disc, disc]</td>\n",
       "    </tr>\n",
       "    <tr>\n",
       "      <th>12</th>\n",
       "      <td>ape_error_2</td>\n",
       "      <td>Discrete</td>\n",
       "      <td>disc</td>\n",
       "      <td>[S_weight_0]</td>\n",
       "      <td>[disc]</td>\n",
       "    </tr>\n",
       "    <tr>\n",
       "      <th>13</th>\n",
       "      <td>ape_error_0</td>\n",
       "      <td>Discrete</td>\n",
       "      <td>disc</td>\n",
       "      <td>[S_weight_0]</td>\n",
       "      <td>[disc]</td>\n",
       "    </tr>\n",
       "    <tr>\n",
       "      <th>14</th>\n",
       "      <td>viscera_weight_0</td>\n",
       "      <td>Discrete</td>\n",
       "      <td>disc</td>\n",
       "      <td>[diameter_1, W_weight_0, shell_weight_1]</td>\n",
       "      <td>[disc, disc, disc]</td>\n",
       "    </tr>\n",
       "    <tr>\n",
       "      <th>15</th>\n",
       "      <td>W_weight_1</td>\n",
       "      <td>Discrete</td>\n",
       "      <td>disc</td>\n",
       "      <td>[length_2, S_weight_0, viscera_weight_0, shell...</td>\n",
       "      <td>[disc, disc, disc, disc]</td>\n",
       "    </tr>\n",
       "    <tr>\n",
       "      <th>16</th>\n",
       "      <td>S_weight_1</td>\n",
       "      <td>Discrete</td>\n",
       "      <td>disc</td>\n",
       "      <td>[length_1, height_0, W_weight_1]</td>\n",
       "      <td>[disc, disc, disc]</td>\n",
       "    </tr>\n",
       "    <tr>\n",
       "      <th>17</th>\n",
       "      <td>viscera_weight_1</td>\n",
       "      <td>Discrete</td>\n",
       "      <td>disc</td>\n",
       "      <td>[height_0, W_weight_1]</td>\n",
       "      <td>[disc, disc]</td>\n",
       "    </tr>\n",
       "    <tr>\n",
       "      <th>18</th>\n",
       "      <td>S_weight_2</td>\n",
       "      <td>Discrete</td>\n",
       "      <td>disc</td>\n",
       "      <td>[length_2, W_weight_0, W_weight_1]</td>\n",
       "      <td>[disc, disc, disc]</td>\n",
       "    </tr>\n",
       "    <tr>\n",
       "      <th>19</th>\n",
       "      <td>height_2</td>\n",
       "      <td>Discrete</td>\n",
       "      <td>disc</td>\n",
       "      <td>[diameter_2, W_weight_1, shell_weight_0, shell...</td>\n",
       "      <td>[disc, disc, disc, disc]</td>\n",
       "    </tr>\n",
       "    <tr>\n",
       "      <th>20</th>\n",
       "      <td>W_weight_2</td>\n",
       "      <td>Discrete</td>\n",
       "      <td>disc</td>\n",
       "      <td>[height_2, S_weight_2, viscera_weight_1, shell...</td>\n",
       "      <td>[disc, disc, disc, disc]</td>\n",
       "    </tr>\n",
       "    <tr>\n",
       "      <th>21</th>\n",
       "      <td>viscera_weight_2</td>\n",
       "      <td>Discrete</td>\n",
       "      <td>disc</td>\n",
       "      <td>[diameter_2, height_2, W_weight_2]</td>\n",
       "      <td>[disc, disc, disc]</td>\n",
       "    </tr>\n",
       "    <tr>\n",
       "      <th>22</th>\n",
       "      <td>shell_weight_2</td>\n",
       "      <td>Discrete</td>\n",
       "      <td>disc</td>\n",
       "      <td>[diameter_2, height_2, W_weight_2]</td>\n",
       "      <td>[disc, disc, disc]</td>\n",
       "    </tr>\n",
       "    <tr>\n",
       "      <th>23</th>\n",
       "      <td>height_1</td>\n",
       "      <td>Discrete</td>\n",
       "      <td>disc</td>\n",
       "      <td>[length_1, diameter_1, W_weight_1, shell_weigh...</td>\n",
       "      <td>[disc, disc, disc, disc]</td>\n",
       "    </tr>\n",
       "  </tbody>\n",
       "</table>\n",
       "</div>"
      ],
      "text/plain": [
       "                name node_type data_type  \\\n",
       "0           height_0  Discrete      disc   \n",
       "1        ape_error_1  Discrete      disc   \n",
       "2           length_1  Discrete      disc   \n",
       "3         diameter_1  Discrete      disc   \n",
       "4           length_0  Discrete      disc   \n",
       "5         diameter_0  Discrete      disc   \n",
       "6           length_2  Discrete      disc   \n",
       "7         diameter_2  Discrete      disc   \n",
       "8     shell_weight_0  Discrete      disc   \n",
       "9         W_weight_0  Discrete      disc   \n",
       "10        S_weight_0  Discrete      disc   \n",
       "11    shell_weight_1  Discrete      disc   \n",
       "12       ape_error_2  Discrete      disc   \n",
       "13       ape_error_0  Discrete      disc   \n",
       "14  viscera_weight_0  Discrete      disc   \n",
       "15        W_weight_1  Discrete      disc   \n",
       "16        S_weight_1  Discrete      disc   \n",
       "17  viscera_weight_1  Discrete      disc   \n",
       "18        S_weight_2  Discrete      disc   \n",
       "19          height_2  Discrete      disc   \n",
       "20        W_weight_2  Discrete      disc   \n",
       "21  viscera_weight_2  Discrete      disc   \n",
       "22    shell_weight_2  Discrete      disc   \n",
       "23          height_1  Discrete      disc   \n",
       "\n",
       "                                              parents  \\\n",
       "0                                                  []   \n",
       "1                                                  []   \n",
       "2                                          [height_0]   \n",
       "3                                          [length_1]   \n",
       "4                              [diameter_1, height_0]   \n",
       "5                                [length_0, height_0]   \n",
       "6                            [diameter_0, diameter_1]   \n",
       "7                                [length_2, height_0]   \n",
       "8                    [length_2, diameter_2, height_0]   \n",
       "9                [length_2, height_0, shell_weight_0]   \n",
       "10                             [length_1, W_weight_0]   \n",
       "11                 [length_1, diameter_2, W_weight_0]   \n",
       "12                                       [S_weight_0]   \n",
       "13                                       [S_weight_0]   \n",
       "14           [diameter_1, W_weight_0, shell_weight_1]   \n",
       "15  [length_2, S_weight_0, viscera_weight_0, shell...   \n",
       "16                   [length_1, height_0, W_weight_1]   \n",
       "17                             [height_0, W_weight_1]   \n",
       "18                 [length_2, W_weight_0, W_weight_1]   \n",
       "19  [diameter_2, W_weight_1, shell_weight_0, shell...   \n",
       "20  [height_2, S_weight_2, viscera_weight_1, shell...   \n",
       "21                 [diameter_2, height_2, W_weight_2]   \n",
       "22                 [diameter_2, height_2, W_weight_2]   \n",
       "23  [length_1, diameter_1, W_weight_1, shell_weigh...   \n",
       "\n",
       "               parents_types  \n",
       "0                         []  \n",
       "1                         []  \n",
       "2                     [disc]  \n",
       "3                     [disc]  \n",
       "4               [disc, disc]  \n",
       "5               [disc, disc]  \n",
       "6               [disc, disc]  \n",
       "7               [disc, disc]  \n",
       "8         [disc, disc, disc]  \n",
       "9         [disc, disc, disc]  \n",
       "10              [disc, disc]  \n",
       "11        [disc, disc, disc]  \n",
       "12                    [disc]  \n",
       "13                    [disc]  \n",
       "14        [disc, disc, disc]  \n",
       "15  [disc, disc, disc, disc]  \n",
       "16        [disc, disc, disc]  \n",
       "17              [disc, disc]  \n",
       "18        [disc, disc, disc]  \n",
       "19  [disc, disc, disc, disc]  \n",
       "20  [disc, disc, disc, disc]  \n",
       "21        [disc, disc, disc]  \n",
       "22        [disc, disc, disc]  \n",
       "23  [disc, disc, disc, disc]  "
      ]
     },
     "metadata": {},
     "output_type": "display_data"
    }
   ],
   "source": [
    "gbn.get_info()"
   ]
  },
  {
   "cell_type": "code",
   "execution_count": null,
   "metadata": {},
   "outputs": [
    {
     "data": {
      "text/plain": [
       "['S_weight_0']"
      ]
     },
     "metadata": {},
     "output_type": "display_data"
    }
   ],
   "source": [
    "info = gbn.get_info()\n",
    "info.iloc[12, 3]"
   ]
  },
  {
   "cell_type": "code",
   "execution_count": null,
   "metadata": {},
   "outputs": [],
   "source": [
    "gbn.custom_mapper"
   ]
  },
  {
   "cell_type": "code",
   "execution_count": null,
   "metadata": {},
   "outputs": [],
   "source": [
    "gbn.plot(\"abalone_regr.html\")"
   ]
  },
  {
   "cell_type": "code",
   "execution_count": 27,
   "metadata": {
    "ExecuteTime": {
     "end_time": "2024-01-24T18:41:49.792076200Z",
     "start_time": "2024-01-24T18:41:49.734028200Z"
    },
    "collapsed": false
   },
   "outputs": [],
   "source": [
    "dfeat = [\"S_weight\"] # yodo suggestion\n",
    "dcat = [0]\n",
    "\n",
    "dfeatshap = ['shell_weight']\n",
    "dcatshap = [2]\n",
    "\n",
    "dfeatbn = [\"S_weight\"]\n",
    "dcatbn = [0]\n",
    "\n",
    "d_dict={\n",
    "    'yodo': [[\"S_weight\"], [0]],\n",
    "    'bn': [['shell_weight'], [2]],\n",
    "    'shap': [[\"S_weight\"], [0]]\n",
    "}\n",
    "\n",
    "bn = n\n"
   ]
  },
  {
   "cell_type": "code",
   "execution_count": 28,
   "metadata": {
    "ExecuteTime": {
     "end_time": "2024-01-21T12:26:16.494291200Z",
     "start_time": "2024-01-21T12:26:16.432798200Z"
    },
    "collapsed": false
   },
   "outputs": [
    {
     "data": {
      "text/plain": [
       "(4175, 8)"
      ]
     },
     "execution_count": 28,
     "metadata": {},
     "output_type": "execute_result"
    }
   ],
   "source": [
    "data.shape"
   ]
  },
  {
   "cell_type": "markdown",
   "metadata": {},
   "source": [
    "## run 1: alpha=0.5 (preserve half)"
   ]
  },
  {
   "cell_type": "code",
   "execution_count": 146,
   "metadata": {},
   "outputs": [
    {
     "name": "stderr",
     "output_type": "stream",
     "text": [
      "100%|██████████| 250/250 [09:26<00:00,  2.27s/it]\n"
     ]
    }
   ],
   "source": [
    "np.random.seed(42)\n",
    "\n",
    "stats_res = bootstrap_sampling(data, d_dict, bn,\n",
    "                                    [lambda x, y: mape(x, y)*100, \n",
    "                                    lambda x, y: r2_score(x, y)*100], trials=250,alpha=0.5, incl_random_removal=True,\n",
    "                                    drop_mode='metric',\n",
    "                                    mode='regr',\n",
    "                                    incl_test=True,\n",
    "                                    test_size=0.25,\n",
    "                                    stratify_tts=False)"
   ]
  },
  {
   "cell_type": "code",
   "execution_count": 147,
   "metadata": {},
   "outputs": [
    {
     "data": {
      "text/plain": [
       "{'yodo': 186.824, 'bn': 170.68, 'shap': 186.824, 'init': -1, 'random': -1}"
      ]
     },
     "execution_count": 147,
     "metadata": {},
     "output_type": "execute_result"
    }
   ],
   "source": [
    "stats_res['avg_n_dropped']"
   ]
  },
  {
   "cell_type": "code",
   "execution_count": 148,
   "metadata": {},
   "outputs": [
    {
     "data": {
      "text/plain": [
       "{'yodo': 0.044726837443141015,\n",
       " 'bn': 0.040861862580799616,\n",
       " 'shap': 0.044726837443141015,\n",
       " 'init': -0.00023940627244433804,\n",
       " 'random': -0.00023940627244433804}"
      ]
     },
     "execution_count": 148,
     "metadata": {},
     "output_type": "execute_result"
    }
   ],
   "source": [
    "{k: v/n for k, v in stats_res['avg_n_dropped'].items()}"
   ]
  },
  {
   "cell_type": "code",
   "execution_count": 82,
   "metadata": {
    "ExecuteTime": {
     "end_time": "2024-01-24T18:54:13.011012500Z",
     "start_time": "2024-01-24T18:54:12.946818900Z"
    },
    "collapsed": false
   },
   "outputs": [],
   "source": [
    "def plot_scores(metrics, graph_label, k):\n",
    "    avg_metric = {}\n",
    "    for name in metrics.keys():\n",
    "        sns.histplot(metrics[name][k], label=names_mapping[name], bins=25)\n",
    "        avg_metric[names_mapping[name]] = sum(metrics[name][k])/len(metrics[name][k])\n",
    "\n",
    "    plt.legend()\n",
    "    plt.xlabel(graph_label)\n",
    "    return avg_metric\n",
    "\n",
    "names_mapping = {k:v for k, v in\n",
    "                        zip(['init', 'yodo', 'bn', 'shap', 'random'],\n",
    "                        [\"Before elimination\",\n",
    "                          \"YODO\",\n",
    "                          \"gradation BN\",\n",
    "                          \"SHAP\",\n",
    "                          \"random\"\n",
    "                          ])}"
   ]
  },
  {
   "cell_type": "code",
   "execution_count": 83,
   "metadata": {},
   "outputs": [],
   "source": [
    "def extended_experiments_output(stats_dictionary, metrics_labels_list):\n",
    "    tbl_scores = pd.DataFrame(columns=['method', 'metric', 'value'])\n",
    "    i=0\n",
    "    for k, label in enumerate(metrics_labels_list):\n",
    "        plt.figure()\n",
    "        avg_stats = plot_scores(stats_dictionary, label, k)\n",
    "        for key, val in avg_stats.items():\n",
    "            tbl_scores.loc[i, :] = [key, label, val]\n",
    "            i+=1\n",
    "    return pd.pivot(tbl_scores, index='metric', columns='method')\n"
   ]
  },
  {
   "cell_type": "code",
   "execution_count": 84,
   "metadata": {},
   "outputs": [
    {
     "data": {
      "image/png": "[encoded data removed]",
      "text/plain": [
       "<Figure size 640x480 with 1 Axes>"
      ]
     },
     "metadata": {},
     "output_type": "display_data"
    },
    {
     "data": {
      "image/png": "[encoded data removed]",
      "text/plain": [
       "<Figure size 640x480 with 1 Axes>"
      ]
     },
     "metadata": {},
     "output_type": "display_data"
    }
   ],
   "source": [
    "res_train_tbl = extended_experiments_output(stats_res['metrics'], ['MAPE score', '$R^2$-score'])"
   ]
  },
  {
   "cell_type": "code",
   "execution_count": 85,
   "metadata": {},
   "outputs": [
    {
     "data": {
      "text/html": [
       "<div>\n",
       "<style scoped>\n",
       "    .dataframe tbody tr th:only-of-type {\n",
       "        vertical-align: middle;\n",
       "    }\n",
       "\n",
       "    .dataframe tbody tr th {\n",
       "        vertical-align: top;\n",
       "    }\n",
       "\n",
       "    .dataframe thead tr th {\n",
       "        text-align: left;\n",
       "    }\n",
       "\n",
       "    .dataframe thead tr:last-of-type th {\n",
       "        text-align: right;\n",
       "    }\n",
       "</style>\n",
       "<table border=\"1\" class=\"dataframe\">\n",
       "  <thead>\n",
       "    <tr>\n",
       "      <th></th>\n",
       "      <th colspan=\"5\" halign=\"left\">value</th>\n",
       "    </tr>\n",
       "    <tr>\n",
       "      <th>method</th>\n",
       "      <th>Before elimination</th>\n",
       "      <th>SHAP</th>\n",
       "      <th>YODO</th>\n",
       "      <th>gradation BN</th>\n",
       "      <th>random</th>\n",
       "    </tr>\n",
       "    <tr>\n",
       "      <th>metric</th>\n",
       "      <th></th>\n",
       "      <th></th>\n",
       "      <th></th>\n",
       "      <th></th>\n",
       "      <th></th>\n",
       "    </tr>\n",
       "  </thead>\n",
       "  <tbody>\n",
       "    <tr>\n",
       "      <th>$R^2$-score</th>\n",
       "      <td>58.82638</td>\n",
       "      <td>58.086707</td>\n",
       "      <td>58.086695</td>\n",
       "      <td>58.226936</td>\n",
       "      <td>58.919227</td>\n",
       "    </tr>\n",
       "    <tr>\n",
       "      <th>MAPE score</th>\n",
       "      <td>15.123503</td>\n",
       "      <td>15.573654</td>\n",
       "      <td>15.573594</td>\n",
       "      <td>15.530744</td>\n",
       "      <td>15.115476</td>\n",
       "    </tr>\n",
       "  </tbody>\n",
       "</table>\n",
       "</div>"
      ],
      "text/plain": [
       "                         value                                              \n",
       "method      Before elimination       SHAP       YODO gradation BN     random\n",
       "metric                                                                      \n",
       "$R^2$-score           58.82638  58.086707  58.086695    58.226936  58.919227\n",
       "MAPE score           15.123503  15.573654  15.573594    15.530744  15.115476"
      ]
     },
     "execution_count": 85,
     "metadata": {},
     "output_type": "execute_result"
    }
   ],
   "source": [
    "res_train_tbl"
   ]
  },
  {
   "cell_type": "code",
   "execution_count": 86,
   "metadata": {},
   "outputs": [
    {
     "name": "stdout",
     "output_type": "stream",
     "text": [
      "\\begin{tabular}{llllll}\n",
      "\\toprule\n",
      " & \\multicolumn{5}{r}{value} \\\\\n",
      "method & Before elimination & SHAP & YODO & gradation BN & random \\\\\n",
      "metric &  &  &  &  &  \\\\\n",
      "\\midrule\n",
      "$R^2$-score & 58.826380 & 58.086707 & 58.086695 & 58.226936 & 58.919227 \\\\\n",
      "MAPE score & 15.123503 & 15.573654 & 15.573594 & 15.530744 & 15.115476 \\\\\n",
      "\\bottomrule\n",
      "\\end{tabular}\n",
      "\n"
     ]
    }
   ],
   "source": [
    "print(res_train_tbl.to_latex())"
   ]
  },
  {
   "cell_type": "code",
   "execution_count": 87,
   "metadata": {},
   "outputs": [
    {
     "data": {
      "image/png": "[encoded data removed]",
      "text/plain": [
       "<Figure size 640x480 with 1 Axes>"
      ]
     },
     "metadata": {},
     "output_type": "display_data"
    },
    {
     "data": {
      "image/png": "[encoded data removed]",
      "text/plain": [
       "<Figure size 640x480 with 1 Axes>"
      ]
     },
     "metadata": {},
     "output_type": "display_data"
    }
   ],
   "source": [
    "res_test_tbl = extended_experiments_output(stats_res['metrics_test'], ['MAPE score', '$R^2$-score'])"
   ]
  },
  {
   "cell_type": "code",
   "execution_count": 88,
   "metadata": {},
   "outputs": [
    {
     "data": {
      "text/html": [
       "<div>\n",
       "<style scoped>\n",
       "    .dataframe tbody tr th:only-of-type {\n",
       "        vertical-align: middle;\n",
       "    }\n",
       "\n",
       "    .dataframe tbody tr th {\n",
       "        vertical-align: top;\n",
       "    }\n",
       "\n",
       "    .dataframe thead tr th {\n",
       "        text-align: left;\n",
       "    }\n",
       "\n",
       "    .dataframe thead tr:last-of-type th {\n",
       "        text-align: right;\n",
       "    }\n",
       "</style>\n",
       "<table border=\"1\" class=\"dataframe\">\n",
       "  <thead>\n",
       "    <tr>\n",
       "      <th></th>\n",
       "      <th colspan=\"5\" halign=\"left\">value</th>\n",
       "    </tr>\n",
       "    <tr>\n",
       "      <th>method</th>\n",
       "      <th>Before elimination</th>\n",
       "      <th>SHAP</th>\n",
       "      <th>YODO</th>\n",
       "      <th>gradation BN</th>\n",
       "      <th>random</th>\n",
       "    </tr>\n",
       "    <tr>\n",
       "      <th>metric</th>\n",
       "      <th></th>\n",
       "      <th></th>\n",
       "      <th></th>\n",
       "      <th></th>\n",
       "      <th></th>\n",
       "    </tr>\n",
       "  </thead>\n",
       "  <tbody>\n",
       "    <tr>\n",
       "      <th>$R^2$-score</th>\n",
       "      <td>50.782976</td>\n",
       "      <td>50.849201</td>\n",
       "      <td>50.851613</td>\n",
       "      <td>50.869322</td>\n",
       "      <td>50.787567</td>\n",
       "    </tr>\n",
       "    <tr>\n",
       "      <th>MAPE score</th>\n",
       "      <td>16.181556</td>\n",
       "      <td>16.14589</td>\n",
       "      <td>16.151339</td>\n",
       "      <td>16.19442</td>\n",
       "      <td>16.184907</td>\n",
       "    </tr>\n",
       "  </tbody>\n",
       "</table>\n",
       "</div>"
      ],
      "text/plain": [
       "                         value                                              \n",
       "method      Before elimination       SHAP       YODO gradation BN     random\n",
       "metric                                                                      \n",
       "$R^2$-score          50.782976  50.849201  50.851613    50.869322  50.787567\n",
       "MAPE score           16.181556   16.14589  16.151339     16.19442  16.184907"
      ]
     },
     "execution_count": 88,
     "metadata": {},
     "output_type": "execute_result"
    }
   ],
   "source": [
    "res_test_tbl"
   ]
  },
  {
   "cell_type": "code",
   "execution_count": 155,
   "metadata": {},
   "outputs": [
    {
     "name": "stdout",
     "output_type": "stream",
     "text": [
      "\\begin{tabular}{llllll}\n",
      "\\toprule\n",
      " & \\multicolumn{5}{r}{value} \\\\\n",
      "method & Before elimination & SHAP & YODO & gradation BN & random \\\\\n",
      "metric &  &  &  &  &  \\\\\n",
      "\\midrule\n",
      "$R^2$-score & 50.782976 & 50.849201 & 50.851613 & 50.869322 & 50.787567 \\\\\n",
      "MAPE score & 16.181556 & 16.145890 & 16.151339 & 16.194420 & 16.184907 \\\\\n",
      "\\bottomrule\n",
      "\\end{tabular}\n",
      "\n"
     ]
    }
   ],
   "source": [
    "print(res_test_tbl.to_latex())"
   ]
  },
  {
   "cell_type": "code",
   "execution_count": 99,
   "metadata": {},
   "outputs": [],
   "source": [
    "def avg_prcnt_change(stats, name1, name2, metric_num, direction=1):\n",
    "    cnt = len(stats[name1][0])\n",
    "    return direction*sum((a-b)/b for a, b in zip(stats[name1][metric_num], stats[name2][metric_num]))/cnt*100"
   ]
  },
  {
   "cell_type": "code",
   "execution_count": 152,
   "metadata": {},
   "outputs": [
    {
     "data": {
      "text/plain": [
       "-0.07973427354496974"
      ]
     },
     "execution_count": 152,
     "metadata": {},
     "output_type": "execute_result"
    }
   ],
   "source": [
    "avg_prcnt_change(stats_res['metrics_test'], 'bn', 'init', 0, -1) #"
   ]
  },
  {
   "cell_type": "code",
   "execution_count": 154,
   "metadata": {},
   "outputs": [
    {
     "data": {
      "text/plain": [
       "0.17402048116275692"
      ]
     },
     "execution_count": 154,
     "metadata": {},
     "output_type": "execute_result"
    }
   ],
   "source": [
    "avg_prcnt_change(stats_res['metrics_test'], 'bn', 'init', 1, 1)"
   ]
  },
  {
   "cell_type": "code",
   "execution_count": 72,
   "metadata": {
    "ExecuteTime": {
     "end_time": "2023-12-12T01:31:13.855906Z",
     "start_time": "2023-12-12T01:31:13.802354300Z"
    },
    "collapsed": false
   },
   "outputs": [],
   "source": [
    "from scipy.stats import ttest_rel"
   ]
  },
  {
   "cell_type": "code",
   "execution_count": 156,
   "metadata": {
    "ExecuteTime": {
     "end_time": "2023-11-16T08:05:20.055061600Z",
     "start_time": "2023-11-16T08:05:19.955962700Z"
    },
    "collapsed": false
   },
   "outputs": [
    {
     "data": {
      "text/plain": [
       "TtestResult(statistic=27.34766283742486, pvalue=5.757302968971751e-77, df=249)"
      ]
     },
     "execution_count": 156,
     "metadata": {},
     "output_type": "execute_result"
    }
   ],
   "source": [
    "ttest_rel(stats_res['metrics']['bn'][0], stats_res['metrics']['init'][0]) #['MAPE score', '$R^2$-score']"
   ]
  },
  {
   "cell_type": "code",
   "execution_count": 157,
   "metadata": {},
   "outputs": [
    {
     "data": {
      "text/plain": [
       "TtestResult(statistic=2.422722370247869, pvalue=0.01611890902972461, df=249)"
      ]
     },
     "execution_count": 157,
     "metadata": {},
     "output_type": "execute_result"
    }
   ],
   "source": [
    "ttest_rel(stats_res['metrics_test']['bn'][0], stats_res['metrics_test']['init'][0])#['MAPE score', '$R^2$-score']"
   ]
  },
  {
   "cell_type": "code",
   "execution_count": 158,
   "metadata": {},
   "outputs": [
    {
     "data": {
      "text/plain": [
       "TtestResult(statistic=1.6554978760694838, pvalue=0.09908328499825067, df=249)"
      ]
     },
     "execution_count": 158,
     "metadata": {},
     "output_type": "execute_result"
    }
   ],
   "source": [
    "ttest_rel(stats_res['metrics_test']['bn'][1], stats_res['metrics_test']['init'][1])#['MAPE score', '$R^2$-score']"
   ]
  },
  {
   "cell_type": "code",
   "execution_count": 159,
   "metadata": {},
   "outputs": [
    {
     "data": {
      "text/plain": [
       "TtestResult(statistic=1.5595472379404618, pvalue=0.1201369657916023, df=249)"
      ]
     },
     "execution_count": 159,
     "metadata": {},
     "output_type": "execute_result"
    }
   ],
   "source": [
    "ttest_rel(stats_res['metrics_test']['bn'][1], stats_res['metrics_test']['random'][1])#['MAPE score', '$R^2$-score']"
   ]
  },
  {
   "cell_type": "markdown",
   "metadata": {},
   "source": [
    "## Run 2: alpha=0.7"
   ]
  },
  {
   "cell_type": "code",
   "execution_count": 119,
   "metadata": {},
   "outputs": [
    {
     "name": "stderr",
     "output_type": "stream",
     "text": [
      "100%|██████████| 250/250 [10:05<00:00,  2.42s/it]\n"
     ]
    }
   ],
   "source": [
    "np.random.seed(42)\n",
    "\n",
    "stats_res = bootstrap_sampling(data, d_dict, bn,\n",
    "                                    [lambda x, y: mape(x, y)*100, \n",
    "                                    lambda x, y: r2_score(x, y)*100], trials=250,alpha=0.7, incl_random_removal=True,\n",
    "                                    drop_mode='metric',\n",
    "                                    mode='regr',\n",
    "                                    incl_test=True,\n",
    "                                    test_size=0.25,\n",
    "                                    stratify_tts=False)"
   ]
  },
  {
   "cell_type": "code",
   "execution_count": 121,
   "metadata": {},
   "outputs": [
    {
     "data": {
      "text/plain": [
       "{'yodo': 132.428, 'bn': 103.388, 'shap': 132.428, 'init': -1, 'random': -1}"
      ]
     },
     "execution_count": 121,
     "metadata": {},
     "output_type": "execute_result"
    }
   ],
   "source": [
    "stats_res['avg_n_dropped']"
   ]
  },
  {
   "cell_type": "code",
   "execution_count": 122,
   "metadata": {},
   "outputs": [
    {
     "data": {
      "image/png": "[encoded data removed]",
      "text/plain": [
       "<Figure size 640x480 with 1 Axes>"
      ]
     },
     "metadata": {},
     "output_type": "display_data"
    },
    {
     "data": {
      "image/png": "[encoded data removed]",
      "text/plain": [
       "<Figure size 640x480 with 1 Axes>"
      ]
     },
     "metadata": {},
     "output_type": "display_data"
    }
   ],
   "source": [
    "res_train_tbl_1 = extended_experiments_output(stats_res['metrics'], ['MAPE score', '$R^2$-score'])"
   ]
  },
  {
   "cell_type": "code",
   "execution_count": 123,
   "metadata": {},
   "outputs": [
    {
     "data": {
      "text/html": [
       "<div>\n",
       "<style scoped>\n",
       "    .dataframe tbody tr th:only-of-type {\n",
       "        vertical-align: middle;\n",
       "    }\n",
       "\n",
       "    .dataframe tbody tr th {\n",
       "        vertical-align: top;\n",
       "    }\n",
       "\n",
       "    .dataframe thead tr th {\n",
       "        text-align: left;\n",
       "    }\n",
       "\n",
       "    .dataframe thead tr:last-of-type th {\n",
       "        text-align: right;\n",
       "    }\n",
       "</style>\n",
       "<table border=\"1\" class=\"dataframe\">\n",
       "  <thead>\n",
       "    <tr>\n",
       "      <th></th>\n",
       "      <th colspan=\"5\" halign=\"left\">value</th>\n",
       "    </tr>\n",
       "    <tr>\n",
       "      <th>method</th>\n",
       "      <th>Before elimination</th>\n",
       "      <th>SHAP</th>\n",
       "      <th>YODO</th>\n",
       "      <th>gradation BN</th>\n",
       "      <th>random</th>\n",
       "    </tr>\n",
       "    <tr>\n",
       "      <th>metric</th>\n",
       "      <th></th>\n",
       "      <th></th>\n",
       "      <th></th>\n",
       "      <th></th>\n",
       "      <th></th>\n",
       "    </tr>\n",
       "  </thead>\n",
       "  <tbody>\n",
       "    <tr>\n",
       "      <th>$R^2$-score</th>\n",
       "      <td>58.82638</td>\n",
       "      <td>58.259432</td>\n",
       "      <td>58.259478</td>\n",
       "      <td>58.448882</td>\n",
       "      <td>58.892793</td>\n",
       "    </tr>\n",
       "    <tr>\n",
       "      <th>MAPE score</th>\n",
       "      <td>15.123503</td>\n",
       "      <td>15.376014</td>\n",
       "      <td>15.376034</td>\n",
       "      <td>15.376645</td>\n",
       "      <td>15.122498</td>\n",
       "    </tr>\n",
       "  </tbody>\n",
       "</table>\n",
       "</div>"
      ],
      "text/plain": [
       "                         value                                              \n",
       "method      Before elimination       SHAP       YODO gradation BN     random\n",
       "metric                                                                      \n",
       "$R^2$-score           58.82638  58.259432  58.259478    58.448882  58.892793\n",
       "MAPE score           15.123503  15.376014  15.376034    15.376645  15.122498"
      ]
     },
     "execution_count": 123,
     "metadata": {},
     "output_type": "execute_result"
    }
   ],
   "source": [
    "res_train_tbl_1"
   ]
  },
  {
   "cell_type": "code",
   "execution_count": 127,
   "metadata": {},
   "outputs": [
    {
     "name": "stdout",
     "output_type": "stream",
     "text": [
      "\\begin{tabular}{llllll}\n",
      "\\toprule\n",
      " & \\multicolumn{5}{r}{value} \\\\\n",
      "method & Before elimination & SHAP & YODO & gradation BN & random \\\\\n",
      "metric &  &  &  &  &  \\\\\n",
      "\\midrule\n",
      "$R^2$-score & 58.826380 & 58.259432 & 58.259478 & 58.448882 & 58.892793 \\\\\n",
      "MAPE score & 15.123503 & 15.376014 & 15.376034 & 15.376645 & 15.122498 \\\\\n",
      "\\bottomrule\n",
      "\\end{tabular}\n",
      "\n"
     ]
    }
   ],
   "source": [
    "print(res_train_tbl_1.to_latex())"
   ]
  },
  {
   "cell_type": "code",
   "execution_count": 125,
   "metadata": {},
   "outputs": [
    {
     "data": {
      "image/png": "[encoded data removed]",
      "text/plain": [
       "<Figure size 640x480 with 1 Axes>"
      ]
     },
     "metadata": {},
     "output_type": "display_data"
    },
    {
     "data": {
      "image/png": "[encoded data removed]",
      "text/plain": [
       "<Figure size 640x480 with 1 Axes>"
      ]
     },
     "metadata": {},
     "output_type": "display_data"
    }
   ],
   "source": [
    "res_test_tbl_1 = extended_experiments_output(stats_res['metrics_test'], ['MAPE score', '$R^2$-score'])"
   ]
  },
  {
   "cell_type": "code",
   "execution_count": 126,
   "metadata": {},
   "outputs": [
    {
     "data": {
      "text/html": [
       "<div>\n",
       "<style scoped>\n",
       "    .dataframe tbody tr th:only-of-type {\n",
       "        vertical-align: middle;\n",
       "    }\n",
       "\n",
       "    .dataframe tbody tr th {\n",
       "        vertical-align: top;\n",
       "    }\n",
       "\n",
       "    .dataframe thead tr th {\n",
       "        text-align: left;\n",
       "    }\n",
       "\n",
       "    .dataframe thead tr:last-of-type th {\n",
       "        text-align: right;\n",
       "    }\n",
       "</style>\n",
       "<table border=\"1\" class=\"dataframe\">\n",
       "  <thead>\n",
       "    <tr>\n",
       "      <th></th>\n",
       "      <th colspan=\"5\" halign=\"left\">value</th>\n",
       "    </tr>\n",
       "    <tr>\n",
       "      <th>method</th>\n",
       "      <th>Before elimination</th>\n",
       "      <th>SHAP</th>\n",
       "      <th>YODO</th>\n",
       "      <th>gradation BN</th>\n",
       "      <th>random</th>\n",
       "    </tr>\n",
       "    <tr>\n",
       "      <th>metric</th>\n",
       "      <th></th>\n",
       "      <th></th>\n",
       "      <th></th>\n",
       "      <th></th>\n",
       "      <th></th>\n",
       "    </tr>\n",
       "  </thead>\n",
       "  <tbody>\n",
       "    <tr>\n",
       "      <th>$R^2$-score</th>\n",
       "      <td>50.782976</td>\n",
       "      <td>50.688406</td>\n",
       "      <td>50.682663</td>\n",
       "      <td>50.785901</td>\n",
       "      <td>50.776947</td>\n",
       "    </tr>\n",
       "    <tr>\n",
       "      <th>MAPE score</th>\n",
       "      <td>16.181556</td>\n",
       "      <td>16.189546</td>\n",
       "      <td>16.191987</td>\n",
       "      <td>16.176929</td>\n",
       "      <td>16.184443</td>\n",
       "    </tr>\n",
       "  </tbody>\n",
       "</table>\n",
       "</div>"
      ],
      "text/plain": [
       "                         value                                              \n",
       "method      Before elimination       SHAP       YODO gradation BN     random\n",
       "metric                                                                      \n",
       "$R^2$-score          50.782976  50.688406  50.682663    50.785901  50.776947\n",
       "MAPE score           16.181556  16.189546  16.191987    16.176929  16.184443"
      ]
     },
     "execution_count": 126,
     "metadata": {},
     "output_type": "execute_result"
    }
   ],
   "source": [
    "res_test_tbl_1"
   ]
  },
  {
   "cell_type": "code",
   "execution_count": 128,
   "metadata": {},
   "outputs": [
    {
     "name": "stdout",
     "output_type": "stream",
     "text": [
      "\\begin{tabular}{llllll}\n",
      "\\toprule\n",
      " & \\multicolumn{5}{r}{value} \\\\\n",
      "method & Before elimination & SHAP & YODO & gradation BN & random \\\\\n",
      "metric &  &  &  &  &  \\\\\n",
      "\\midrule\n",
      "$R^2$-score & 50.782976 & 50.688406 & 50.682663 & 50.785901 & 50.776947 \\\\\n",
      "MAPE score & 16.181556 & 16.189546 & 16.191987 & 16.176929 & 16.184443 \\\\\n",
      "\\bottomrule\n",
      "\\end{tabular}\n",
      "\n"
     ]
    }
   ],
   "source": [
    "print(res_test_tbl_1.to_latex())"
   ]
  },
  {
   "cell_type": "code",
   "execution_count": null,
   "metadata": {},
   "outputs": [
    {
     "data": {
      "text/plain": [
       "-0.02853160666730992"
      ]
     },
     "execution_count": 130,
     "metadata": {},
     "output_type": "execute_result"
    }
   ],
   "source": [
    "avg_prcnt_change(stats_res['metrics_test'], 'bn', 'init', 0)#['MAPE score', '$R^2$-score']"
   ]
  },
  {
   "cell_type": "code",
   "execution_count": null,
   "metadata": {},
   "outputs": [
    {
     "data": {
      "text/plain": [
       "-0.006480115681487938"
      ]
     },
     "execution_count": 131,
     "metadata": {},
     "output_type": "execute_result"
    }
   ],
   "source": [
    "avg_prcnt_change(stats_res['metrics_test'], 'bn', 'init', 1, -1)#['MAPE score', '$R^2$-score']"
   ]
  },
  {
   "cell_type": "code",
   "execution_count": 132,
   "metadata": {},
   "outputs": [
    {
     "data": {
      "text/plain": [
       "TtestResult(statistic=-1.0670543825901544, pvalue=0.28698075243179677, df=249)"
      ]
     },
     "execution_count": 132,
     "metadata": {},
     "output_type": "execute_result"
    }
   ],
   "source": [
    "ttest_rel(stats_res['metrics_test']['bn'][0], stats_res['metrics_test']['init'][0])"
   ]
  },
  {
   "cell_type": "code",
   "execution_count": 133,
   "metadata": {},
   "outputs": [
    {
     "data": {
      "text/plain": [
       "TtestResult(statistic=0.05039050080711232, pvalue=0.959851604027029, df=249)"
      ]
     },
     "execution_count": 133,
     "metadata": {},
     "output_type": "execute_result"
    }
   ],
   "source": [
    "ttest_rel(stats_res['metrics_test']['bn'][1], stats_res['metrics_test']['init'][1])"
   ]
  },
  {
   "cell_type": "markdown",
   "metadata": {},
   "source": [
    "## Run 3: alpha=0.4"
   ]
  },
  {
   "cell_type": "code",
   "execution_count": 134,
   "metadata": {},
   "outputs": [
    {
     "name": "stderr",
     "output_type": "stream",
     "text": [
      "100%|██████████| 250/250 [09:23<00:00,  2.26s/it]\n"
     ]
    }
   ],
   "source": [
    "np.random.seed(42)\n",
    "\n",
    "stats_res = bootstrap_sampling(data, d_dict, bn,\n",
    "                                    [lambda x, y: mape(x, y)*100, \n",
    "                                    lambda x, y: r2_score(x, y)*100], trials=250,alpha=0.4, incl_random_removal=True,\n",
    "                                    drop_mode='metric',\n",
    "                                    mode='regr',\n",
    "                                    incl_test=True,\n",
    "                                    test_size=0.25,\n",
    "                                    stratify_tts=False)"
   ]
  },
  {
   "cell_type": "code",
   "execution_count": 135,
   "metadata": {},
   "outputs": [
    {
     "data": {
      "text/plain": [
       "{'yodo': 230.416, 'bn': 221.996, 'shap': 230.416, 'init': -1, 'random': -1}"
      ]
     },
     "execution_count": 135,
     "metadata": {},
     "output_type": "execute_result"
    }
   ],
   "source": [
    "stats_res['avg_n_dropped']"
   ]
  },
  {
   "cell_type": "code",
   "execution_count": 136,
   "metadata": {},
   "outputs": [
    {
     "data": {
      "image/png": "[encoded data removed]",
      "text/plain": [
       "<Figure size 640x480 with 1 Axes>"
      ]
     },
     "metadata": {},
     "output_type": "display_data"
    },
    {
     "data": {
      "image/png": "[encoded data removed]",
      "text/plain": [
       "<Figure size 640x480 with 1 Axes>"
      ]
     },
     "metadata": {},
     "output_type": "display_data"
    }
   ],
   "source": [
    "res_train_tbl_2 = extended_experiments_output(stats_res['metrics'], ['MAPE score', '$R^2$-score'])"
   ]
  },
  {
   "cell_type": "code",
   "execution_count": 137,
   "metadata": {},
   "outputs": [
    {
     "data": {
      "text/html": [
       "<div>\n",
       "<style scoped>\n",
       "    .dataframe tbody tr th:only-of-type {\n",
       "        vertical-align: middle;\n",
       "    }\n",
       "\n",
       "    .dataframe tbody tr th {\n",
       "        vertical-align: top;\n",
       "    }\n",
       "\n",
       "    .dataframe thead tr th {\n",
       "        text-align: left;\n",
       "    }\n",
       "\n",
       "    .dataframe thead tr:last-of-type th {\n",
       "        text-align: right;\n",
       "    }\n",
       "</style>\n",
       "<table border=\"1\" class=\"dataframe\">\n",
       "  <thead>\n",
       "    <tr>\n",
       "      <th></th>\n",
       "      <th colspan=\"5\" halign=\"left\">value</th>\n",
       "    </tr>\n",
       "    <tr>\n",
       "      <th>method</th>\n",
       "      <th>Before elimination</th>\n",
       "      <th>SHAP</th>\n",
       "      <th>YODO</th>\n",
       "      <th>gradation BN</th>\n",
       "      <th>random</th>\n",
       "    </tr>\n",
       "    <tr>\n",
       "      <th>metric</th>\n",
       "      <th></th>\n",
       "      <th></th>\n",
       "      <th></th>\n",
       "      <th></th>\n",
       "      <th></th>\n",
       "    </tr>\n",
       "  </thead>\n",
       "  <tbody>\n",
       "    <tr>\n",
       "      <th>$R^2$-score</th>\n",
       "      <td>58.82638</td>\n",
       "      <td>57.889382</td>\n",
       "      <td>57.889382</td>\n",
       "      <td>58.10997</td>\n",
       "      <td>58.960487</td>\n",
       "    </tr>\n",
       "    <tr>\n",
       "      <th>MAPE score</th>\n",
       "      <td>15.123503</td>\n",
       "      <td>15.715921</td>\n",
       "      <td>15.715924</td>\n",
       "      <td>15.618497</td>\n",
       "      <td>15.111626</td>\n",
       "    </tr>\n",
       "  </tbody>\n",
       "</table>\n",
       "</div>"
      ],
      "text/plain": [
       "                         value                                              \n",
       "method      Before elimination       SHAP       YODO gradation BN     random\n",
       "metric                                                                      \n",
       "$R^2$-score           58.82638  57.889382  57.889382     58.10997  58.960487\n",
       "MAPE score           15.123503  15.715921  15.715924    15.618497  15.111626"
      ]
     },
     "execution_count": 137,
     "metadata": {},
     "output_type": "execute_result"
    }
   ],
   "source": [
    "res_train_tbl_2"
   ]
  },
  {
   "cell_type": "code",
   "execution_count": 138,
   "metadata": {},
   "outputs": [
    {
     "name": "stdout",
     "output_type": "stream",
     "text": [
      "\\begin{tabular}{llllll}\n",
      "\\toprule\n",
      " & \\multicolumn{5}{r}{value} \\\\\n",
      "method & Before elimination & SHAP & YODO & gradation BN & random \\\\\n",
      "metric &  &  &  &  &  \\\\\n",
      "\\midrule\n",
      "$R^2$-score & 58.826380 & 57.889382 & 57.889382 & 58.109970 & 58.960487 \\\\\n",
      "MAPE score & 15.123503 & 15.715921 & 15.715924 & 15.618497 & 15.111626 \\\\\n",
      "\\bottomrule\n",
      "\\end{tabular}\n",
      "\n"
     ]
    }
   ],
   "source": [
    "print(res_train_tbl_2.to_latex())"
   ]
  },
  {
   "cell_type": "code",
   "execution_count": 139,
   "metadata": {},
   "outputs": [
    {
     "data": {
      "image/png": "[encoded data removed]",
      "text/plain": [
       "<Figure size 640x480 with 1 Axes>"
      ]
     },
     "metadata": {},
     "output_type": "display_data"
    },
    {
     "data": {
      "image/png": "[encoded data removed]",
      "text/plain": [
       "<Figure size 640x480 with 1 Axes>"
      ]
     },
     "metadata": {},
     "output_type": "display_data"
    }
   ],
   "source": [
    "res_test_tbl_2 = extended_experiments_output(stats_res['metrics_test'], ['MAPE score', '$R^2$-score'])"
   ]
  },
  {
   "cell_type": "code",
   "execution_count": 140,
   "metadata": {},
   "outputs": [
    {
     "data": {
      "text/html": [
       "<div>\n",
       "<style scoped>\n",
       "    .dataframe tbody tr th:only-of-type {\n",
       "        vertical-align: middle;\n",
       "    }\n",
       "\n",
       "    .dataframe tbody tr th {\n",
       "        vertical-align: top;\n",
       "    }\n",
       "\n",
       "    .dataframe thead tr th {\n",
       "        text-align: left;\n",
       "    }\n",
       "\n",
       "    .dataframe thead tr:last-of-type th {\n",
       "        text-align: right;\n",
       "    }\n",
       "</style>\n",
       "<table border=\"1\" class=\"dataframe\">\n",
       "  <thead>\n",
       "    <tr>\n",
       "      <th></th>\n",
       "      <th colspan=\"5\" halign=\"left\">value</th>\n",
       "    </tr>\n",
       "    <tr>\n",
       "      <th>method</th>\n",
       "      <th>Before elimination</th>\n",
       "      <th>SHAP</th>\n",
       "      <th>YODO</th>\n",
       "      <th>gradation BN</th>\n",
       "      <th>random</th>\n",
       "    </tr>\n",
       "    <tr>\n",
       "      <th>metric</th>\n",
       "      <th></th>\n",
       "      <th></th>\n",
       "      <th></th>\n",
       "      <th></th>\n",
       "      <th></th>\n",
       "    </tr>\n",
       "  </thead>\n",
       "  <tbody>\n",
       "    <tr>\n",
       "      <th>$R^2$-score</th>\n",
       "      <td>50.782976</td>\n",
       "      <td>50.883319</td>\n",
       "      <td>50.883858</td>\n",
       "      <td>50.917988</td>\n",
       "      <td>50.740377</td>\n",
       "    </tr>\n",
       "    <tr>\n",
       "      <th>MAPE score</th>\n",
       "      <td>16.181556</td>\n",
       "      <td>16.137937</td>\n",
       "      <td>16.14151</td>\n",
       "      <td>16.215501</td>\n",
       "      <td>16.195845</td>\n",
       "    </tr>\n",
       "  </tbody>\n",
       "</table>\n",
       "</div>"
      ],
      "text/plain": [
       "                         value                                              \n",
       "method      Before elimination       SHAP       YODO gradation BN     random\n",
       "metric                                                                      \n",
       "$R^2$-score          50.782976  50.883319  50.883858    50.917988  50.740377\n",
       "MAPE score           16.181556  16.137937   16.14151    16.215501  16.195845"
      ]
     },
     "execution_count": 140,
     "metadata": {},
     "output_type": "execute_result"
    }
   ],
   "source": [
    "res_test_tbl_2"
   ]
  },
  {
   "cell_type": "code",
   "execution_count": 141,
   "metadata": {},
   "outputs": [
    {
     "name": "stdout",
     "output_type": "stream",
     "text": [
      "\\begin{tabular}{llllll}\n",
      "\\toprule\n",
      " & \\multicolumn{5}{r}{value} \\\\\n",
      "method & Before elimination & SHAP & YODO & gradation BN & random \\\\\n",
      "metric &  &  &  &  &  \\\\\n",
      "\\midrule\n",
      "$R^2$-score & 50.782976 & 50.883319 & 50.883858 & 50.917988 & 50.740377 \\\\\n",
      "MAPE score & 16.181556 & 16.137937 & 16.141510 & 16.215501 & 16.195845 \\\\\n",
      "\\bottomrule\n",
      "\\end{tabular}\n",
      "\n"
     ]
    }
   ],
   "source": [
    "print(res_test_tbl_2.to_latex())"
   ]
  },
  {
   "cell_type": "code",
   "execution_count": 142,
   "metadata": {},
   "outputs": [
    {
     "data": {
      "text/plain": [
       "0.2100764607582261"
      ]
     },
     "execution_count": 142,
     "metadata": {},
     "output_type": "execute_result"
    }
   ],
   "source": [
    "avg_prcnt_change(stats_res['metrics_test'], 'bn', 'init', 0)#['MAPE score', '$R^2$-score']"
   ]
  },
  {
   "cell_type": "code",
   "execution_count": 143,
   "metadata": {},
   "outputs": [
    {
     "data": {
      "text/plain": [
       "-0.26937294820647073"
      ]
     },
     "execution_count": 143,
     "metadata": {},
     "output_type": "execute_result"
    }
   ],
   "source": [
    "avg_prcnt_change(stats_res['metrics_test'], 'bn', 'init', 1, -1)#['MAPE score', '$R^2$-score']"
   ]
  },
  {
   "cell_type": "code",
   "execution_count": 144,
   "metadata": {},
   "outputs": [
    {
     "data": {
      "text/plain": [
       "TtestResult(statistic=5.144309428117122, pvalue=5.443539461159072e-07, df=249)"
      ]
     },
     "execution_count": 144,
     "metadata": {},
     "output_type": "execute_result"
    }
   ],
   "source": [
    "ttest_rel(stats_res['metrics_test']['bn'][0], stats_res['metrics_test']['init'][0])"
   ]
  },
  {
   "cell_type": "code",
   "execution_count": 145,
   "metadata": {},
   "outputs": [
    {
     "data": {
      "text/plain": [
       "TtestResult(statistic=2.7511220911709673, pvalue=0.006375435596537772, df=249)"
      ]
     },
     "execution_count": 145,
     "metadata": {},
     "output_type": "execute_result"
    }
   ],
   "source": [
    "ttest_rel(stats_res['metrics_test']['bn'][1], stats_res['metrics_test']['init'][1])"
   ]
  },
  {
   "cell_type": "code",
   "execution_count": null,
   "metadata": {},
   "outputs": [],
   "source": []
  }
 ],
 "metadata": {
  "kernelspec": {
   "display_name": "venv",
   "language": "python",
   "name": "python3"
  },
  "language_info": {
   "codemirror_mode": {
    "name": "ipython",
    "version": 3
   },
   "file_extension": ".py",
   "mimetype": "text/x-python",
   "name": "python",
   "nbconvert_exporter": "python",
   "pygments_lexer": "ipython3",
   "version": "3.10.11"
  }
 },
 "nbformat": 4,
 "nbformat_minor": 0
}
