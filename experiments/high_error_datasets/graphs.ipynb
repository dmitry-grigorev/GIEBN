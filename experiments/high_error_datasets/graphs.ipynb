{
 "cells": [
  {
   "cell_type": "code",
   "execution_count": 2,
   "id": "initial_id",
   "metadata": {
    "collapsed": true,
    "ExecuteTime": {
     "end_time": "2024-01-23T03:49:54.965518200Z",
     "start_time": "2024-01-23T03:49:54.926520300Z"
    }
   },
   "outputs": [],
   "source": [
    "import pandas as pd\n",
    "import seaborn as sn"
   ]
  },
  {
   "cell_type": "code",
   "execution_count": 11,
   "outputs": [],
   "source": [
    "df1 = pd.read_csv(\"classif_abalone_synth.csv\")\n",
    "df1 = df1.drop(columns=['Unnamed: 0'])"
   ],
   "metadata": {
    "collapsed": false,
    "ExecuteTime": {
     "end_time": "2024-01-23T04:06:59.908290700Z",
     "start_time": "2024-01-23T04:06:59.861305400Z"
    }
   },
   "id": "7543c4ec44bb1da"
  },
  {
   "cell_type": "code",
   "execution_count": 13,
   "outputs": [],
   "source": [
    "df2 = pd.read_csv(\"classif_diabetes_synth.csv\")\n",
    "df2 = df2.drop(columns=['Unnamed: 0'])"
   ],
   "metadata": {
    "collapsed": false,
    "ExecuteTime": {
     "end_time": "2024-01-23T04:07:15.224802300Z",
     "start_time": "2024-01-23T04:07:15.164429600Z"
    }
   },
   "id": "6237994722353708"
  },
  {
   "cell_type": "code",
   "execution_count": 47,
   "outputs": [],
   "source": [
    "df3 = pd.read_csv(\"classif_credit_synth.csv\")\n",
    "df3 = df3.drop(columns=['Unnamed: 0'])"
   ],
   "metadata": {
    "collapsed": false,
    "ExecuteTime": {
     "end_time": "2024-01-24T22:57:48.840770900Z",
     "start_time": "2024-01-24T22:57:48.697747900Z"
    }
   },
   "id": "103a3ee00b018492"
  },
  {
   "cell_type": "code",
   "execution_count": 14,
   "outputs": [
    {
     "data": {
      "text/plain": "    low_frac  high_frac\n0   0.446809   0.555556\n1   0.441379   0.561644\n2   0.419580   0.538462\n3   0.455172   0.589041\n4   0.378378   0.580000\n5   0.398601   0.585034\n6   0.434483   0.533784\n7   0.394366   0.441379\n8   0.408163   0.586207\n9   0.429577   0.447552\n10  0.372414   0.578231\n11  0.321678   0.533784\n12  0.471831   0.517007\n13  0.380282   0.539568\n14  0.451389   0.479167\n15  0.402778   0.547297\n16  0.417808   0.589041\n17  0.478873   0.567568\n18  0.370629   0.520833\n19  0.333333   0.547945\n20  0.405594   0.545455\n21  0.506757   0.549296\n22  0.451389   0.562500\n23  0.517241   0.618056\n24  0.421429   0.569444\n25  0.394558   0.604027\n26  0.486111   0.571429\n27  0.404110   0.500000\n28  0.496552   0.609589\n29  0.465753   0.559441\n30  0.377622   0.517730\n31  0.420690   0.523810\n32  0.423611   0.496552\n33  0.446809   0.489796\n34  0.395833   0.571429\n35  0.454545   0.566434\n36  0.375000   0.537931\n37  0.412587   0.569444\n38  0.355072   0.608696\n39  0.312057   0.608392\n40  0.472222   0.566434\n41  0.475862   0.537415\n42  0.482517   0.534247\n43  0.395683   0.577465\n44  0.465278   0.564626\n45  0.400000   0.510067\n46  0.410448   0.492857\n47  0.433566   0.510067\n48  0.454545   0.479730\n49  0.410959   0.516779",
      "text/html": "<div>\n<style scoped>\n    .dataframe tbody tr th:only-of-type {\n        vertical-align: middle;\n    }\n\n    .dataframe tbody tr th {\n        vertical-align: top;\n    }\n\n    .dataframe thead th {\n        text-align: right;\n    }\n</style>\n<table border=\"1\" class=\"dataframe\">\n  <thead>\n    <tr style=\"text-align: right;\">\n      <th></th>\n      <th>low_frac</th>\n      <th>high_frac</th>\n    </tr>\n  </thead>\n  <tbody>\n    <tr>\n      <th>0</th>\n      <td>0.446809</td>\n      <td>0.555556</td>\n    </tr>\n    <tr>\n      <th>1</th>\n      <td>0.441379</td>\n      <td>0.561644</td>\n    </tr>\n    <tr>\n      <th>2</th>\n      <td>0.419580</td>\n      <td>0.538462</td>\n    </tr>\n    <tr>\n      <th>3</th>\n      <td>0.455172</td>\n      <td>0.589041</td>\n    </tr>\n    <tr>\n      <th>4</th>\n      <td>0.378378</td>\n      <td>0.580000</td>\n    </tr>\n    <tr>\n      <th>5</th>\n      <td>0.398601</td>\n      <td>0.585034</td>\n    </tr>\n    <tr>\n      <th>6</th>\n      <td>0.434483</td>\n      <td>0.533784</td>\n    </tr>\n    <tr>\n      <th>7</th>\n      <td>0.394366</td>\n      <td>0.441379</td>\n    </tr>\n    <tr>\n      <th>8</th>\n      <td>0.408163</td>\n      <td>0.586207</td>\n    </tr>\n    <tr>\n      <th>9</th>\n      <td>0.429577</td>\n      <td>0.447552</td>\n    </tr>\n    <tr>\n      <th>10</th>\n      <td>0.372414</td>\n      <td>0.578231</td>\n    </tr>\n    <tr>\n      <th>11</th>\n      <td>0.321678</td>\n      <td>0.533784</td>\n    </tr>\n    <tr>\n      <th>12</th>\n      <td>0.471831</td>\n      <td>0.517007</td>\n    </tr>\n    <tr>\n      <th>13</th>\n      <td>0.380282</td>\n      <td>0.539568</td>\n    </tr>\n    <tr>\n      <th>14</th>\n      <td>0.451389</td>\n      <td>0.479167</td>\n    </tr>\n    <tr>\n      <th>15</th>\n      <td>0.402778</td>\n      <td>0.547297</td>\n    </tr>\n    <tr>\n      <th>16</th>\n      <td>0.417808</td>\n      <td>0.589041</td>\n    </tr>\n    <tr>\n      <th>17</th>\n      <td>0.478873</td>\n      <td>0.567568</td>\n    </tr>\n    <tr>\n      <th>18</th>\n      <td>0.370629</td>\n      <td>0.520833</td>\n    </tr>\n    <tr>\n      <th>19</th>\n      <td>0.333333</td>\n      <td>0.547945</td>\n    </tr>\n    <tr>\n      <th>20</th>\n      <td>0.405594</td>\n      <td>0.545455</td>\n    </tr>\n    <tr>\n      <th>21</th>\n      <td>0.506757</td>\n      <td>0.549296</td>\n    </tr>\n    <tr>\n      <th>22</th>\n      <td>0.451389</td>\n      <td>0.562500</td>\n    </tr>\n    <tr>\n      <th>23</th>\n      <td>0.517241</td>\n      <td>0.618056</td>\n    </tr>\n    <tr>\n      <th>24</th>\n      <td>0.421429</td>\n      <td>0.569444</td>\n    </tr>\n    <tr>\n      <th>25</th>\n      <td>0.394558</td>\n      <td>0.604027</td>\n    </tr>\n    <tr>\n      <th>26</th>\n      <td>0.486111</td>\n      <td>0.571429</td>\n    </tr>\n    <tr>\n      <th>27</th>\n      <td>0.404110</td>\n      <td>0.500000</td>\n    </tr>\n    <tr>\n      <th>28</th>\n      <td>0.496552</td>\n      <td>0.609589</td>\n    </tr>\n    <tr>\n      <th>29</th>\n      <td>0.465753</td>\n      <td>0.559441</td>\n    </tr>\n    <tr>\n      <th>30</th>\n      <td>0.377622</td>\n      <td>0.517730</td>\n    </tr>\n    <tr>\n      <th>31</th>\n      <td>0.420690</td>\n      <td>0.523810</td>\n    </tr>\n    <tr>\n      <th>32</th>\n      <td>0.423611</td>\n      <td>0.496552</td>\n    </tr>\n    <tr>\n      <th>33</th>\n      <td>0.446809</td>\n      <td>0.489796</td>\n    </tr>\n    <tr>\n      <th>34</th>\n      <td>0.395833</td>\n      <td>0.571429</td>\n    </tr>\n    <tr>\n      <th>35</th>\n      <td>0.454545</td>\n      <td>0.566434</td>\n    </tr>\n    <tr>\n      <th>36</th>\n      <td>0.375000</td>\n      <td>0.537931</td>\n    </tr>\n    <tr>\n      <th>37</th>\n      <td>0.412587</td>\n      <td>0.569444</td>\n    </tr>\n    <tr>\n      <th>38</th>\n      <td>0.355072</td>\n      <td>0.608696</td>\n    </tr>\n    <tr>\n      <th>39</th>\n      <td>0.312057</td>\n      <td>0.608392</td>\n    </tr>\n    <tr>\n      <th>40</th>\n      <td>0.472222</td>\n      <td>0.566434</td>\n    </tr>\n    <tr>\n      <th>41</th>\n      <td>0.475862</td>\n      <td>0.537415</td>\n    </tr>\n    <tr>\n      <th>42</th>\n      <td>0.482517</td>\n      <td>0.534247</td>\n    </tr>\n    <tr>\n      <th>43</th>\n      <td>0.395683</td>\n      <td>0.577465</td>\n    </tr>\n    <tr>\n      <th>44</th>\n      <td>0.465278</td>\n      <td>0.564626</td>\n    </tr>\n    <tr>\n      <th>45</th>\n      <td>0.400000</td>\n      <td>0.510067</td>\n    </tr>\n    <tr>\n      <th>46</th>\n      <td>0.410448</td>\n      <td>0.492857</td>\n    </tr>\n    <tr>\n      <th>47</th>\n      <td>0.433566</td>\n      <td>0.510067</td>\n    </tr>\n    <tr>\n      <th>48</th>\n      <td>0.454545</td>\n      <td>0.479730</td>\n    </tr>\n    <tr>\n      <th>49</th>\n      <td>0.410959</td>\n      <td>0.516779</td>\n    </tr>\n  </tbody>\n</table>\n</div>"
     },
     "execution_count": 14,
     "metadata": {},
     "output_type": "execute_result"
    }
   ],
   "source": [
    "df2"
   ],
   "metadata": {
    "collapsed": false,
    "ExecuteTime": {
     "end_time": "2024-01-23T04:07:16.168013200Z",
     "start_time": "2024-01-23T04:07:16.105014700Z"
    }
   },
   "id": "69c37b1aaf9a076e"
  },
  {
   "cell_type": "code",
   "execution_count": 8,
   "outputs": [
    {
     "data": {
      "text/plain": "    low_frac  high_frac\n0   0.331570   0.717314\n1   0.320988   0.691358\n2   0.278660   0.710758\n3   0.335097   0.717813\n4   0.308642   0.715044\n5   0.269841   0.686067\n6   0.253968   0.698413\n7   0.301587   0.687831\n8   0.301587   0.705467\n9   0.302120   0.687831\n10  0.308642   0.728395\n11  0.317460   0.691358\n12  0.266784   0.714286\n13  0.315697   0.691358\n14  0.289242   0.749559\n15  0.294533   0.690813\n16  0.326279   0.687831\n17  0.303887   0.654321\n18  0.292769   0.673145\n19  0.314488   0.716049\n20  0.312169   0.701940\n21  0.363316   0.714286\n22  0.287986   0.731922\n23  0.291005   0.721340\n24  0.320988   0.715548\n25  0.347443   0.690813\n26  0.270318   0.714286\n27  0.289242   0.687279\n28  0.293286   0.728395\n29  0.285714   0.714286\n30  0.308642   0.691358\n31  0.275132   0.703704\n32  0.289753   0.698413\n33  0.294533   0.698413\n34  0.305115   0.731922\n35  0.310406   0.694346\n36  0.310406   0.664903\n37  0.296296   0.679012\n38  0.292769   0.700176\n39  0.308642   0.723104\n40  0.306878   0.680776\n41  0.317460   0.705467\n42  0.342756   0.727915\n43  0.280423   0.684303\n44  0.292769   0.710758\n45  0.293286   0.703704\n46  0.294533   0.679012\n47  0.320988   0.687831\n48  0.310406   0.675485\n49  0.312169   0.731922",
      "text/html": "<div>\n<style scoped>\n    .dataframe tbody tr th:only-of-type {\n        vertical-align: middle;\n    }\n\n    .dataframe tbody tr th {\n        vertical-align: top;\n    }\n\n    .dataframe thead th {\n        text-align: right;\n    }\n</style>\n<table border=\"1\" class=\"dataframe\">\n  <thead>\n    <tr style=\"text-align: right;\">\n      <th></th>\n      <th>low_frac</th>\n      <th>high_frac</th>\n    </tr>\n  </thead>\n  <tbody>\n    <tr>\n      <th>0</th>\n      <td>0.331570</td>\n      <td>0.717314</td>\n    </tr>\n    <tr>\n      <th>1</th>\n      <td>0.320988</td>\n      <td>0.691358</td>\n    </tr>\n    <tr>\n      <th>2</th>\n      <td>0.278660</td>\n      <td>0.710758</td>\n    </tr>\n    <tr>\n      <th>3</th>\n      <td>0.335097</td>\n      <td>0.717813</td>\n    </tr>\n    <tr>\n      <th>4</th>\n      <td>0.308642</td>\n      <td>0.715044</td>\n    </tr>\n    <tr>\n      <th>5</th>\n      <td>0.269841</td>\n      <td>0.686067</td>\n    </tr>\n    <tr>\n      <th>6</th>\n      <td>0.253968</td>\n      <td>0.698413</td>\n    </tr>\n    <tr>\n      <th>7</th>\n      <td>0.301587</td>\n      <td>0.687831</td>\n    </tr>\n    <tr>\n      <th>8</th>\n      <td>0.301587</td>\n      <td>0.705467</td>\n    </tr>\n    <tr>\n      <th>9</th>\n      <td>0.302120</td>\n      <td>0.687831</td>\n    </tr>\n    <tr>\n      <th>10</th>\n      <td>0.308642</td>\n      <td>0.728395</td>\n    </tr>\n    <tr>\n      <th>11</th>\n      <td>0.317460</td>\n      <td>0.691358</td>\n    </tr>\n    <tr>\n      <th>12</th>\n      <td>0.266784</td>\n      <td>0.714286</td>\n    </tr>\n    <tr>\n      <th>13</th>\n      <td>0.315697</td>\n      <td>0.691358</td>\n    </tr>\n    <tr>\n      <th>14</th>\n      <td>0.289242</td>\n      <td>0.749559</td>\n    </tr>\n    <tr>\n      <th>15</th>\n      <td>0.294533</td>\n      <td>0.690813</td>\n    </tr>\n    <tr>\n      <th>16</th>\n      <td>0.326279</td>\n      <td>0.687831</td>\n    </tr>\n    <tr>\n      <th>17</th>\n      <td>0.303887</td>\n      <td>0.654321</td>\n    </tr>\n    <tr>\n      <th>18</th>\n      <td>0.292769</td>\n      <td>0.673145</td>\n    </tr>\n    <tr>\n      <th>19</th>\n      <td>0.314488</td>\n      <td>0.716049</td>\n    </tr>\n    <tr>\n      <th>20</th>\n      <td>0.312169</td>\n      <td>0.701940</td>\n    </tr>\n    <tr>\n      <th>21</th>\n      <td>0.363316</td>\n      <td>0.714286</td>\n    </tr>\n    <tr>\n      <th>22</th>\n      <td>0.287986</td>\n      <td>0.731922</td>\n    </tr>\n    <tr>\n      <th>23</th>\n      <td>0.291005</td>\n      <td>0.721340</td>\n    </tr>\n    <tr>\n      <th>24</th>\n      <td>0.320988</td>\n      <td>0.715548</td>\n    </tr>\n    <tr>\n      <th>25</th>\n      <td>0.347443</td>\n      <td>0.690813</td>\n    </tr>\n    <tr>\n      <th>26</th>\n      <td>0.270318</td>\n      <td>0.714286</td>\n    </tr>\n    <tr>\n      <th>27</th>\n      <td>0.289242</td>\n      <td>0.687279</td>\n    </tr>\n    <tr>\n      <th>28</th>\n      <td>0.293286</td>\n      <td>0.728395</td>\n    </tr>\n    <tr>\n      <th>29</th>\n      <td>0.285714</td>\n      <td>0.714286</td>\n    </tr>\n    <tr>\n      <th>30</th>\n      <td>0.308642</td>\n      <td>0.691358</td>\n    </tr>\n    <tr>\n      <th>31</th>\n      <td>0.275132</td>\n      <td>0.703704</td>\n    </tr>\n    <tr>\n      <th>32</th>\n      <td>0.289753</td>\n      <td>0.698413</td>\n    </tr>\n    <tr>\n      <th>33</th>\n      <td>0.294533</td>\n      <td>0.698413</td>\n    </tr>\n    <tr>\n      <th>34</th>\n      <td>0.305115</td>\n      <td>0.731922</td>\n    </tr>\n    <tr>\n      <th>35</th>\n      <td>0.310406</td>\n      <td>0.694346</td>\n    </tr>\n    <tr>\n      <th>36</th>\n      <td>0.310406</td>\n      <td>0.664903</td>\n    </tr>\n    <tr>\n      <th>37</th>\n      <td>0.296296</td>\n      <td>0.679012</td>\n    </tr>\n    <tr>\n      <th>38</th>\n      <td>0.292769</td>\n      <td>0.700176</td>\n    </tr>\n    <tr>\n      <th>39</th>\n      <td>0.308642</td>\n      <td>0.723104</td>\n    </tr>\n    <tr>\n      <th>40</th>\n      <td>0.306878</td>\n      <td>0.680776</td>\n    </tr>\n    <tr>\n      <th>41</th>\n      <td>0.317460</td>\n      <td>0.705467</td>\n    </tr>\n    <tr>\n      <th>42</th>\n      <td>0.342756</td>\n      <td>0.727915</td>\n    </tr>\n    <tr>\n      <th>43</th>\n      <td>0.280423</td>\n      <td>0.684303</td>\n    </tr>\n    <tr>\n      <th>44</th>\n      <td>0.292769</td>\n      <td>0.710758</td>\n    </tr>\n    <tr>\n      <th>45</th>\n      <td>0.293286</td>\n      <td>0.703704</td>\n    </tr>\n    <tr>\n      <th>46</th>\n      <td>0.294533</td>\n      <td>0.679012</td>\n    </tr>\n    <tr>\n      <th>47</th>\n      <td>0.320988</td>\n      <td>0.687831</td>\n    </tr>\n    <tr>\n      <th>48</th>\n      <td>0.310406</td>\n      <td>0.675485</td>\n    </tr>\n    <tr>\n      <th>49</th>\n      <td>0.312169</td>\n      <td>0.731922</td>\n    </tr>\n  </tbody>\n</table>\n</div>"
     },
     "execution_count": 8,
     "metadata": {},
     "output_type": "execute_result"
    }
   ],
   "source": [
    "df1"
   ],
   "metadata": {
    "collapsed": false,
    "ExecuteTime": {
     "end_time": "2024-01-23T04:03:19.080777300Z",
     "start_time": "2024-01-23T04:03:19.019944300Z"
    }
   },
   "id": "e260da294ca8261b"
  },
  {
   "cell_type": "code",
   "execution_count": 30,
   "outputs": [
    {
     "data": {
      "text/plain": "Empty DataFrame\nColumns: [Frequency, Level]\nIndex: []",
      "text/html": "<div>\n<style scoped>\n    .dataframe tbody tr th:only-of-type {\n        vertical-align: middle;\n    }\n\n    .dataframe tbody tr th {\n        vertical-align: top;\n    }\n\n    .dataframe thead th {\n        text-align: right;\n    }\n</style>\n<table border=\"1\" class=\"dataframe\">\n  <thead>\n    <tr style=\"text-align: right;\">\n      <th></th>\n      <th>Frequency</th>\n      <th>Level</th>\n    </tr>\n  </thead>\n  <tbody>\n  </tbody>\n</table>\n</div>"
     },
     "execution_count": 30,
     "metadata": {},
     "output_type": "execute_result"
    }
   ],
   "source": [
    "df11"
   ],
   "metadata": {
    "collapsed": false,
    "ExecuteTime": {
     "end_time": "2024-01-23T04:17:40.861710400Z",
     "start_time": "2024-01-23T04:17:40.792519500Z"
    }
   },
   "id": "f5422c7de814b387"
  },
  {
   "cell_type": "code",
   "execution_count": 32,
   "outputs": [
    {
     "data": {
      "text/plain": "    Frequency\n0    0.331570\n1    0.320988\n2    0.278660\n3    0.335097\n4    0.308642\n5    0.269841\n6    0.253968\n7    0.301587\n8    0.301587\n9    0.302120\n10   0.308642\n11   0.317460\n12   0.266784\n13   0.315697\n14   0.289242\n15   0.294533\n16   0.326279\n17   0.303887\n18   0.292769\n19   0.314488\n20   0.312169\n21   0.363316\n22   0.287986\n23   0.291005\n24   0.320988\n25   0.347443\n26   0.270318\n27   0.289242\n28   0.293286\n29   0.285714\n30   0.308642\n31   0.275132\n32   0.289753\n33   0.294533\n34   0.305115\n35   0.310406\n36   0.310406\n37   0.296296\n38   0.292769\n39   0.308642\n40   0.306878\n41   0.317460\n42   0.342756\n43   0.280423\n44   0.292769\n45   0.293286\n46   0.294533\n47   0.320988\n48   0.310406\n49   0.312169",
      "text/html": "<div>\n<style scoped>\n    .dataframe tbody tr th:only-of-type {\n        vertical-align: middle;\n    }\n\n    .dataframe tbody tr th {\n        vertical-align: top;\n    }\n\n    .dataframe thead th {\n        text-align: right;\n    }\n</style>\n<table border=\"1\" class=\"dataframe\">\n  <thead>\n    <tr style=\"text-align: right;\">\n      <th></th>\n      <th>Frequency</th>\n    </tr>\n  </thead>\n  <tbody>\n    <tr>\n      <th>0</th>\n      <td>0.331570</td>\n    </tr>\n    <tr>\n      <th>1</th>\n      <td>0.320988</td>\n    </tr>\n    <tr>\n      <th>2</th>\n      <td>0.278660</td>\n    </tr>\n    <tr>\n      <th>3</th>\n      <td>0.335097</td>\n    </tr>\n    <tr>\n      <th>4</th>\n      <td>0.308642</td>\n    </tr>\n    <tr>\n      <th>5</th>\n      <td>0.269841</td>\n    </tr>\n    <tr>\n      <th>6</th>\n      <td>0.253968</td>\n    </tr>\n    <tr>\n      <th>7</th>\n      <td>0.301587</td>\n    </tr>\n    <tr>\n      <th>8</th>\n      <td>0.301587</td>\n    </tr>\n    <tr>\n      <th>9</th>\n      <td>0.302120</td>\n    </tr>\n    <tr>\n      <th>10</th>\n      <td>0.308642</td>\n    </tr>\n    <tr>\n      <th>11</th>\n      <td>0.317460</td>\n    </tr>\n    <tr>\n      <th>12</th>\n      <td>0.266784</td>\n    </tr>\n    <tr>\n      <th>13</th>\n      <td>0.315697</td>\n    </tr>\n    <tr>\n      <th>14</th>\n      <td>0.289242</td>\n    </tr>\n    <tr>\n      <th>15</th>\n      <td>0.294533</td>\n    </tr>\n    <tr>\n      <th>16</th>\n      <td>0.326279</td>\n    </tr>\n    <tr>\n      <th>17</th>\n      <td>0.303887</td>\n    </tr>\n    <tr>\n      <th>18</th>\n      <td>0.292769</td>\n    </tr>\n    <tr>\n      <th>19</th>\n      <td>0.314488</td>\n    </tr>\n    <tr>\n      <th>20</th>\n      <td>0.312169</td>\n    </tr>\n    <tr>\n      <th>21</th>\n      <td>0.363316</td>\n    </tr>\n    <tr>\n      <th>22</th>\n      <td>0.287986</td>\n    </tr>\n    <tr>\n      <th>23</th>\n      <td>0.291005</td>\n    </tr>\n    <tr>\n      <th>24</th>\n      <td>0.320988</td>\n    </tr>\n    <tr>\n      <th>25</th>\n      <td>0.347443</td>\n    </tr>\n    <tr>\n      <th>26</th>\n      <td>0.270318</td>\n    </tr>\n    <tr>\n      <th>27</th>\n      <td>0.289242</td>\n    </tr>\n    <tr>\n      <th>28</th>\n      <td>0.293286</td>\n    </tr>\n    <tr>\n      <th>29</th>\n      <td>0.285714</td>\n    </tr>\n    <tr>\n      <th>30</th>\n      <td>0.308642</td>\n    </tr>\n    <tr>\n      <th>31</th>\n      <td>0.275132</td>\n    </tr>\n    <tr>\n      <th>32</th>\n      <td>0.289753</td>\n    </tr>\n    <tr>\n      <th>33</th>\n      <td>0.294533</td>\n    </tr>\n    <tr>\n      <th>34</th>\n      <td>0.305115</td>\n    </tr>\n    <tr>\n      <th>35</th>\n      <td>0.310406</td>\n    </tr>\n    <tr>\n      <th>36</th>\n      <td>0.310406</td>\n    </tr>\n    <tr>\n      <th>37</th>\n      <td>0.296296</td>\n    </tr>\n    <tr>\n      <th>38</th>\n      <td>0.292769</td>\n    </tr>\n    <tr>\n      <th>39</th>\n      <td>0.308642</td>\n    </tr>\n    <tr>\n      <th>40</th>\n      <td>0.306878</td>\n    </tr>\n    <tr>\n      <th>41</th>\n      <td>0.317460</td>\n    </tr>\n    <tr>\n      <th>42</th>\n      <td>0.342756</td>\n    </tr>\n    <tr>\n      <th>43</th>\n      <td>0.280423</td>\n    </tr>\n    <tr>\n      <th>44</th>\n      <td>0.292769</td>\n    </tr>\n    <tr>\n      <th>45</th>\n      <td>0.293286</td>\n    </tr>\n    <tr>\n      <th>46</th>\n      <td>0.294533</td>\n    </tr>\n    <tr>\n      <th>47</th>\n      <td>0.320988</td>\n    </tr>\n    <tr>\n      <th>48</th>\n      <td>0.310406</td>\n    </tr>\n    <tr>\n      <th>49</th>\n      <td>0.312169</td>\n    </tr>\n  </tbody>\n</table>\n</div>"
     },
     "execution_count": 32,
     "metadata": {},
     "output_type": "execute_result"
    }
   ],
   "source": [
    "pd.DataFrame(df1['low_frac'].values, columns=['Frequency'])"
   ],
   "metadata": {
    "collapsed": false,
    "ExecuteTime": {
     "end_time": "2024-01-23T04:18:54.840430500Z",
     "start_time": "2024-01-23T04:18:54.772430300Z"
    }
   },
   "id": "7fb678a274421e72"
  },
  {
   "cell_type": "code",
   "execution_count": 39,
   "outputs": [
    {
     "data": {
      "text/plain": "    Frequency Level  Dataset\n0    0.331570   Low  abalone\n1    0.320988   Low  abalone\n2    0.278660   Low  abalone\n3    0.335097   Low  abalone\n4    0.308642   Low  abalone\n..        ...   ...      ...\n45   0.703704  High  abalone\n46   0.679012  High  abalone\n47   0.687831  High  abalone\n48   0.675485  High  abalone\n49   0.731922  High  abalone\n\n[100 rows x 3 columns]",
      "text/html": "<div>\n<style scoped>\n    .dataframe tbody tr th:only-of-type {\n        vertical-align: middle;\n    }\n\n    .dataframe tbody tr th {\n        vertical-align: top;\n    }\n\n    .dataframe thead th {\n        text-align: right;\n    }\n</style>\n<table border=\"1\" class=\"dataframe\">\n  <thead>\n    <tr style=\"text-align: right;\">\n      <th></th>\n      <th>Frequency</th>\n      <th>Level</th>\n      <th>Dataset</th>\n    </tr>\n  </thead>\n  <tbody>\n    <tr>\n      <th>0</th>\n      <td>0.331570</td>\n      <td>Low</td>\n      <td>abalone</td>\n    </tr>\n    <tr>\n      <th>1</th>\n      <td>0.320988</td>\n      <td>Low</td>\n      <td>abalone</td>\n    </tr>\n    <tr>\n      <th>2</th>\n      <td>0.278660</td>\n      <td>Low</td>\n      <td>abalone</td>\n    </tr>\n    <tr>\n      <th>3</th>\n      <td>0.335097</td>\n      <td>Low</td>\n      <td>abalone</td>\n    </tr>\n    <tr>\n      <th>4</th>\n      <td>0.308642</td>\n      <td>Low</td>\n      <td>abalone</td>\n    </tr>\n    <tr>\n      <th>...</th>\n      <td>...</td>\n      <td>...</td>\n      <td>...</td>\n    </tr>\n    <tr>\n      <th>45</th>\n      <td>0.703704</td>\n      <td>High</td>\n      <td>abalone</td>\n    </tr>\n    <tr>\n      <th>46</th>\n      <td>0.679012</td>\n      <td>High</td>\n      <td>abalone</td>\n    </tr>\n    <tr>\n      <th>47</th>\n      <td>0.687831</td>\n      <td>High</td>\n      <td>abalone</td>\n    </tr>\n    <tr>\n      <th>48</th>\n      <td>0.675485</td>\n      <td>High</td>\n      <td>abalone</td>\n    </tr>\n    <tr>\n      <th>49</th>\n      <td>0.731922</td>\n      <td>High</td>\n      <td>abalone</td>\n    </tr>\n  </tbody>\n</table>\n<p>100 rows × 3 columns</p>\n</div>"
     },
     "execution_count": 39,
     "metadata": {},
     "output_type": "execute_result"
    }
   ],
   "source": [
    "df11 = pd.DataFrame(df1['low_frac'].values, columns=['Frequency'])\n",
    "df11['Level'] = \"Low\"\n",
    "\n",
    "df12 = pd.DataFrame(df1['high_frac'].values, columns=['Frequency'])\n",
    "df12['Level'] = \"High\"\n",
    "\n",
    "df1o = pd.concat([df11, df12])\n",
    "df1o['Dataset'] = 'abalone'\n",
    "df1o"
   ],
   "metadata": {
    "collapsed": false,
    "ExecuteTime": {
     "end_time": "2024-01-23T04:21:27.600562300Z",
     "start_time": "2024-01-23T04:21:27.552099200Z"
    }
   },
   "id": "7bf96b36fe4bb1f2"
  },
  {
   "cell_type": "code",
   "execution_count": 40,
   "outputs": [
    {
     "data": {
      "text/plain": "    Frequency Level   Dataset\n0    0.446809   Low  diabetes\n1    0.441379   Low  diabetes\n2    0.419580   Low  diabetes\n3    0.455172   Low  diabetes\n4    0.378378   Low  diabetes\n..        ...   ...       ...\n45   0.510067  High  diabetes\n46   0.492857  High  diabetes\n47   0.510067  High  diabetes\n48   0.479730  High  diabetes\n49   0.516779  High  diabetes\n\n[100 rows x 3 columns]",
      "text/html": "<div>\n<style scoped>\n    .dataframe tbody tr th:only-of-type {\n        vertical-align: middle;\n    }\n\n    .dataframe tbody tr th {\n        vertical-align: top;\n    }\n\n    .dataframe thead th {\n        text-align: right;\n    }\n</style>\n<table border=\"1\" class=\"dataframe\">\n  <thead>\n    <tr style=\"text-align: right;\">\n      <th></th>\n      <th>Frequency</th>\n      <th>Level</th>\n      <th>Dataset</th>\n    </tr>\n  </thead>\n  <tbody>\n    <tr>\n      <th>0</th>\n      <td>0.446809</td>\n      <td>Low</td>\n      <td>diabetes</td>\n    </tr>\n    <tr>\n      <th>1</th>\n      <td>0.441379</td>\n      <td>Low</td>\n      <td>diabetes</td>\n    </tr>\n    <tr>\n      <th>2</th>\n      <td>0.419580</td>\n      <td>Low</td>\n      <td>diabetes</td>\n    </tr>\n    <tr>\n      <th>3</th>\n      <td>0.455172</td>\n      <td>Low</td>\n      <td>diabetes</td>\n    </tr>\n    <tr>\n      <th>4</th>\n      <td>0.378378</td>\n      <td>Low</td>\n      <td>diabetes</td>\n    </tr>\n    <tr>\n      <th>...</th>\n      <td>...</td>\n      <td>...</td>\n      <td>...</td>\n    </tr>\n    <tr>\n      <th>45</th>\n      <td>0.510067</td>\n      <td>High</td>\n      <td>diabetes</td>\n    </tr>\n    <tr>\n      <th>46</th>\n      <td>0.492857</td>\n      <td>High</td>\n      <td>diabetes</td>\n    </tr>\n    <tr>\n      <th>47</th>\n      <td>0.510067</td>\n      <td>High</td>\n      <td>diabetes</td>\n    </tr>\n    <tr>\n      <th>48</th>\n      <td>0.479730</td>\n      <td>High</td>\n      <td>diabetes</td>\n    </tr>\n    <tr>\n      <th>49</th>\n      <td>0.516779</td>\n      <td>High</td>\n      <td>diabetes</td>\n    </tr>\n  </tbody>\n</table>\n<p>100 rows × 3 columns</p>\n</div>"
     },
     "execution_count": 40,
     "metadata": {},
     "output_type": "execute_result"
    }
   ],
   "source": [
    "df21 = pd.DataFrame(df2['low_frac'].values, columns=['Frequency'])\n",
    "df21['Level'] = \"Low\"\n",
    "\n",
    "df22 = pd.DataFrame(df2['high_frac'].values, columns=['Frequency'])\n",
    "df22['Level'] = \"High\"\n",
    "\n",
    "df2o = pd.concat([df21, df22])\n",
    "df2o['Dataset'] = 'diabetes'\n",
    "df2o"
   ],
   "metadata": {
    "collapsed": false,
    "ExecuteTime": {
     "end_time": "2024-01-23T04:21:37.164079100Z",
     "start_time": "2024-01-23T04:21:37.099226200Z"
    }
   },
   "id": "e2fa0bd25ba06af2"
  },
  {
   "cell_type": "code",
   "execution_count": 48,
   "outputs": [
    {
     "data": {
      "text/plain": "    Frequency Level Dataset\n0    0.585313   Low  credit\n1    0.592669   Low  credit\n2    0.602669   Low  credit\n3    0.614652   Low  credit\n4    0.630780   Low  credit\n..        ...   ...     ...\n45   0.881570  High  credit\n46   0.865862  High  credit\n47   0.867142  High  credit\n48   0.871523  High  credit\n49   0.882877  High  credit\n\n[100 rows x 3 columns]",
      "text/html": "<div>\n<style scoped>\n    .dataframe tbody tr th:only-of-type {\n        vertical-align: middle;\n    }\n\n    .dataframe tbody tr th {\n        vertical-align: top;\n    }\n\n    .dataframe thead th {\n        text-align: right;\n    }\n</style>\n<table border=\"1\" class=\"dataframe\">\n  <thead>\n    <tr style=\"text-align: right;\">\n      <th></th>\n      <th>Frequency</th>\n      <th>Level</th>\n      <th>Dataset</th>\n    </tr>\n  </thead>\n  <tbody>\n    <tr>\n      <th>0</th>\n      <td>0.585313</td>\n      <td>Low</td>\n      <td>credit</td>\n    </tr>\n    <tr>\n      <th>1</th>\n      <td>0.592669</td>\n      <td>Low</td>\n      <td>credit</td>\n    </tr>\n    <tr>\n      <th>2</th>\n      <td>0.602669</td>\n      <td>Low</td>\n      <td>credit</td>\n    </tr>\n    <tr>\n      <th>3</th>\n      <td>0.614652</td>\n      <td>Low</td>\n      <td>credit</td>\n    </tr>\n    <tr>\n      <th>4</th>\n      <td>0.630780</td>\n      <td>Low</td>\n      <td>credit</td>\n    </tr>\n    <tr>\n      <th>...</th>\n      <td>...</td>\n      <td>...</td>\n      <td>...</td>\n    </tr>\n    <tr>\n      <th>45</th>\n      <td>0.881570</td>\n      <td>High</td>\n      <td>credit</td>\n    </tr>\n    <tr>\n      <th>46</th>\n      <td>0.865862</td>\n      <td>High</td>\n      <td>credit</td>\n    </tr>\n    <tr>\n      <th>47</th>\n      <td>0.867142</td>\n      <td>High</td>\n      <td>credit</td>\n    </tr>\n    <tr>\n      <th>48</th>\n      <td>0.871523</td>\n      <td>High</td>\n      <td>credit</td>\n    </tr>\n    <tr>\n      <th>49</th>\n      <td>0.882877</td>\n      <td>High</td>\n      <td>credit</td>\n    </tr>\n  </tbody>\n</table>\n<p>100 rows × 3 columns</p>\n</div>"
     },
     "execution_count": 48,
     "metadata": {},
     "output_type": "execute_result"
    }
   ],
   "source": [
    "df31 = pd.DataFrame(df3['low_frac'].values, columns=['Frequency'])\n",
    "df31['Level'] = \"Low\"\n",
    "\n",
    "df32 = pd.DataFrame(df3['high_frac'].values, columns=['Frequency'])\n",
    "df32['Level'] = \"High\"\n",
    "\n",
    "df3o = pd.concat([df31, df32])\n",
    "df3o['Dataset'] = 'credit'\n",
    "df3o"
   ],
   "metadata": {
    "collapsed": false,
    "ExecuteTime": {
     "end_time": "2024-01-24T22:58:29.777950700Z",
     "start_time": "2024-01-24T22:58:29.631326200Z"
    }
   },
   "id": "12235ccb7bab67e0"
  },
  {
   "cell_type": "code",
   "execution_count": 49,
   "outputs": [
    {
     "data": {
      "text/plain": "    Frequency Level  Dataset\n45   0.703704  High  abalone\n46   0.679012  High  abalone\n47   0.687831  High  abalone\n48   0.675485  High  abalone\n49   0.731922  High  abalone",
      "text/html": "<div>\n<style scoped>\n    .dataframe tbody tr th:only-of-type {\n        vertical-align: middle;\n    }\n\n    .dataframe tbody tr th {\n        vertical-align: top;\n    }\n\n    .dataframe thead th {\n        text-align: right;\n    }\n</style>\n<table border=\"1\" class=\"dataframe\">\n  <thead>\n    <tr style=\"text-align: right;\">\n      <th></th>\n      <th>Frequency</th>\n      <th>Level</th>\n      <th>Dataset</th>\n    </tr>\n  </thead>\n  <tbody>\n    <tr>\n      <th>45</th>\n      <td>0.703704</td>\n      <td>High</td>\n      <td>abalone</td>\n    </tr>\n    <tr>\n      <th>46</th>\n      <td>0.679012</td>\n      <td>High</td>\n      <td>abalone</td>\n    </tr>\n    <tr>\n      <th>47</th>\n      <td>0.687831</td>\n      <td>High</td>\n      <td>abalone</td>\n    </tr>\n    <tr>\n      <th>48</th>\n      <td>0.675485</td>\n      <td>High</td>\n      <td>abalone</td>\n    </tr>\n    <tr>\n      <th>49</th>\n      <td>0.731922</td>\n      <td>High</td>\n      <td>abalone</td>\n    </tr>\n  </tbody>\n</table>\n</div>"
     },
     "execution_count": 49,
     "metadata": {},
     "output_type": "execute_result"
    }
   ],
   "source": [
    "df1o.tail()"
   ],
   "metadata": {
    "collapsed": false,
    "ExecuteTime": {
     "end_time": "2024-01-24T22:58:38.816718400Z",
     "start_time": "2024-01-24T22:58:38.517711100Z"
    }
   },
   "id": "33c189353fb42b72"
  },
  {
   "cell_type": "code",
   "execution_count": 50,
   "outputs": [
    {
     "data": {
      "text/plain": "    Frequency Level  Dataset\n0    0.331570   Low  abalone\n1    0.320988   Low  abalone\n2    0.278660   Low  abalone\n3    0.335097   Low  abalone\n4    0.308642   Low  abalone\n..        ...   ...      ...\n45   0.881570  High   credit\n46   0.865862  High   credit\n47   0.867142  High   credit\n48   0.871523  High   credit\n49   0.882877  High   credit\n\n[300 rows x 3 columns]",
      "text/html": "<div>\n<style scoped>\n    .dataframe tbody tr th:only-of-type {\n        vertical-align: middle;\n    }\n\n    .dataframe tbody tr th {\n        vertical-align: top;\n    }\n\n    .dataframe thead th {\n        text-align: right;\n    }\n</style>\n<table border=\"1\" class=\"dataframe\">\n  <thead>\n    <tr style=\"text-align: right;\">\n      <th></th>\n      <th>Frequency</th>\n      <th>Level</th>\n      <th>Dataset</th>\n    </tr>\n  </thead>\n  <tbody>\n    <tr>\n      <th>0</th>\n      <td>0.331570</td>\n      <td>Low</td>\n      <td>abalone</td>\n    </tr>\n    <tr>\n      <th>1</th>\n      <td>0.320988</td>\n      <td>Low</td>\n      <td>abalone</td>\n    </tr>\n    <tr>\n      <th>2</th>\n      <td>0.278660</td>\n      <td>Low</td>\n      <td>abalone</td>\n    </tr>\n    <tr>\n      <th>3</th>\n      <td>0.335097</td>\n      <td>Low</td>\n      <td>abalone</td>\n    </tr>\n    <tr>\n      <th>4</th>\n      <td>0.308642</td>\n      <td>Low</td>\n      <td>abalone</td>\n    </tr>\n    <tr>\n      <th>...</th>\n      <td>...</td>\n      <td>...</td>\n      <td>...</td>\n    </tr>\n    <tr>\n      <th>45</th>\n      <td>0.881570</td>\n      <td>High</td>\n      <td>credit</td>\n    </tr>\n    <tr>\n      <th>46</th>\n      <td>0.865862</td>\n      <td>High</td>\n      <td>credit</td>\n    </tr>\n    <tr>\n      <th>47</th>\n      <td>0.867142</td>\n      <td>High</td>\n      <td>credit</td>\n    </tr>\n    <tr>\n      <th>48</th>\n      <td>0.871523</td>\n      <td>High</td>\n      <td>credit</td>\n    </tr>\n    <tr>\n      <th>49</th>\n      <td>0.882877</td>\n      <td>High</td>\n      <td>credit</td>\n    </tr>\n  </tbody>\n</table>\n<p>300 rows × 3 columns</p>\n</div>"
     },
     "execution_count": 50,
     "metadata": {},
     "output_type": "execute_result"
    }
   ],
   "source": [
    "df = pd.concat([df1o, df2o, df3o], axis=0)\n",
    "df"
   ],
   "metadata": {
    "collapsed": false,
    "ExecuteTime": {
     "end_time": "2024-01-24T22:58:46.388743900Z",
     "start_time": "2024-01-24T22:58:46.150015300Z"
    }
   },
   "id": "b3bf39634ff4604c"
  },
  {
   "cell_type": "code",
   "execution_count": 51,
   "outputs": [
    {
     "data": {
      "text/plain": "<AxesSubplot: >"
     },
     "execution_count": 51,
     "metadata": {},
     "output_type": "execute_result"
    },
    {
     "data": {
      "text/plain": "<Figure size 640x480 with 1 Axes>",
      "image/png": "[encoded data removed]"
     },
     "metadata": {},
     "output_type": "display_data"
    }
   ],
   "source": [
    "sn.boxplot(df, orient='h')"
   ],
   "metadata": {
    "collapsed": false,
    "ExecuteTime": {
     "end_time": "2024-01-24T22:58:50.227982500Z",
     "start_time": "2024-01-24T22:58:49.818368600Z"
    }
   },
   "id": "607f76377498720b"
  },
  {
   "cell_type": "code",
   "execution_count": 55,
   "outputs": [],
   "source": [
    "import matplotlib.pyplot as plt"
   ],
   "metadata": {
    "collapsed": false,
    "ExecuteTime": {
     "end_time": "2024-01-24T23:00:31.353183300Z",
     "start_time": "2024-01-24T23:00:31.210871800Z"
    }
   },
   "id": "4392902c4cdd4743"
  },
  {
   "cell_type": "code",
   "execution_count": 59,
   "outputs": [
    {
     "data": {
      "text/plain": "<AxesSubplot: xlabel='Frequency', ylabel='Dataset'>"
     },
     "execution_count": 59,
     "metadata": {},
     "output_type": "execute_result"
    },
    {
     "data": {
      "text/plain": "<Figure size 960x480 with 1 Axes>",
      "image/png": "[encoded data removed]"
     },
     "metadata": {},
     "output_type": "display_data"
    }
   ],
   "source": [
    "plt.figure(figsize=plt.figaspect(1/2))\n",
    "sn.boxplot(df, orient='h',x='Frequency',  y=\"Dataset\", hue='Level')"
   ],
   "metadata": {
    "collapsed": false,
    "ExecuteTime": {
     "end_time": "2024-01-24T23:00:54.987087300Z",
     "start_time": "2024-01-24T23:00:54.472747600Z"
    }
   },
   "id": "f807686f87ae46e9"
  },
  {
   "cell_type": "code",
   "execution_count": null,
   "outputs": [],
   "source": [],
   "metadata": {
    "collapsed": false
   },
   "id": "8555bb10e93f8abb"
  }
 ],
 "metadata": {
  "kernelspec": {
   "display_name": "Python 3",
   "language": "python",
   "name": "python3"
  },
  "language_info": {
   "codemirror_mode": {
    "name": "ipython",
    "version": 2
   },
   "file_extension": ".py",
   "mimetype": "text/x-python",
   "name": "python",
   "nbconvert_exporter": "python",
   "pygments_lexer": "ipython2",
   "version": "2.7.6"
  }
 },
 "nbformat": 4,
 "nbformat_minor": 5
}
