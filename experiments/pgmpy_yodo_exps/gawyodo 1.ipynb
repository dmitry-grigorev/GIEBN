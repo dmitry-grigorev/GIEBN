{
 "cells": [
  {
   "cell_type": "code",
   "execution_count": 1,
   "metadata": {
    "collapsed": true,
    "ExecuteTime": {
     "end_time": "2023-07-25T11:17:44.954059200Z",
     "start_time": "2023-07-25T11:17:37.929609100Z"
    }
   },
   "outputs": [],
   "source": [
    "import bamt.preprocessors\n",
    "import bamt.networks as Nets\n",
    "import pandas as pd\n",
    "from sklearn.preprocessing import OneHotEncoder, KBinsDiscretizer\n",
    "from itertools import product\n",
    "from pgmpy.estimators import  K2Score\n",
    "import numpy as np\n",
    "import seaborn as sns\n",
    "\n",
    "from experiments.experiments3.auxiliary.auxiliary import construct_by_quantiles, construct_by_kmeans, construct_by_uniform\n",
    "from pgmpy.factors.discrete.CPD import TabularCPD\n",
    "from pgmpy.models import BayesianNetwork\n",
    "\n",
    "import copy\n",
    "\n",
    "imagespath = 'C:/Users/Acer/PycharmProjects/GIEBN/experiments/pgmpy_yodo_exps/images'\n",
    "\n",
    "datapath = 'C:/Users/Acer/PycharmProjects/GIEBN/datasets/files/csv/sangiovese.csv'\n",
    "structurepath = 'C:/Users/Acer/PycharmProjects/GIEBN/datasets/files/txt/sangiovese.txt'\n",
    "\n",
    "SEED = 42"
   ]
  },
  {
   "cell_type": "code",
   "execution_count": 2,
   "outputs": [
    {
     "data": {
      "text/plain": "   Unnamed: 0 Treatment   SproutN    BunchN    GrapeW     WoodW    SPAD06  \\\n0           1       T6a  0.319352 -0.014638  0.690797  1.230259  0.202708   \n1           2       T1b -0.467937 -0.356982 -0.261610 -0.505227 -0.030330   \n2           3       T3b -0.041105  0.487735  1.354279  0.921248  0.120138   \n3           4       T3b -0.045981  0.283028 -0.528793  0.009379  0.018713   \n4           5       T3a -0.143411  0.384641  0.202781  0.004403 -0.097482   \n\n     NDVI06    SPAD08    NDVI08      Acid    Potass      Brix        pH  \\\n0  0.190496  0.273637  0.206928 -0.400711  0.151206  0.010867  0.136906   \n1 -0.160601 -0.189846 -0.214033 -0.016202 -0.050890  0.036074  0.024552   \n2  0.032949  0.112869 -0.092149 -0.142178 -0.061097 -0.090681  0.009475   \n3  0.005606 -0.009545  0.156430  0.194600 -0.016099  0.110614 -0.003483   \n4  0.097795 -0.016170 -0.086327  0.024270 -0.241405 -0.101967 -0.043688   \n\n     Anthoc    Polyph  \n0  0.262685  0.066611  \n1  0.139368  0.249374  \n2 -1.259641 -0.736169  \n3  0.031440  0.266491  \n4 -0.336990 -0.383633  ",
      "text/html": "<div>\n<style scoped>\n    .dataframe tbody tr th:only-of-type {\n        vertical-align: middle;\n    }\n\n    .dataframe tbody tr th {\n        vertical-align: top;\n    }\n\n    .dataframe thead th {\n        text-align: right;\n    }\n</style>\n<table border=\"1\" class=\"dataframe\">\n  <thead>\n    <tr style=\"text-align: right;\">\n      <th></th>\n      <th>Unnamed: 0</th>\n      <th>Treatment</th>\n      <th>SproutN</th>\n      <th>BunchN</th>\n      <th>GrapeW</th>\n      <th>WoodW</th>\n      <th>SPAD06</th>\n      <th>NDVI06</th>\n      <th>SPAD08</th>\n      <th>NDVI08</th>\n      <th>Acid</th>\n      <th>Potass</th>\n      <th>Brix</th>\n      <th>pH</th>\n      <th>Anthoc</th>\n      <th>Polyph</th>\n    </tr>\n  </thead>\n  <tbody>\n    <tr>\n      <th>0</th>\n      <td>1</td>\n      <td>T6a</td>\n      <td>0.319352</td>\n      <td>-0.014638</td>\n      <td>0.690797</td>\n      <td>1.230259</td>\n      <td>0.202708</td>\n      <td>0.190496</td>\n      <td>0.273637</td>\n      <td>0.206928</td>\n      <td>-0.400711</td>\n      <td>0.151206</td>\n      <td>0.010867</td>\n      <td>0.136906</td>\n      <td>0.262685</td>\n      <td>0.066611</td>\n    </tr>\n    <tr>\n      <th>1</th>\n      <td>2</td>\n      <td>T1b</td>\n      <td>-0.467937</td>\n      <td>-0.356982</td>\n      <td>-0.261610</td>\n      <td>-0.505227</td>\n      <td>-0.030330</td>\n      <td>-0.160601</td>\n      <td>-0.189846</td>\n      <td>-0.214033</td>\n      <td>-0.016202</td>\n      <td>-0.050890</td>\n      <td>0.036074</td>\n      <td>0.024552</td>\n      <td>0.139368</td>\n      <td>0.249374</td>\n    </tr>\n    <tr>\n      <th>2</th>\n      <td>3</td>\n      <td>T3b</td>\n      <td>-0.041105</td>\n      <td>0.487735</td>\n      <td>1.354279</td>\n      <td>0.921248</td>\n      <td>0.120138</td>\n      <td>0.032949</td>\n      <td>0.112869</td>\n      <td>-0.092149</td>\n      <td>-0.142178</td>\n      <td>-0.061097</td>\n      <td>-0.090681</td>\n      <td>0.009475</td>\n      <td>-1.259641</td>\n      <td>-0.736169</td>\n    </tr>\n    <tr>\n      <th>3</th>\n      <td>4</td>\n      <td>T3b</td>\n      <td>-0.045981</td>\n      <td>0.283028</td>\n      <td>-0.528793</td>\n      <td>0.009379</td>\n      <td>0.018713</td>\n      <td>0.005606</td>\n      <td>-0.009545</td>\n      <td>0.156430</td>\n      <td>0.194600</td>\n      <td>-0.016099</td>\n      <td>0.110614</td>\n      <td>-0.003483</td>\n      <td>0.031440</td>\n      <td>0.266491</td>\n    </tr>\n    <tr>\n      <th>4</th>\n      <td>5</td>\n      <td>T3a</td>\n      <td>-0.143411</td>\n      <td>0.384641</td>\n      <td>0.202781</td>\n      <td>0.004403</td>\n      <td>-0.097482</td>\n      <td>0.097795</td>\n      <td>-0.016170</td>\n      <td>-0.086327</td>\n      <td>0.024270</td>\n      <td>-0.241405</td>\n      <td>-0.101967</td>\n      <td>-0.043688</td>\n      <td>-0.336990</td>\n      <td>-0.383633</td>\n    </tr>\n  </tbody>\n</table>\n</div>"
     },
     "execution_count": 2,
     "metadata": {},
     "output_type": "execute_result"
    }
   ],
   "source": [
    "data = pd.read_csv(datapath)\n",
    "data.head()"
   ],
   "metadata": {
    "collapsed": false,
    "ExecuteTime": {
     "end_time": "2023-07-25T11:17:45.021192400Z",
     "start_time": "2023-07-25T11:17:44.955058900Z"
    }
   }
  },
  {
   "cell_type": "code",
   "execution_count": 8,
   "outputs": [],
   "source": [
    "data.drop(columns=\"Unnamed: 0\", inplace=True)\n",
    "variables = data.columns.tolist()"
   ],
   "metadata": {
    "collapsed": false,
    "ExecuteTime": {
     "end_time": "2023-07-25T11:30:41.298657700Z",
     "start_time": "2023-07-25T11:30:41.271035100Z"
    }
   }
  },
  {
   "cell_type": "code",
   "execution_count": 3,
   "outputs": [
    {
     "data": {
      "text/plain": "array(['T6a', 'T1b', 'T3b', 'T3a', 'T5a', 'T4b', 'T2b', 'T6b', 'T1a',\n       'T5b', 'T4a', 'T7a', 'T8a', 'T7b', 'T8b', 'T2a'], dtype=object)"
     },
     "execution_count": 3,
     "metadata": {},
     "output_type": "execute_result"
    }
   ],
   "source": [
    "data[\"Treatment\"].unique()"
   ],
   "metadata": {
    "collapsed": false,
    "ExecuteTime": {
     "end_time": "2023-07-25T11:18:10.457847100Z",
     "start_time": "2023-07-25T11:18:10.424554400Z"
    }
   }
  },
  {
   "cell_type": "code",
   "execution_count": 5,
   "outputs": [
    {
     "data": {
      "text/plain": "[['Treatment', 'SproutN'],\n ['Treatment', 'BunchN'],\n ['Treatment', 'SPAD06'],\n ['Treatment', 'Brix'],\n ['SproutN', 'BunchN'],\n ['SproutN', 'GrapeW'],\n ['SproutN', 'WoodW'],\n ['SproutN', 'SPAD06'],\n ['SproutN', 'NDVI06'],\n ['SproutN', 'NDVI08'],\n ['SproutN', 'Acid'],\n ['SproutN', 'pH'],\n ['BunchN', 'GrapeW'],\n ['BunchN', 'WoodW'],\n ['BunchN', 'Acid'],\n ['BunchN', 'Potass'],\n ['BunchN', 'Anthoc'],\n ['BunchN', 'Polyph'],\n ['WoodW', 'GrapeW'],\n ['WoodW', 'pH'],\n ['WoodW', 'Anthoc'],\n ['SPAD06', 'WoodW'],\n ['SPAD06', 'NDVI06'],\n ['SPAD06', 'SPAD08'],\n ['SPAD06', 'Acid'],\n ['SPAD06', 'Potass'],\n ['SPAD06', 'pH'],\n ['NDVI06', 'GrapeW'],\n ['NDVI06', 'SPAD08'],\n ['NDVI06', 'NDVI08'],\n ['NDVI06', 'Acid'],\n ['NDVI06', 'Polyph'],\n ['SPAD08', 'WoodW'],\n ['SPAD08', 'NDVI08'],\n ['NDVI08', 'GrapeW'],\n ['NDVI08', 'WoodW'],\n ['NDVI08', 'Acid'],\n ['NDVI08', 'Anthoc'],\n ['NDVI08', 'Polyph'],\n ['Acid', 'GrapeW'],\n ['Acid', 'pH'],\n ['Potass', 'pH'],\n ['Brix', 'GrapeW'],\n ['Brix', 'Acid'],\n ['Brix', 'pH'],\n ['Brix', 'Polyph'],\n ['pH', 'GrapeW'],\n ['Anthoc', 'GrapeW'],\n ['Anthoc', 'Acid'],\n ['Anthoc', 'Potass'],\n ['Anthoc', 'Brix'],\n ['Anthoc', 'pH'],\n ['Anthoc', 'Polyph'],\n ['Polyph', 'Acid'],\n ['Polyph', 'pH'],\n ['Treatment', 'SproutN'],\n ['Treatment', 'BunchN'],\n ['Treatment', 'SPAD06'],\n ['Treatment', 'Brix'],\n ['SproutN', 'BunchN'],\n ['SproutN', 'GrapeW'],\n ['SproutN', 'WoodW'],\n ['SproutN', 'SPAD06'],\n ['SproutN', 'NDVI06'],\n ['SproutN', 'NDVI08'],\n ['SproutN', 'Acid'],\n ['SproutN', 'pH'],\n ['BunchN', 'GrapeW'],\n ['BunchN', 'WoodW'],\n ['BunchN', 'Acid'],\n ['BunchN', 'Potass'],\n ['BunchN', 'Anthoc'],\n ['BunchN', 'Polyph'],\n ['WoodW', 'GrapeW'],\n ['WoodW', 'pH'],\n ['WoodW', 'Anthoc'],\n ['SPAD06', 'WoodW'],\n ['SPAD06', 'NDVI06'],\n ['SPAD06', 'SPAD08'],\n ['SPAD06', 'Acid'],\n ['SPAD06', 'Potass'],\n ['SPAD06', 'pH'],\n ['NDVI06', 'GrapeW'],\n ['NDVI06', 'SPAD08'],\n ['NDVI06', 'NDVI08'],\n ['NDVI06', 'Acid'],\n ['NDVI06', 'Polyph'],\n ['SPAD08', 'WoodW'],\n ['SPAD08', 'NDVI08'],\n ['NDVI08', 'GrapeW'],\n ['NDVI08', 'WoodW'],\n ['NDVI08', 'Acid'],\n ['NDVI08', 'Anthoc'],\n ['NDVI08', 'Polyph'],\n ['Acid', 'GrapeW'],\n ['Acid', 'pH'],\n ['Potass', 'pH'],\n ['Brix', 'GrapeW'],\n ['Brix', 'Acid'],\n ['Brix', 'pH'],\n ['Brix', 'Polyph'],\n ['pH', 'GrapeW'],\n ['Anthoc', 'GrapeW'],\n ['Anthoc', 'Acid'],\n ['Anthoc', 'Potass'],\n ['Anthoc', 'Brix'],\n ['Anthoc', 'pH'],\n ['Anthoc', 'Polyph'],\n ['Polyph', 'Acid'],\n ['Polyph', 'pH']]"
     },
     "execution_count": 5,
     "metadata": {},
     "output_type": "execute_result"
    }
   ],
   "source": [
    "edges = list()\n",
    "with open(structurepath) as f:\n",
    "    edges = [e[:-1].split(\" \") for e in f.readlines()]\n",
    "edges"
   ],
   "metadata": {
    "collapsed": false,
    "ExecuteTime": {
     "end_time": "2023-07-25T11:27:18.738676800Z",
     "start_time": "2023-07-25T11:27:18.708643300Z"
    }
   }
  },
  {
   "cell_type": "code",
   "execution_count": 6,
   "outputs": [],
   "source": [
    "bmrk_bn = Nets.DiscreteBN()"
   ],
   "metadata": {
    "collapsed": false,
    "ExecuteTime": {
     "end_time": "2023-07-25T11:28:59.266410700Z",
     "start_time": "2023-07-25T11:28:59.248915500Z"
    }
   }
  },
  {
   "cell_type": "code",
   "execution_count": 10,
   "outputs": [],
   "source": [
    "bmrk_bn.add_nodes({\"types\": {e: \"disc\" for e in variables}})\n",
    "bmrk_bn.set_edges(edges)"
   ],
   "metadata": {
    "collapsed": false,
    "ExecuteTime": {
     "end_time": "2023-07-25T11:32:32.727278300Z",
     "start_time": "2023-07-25T11:32:32.715278400Z"
    }
   }
  },
  {
   "cell_type": "code",
   "execution_count": 13,
   "outputs": [
    {
     "data": {
      "text/plain": "['Treatment',\n 'SproutN',\n 'BunchN',\n 'GrapeW',\n 'WoodW',\n 'SPAD06',\n 'NDVI06',\n 'SPAD08',\n 'NDVI08',\n 'Acid',\n 'Potass',\n 'Brix',\n 'pH',\n 'Anthoc',\n 'Polyph']"
     },
     "execution_count": 13,
     "metadata": {},
     "output_type": "execute_result"
    }
   ],
   "source": [
    "bmrk_bn.nodes_names"
   ],
   "metadata": {
    "collapsed": false,
    "ExecuteTime": {
     "end_time": "2023-07-25T11:33:12.737006Z",
     "start_time": "2023-07-25T11:33:12.725006Z"
    }
   }
  },
  {
   "cell_type": "code",
   "execution_count": 14,
   "outputs": [
    {
     "name": "stdout",
     "output_type": "stream",
     "text": [
      "Warning: When  cdn_resources is 'local' jupyter notebook has issues displaying graphics on chrome/safari. Use cdn_resources='in_line' or cdn_resources='remote' if you have issues viewing graphics in a notebook.\n",
      "visualization_result/sangiovese_benchmark.html\n"
     ]
    },
    {
     "data": {
      "text/plain": "<IPython.lib.display.IFrame at 0x247000b2530>",
      "text/html": "\n        <iframe\n            width=\"100%\"\n            height=\"800px\"\n            src=\"visualization_result/sangiovese_benchmark.html\"\n            frameborder=\"0\"\n            allowfullscreen\n            \n        ></iframe>\n        "
     },
     "execution_count": 14,
     "metadata": {},
     "output_type": "execute_result"
    }
   ],
   "source": [
    "bmrk_bn.plot(\"sangiovese_benchmark.html\")"
   ],
   "metadata": {
    "collapsed": false,
    "ExecuteTime": {
     "end_time": "2023-07-25T11:34:07.032034400Z",
     "start_time": "2023-07-25T11:34:06.486942400Z"
    }
   }
  },
  {
   "cell_type": "code",
   "execution_count": null,
   "outputs": [],
   "source": [
    "bn = Nets.DiscreteBN()"
   ],
   "metadata": {
    "collapsed": false
   }
  },
  {
   "cell_type": "code",
   "execution_count": 15,
   "outputs": [
    {
     "data": {
      "text/plain": "(5000, 15)"
     },
     "execution_count": 15,
     "metadata": {},
     "output_type": "execute_result"
    }
   ],
   "source": [
    "data.shape"
   ],
   "metadata": {
    "collapsed": false,
    "ExecuteTime": {
     "end_time": "2023-07-25T11:51:49.255705100Z",
     "start_time": "2023-07-25T11:51:49.242705700Z"
    }
   }
  },
  {
   "cell_type": "code",
   "execution_count": null,
   "outputs": [],
   "source": [],
   "metadata": {
    "collapsed": false
   }
  },
  {
   "cell_type": "code",
   "execution_count": null,
   "outputs": [],
   "source": [],
   "metadata": {
    "collapsed": false
   }
  },
  {
   "cell_type": "code",
   "execution_count": null,
   "outputs": [],
   "source": [],
   "metadata": {
    "collapsed": false
   }
  }
 ],
 "metadata": {
  "kernelspec": {
   "display_name": "Python 3",
   "language": "python",
   "name": "python3"
  },
  "language_info": {
   "codemirror_mode": {
    "name": "ipython",
    "version": 2
   },
   "file_extension": ".py",
   "mimetype": "text/x-python",
   "name": "python",
   "nbconvert_exporter": "python",
   "pygments_lexer": "ipython2",
   "version": "2.7.6"
  }
 },
 "nbformat": 4,
 "nbformat_minor": 0
}
